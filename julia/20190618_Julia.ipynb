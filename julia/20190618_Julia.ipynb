{
 "cells": [
  {
   "cell_type": "code",
   "execution_count": 2,
   "metadata": {},
   "outputs": [
    {
     "name": "stdout",
     "output_type": "stream",
     "text": [
      "cdf(dist, 0.5) = 0.0001721156299558404\n",
      "cdf(dist, 0.5) = 0.6914624612740131\n",
      "cdf(dist, 0.5) = 0.8125\n"
     ]
    }
   ],
   "source": [
    "using Distributions\n",
    "\n",
    "for dist in [Gamma(5,1),Normal(0,1),Beta(2,4)]\n",
    "    @show cdf(dist, .5)\n",
    "end"
   ]
  },
  {
   "cell_type": "code",
   "execution_count": null,
   "metadata": {},
   "outputs": [],
   "source": []
  }
 ],
 "metadata": {
  "kernelspec": {
   "display_name": "Julia 1.0.3",
   "language": "julia",
   "name": "julia-1.0"
  },
  "language_info": {
   "file_extension": ".jl",
   "mimetype": "application/julia",
   "name": "julia",
   "version": "1.0.3"
  }
 },
 "nbformat": 4,
 "nbformat_minor": 2
}
