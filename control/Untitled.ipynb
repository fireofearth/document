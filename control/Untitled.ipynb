{
 "cells": [
  {
   "cell_type": "code",
   "execution_count": 3,
   "metadata": {},
   "outputs": [],
   "source": [
    "import numpy as np\n",
    "from pydrake.all import LinearQuadraticRegulator"
   ]
  },
  {
   "cell_type": "code",
   "execution_count": 4,
   "metadata": {},
   "outputs": [
    {
     "name": "stdout",
     "output_type": "stream",
     "text": [
      "K = [[1.         1.73205081]]\n",
      "S = [[1.73205081 1.        ]\n",
      " [1.         1.73205081]]\n"
     ]
    }
   ],
   "source": [
    "# Define the double integrator's state space matrices.\n",
    "A = np.array([[0, 1], [0, 0]])\n",
    "B = np.array([[0], [1]])\n",
    "Q = np.eye(2)\n",
    "R = np.eye(1)\n",
    "\n",
    "(K, S) = LinearQuadraticRegulator(A, B, Q, R)\n",
    "print(\"K = \" + str(K))\n",
    "print(\"S = \" + str(S))"
   ]
  },
  {
   "cell_type": "code",
   "execution_count": null,
   "metadata": {},
   "outputs": [],
   "source": []
  }
 ],
 "metadata": {
  "kernelspec": {
   "display_name": "Python 3",
   "language": "python",
   "name": "python3"
  },
  "language_info": {
   "codemirror_mode": {
    "name": "ipython",
    "version": 3
   },
   "file_extension": ".py",
   "mimetype": "text/x-python",
   "name": "python",
   "nbconvert_exporter": "python",
   "pygments_lexer": "ipython3",
   "version": "3.8.3"
  }
 },
 "nbformat": 4,
 "nbformat_minor": 4
}
