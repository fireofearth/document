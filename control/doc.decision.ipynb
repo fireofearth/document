{
 "cells": [
  {
   "cell_type": "markdown",
   "metadata": {},
   "source": [
    "Decision making, and Random Multiple Coinciding Control for Contingency Planning"
   ]
  },
  {
   "cell_type": "code",
   "execution_count": 16,
   "metadata": {},
   "outputs": [],
   "source": [
    "import itertools\n",
    "import random\n",
    "import numpy as np\n",
    "\n",
    "def range_to_list(*args):\n",
    "    \"\"\"Creates a range and converts it to a list.\"\"\"\n",
    "    return list(range(*args))\n",
    "\n",
    "def map_to_list(f, l):\n",
    "    \"\"\"Does map operation and then converts map object to a list.\"\"\"\n",
    "    return list(map(f, l))\n",
    "\n",
    "def product_list_of_list(ll):\n",
    "    \"\"\"Cartesian product iterable of iterables, returning a list.\"\"\"\n",
    "    return list(itertools.product(*ll))"
   ]
  },
  {
   "cell_type": "code",
   "execution_count": 58,
   "metadata": {},
   "outputs": [
    {
     "data": {
      "text/plain": [
       "(array([[2, 0, 1],\n",
       "        [1, 0, 1],\n",
       "        [0, 1, 2],\n",
       "        [0, 0, 0]]),\n",
       " [[2, 1, 0, 0], [0, 0, 1, 0], [1, 1, 2, 0]])"
      ]
     },
     "execution_count": 58,
     "metadata": {},
     "output_type": "execute_result"
    }
   ],
   "source": [
    "# vehicle_states is a list \n",
    "vehicle_n_states = [3, 2, 3, 1]\n",
    "# this gives the product set S_1 X S_2 X S_3 X S_4\n",
    "# product_list_of_list([range(n_states) for n_states in vehicle_n_states])\n",
    "\n",
    "n_states_max = max(vehicle_n_states)\n",
    "vehicle_state_ids = [range_to_list(n_states) for n_states in vehicle_n_states]\n",
    "\n",
    "def preprocess_state_ids(state_ids):\n",
    "    state_ids = state_ids + random.choices(\n",
    "        state_ids, k=n_states_max - len(state_ids)\n",
    "    )\n",
    "    random.shuffle(state_ids)\n",
    "    return state_ids\n",
    "\n",
    "vehicle_state_ids = map_to_list(preprocess_state_ids, vehicle_state_ids)\n",
    "\n",
    "# each item in the product set S_1 X S_2 X S_3 X S_4 represents particular choices the vehicles make \n",
    "# get the subset of the product set S_1 X S_2 X S_3 X S_4\n",
    "# such that for each i = 1..4, for each j in S_i there is a tuple in the subset with j in the i-th place.\n",
    "\n",
    "vehicle_decisions = np.array(vehicle_state_ids).T.tolist()"
   ]
  }
 ],
 "metadata": {
  "kernelspec": {
   "display_name": "Python 3",
   "language": "python",
   "name": "python3"
  },
  "language_info": {
   "codemirror_mode": {
    "name": "ipython",
    "version": 3
   },
   "file_extension": ".py",
   "mimetype": "text/x-python",
   "name": "python",
   "nbconvert_exporter": "python",
   "pygments_lexer": "ipython3",
   "version": "3.8.3"
  }
 },
 "nbformat": 4,
 "nbformat_minor": 4
}
