{
 "cells": [
  {
   "cell_type": "markdown",
   "metadata": {},
   "source": [
    "Learn X in Y minutes where X=R:  \n",
    "<https://learnxinyminutes.com/docs/r/>"
   ]
  },
  {
   "cell_type": "markdown",
   "metadata": {},
   "source": [
    "- Assign values to variables with `<-`.\n",
    "\n",
    "- Booleans are TRUE, FALSE"
   ]
  },
  {
   "cell_type": "code",
   "execution_count": 6,
   "metadata": {},
   "outputs": [
    {
     "data": {
      "text/html": [
       "<style>\n",
       ".list-inline {list-style: none; margin:0; padding: 0}\n",
       ".list-inline>li {display: inline-block}\n",
       ".list-inline>li:not(:last-child)::after {content: \"\\00b7\"; padding: 0 .5ex}\n",
       "</style>\n",
       "<ol class=list-inline><li>'zebra'</li><li>'giraffe'</li></ol>\n"
      ],
      "text/latex": [
       "\\begin{enumerate*}\n",
       "\\item 'zebra'\n",
       "\\item 'giraffe'\n",
       "\\end{enumerate*}\n"
      ],
      "text/markdown": [
       "1. 'zebra'\n",
       "2. 'giraffe'\n",
       "\n",
       "\n"
      ],
      "text/plain": [
       "[1] \"zebra\"   \"giraffe\""
      ]
     },
     "metadata": {},
     "output_type": "display_data"
    }
   ],
   "source": [
    "l <- c('zebra',\"giraffe\")\n",
    "l"
   ]
  },
  {
   "cell_type": "code",
   "execution_count": 4,
   "metadata": {},
   "outputs": [
    {
     "data": {
      "text/html": [
       "<style>\n",
       ".list-inline {list-style: none; margin:0; padding: 0}\n",
       ".list-inline>li {display: inline-block}\n",
       ".list-inline>li:not(:last-child)::after {content: \"\\00b7\"; padding: 0 .5ex}\n",
       "</style>\n",
       "<ol class=list-inline><li>TRUE</li><li>FALSE</li></ol>\n"
      ],
      "text/latex": [
       "\\begin{enumerate*}\n",
       "\\item TRUE\n",
       "\\item FALSE\n",
       "\\end{enumerate*}\n"
      ],
      "text/markdown": [
       "1. TRUE\n",
       "2. FALSE\n",
       "\n",
       "\n"
      ],
      "text/plain": [
       "[1]  TRUE FALSE"
      ]
     },
     "metadata": {},
     "output_type": "display_data"
    }
   ],
   "source": [
    "b <- c(TRUE, FALSE)\n",
    "b"
   ]
  },
  {
   "cell_type": "code",
   "execution_count": null,
   "metadata": {},
   "outputs": [],
   "source": []
  },
  {
   "cell_type": "code",
   "execution_count": null,
   "metadata": {},
   "outputs": [],
   "source": []
  },
  {
   "cell_type": "code",
   "execution_count": null,
   "metadata": {},
   "outputs": [],
   "source": []
  },
  {
   "cell_type": "code",
   "execution_count": 4,
   "metadata": {},
   "outputs": [
    {
     "data": {
      "text/html": [
       "'rivers'"
      ],
      "text/latex": [
       "'rivers'"
      ],
      "text/markdown": [
       "'rivers'"
      ],
      "text/plain": [
       "[1] \"rivers\""
      ]
     },
     "metadata": {},
     "output_type": "display_data"
    },
    {
     "data": {
      "text/html": [
       "<style>\n",
       ".list-inline {list-style: none; margin:0; padding: 0}\n",
       ".list-inline>li {display: inline-block}\n",
       ".list-inline>li:not(:last-child)::after {content: \"\\00b7\"; padding: 0 .5ex}\n",
       "</style>\n",
       "<ol class=list-inline><li>735</li><li>320</li><li>325</li><li>392</li><li>524</li><li>450</li></ol>\n"
      ],
      "text/latex": [
       "\\begin{enumerate*}\n",
       "\\item 735\n",
       "\\item 320\n",
       "\\item 325\n",
       "\\item 392\n",
       "\\item 524\n",
       "\\item 450\n",
       "\\end{enumerate*}\n"
      ],
      "text/markdown": [
       "1. 735\n",
       "2. 320\n",
       "3. 325\n",
       "4. 392\n",
       "5. 524\n",
       "6. 450\n",
       "\n",
       "\n"
      ],
      "text/plain": [
       "[1] 735 320 325 392 524 450"
      ]
     },
     "metadata": {},
     "output_type": "display_data"
    },
    {
     "data": {
      "text/html": [
       "141"
      ],
      "text/latex": [
       "141"
      ],
      "text/markdown": [
       "141"
      ],
      "text/plain": [
       "[1] 141"
      ]
     },
     "metadata": {},
     "output_type": "display_data"
    },
    {
     "data": {
      "text/plain": [
       "   Min. 1st Qu.  Median    Mean 3rd Qu.    Max. \n",
       "  135.0   310.0   425.0   591.2   680.0  3710.0 "
      ]
     },
     "metadata": {},
     "output_type": "display_data"
    },
    {
     "name": "stdout",
     "output_type": "stream",
     "text": [
      "\n",
      "  The decimal point is 2 digit(s) to the right of the |\n",
      "\n",
      "   0 | 4\n",
      "   2 | 011223334555566667778888899900001111223333344455555666688888999\n",
      "   4 | 111222333445566779001233344567\n",
      "   6 | 000112233578012234468\n",
      "   8 | 045790018\n",
      "  10 | 04507\n",
      "  12 | 1471\n",
      "  14 | 56\n",
      "  16 | 7\n",
      "  18 | 9\n",
      "  20 | \n",
      "  22 | 25\n",
      "  24 | 3\n",
      "  26 | \n",
      "  28 | \n",
      "  30 | \n",
      "  32 | \n",
      "  34 | \n",
      "  36 | 1\n",
      "\n"
     ]
    }
   ],
   "source": [
    "# Access and manipulate datasets\n",
    "data()\n",
    "data(rivers)\n",
    "ls()\n",
    "head(rivers)\n",
    "length(rivers)\n",
    "summary(rivers)\n",
    "stem(rivers)"
   ]
  },
  {
   "cell_type": "code",
   "execution_count": null,
   "metadata": {},
   "outputs": [],
   "source": []
  }
 ],
 "metadata": {
  "kernelspec": {
   "display_name": "R",
   "language": "R",
   "name": "ir"
  },
  "language_info": {
   "codemirror_mode": "r",
   "file_extension": ".r",
   "mimetype": "text/x-r-source",
   "name": "R",
   "pygments_lexer": "r",
   "version": "4.1.1"
  }
 },
 "nbformat": 4,
 "nbformat_minor": 4
}
