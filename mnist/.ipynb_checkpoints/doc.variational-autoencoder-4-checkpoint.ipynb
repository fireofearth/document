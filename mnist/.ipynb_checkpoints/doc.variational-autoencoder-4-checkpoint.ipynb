{
 "cells": [
  {
   "cell_type": "markdown",
   "id": "hollywood-chart",
   "metadata": {},
   "source": [
    "Variational Autoencoder\n",
    "\n",
    "Linear operations apply affine transform $y = x A^T + b$. Documentation for `torch.nn.Linear()`:  \n",
    "<https://pytorch.org/docs/stable/generated/torch.nn.Linear.html>\n",
    "\n",
    "Based on code from:  \n",
    "<https://avandekleut.github.io/vae/>"
   ]
  },
  {
   "cell_type": "code",
   "execution_count": 1,
   "id": "afraid-humor",
   "metadata": {},
   "outputs": [],
   "source": [
    "import torch; torch.manual_seed(0)\n",
    "import torch.nn as nn\n",
    "import torch.nn.functional as F\n",
    "import torch.utils\n",
    "import torch.distributions\n",
    "import torchvision\n",
    "import numpy as np\n",
    "from tqdm import tqdm\n",
    "import matplotlib.pyplot as plt; plt.rcParams['figure.dpi'] = 200\n",
    "\n",
    "def display_imagearray(ax, img):\n",
    "    ax.imshow(img)\n",
    "    ax.set_xticks([])\n",
    "    ax.set_yticks([])"
   ]
  },
  {
   "cell_type": "code",
   "execution_count": 2,
   "id": "forbidden-mumbai",
   "metadata": {},
   "outputs": [],
   "source": [
    "class VariationalEncoder(nn.Module):\n",
    "    def __init__(self, latent_dims):\n",
    "        super().__init__()\n",
    "        self.linear1 = nn.Linear(784, 512)\n",
    "        self.linear2 = nn.Linear(512, latent_dims)\n",
    "        self.linear3 = nn.Linear(512, latent_dims)\n",
    "\n",
    "        self.N = torch.distributions.Normal(0, 1)\n",
    "        self.N.loc = self.N.loc.cuda() # hack to get sampling on the GPU\n",
    "        self.N.scale = self.N.scale.cuda()\n",
    "        self.kl = 0\n",
    "\n",
    "    def forward(self, x):\n",
    "        x = torch.flatten(x, start_dim=1)\n",
    "        x = F.relu(self.linear1(x))\n",
    "        mu =  self.linear2(x)\n",
    "        sigma = torch.exp(self.linear3(x))\n",
    "        z = mu + sigma*self.N.sample(mu.shape)\n",
    "        self.kl = (sigma**2 + mu**2 - torch.log(sigma) - 1/2).sum()\n",
    "        return z\n",
    "\n",
    "class Decoder(nn.Module):\n",
    "    def __init__(self, latent_dims):\n",
    "        super().__init__()\n",
    "        self.linear1 = nn.Linear(latent_dims, 512)\n",
    "        self.linear2 = nn.Linear(512, 784)\n",
    "\n",
    "    def forward(self, z):\n",
    "        z = F.relu(self.linear1(z))\n",
    "        z = torch.sigmoid(self.linear2(z))\n",
    "        return z.reshape((-1, 1, 28, 28))\n",
    "    \n",
    "class VariationalAutoencoder(nn.Module):\n",
    "    def __init__(self, latent_dims):\n",
    "        super().__init__()\n",
    "        self.encoder = VariationalEncoder(latent_dims)\n",
    "        self.decoder = Decoder(latent_dims)\n",
    "\n",
    "    def forward(self, x):\n",
    "        z = self.encoder(x)\n",
    "        return self.decoder(z)"
   ]
  },
  {
   "cell_type": "code",
   "execution_count": 3,
   "id": "fixed-proposal",
   "metadata": {},
   "outputs": [
    {
     "name": "stderr",
     "output_type": "stream",
     "text": [
      "/home/fireofearth/.local/miniconda3/envs/trajectron-cplex/lib/python3.6/site-packages/torchvision/datasets/mnist.py:498: UserWarning: The given NumPy array is not writeable, and PyTorch does not support non-writeable tensors. This means you can write to the underlying (supposedly non-writeable) NumPy array using the tensor. You may want to copy the array to protect its data or make it writeable before converting it to a tensor. This type of warning will be suppressed for the rest of this program. (Triggered internally at  /pytorch/torch/csrc/utils/tensor_numpy.cpp:180.)\n",
      "  return torch.from_numpy(parsed.astype(m[2], copy=False)).view(*s)\n"
     ]
    }
   ],
   "source": [
    "device = 'cuda' if torch.cuda.is_available() else 'cpu'\n",
    "latent_dims = 4\n",
    "\n",
    "data = torch.utils.data.DataLoader(\n",
    "        torchvision.datasets.MNIST('./data',\n",
    "               transform=torchvision.transforms.ToTensor(),\n",
    "               download=True),\n",
    "        batch_size=128,\n",
    "        shuffle=True)"
   ]
  },
  {
   "cell_type": "markdown",
   "id": "capable-smile",
   "metadata": {},
   "source": [
    "Train a new model instance or load a pre-trained instance\n",
    "\n",
    "Documentation to save and load models:  \n",
    "<https://pytorch.org/tutorials/beginner/saving_loading_models.html>"
   ]
  },
  {
   "cell_type": "code",
   "execution_count": 4,
   "id": "impaired-stock",
   "metadata": {},
   "outputs": [
    {
     "name": "stderr",
     "output_type": "stream",
     "text": [
      "Training Epoch 0: 100%|██████████| 469/469 [00:04<00:00, 109.91it/s]\n",
      "Training Epoch 1: 100%|██████████| 469/469 [00:04<00:00, 110.27it/s]\n",
      "Training Epoch 2: 100%|██████████| 469/469 [00:04<00:00, 109.89it/s]\n",
      "Training Epoch 3: 100%|██████████| 469/469 [00:04<00:00, 109.65it/s]\n",
      "Training Epoch 4: 100%|██████████| 469/469 [00:04<00:00, 109.89it/s]\n",
      "Training Epoch 5: 100%|██████████| 469/469 [00:04<00:00, 109.61it/s]\n",
      "Training Epoch 6: 100%|██████████| 469/469 [00:04<00:00, 109.84it/s]\n",
      "Training Epoch 7: 100%|██████████| 469/469 [00:04<00:00, 109.61it/s]\n",
      "Training Epoch 8: 100%|██████████| 469/469 [00:04<00:00, 109.40it/s]\n",
      "Training Epoch 9: 100%|██████████| 469/469 [00:04<00:00, 109.45it/s]\n",
      "Training Epoch 10: 100%|██████████| 469/469 [00:04<00:00, 110.02it/s]\n",
      "Training Epoch 11: 100%|██████████| 469/469 [00:04<00:00, 110.09it/s]\n",
      "Training Epoch 12: 100%|██████████| 469/469 [00:04<00:00, 110.24it/s]\n",
      "Training Epoch 13: 100%|██████████| 469/469 [00:04<00:00, 109.85it/s]\n",
      "Training Epoch 14: 100%|██████████| 469/469 [00:04<00:00, 110.19it/s]\n",
      "Training Epoch 15: 100%|██████████| 469/469 [00:04<00:00, 109.79it/s]\n",
      "Training Epoch 16: 100%|██████████| 469/469 [00:04<00:00, 110.15it/s]\n",
      "Training Epoch 17: 100%|██████████| 469/469 [00:04<00:00, 109.71it/s]\n",
      "Training Epoch 18: 100%|██████████| 469/469 [00:04<00:00, 109.56it/s]\n",
      "Training Epoch 19: 100%|██████████| 469/469 [00:04<00:00, 109.44it/s]\n"
     ]
    }
   ],
   "source": [
    "def train(autoencoder, data, epochs=20):\n",
    "    opt = torch.optim.Adam(autoencoder.parameters())\n",
    "    for epoch in range(epochs):\n",
    "        prefix = f\"Training Epoch {epoch}: \"\n",
    "        for x, y in tqdm(data, desc=prefix, \n",
    "                dynamic_ncols=True, leave=True, position=0):\n",
    "            x = x.to(device) # GPU\n",
    "            opt.zero_grad()\n",
    "            x_hat = autoencoder(x)\n",
    "            loss = ((x - x_hat)**2).sum() + autoencoder.encoder.kl\n",
    "            loss.backward()\n",
    "            opt.step()\n",
    "    return autoencoder\n",
    "\n",
    "vae = VariationalAutoencoder(latent_dims).to(device) # GPU\n",
    "should_create_new_instance = True\n",
    "if should_create_new_instance:\n",
    "    vae = train(vae, data)\n",
    "    torch.save(vae.state_dict(), './models/vae-4.pth')\n",
    "else:\n",
    "    vae.load_state_dict(torch.load('./models/vae-4.pth'))"
   ]
  },
  {
   "cell_type": "markdown",
   "id": "vocal-mission",
   "metadata": {},
   "source": [
    "Inspect the reconstructions of the variational autoencoder"
   ]
  },
  {
   "cell_type": "code",
   "execution_count": 7,
   "id": "inside-third",
   "metadata": {},
   "outputs": [
    {
     "data": {
      "image/png": "[encoded data removed]",
      "text/plain": [
       "<Figure size 2000x400 with 20 Axes>"
      ]
     },
     "metadata": {},
     "output_type": "display_data"
    }
   ],
   "source": [
    "fig, axes = plt.subplots(2, 10, figsize=(10,2))\n",
    "# axes = axes.ravel()\n",
    "\n",
    "for n in range(10):\n",
    "    # x has shape (batch size, 1, 28, 28)\n",
    "    # y has shape (batch size,)\n",
    "    x, y = data.__iter__().next() # hack to grab a batch\n",
    "    x = x[y == n][0] # get sample corresponding to number n\n",
    "\n",
    "    img = x.numpy().reshape(28, 28)\n",
    "    display_imagearray(axes[0, n], img)\n",
    "\n",
    "    # x has shape (1, 28, 28)\n",
    "    x = x.to(device)\n",
    "    # z has shape (1, 2)\n",
    "    z = vae.encoder(x)\n",
    "    # x_hat has shape (1, 1, 28, 28)\n",
    "    x_hat = vae.decoder(z)\n",
    "\n",
    "    img = x_hat.cpu().detach().numpy().reshape(28, 28)\n",
    "    display_imagearray(axes[1, n], img)"
   ]
  }
 ],
 "metadata": {
  "kernelspec": {
   "display_name": "Python 3",
   "language": "python",
   "name": "python3"
  },
  "language_info": {
   "codemirror_mode": {
    "name": "ipython",
    "version": 3
   },
   "file_extension": ".py",
   "mimetype": "text/x-python",
   "name": "python",
   "nbconvert_exporter": "python",
   "pygments_lexer": "ipython3",
   "version": "3.6.12"
  }
 },
 "nbformat": 4,
 "nbformat_minor": 5
}
