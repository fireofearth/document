{
 "cells": [
  {
   "cell_type": "code",
   "execution_count": 15,
   "metadata": {},
   "outputs": [],
   "source": [
    "import sqlite3\n",
    "import utility.d\n",
    "import utility.i\n",
    "import utility.l\n",
    "import utility as util\n",
    "\n",
    "TEST_INPUT_1 = [\n",
    "    {\"channelId\": \"UCsXV4t9YfUeDuZ276hE20Jg\", \"title\": \"Adiyogi\", \"nVideos\": 346},\n",
    "    {\"channelId\": \"UC1pdbN6j_txoNhXVWVtouuQ\", \"title\": \"World Armwrestling League\", \"nVideos\": 353},\n",
    "    {\"channelId\": \"UCGGZ_POGmIWG1pQXTDzQv-g\", \"title\": \"Michelle Khare\", \"nVideos\": 189},\n",
    "    {\"channelId\": \"UCeUJFQ0D9qs6aVNyUt9fkeQ\", \"title\": \"The Armchair Historian\", \"nVideos\": 138},\n",
    "    {\"channelId\": \"UCMbvTF91O--bhwmg9dTMAPA\", \"title\": \"Lyle Forever\", \"nVideos\": 242},\n",
    "    {\"channelId\": \"UCrDQW9kAElm707c5z6d5r7Q\", \"title\": \"albie\", \"nVideos\": 62},\n",
    "    {\"channelId\": \"UCfgh3Ul_dG6plQ7rzuOLx-w\", \"title\": \"Max0r\", \"nVideos\": 81},\n",
    "    {\"channelId\": \"UC6JhS4GvWf3AJfOTfkrse2w\", \"title\": \"Simulation\", \"nVideos\": 1490},\n",
    "    {\"channelId\": \"UCvQ9wJKXJwcw_4tNaHHbWdA\", \"title\": \"Speak The Truth\", \"nVideos\": 291},\n",
    "    {\"channelId\": \"UCoydhtfFSk1fZXNRnkGnneQ\", \"title\": \"ESOTERICA\", \"nVideos\": 167},\n",
    "    {\"channelId\": \"UCE9htqwsu0II6KrpVKdrXHw\", \"title\": \"Zuck That\", \"nVideos\": 18},\n",
    "    {\"channelId\": \"UCHFYJPHg6mO0uEMhIla8lFQ\", \"title\": \"Content Savant\", \"nVideos\": 126},\n",
    "    {\"channelId\": \"UCkySD00cmDWYHXA31hqRYRw\", \"title\": \"Gennady Korotkevich\", \"nVideos\": 20},\n",
    "    {\"channelId\": \"UCOKfTeI3E2VVOqqV_KPm8Hg\", \"title\": \"Fortress of Lugh\", \"nVideos\": 139},\n",
    "    {\"channelId\": \"UCfrtBnHBEq3HQP3-2uqbKLA\", \"title\": \"Eric Chisholm\", \"nVideos\": 292},\n",
    "    {\"channelId\": \"UCqvaXJ1K3HheTPNjH-KpwXQ\", \"title\": \"Principles by Ray Dalio\", \"nVideos\": 68},\n",
    "]\n",
    "\n",
    "TEST_INTPUT_2 = [\n",
    "    {\"topicId\": \"/m/019_rr\", \"topicCategory\": \"https://en.wikipedia.org/wiki/Lifestyle_(sociology)\"},\n",
    "    {\"topicId\": \"/m/06bvp\",  \"topicCategory\": \"https://en.wikipedia.org/wiki/Religion\"},\n",
    "    {\"topicId\": \"/m/098wr\",  \"topicCategory\": \"https://en.wikipedia.org/wiki/Society\"},\n",
    "    {\"topicId\": \"/m/06ntj\",  \"topicCategory\": \"https://en.wikipedia.org/wiki/Sport\"},\n",
    "    {\"topicId\": \"/m/027x7n\", \"topicCategory\": \"https://en.wikipedia.org/wiki/Physical_fitness\"},\n",
    "    {\"topicId\": \"/m/02ntfj\", \"topicCategory\": \"https://en.wikipedia.org/wiki/Action-adventure_game\"},\n",
    "    {\"topicId\": \"/m/0bzvm2\", \"topicCategory\": \"https://en.wikipedia.org/wiki/Video_game_culture\"},\n",
    "    {\"topicId\": \"/m/01k8wb\", \"topicCategory\": \"https://en.wikipedia.org/wiki/Knowledge\"},\n",
    "    {\"topicId\": \"/m/025zzc\", \"topicCategory\": \"https://en.wikipedia.org/wiki/Action_game\"},\n",
    "    {\"topicId\": \"/m/03hf_rm\", \"topicCategory\": \"https://en.wikipedia.org/wiki/Strategy_video_game\"}\n",
    "]\n",
    "\n",
    "TEST_INTPUT_3 = [\n",
    "    {\"channelId\": \"UCsXV4t9YfUeDuZ276hE20Jg\", \"topicIds\": ['/m/019_rr', '/m/06bvp', '/m/098wr']},\n",
    "    {\"channelId\": \"UC1pdbN6j_txoNhXVWVtouuQ\", \"topicIds\": ['/m/06ntj', '/m/019_rr']},\n",
    "    {\"channelId\": \"UCGGZ_POGmIWG1pQXTDzQv-g\", \"topicIds\": ['/m/027x7n', '/m/019_rr']},\n",
    "    {\"channelId\": \"UCeUJFQ0D9qs6aVNyUt9fkeQ\", \"topicIds\": ['/m/02ntfj', '/m/0bzvm2', '/m/01k8wb', '/m/025zzc', '/m/03hf_rm']},\n",
    "    {\"channelId\": \"UCMbvTF91O--bhwmg9dTMAPA\", \"topicIds\": ['/m/019_rr', '/m/0bzvm2']},\n",
    "]\n"
   ]
  },
  {
   "cell_type": "markdown",
   "metadata": {},
   "source": [
    "### Create a simple table"
   ]
  },
  {
   "cell_type": "code",
   "execution_count": 9,
   "metadata": {},
   "outputs": [],
   "source": [
    "conn = sqlite3.connect('test.db')\n",
    "cur = conn.cursor()"
   ]
  },
  {
   "cell_type": "code",
   "execution_count": 74,
   "metadata": {},
   "outputs": [],
   "source": [
    "# Creating a table that already exists throws a OperationalError\n",
    "cur.execute(\"\"\"\n",
    "CREATE TABLE Channel(\n",
    "    channelId text,\n",
    "    title text,\n",
    "    nVideos integer,\n",
    "    UNIQUE(channelId)\n",
    ")\"\"\")\n",
    "conn.commit()"
   ]
  },
  {
   "cell_type": "code",
   "execution_count": 75,
   "metadata": {},
   "outputs": [
    {
     "name": "stdout",
     "output_type": "stream",
     "text": [
      "type :  table\n",
      "name :  Channel\n",
      "tbl_name :  Channel\n",
      "rootpage :  2\n",
      "sql :  CREATE TABLE Channel(\n",
      "    channelId text,\n",
      "    title text,\n",
      "    nVideos integer,\n",
      "    UNIQUE(channelId)\n",
      ")\n"
     ]
    }
   ],
   "source": [
    "# query tables created\n",
    "res = conn.execute(\"SELECT * FROM sqlite_master WHERE type='table';\")\n",
    "try:\n",
    "    # res.fetchone() returns None if does not exist\n",
    "    for desc, value in zip(res.description, res.fetchone()):\n",
    "        print(desc[0], \": \", value)\n",
    "except TypeError:\n",
    "    print(\"No tables\")"
   ]
  },
  {
   "cell_type": "code",
   "execution_count": 76,
   "metadata": {},
   "outputs": [],
   "source": [
    "# Inserting a duplicate into a table with UNIQUE constraint throws an IntegrityError\n",
    "_input = [(d[\"channelId\"], d[\"title\"], d[\"nVideos\"]) for d in TEST_INPUT_1]\n",
    "cur.executemany(\"INSERT OR IGNORE INTO Channel VALUES (?, ?, ?)\", _input)\n",
    "conn.commit()"
   ]
  },
  {
   "cell_type": "code",
   "execution_count": 77,
   "metadata": {},
   "outputs": [
    {
     "name": "stdout",
     "output_type": "stream",
     "text": [
      "UCsXV4t9YfUeDuZ276hE20Jg Adiyogi\n",
      "UC1pdbN6j_txoNhXVWVtouuQ World Armwrestling League\n",
      "UCGGZ_POGmIWG1pQXTDzQv-g Michelle Khare\n",
      "UCeUJFQ0D9qs6aVNyUt9fkeQ The Armchair Historian\n",
      "UCMbvTF91O--bhwmg9dTMAPA Lyle Forever\n",
      "UCrDQW9kAElm707c5z6d5r7Q albie\n",
      "UCfgh3Ul_dG6plQ7rzuOLx-w Max0r\n",
      "UC6JhS4GvWf3AJfOTfkrse2w Simulation\n",
      "UCvQ9wJKXJwcw_4tNaHHbWdA Speak The Truth\n",
      "UCoydhtfFSk1fZXNRnkGnneQ ESOTERICA\n",
      "UCE9htqwsu0II6KrpVKdrXHw Zuck That\n",
      "UCHFYJPHg6mO0uEMhIla8lFQ Content Savant\n",
      "UCkySD00cmDWYHXA31hqRYRw Gennady Korotkevich\n",
      "UCOKfTeI3E2VVOqqV_KPm8Hg Fortress of Lugh\n",
      "UCfrtBnHBEq3HQP3-2uqbKLA Eric Chisholm\n",
      "UCqvaXJ1K3HheTPNjH-KpwXQ Principles by Ray Dalio\n"
     ]
    }
   ],
   "source": [
    "# Alternatively, after doing `res = cur.execute()` do res.fetchone() or res.fetchall()\n",
    "_key = \"*\"\n",
    "_key = \"title\"\n",
    "_key = \"channelId,title\"\n",
    "for row in cur.execute(f\"SELECT {_key} FROM Channel\"):\n",
    "    try:\n",
    "        channelId = row[0]\n",
    "        title = row[1]\n",
    "        print(channelId, title)\n",
    "    except IndexError:\n",
    "        name = row[0]; print(name)"
   ]
  },
  {
   "cell_type": "code",
   "execution_count": 10,
   "metadata": {},
   "outputs": [],
   "source": [
    "cur.execute(\"\"\"\n",
    "DROP TABLE IF EXISTS Channel\n",
    "\"\"\")\n",
    "conn.commit()"
   ]
  },
  {
   "cell_type": "code",
   "execution_count": 11,
   "metadata": {},
   "outputs": [],
   "source": [
    "cur.close()\n",
    "conn.close()"
   ]
  },
  {
   "cell_type": "markdown",
   "metadata": {},
   "source": [
    "### Create a adv. table"
   ]
  },
  {
   "cell_type": "code",
   "execution_count": 18,
   "metadata": {},
   "outputs": [],
   "source": [
    "with sqlite3.connect('test.db') as conn:\n",
    "    conn.execute(\"\"\"\n",
    "    CREATE TABLE IF NOT EXISTS Channel(\n",
    "        id text PRIMARY KEY,\n",
    "        title text,\n",
    "        description blob,\n",
    "        n_videos integer,\n",
    "        upload_playlist_id text\n",
    "    )\"\"\")\n",
    "    conn.execute(\"\"\"\n",
    "    CREATE TABLE IF NOT EXISTS Topic(\n",
    "        id text PRIMARY KEY,\n",
    "        detail text\n",
    "    )\"\"\")\n",
    "    # Unique row using UNIQUE(<all fields>)\n",
    "    conn.execute(\"\"\"\n",
    "    CREATE TABLE IF NOT EXISTS ChannelTopic(\n",
    "        channel_id text,\n",
    "        topic_id text,\n",
    "        FOREIGN KEY(channel_id) REFERENCES Channel(id),\n",
    "        FOREIGN KEY(topic_id)   REFERENCES Topic(id),\n",
    "        UNIQUE(channel_id, topic_id)\n",
    "    )\n",
    "    \"\"\")\n",
    "    conn.commit()"
   ]
  },
  {
   "cell_type": "code",
   "execution_count": 19,
   "metadata": {},
   "outputs": [],
   "source": [
    "with sqlite3.connect('test.db') as conn:\n",
    "    # ignore fails when inserting a duplicate primary key\n",
    "    _input = [(d[\"channelId\"], d[\"title\"], d[\"nVideos\"]) for d in TEST_INPUT_1]\n",
    "    conn.executemany(\"INSERT OR IGNORE INTO Channel(id, title, n_videos) VALUES (?, ?, ?)\", _input)\n",
    "    conn.commit()\n",
    "    _input = [(d[\"topicId\"], d[\"topicCategory\"]) for d in TEST_INTPUT_2]\n",
    "    conn.executemany(\"INSERT OR IGNORE INTO Topic VALUES (?, ?)\", _input)\n",
    "    conn.commit()\n",
    "    _input = []\n",
    "    for d in TEST_INTPUT_3:\n",
    "        for topicId in d[\"topicIds\"]:\n",
    "            _input.append((d[\"channelId\"], topicId))\n",
    "    conn.executemany(\"INSERT OR IGNORE INTO ChannelTopic VALUES (?, ?)\", _input)\n",
    "    conn.commit()"
   ]
  },
  {
   "cell_type": "code",
   "execution_count": 20,
   "metadata": {},
   "outputs": [],
   "source": [
    "with sqlite3.connect('test.db') as conn:\n",
    "    description = \"Test test test.\"\n",
    "    _input = [(description, d[\"channelId\"][:5], d[\"channelId\"]) for d in TEST_INPUT_1[:5]]\n",
    "    conn.executemany(\"\"\"\n",
    "    UPDATE Channel\n",
    "    SET description = ?, upload_playlist_id = ?\n",
    "    WHERE id = ?\n",
    "    \"\"\", _input)\n",
    "    conn.commit()"
   ]
  },
  {
   "cell_type": "code",
   "execution_count": 25,
   "metadata": {},
   "outputs": [
    {
     "name": "stdout",
     "output_type": "stream",
     "text": [
      "UCsXV4t9YfUeDuZ276hE20Jg Adiyogi Test test test. 346 UCsXV\n",
      "UC1pdbN6j_txoNhXVWVtouuQ World Armwrestling League Test test test. 353 UC1pd\n",
      "UCGGZ_POGmIWG1pQXTDzQv-g Michelle Khare Test test test. 189 UCGGZ\n",
      "UCeUJFQ0D9qs6aVNyUt9fkeQ The Armchair Historian Test test test. 138 UCeUJ\n",
      "UCMbvTF91O--bhwmg9dTMAPA Lyle Forever Test test test. 242 UCMbv\n",
      "UCrDQW9kAElm707c5z6d5r7Q albie None 62 None\n",
      "UCfgh3Ul_dG6plQ7rzuOLx-w Max0r None 81 None\n",
      "UC6JhS4GvWf3AJfOTfkrse2w Simulation None 1490 None\n",
      "UCvQ9wJKXJwcw_4tNaHHbWdA Speak The Truth None 291 None\n",
      "UCoydhtfFSk1fZXNRnkGnneQ ESOTERICA None 167 None\n",
      "UCE9htqwsu0II6KrpVKdrXHw Zuck That None 18 None\n",
      "UCHFYJPHg6mO0uEMhIla8lFQ Content Savant None 126 None\n",
      "UCkySD00cmDWYHXA31hqRYRw Gennady Korotkevich None 20 None\n",
      "UCOKfTeI3E2VVOqqV_KPm8Hg Fortress of Lugh None 139 None\n",
      "UCfrtBnHBEq3HQP3-2uqbKLA Eric Chisholm None 292 None\n",
      "UCqvaXJ1K3HheTPNjH-KpwXQ Principles by Ray Dalio None 68 None\n",
      "\n",
      "/m/019_rr https://en.wikipedia.org/wiki/Lifestyle_(sociology)\n",
      "/m/06bvp https://en.wikipedia.org/wiki/Religion\n",
      "/m/098wr https://en.wikipedia.org/wiki/Society\n",
      "/m/06ntj https://en.wikipedia.org/wiki/Sport\n",
      "/m/027x7n https://en.wikipedia.org/wiki/Physical_fitness\n",
      "/m/02ntfj https://en.wikipedia.org/wiki/Action-adventure_game\n",
      "/m/0bzvm2 https://en.wikipedia.org/wiki/Video_game_culture\n",
      "/m/01k8wb https://en.wikipedia.org/wiki/Knowledge\n",
      "/m/025zzc https://en.wikipedia.org/wiki/Action_game\n",
      "/m/03hf_rm https://en.wikipedia.org/wiki/Strategy_video_game\n",
      "\n",
      "Adiyogi: Lifestyle_(sociology), Religion, Society, \n",
      "\n",
      "World Armwrestling League: Sport, Lifestyle_(sociology), \n",
      "\n",
      "Michelle Khare: Physical_fitness, Lifestyle_(sociology), \n",
      "\n",
      "The Armchair Historian: Action-adventure_game, Video_game_culture, Knowledge, Action_game, Strategy_video_game, \n",
      "\n",
      "Lyle Forever: Lifestyle_(sociology), Video_game_culture, \n",
      "\n"
     ]
    }
   ],
   "source": [
    "with sqlite3.connect('test.db') as conn:\n",
    "    _channel_id_to_name = {}\n",
    "    for row in conn.execute(f\"SELECT * FROM Channel\"):\n",
    "        print(*row)\n",
    "        channel_id, name, *_ = row\n",
    "        _channel_id_to_name[channel_id] = name\n",
    "        \n",
    "    print()\n",
    "    _topic_id_to_detail = {}\n",
    "    for row in conn.execute(f\"SELECT * FROM Topic\"):\n",
    "        print(*row)\n",
    "        topic_id, detail = row\n",
    "        detail = detail.split('/')[-1]\n",
    "        _topic_id_to_detail[topic_id] = detail\n",
    "    print()\n",
    "    _output = { }\n",
    "    for row in conn.execute(f\"SELECT * FROM ChannelTopic\"):\n",
    "        channel_id, topic_id = row\n",
    "        util.d.setget_list(_output, channel_id).append(topic_id)\n",
    "    for channel_id, topic_ids in _output.items():\n",
    "        print(_channel_id_to_name[channel_id], end=\": \")\n",
    "        for topic_id in topic_ids:\n",
    "            print(_topic_id_to_detail[topic_id], end=\", \")\n",
    "        print(); print()\n",
    "    "
   ]
  },
  {
   "cell_type": "code",
   "execution_count": 17,
   "metadata": {},
   "outputs": [],
   "source": [
    "with sqlite3.connect('test.db') as conn:\n",
    "    conn.execute(\"\"\"\n",
    "    DROP TABLE IF EXISTS Channel\n",
    "    \"\"\")\n",
    "    conn.execute(\"\"\"\n",
    "    DROP TABLE IF EXISTS Topic\n",
    "    \"\"\")\n",
    "    conn.execute(\"\"\"\n",
    "    DROP TABLE IF EXISTS ChannelTopic\n",
    "    \"\"\")\n",
    "    conn.commit()"
   ]
  },
  {
   "cell_type": "code",
   "execution_count": null,
   "metadata": {},
   "outputs": [],
   "source": []
  }
 ],
 "metadata": {
  "kernelspec": {
   "display_name": "Python 3",
   "language": "python",
   "name": "python3"
  },
  "language_info": {
   "codemirror_mode": {
    "name": "ipython",
    "version": 3
   },
   "file_extension": ".py",
   "mimetype": "text/x-python",
   "name": "python",
   "nbconvert_exporter": "python",
   "pygments_lexer": "ipython3",
   "version": "3.8.3"
  }
 },
 "nbformat": 4,
 "nbformat_minor": 4
}
