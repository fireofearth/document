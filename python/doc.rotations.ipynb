{
 "cells": [
  {
   "cell_type": "code",
   "execution_count": 2,
   "metadata": {},
   "outputs": [],
   "source": [
    "import numpy as np\n",
    "import cv2 as cv\n",
    "import scipy\n",
    "import scipy.special\n",
    "import scipy.spatial\n",
    "import scipy.stats\n",
    "import scipy.ndimage\n",
    "import matplotlib\n",
    "import matplotlib.patches\n",
    "import matplotlib.patches as patches\n",
    "import matplotlib.pyplot as plt\n",
    "import matplotlib.collections as mc\n",
    "from matplotlib.path import Path"
   ]
  },
  {
   "cell_type": "code",
   "execution_count": 3,
   "metadata": {},
   "outputs": [
    {
     "data": {
      "image/png": "[encoded data removed]",
      "text/plain": [
       "<Figure size 432x288 with 1 Axes>"
      ]
     },
     "metadata": {
      "needs_background": "light"
     },
     "output_type": "display_data"
    }
   ],
   "source": [
    "# 2D rotations\n",
    "def rotation_2d(theta):\n",
    "    \"\"\"2D rotation matrix. If x is a column vector of 2D points then\n",
    "    `rotation_2d(theta) @ x` gives the rotated points.\n",
    "    \n",
    "    Parameters\n",
    "    ==========\n",
    "    theta : float\n",
    "        Rotates points clockwise about origin if theta is positive.\n",
    "        Rotates points counter-clockwise about origin if theta is negative\n",
    "    \n",
    "    Returns\n",
    "    =======\n",
    "    np.array\n",
    "        2D rotation matrix of shape (2, 2).\n",
    "    \"\"\"\n",
    "    return np.array([\n",
    "            [ np.cos(theta), np.sin(theta)],\n",
    "            [-np.sin(theta), np.cos(theta)]])\n",
    "\n",
    "v = np.array([\n",
    "    [0.1,0],\n",
    "    [0.2,0],\n",
    "    [0.3,0],\n",
    "    [0.4,0],\n",
    "])\n",
    "\n",
    "w = np.array([\n",
    "    [0.1,0.1],\n",
    "    [0.2,0.2],\n",
    "    [0.23,0.32],\n",
    "    [0.233,0.4],\n",
    "])\n",
    "\n",
    "x = np.array([\n",
    "    [-0.1,-0.1],\n",
    "    [-0.2,-0.2],\n",
    "    [-0.3,-0.32],\n",
    "    [-0.4,-0.32],\n",
    "])\n",
    "\n",
    "fig, ax = plt.subplots()\n",
    "ax.scatter(v[:,0],v[:,1], color=\"blue\", alpha=0.3)\n",
    "ax.scatter(w[:,0],w[:,1], color=\"red\", alpha=0.3)\n",
    "ax.scatter(x[:,0],x[:,1], color=\"green\", alpha=0.3)\n",
    "\n",
    "theta = -0.2\n",
    "mtx = rotation_2d(theta)\n",
    "\n",
    "vp = v @ mtx.T\n",
    "wp = w @ mtx.T\n",
    "xp = x @ mtx.T\n",
    "ax.scatter(vp[:,0],vp[:,1], color=\"blue\")\n",
    "ax.scatter(wp[:,0],wp[:,1], color=\"red\")\n",
    "ax.scatter(xp[:,0],xp[:,1], color=\"green\")\n",
    "\n",
    "ax.grid()\n",
    "ax.set_aspect('equal')\n"
   ]
  },
  {
   "cell_type": "code",
   "execution_count": null,
   "metadata": {},
   "outputs": [],
   "source": []
  },
  {
   "cell_type": "code",
   "execution_count": 4,
   "metadata": {},
   "outputs": [
    {
     "data": {
      "image/png": "[encoded data removed]",
      "text/plain": [
       "<Figure size 432x288 with 1 Axes>"
      ]
     },
     "metadata": {
      "needs_background": "light"
     },
     "output_type": "display_data"
    }
   ],
   "source": [
    "# rotate multiple vectors at once by creating a transformation matrix.\n",
    "# transformation matrix is generated from a rotation vector.\n",
    "R = scipy.spatial.transform.Rotation\n",
    "\n",
    "# rotate (T,2) trajectories\n",
    "\n",
    "v = np.array([\n",
    "    [0.1,0],\n",
    "    [0.2,0],\n",
    "    [0.3,0],\n",
    "    [0.4,0],\n",
    "])\n",
    "\n",
    "w = np.array([\n",
    "    [0.1,0.1],\n",
    "    [0.2,0.2],\n",
    "    [0.23,0.32],\n",
    "    [0.233,0.4],\n",
    "])\n",
    "\n",
    "x = np.array([\n",
    "    [-0.1,-0.1],\n",
    "    [-0.2,-0.2],\n",
    "    [-0.3,-0.32],\n",
    "    [-0.4,-0.32],\n",
    "])\n",
    "\n",
    "def rotate_ccw_about_origin(v, angle):\n",
    "    assert v.shape[-1] == 2\n",
    "    r = R.from_rotvec(np.array([0, 0, 1]) * angle).as_matrix()\n",
    "    v_shape = v.shape\n",
    "    v = np.reshape(v, (-1, 2))\n",
    "    v = np.pad(v, [(0,0),(0,1)])\n",
    "    v = (r @ v.T).T\n",
    "    v = v[:, :2]\n",
    "    v = np.reshape(v, v_shape)\n",
    "    return v\n",
    "\n",
    "fig, ax = plt.subplots()\n",
    "ax.scatter(0, 0, color=\"black\")\n",
    "ax.scatter(v[:,0],v[:,1], color=\"blue\", alpha=0.3)\n",
    "ax.scatter(w[:,0],w[:,1], color=\"red\", alpha=0.3)\n",
    "ax.scatter(x[:,0],x[:,1], color=\"green\", alpha=0.3)\n",
    "\n",
    "angle = np.pi / 2\n",
    "v = rotate_ccw_about_origin(v, angle)\n",
    "w = rotate_ccw_about_origin(w, angle)\n",
    "x = rotate_ccw_about_origin(x, angle)\n",
    "\n",
    "ax.scatter(v[:,0],v[:,1], color=\"blue\")\n",
    "ax.scatter(w[:,0],w[:,1], color=\"red\")\n",
    "ax.scatter(x[:,0],x[:,1], color=\"green\")\n",
    "\n",
    "# change graph appearance\n",
    "ax.spines['left'].set_position('center')\n",
    "ax.spines['bottom'].set_position('center')\n",
    "ax.set_xlim(-1.0,1.0)\n",
    "ax.set_ylim(-1.0,1.0)\n",
    "ax.set_aspect('equal')"
   ]
  },
  {
   "cell_type": "code",
   "execution_count": 3,
   "metadata": {},
   "outputs": [
    {
     "data": {
      "image/png": "[encoded data removed]",
      "text/plain": [
       "<Figure size 432x288 with 1 Axes>"
      ]
     },
     "metadata": {
      "needs_background": "light"
     },
     "output_type": "display_data"
    }
   ],
   "source": [
    "# rotate multiple vectors at once by creating a transformation matrix.\n",
    "# transformation matrix is generated from a rotation vector.\n",
    "R = scipy.spatial.transform.Rotation\n",
    "\n",
    "# rotate (T,2) trajectories\n",
    "\n",
    "v = np.array([\n",
    "    [\n",
    "        [0.1,0],\n",
    "        [0.2,0],\n",
    "        [0.3,0],\n",
    "        [0.4,0],\n",
    "    ],[\n",
    "        [0.1,0.1],\n",
    "        [0.2,0.2],\n",
    "        [0.23,0.32],\n",
    "        [0.233,0.4],\n",
    "    ],[\n",
    "        [-0.1,-0.1],\n",
    "        [-0.2,-0.2],\n",
    "        [-0.3,-0.32],\n",
    "        [-0.4,-0.32],\n",
    "    ]\n",
    "])\n",
    "\n",
    "def rotate_ccw_about_origin(v, angle):\n",
    "    assert v.shape[-1] == 2\n",
    "    # Rotation.as_matrix() equivalent Rotation.as_dcm()\n",
    "    r = R.from_rotvec(np.array([0, 0, 1]) * angle).as_matrix()\n",
    "    v_shape = v.shape\n",
    "    v = np.reshape(v, (-1, 2))\n",
    "    v = np.pad(v, [(0,0),(0,1)])\n",
    "    v = (r @ v.T).T\n",
    "    v = v[:, :2]\n",
    "    v = np.reshape(v, v_shape)\n",
    "    return v\n",
    "\n",
    "fig, ax = plt.subplots()\n",
    "ax.scatter(0, 0, color=\"black\")\n",
    "ax.scatter(v[0,:,0],v[0,:,1], color=\"blue\", alpha=0.3)\n",
    "ax.scatter(v[1,:,0],v[1,:,1], color=\"red\", alpha=0.3)\n",
    "ax.scatter(v[2,:,0],v[2,:,1], color=\"green\", alpha=0.3)\n",
    "\n",
    "angle = np.pi / 2\n",
    "v = rotate_ccw_about_origin(v, angle)\n",
    "\n",
    "ax.scatter(v[0,:,0],v[0,:,1], color=\"blue\")\n",
    "ax.scatter(v[1,:,0],v[1,:,1], color=\"red\")\n",
    "ax.scatter(v[2,:,0],v[2,:,1], color=\"green\")\n",
    "\n",
    "# change graph appearance\n",
    "ax.spines['left'].set_position('center')\n",
    "ax.spines['bottom'].set_position('center')\n",
    "ax.set_xlim(-1.0,1.0)\n",
    "ax.set_ylim(-1.0,1.0)\n",
    "ax.set_aspect('equal')"
   ]
  },
  {
   "cell_type": "code",
   "execution_count": null,
   "metadata": {},
   "outputs": [],
   "source": []
  }
 ],
 "metadata": {
  "kernelspec": {
   "display_name": "Python 3",
   "language": "python",
   "name": "python3"
  },
  "language_info": {
   "codemirror_mode": {
    "name": "ipython",
    "version": 3
   },
   "file_extension": ".py",
   "mimetype": "text/x-python",
   "name": "python",
   "nbconvert_exporter": "python",
   "pygments_lexer": "ipython3",
   "version": "3.8.3"
  }
 },
 "nbformat": 4,
 "nbformat_minor": 4
}
