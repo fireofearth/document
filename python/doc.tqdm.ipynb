{
 "cells": [
  {
   "cell_type": "code",
   "execution_count": 1,
   "metadata": {},
   "outputs": [],
   "source": [
    "from tqdm import tqdm\n",
    "from functools import reduce\n",
    "import itertools\n",
    "import collections\n",
    "from collections.abc import Iterable\n",
    "import time"
   ]
  },
  {
   "cell_type": "code",
   "execution_count": 2,
   "metadata": {},
   "outputs": [
    {
     "name": "stderr",
     "output_type": "stream",
     "text": [
      "100%|██████████| 100/100 [00:01<00:00, 96.88it/s]\n"
     ]
    }
   ],
   "source": [
    "# Basic tqdm usage\n",
    "for i in tqdm(range(100)):\n",
    "    time.sleep(0.01)"
   ]
  },
  {
   "cell_type": "code",
   "execution_count": 3,
   "metadata": {},
   "outputs": [
    {
     "name": "stderr",
     "output_type": "stream",
     "text": [
      "100%|██████████| 100/100 [00:01<00:00, 96.96it/s]\n"
     ]
    },
    {
     "data": {
      "text/plain": [
       "328350"
      ]
     },
     "execution_count": 3,
     "metadata": {},
     "output_type": "execute_result"
    }
   ],
   "source": [
    "# It's possible to use tqdm with generators, but must add total number of iterations.\n",
    "k = 0\n",
    "for i in tqdm(map(lambda x: x*x, range(100)), total=100):\n",
    "    k += i\n",
    "    time.sleep(0.01)\n",
    "k"
   ]
  },
  {
   "cell_type": "code",
   "execution_count": 4,
   "metadata": {},
   "outputs": [
    {
     "name": "stderr",
     "output_type": "stream",
     "text": [
      "100%|██████████| 100/100 [00:01<00:00, 97.30it/s]\n"
     ]
    },
    {
     "data": {
      "text/plain": [
       "2025"
      ]
     },
     "execution_count": 4,
     "metadata": {},
     "output_type": "execute_result"
    }
   ],
   "source": [
    "# Wrap loops in to a generator and use tqdm\n",
    "k = 0\n",
    "def gen():\n",
    "    global k\n",
    "    for i in range(10):\n",
    "        for j in range(10):\n",
    "            k += i*j\n",
    "            time.sleep(0.01)\n",
    "            yield\n",
    "\n",
    "for _ in tqdm(gen(), total=100):\n",
    "    pass\n",
    "k"
   ]
  },
  {
   "cell_type": "code",
   "execution_count": 5,
   "metadata": {},
   "outputs": [
    {
     "name": "stderr",
     "output_type": "stream",
     "text": [
      "15it [00:01,  9.83it/s]                        \n"
     ]
    },
    {
     "data": {
      "text/plain": [
       "15"
      ]
     },
     "execution_count": 5,
     "metadata": {},
     "output_type": "execute_result"
    }
   ],
   "source": [
    "# tqdm manually update\n",
    "\n",
    "k = 0\n",
    "pbar = tqdm(total=10)\n",
    "for i in range(15):\n",
    "    k += 1\n",
    "    time.sleep(0.1)\n",
    "    pbar.update(1)\n",
    "    \n",
    "pbar.close()\n",
    "k"
   ]
  },
  {
   "cell_type": "code",
   "execution_count": 6,
   "metadata": {},
   "outputs": [
    {
     "name": "stderr",
     "output_type": "stream",
     "text": [
      "Test loop: 100%|██████████| 100/100 [00:01<00:00, 96.94it/s]\n"
     ]
    },
    {
     "data": {
      "text/plain": [
       "4950"
      ]
     },
     "execution_count": 6,
     "metadata": {},
     "output_type": "execute_result"
    }
   ],
   "source": [
    "# leave (default: True): keeps all traces of the progressbar upon termination of iteration.\n",
    "# dynamic_ncols (default: False): if set, constantly alters ncols and nrows to the environment\n",
    "#    (allowing for window resizes).\n",
    "k = 0\n",
    "prefix = 'Test loop: '\n",
    "for i in tqdm(range(100), desc=prefix, dynamic_ncols=True, leave=True, position=0):\n",
    "    k += i\n",
    "    time.sleep(0.01)\n",
    "k"
   ]
  },
  {
   "cell_type": "code",
   "execution_count": null,
   "metadata": {},
   "outputs": [],
   "source": []
  }
 ],
 "metadata": {
  "kernelspec": {
   "display_name": "Python 3",
   "language": "python",
   "name": "python3"
  },
  "language_info": {
   "codemirror_mode": {
    "name": "ipython",
    "version": 3
   },
   "file_extension": ".py",
   "mimetype": "text/x-python",
   "name": "python",
   "nbconvert_exporter": "python",
   "pygments_lexer": "ipython3",
   "version": "3.8.3"
  }
 },
 "nbformat": 4,
 "nbformat_minor": 4
}
