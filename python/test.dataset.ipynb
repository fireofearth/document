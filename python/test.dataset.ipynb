{
 "cells": [
  {
   "cell_type": "code",
   "execution_count": 1,
   "metadata": {},
   "outputs": [],
   "source": [
    "import enum\n",
    "import copy\n",
    "import itertools\n",
    "import functools\n",
    "import collections\n",
    "\n",
    "import numpy as np\n",
    "\n",
    "import utility as util"
   ]
  },
  {
   "cell_type": "code",
   "execution_count": 39,
   "metadata": {},
   "outputs": [
    {
     "data": {
      "text/plain": [
       "({'map_name': 0, 'episode': 1, 'agent': 2, 'frame': 3},\n",
       " '{map_name:}/ep{episode:03d}/agent{agent:03d}/frame{frame:08d}',\n",
       " 'Town04/ep001/agent123/frame00001000')"
      ]
     },
     "execution_count": 39,
     "metadata": {},
     "output_type": "execute_result"
    }
   ],
   "source": [
    "class IDMaker(object):\n",
    "    \"\"\"Create ID string from ID primitives. For example when constructed via\n",
    "    \n",
    "    ```\n",
    "    carla_id_maker = IDMaker(\n",
    "        'map_name/episode/agent/frame',\n",
    "        prefixes={\n",
    "            'episode':  'ep',\n",
    "            'agent':    'agent',\n",
    "            'frame':    'frame'},\n",
    "        format_spec={\n",
    "            'episode':  '03d',\n",
    "            'agent':    '03d',\n",
    "            'frame':    '08d'})\n",
    "    ```\n",
    "    \n",
    "    Then calling\n",
    "    \n",
    "    ```\n",
    "    carla_id_maker.make_id(map_name='Town04', episode=1, agent=123, frame=1000)\n",
    "    ```\n",
    "    \n",
    "    gives\n",
    "\n",
    "    Town04/ep001/agent123/frame00001000\n",
    "    \"\"\"\n",
    "\n",
    "    @staticmethod\n",
    "    def __clamp(s):\n",
    "        return \"{\" + str(s) + \"}\"\n",
    "\n",
    "    def make_fstring(self):\n",
    "        def f(w):\n",
    "            s = self.__clamp(f\"{w}:{self.__format_spec[w]}\")\n",
    "            return self.__prefixes[w] + s\n",
    "        l = map(f, self.__sample_pattern_lst)\n",
    "        return '/'.join(l)\n",
    "\n",
    "    def __init__(self, s, prefixes={}, format_spec={}):\n",
    "        self.__sample_pattern_str = s\n",
    "        self.__sample_pattern_lst = s.split('/')\n",
    "        self.__sample_pattern = util.create_sample_pattern(s)\n",
    "        self.__prefixes = prefixes\n",
    "        self.__format_spec = format_spec\n",
    "        for w in self.__sample_pattern_lst:\n",
    "            if w not in self.__prefixes:\n",
    "                self.__prefixes[w] = ''\n",
    "            if w not in self.__format_spec:\n",
    "                self.__format_spec[w] = ''\n",
    "        self.__fstring = self.make_fstring()\n",
    "\n",
    "    @property\n",
    "    def sample_pattern(self):\n",
    "        return self.__sample_pattern\n",
    "    \n",
    "    @property\n",
    "    def fstring(self):\n",
    "        return self.__fstring\n",
    "        \n",
    "    def make_id(self, **kwargs):\n",
    "        return self.__fstring.format(**kwargs)\n",
    "\n",
    "    def filter_ids(self, filter, ids, inclusive=True):\n",
    "        for word in filter.keys():\n",
    "            if not isinstance(filter[word], (list, np.ndarray)):\n",
    "                filter[word] = [filter[word]]\n",
    "            \n",
    "        sp = self.__sample_pattern\n",
    "        id_nd = np.array([[*id.split('/'), id] for id in ids])\n",
    "        common_words = set(sp) & set(filter)\n",
    "        b_nd = np.zeros((len(ids), len(common_words)), dtype=bool)\n",
    "        for idx, word in enumerate(common_words):\n",
    "            values = filter[word]\n",
    "            wd_nd = id_nd[:, sp[word]]\n",
    "            f = lambda v: wd_nd == v \n",
    "            wd_nd_b = util.map_to_ndarray(f, values)\n",
    "            b_nd[:, idx] = np.any(wd_nd_b, axis=0)\n",
    "        if inclusive:\n",
    "            b_nd = np.all(b_nd, axis=1)\n",
    "        else:\n",
    "            b_nd = np.any(b_nd, axis=1)\n",
    "            b_nd = np.logical_not(b_nd)\n",
    "        id_nd = id_nd[b_nd, -1]\n",
    "        return id_nd.tolist()\n",
    "\n",
    "carla_id_maker = IDMaker(\n",
    "        'map_name/episode/agent/frame',\n",
    "        prefixes={\n",
    "            'episode':  'ep',\n",
    "            'agent':    'agent',\n",
    "            'frame':    'frame'},\n",
    "        format_spec={\n",
    "            'episode':  '03d',\n",
    "            'agent':    '03d',\n",
    "            'frame':    '08d'})\n",
    "\n",
    "carla_id_maker.sample_pattern, carla_id_maker.fstring, \\\n",
    "        carla_id_maker.make_id(map_name='Town04', episode=1, agent=123, frame=1000)"
   ]
  },
  {
   "cell_type": "code",
   "execution_count": 40,
   "metadata": {},
   "outputs": [
    {
     "name": "stdout",
     "output_type": "stream",
     "text": [
      "[[False False]\n",
      " [False False]\n",
      " [False False]\n",
      " [False False]\n",
      " [False False]\n",
      " [False False]\n",
      " [False False]\n",
      " [False False]\n",
      " [False  True]\n",
      " [ True  True]\n",
      " [ True  True]\n",
      " [False  True]\n",
      " [False  True]\n",
      " [False False]\n",
      " [False False]]\n"
     ]
    },
    {
     "data": {
      "text/plain": [
       "['Town02/ep003/agent001/frame00000100', 'Town02/ep003/agent002/frame00000100']"
      ]
     },
     "execution_count": 40,
     "metadata": {},
     "output_type": "execute_result"
    }
   ],
   "source": [
    "ids = ['Town01/ep001/agent001/frame00001000',\n",
    "        'Town01/ep001/agent002/frame00001000',\n",
    "        'Town01/ep001/agent003/frame00001000',\n",
    "        'Town01/ep001/agent001/frame00002000',\n",
    "        'Town01/ep001/agent002/frame00002000',\n",
    "        'Town01/ep002/agent001/frame00000500',\n",
    "        'Town01/ep002/agent002/frame00000500',\n",
    "        'Town01/ep002/agent003/frame00000530',\n",
    "        'Town02/ep002/agent004/frame00000530',\n",
    "        'Town02/ep003/agent001/frame00000100',\n",
    "        'Town02/ep003/agent002/frame00000100',\n",
    "        'Town02/ep004/agent001/frame00000100',\n",
    "        'Town02/ep004/agent002/frame00000100',\n",
    "        'Town03/ep005/agent001/frame00001000',\n",
    "        'Town03/ep005/agent001/frame00002000',]\n",
    "\n",
    "filter = {'map_name': 'Town02', 'episode': 'ep003'}\n",
    "\n",
    "carla_id_maker.filter_ids(filter, ids, inclusive=True)"
   ]
  },
  {
   "cell_type": "code",
   "execution_count": 2,
   "metadata": {},
   "outputs": [
    {
     "data": {
      "text/plain": [
       "array([[False, False],\n",
       "       [False, False]])"
      ]
     },
     "execution_count": 2,
     "metadata": {},
     "output_type": "execute_result"
    }
   ],
   "source": [
    "np.zeros((2,2), dtype=bool)"
   ]
  },
  {
   "cell_type": "code",
   "execution_count": 9,
   "metadata": {},
   "outputs": [
    {
     "data": {
      "text/plain": [
       "({'b', 'c'}, ['b', 'c'], ['b', 'c'])"
      ]
     },
     "execution_count": 9,
     "metadata": {},
     "output_type": "execute_result"
    }
   ],
   "source": [
    "d1 = dict(zip('abc', [1,2,3]))\n",
    "d2 = dict(zip('bcd', [1,2,3]))\n",
    "\n",
    "set(d1) & set(d2), list(set(d1) & set(d2)), [v for v in set(d1) & set(d2)]"
   ]
  },
  {
   "cell_type": "code",
   "execution_count": 34,
   "metadata": {},
   "outputs": [
    {
     "data": {
      "text/plain": [
       "False"
      ]
     },
     "execution_count": 34,
     "metadata": {},
     "output_type": "execute_result"
    }
   ],
   "source": [
    "isinstance('asdf', (list, np.ndarray))"
   ]
  },
  {
   "cell_type": "code",
   "execution_count": null,
   "metadata": {},
   "outputs": [],
   "source": []
  }
 ],
 "metadata": {
  "kernelspec": {
   "display_name": "Python 3",
   "language": "python",
   "name": "python3"
  },
  "language_info": {
   "codemirror_mode": {
    "name": "ipython",
    "version": 3
   },
   "file_extension": ".py",
   "mimetype": "text/x-python",
   "name": "python",
   "nbconvert_exporter": "python",
   "pygments_lexer": "ipython3",
   "version": "3.8.3"
  }
 },
 "nbformat": 4,
 "nbformat_minor": 4
}
