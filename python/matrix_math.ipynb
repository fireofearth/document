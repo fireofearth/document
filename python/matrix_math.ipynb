{
 "cells": [
  {
   "cell_type": "code",
   "execution_count": 1,
   "metadata": {
    "collapsed": true
   },
   "outputs": [],
   "source": [
    "import numpy as np\n",
    "import sympy as sp\n",
    "\n",
    "from numpy import array\n",
    "from numpy.linalg import inv\n",
    "from numpy.linalg import eig\n",
    "\n",
    "## Function to compute and clean the matrix Q formed by eigenvectors of matrix M\n",
    "def getEigVals(M):\n",
    "    M = np.linalg.eig(M)[1]\n",
    "    v1 = M[:,0] * (1. / M[0,0])\n",
    "    v2 = M[:,1] * (1. / M[0,1])\n",
    "    v3 = M[:,2] * (1. / M[0,2])\n",
    "    M = np.array([v1,v2,v3])\n",
    "    M = np.around(M, decimals=4)\n",
    "    M = np.matrix(M).T\n",
    "    return M\n",
    "\n",
    "## get diagonal matrix; part of matrix diagonalization\n",
    "## * note for Sympy we can just call `P, D = M.diagonalize()`\n",
    "def getDiagMatx(M):\n",
    "    A = M\n",
    "    eigVals = np.linalg.eig(A)[0]\n",
    "    n = eigVals.size\n",
    "    A = np.zeros((n,n), dtype=float)\n",
    "    for i in range(0,n):\n",
    "        A[i,i] = eigVals[i]\n",
    "    return np.matrix(A)\n",
    "\n",
    "## get characteristic matrix from sympy matrix\n",
    "def getCharMatx(M, l):\n",
    "    n = M.shape[0]\n",
    "    N = sp.Matrix(M)\n",
    "    for i in range(0,n):\n",
    "        N[i,i] = N[i,i] - l;\n",
    "    return N\n",
    "\n",
    "## get characteristic polynomial from sympy matrix\n",
    "def getCharPoly(M, l):\n",
    "    N = getCharMatx(M, l)\n",
    "    p = N.det()\n",
    "    return sp.factor(p)\n",
    "\n",
    "def charMatxSubLambda(M, lamb):\n",
    "    l = sp.symbols('l')\n",
    "    N = getCharMatx(M,l)\n",
    "    return N.subs({l: lamb})\n",
    "\n",
    "## get characteristic matrix, then substitute lambda by lamb value and calc RREF\n",
    "## * use to find (generalized) eigenvector\n",
    "def charMatxSubLambdaThenRREF(M, lamb):\n",
    "    return charMatxSubLambda(M, lamb).rref()"
   ]
  },
  {
   "cell_type": "code",
   "execution_count": 94,
   "metadata": {},
   "outputs": [
    {
     "data": {
      "text/plain": [
       "array([[ 2. , -0.5, -0.5, -0.5],\n",
       "       [ 0. ,  1. ,  0. ,  0. ],\n",
       "       [-2. , -0. ,  2. , -0. ],\n",
       "       [ 0. ,  0. ,  0. ,  1. ]])"
      ]
     },
     "execution_count": 94,
     "metadata": {},
     "output_type": "execute_result"
    }
   ],
   "source": [
    "## Diagonization example\n",
    "\n",
    "D = np.array(\n",
    "    [[-3,0,0,0],\n",
    "     [ 0,1,0,0],\n",
    "     [ 0,0,1,0],\n",
    "     [ 0,0,0,1]], dtype=float)\n",
    "\n",
    "Q = np.array(\n",
    "    [[ 1,-0.5, 0.5,-0.5],\n",
    "     [ 0,   1,   0,   0],\n",
    "     [ 1,   0,   1,   0],\n",
    "     [ 0,   0,   0,   1]], dtype=float)\n",
    "\n",
    "A = np.array(\n",
    "    [[ -7, -4,  4, -4],\n",
    "     [  0,  1,  0,  0],\n",
    "     [ -8, -4,  5, -4],\n",
    "     [  0,  0,  0,  1]], dtype=float)\n",
    "\n",
    "\n",
    "Qinv = np.linalg.inv(Q)\n",
    "\n",
    "# (Qinv * A) * Q"
   ]
  },
  {
   "cell_type": "code",
   "execution_count": 23,
   "metadata": {},
   "outputs": [
    {
     "data": {
      "text/plain": [
       "matrix([[ 0,  5],\n",
       "        [ 2, 11]])"
      ]
     },
     "execution_count": 23,
     "metadata": {},
     "output_type": "execute_result"
    }
   ],
   "source": [
    "## Matrix multiplication\n",
    "\n",
    "D = np.matrix(\n",
    "    [[ 1,2],\n",
    "     [ 3,4]])\n",
    "Q = np.matrix(\n",
    "    [[  2,1],\n",
    "     [ -1,2]])\n",
    "D * Q\n"
   ]
  },
  {
   "cell_type": "code",
   "execution_count": 31,
   "metadata": {},
   "outputs": [
    {
     "data": {
      "text/plain": [
       "matrix([[ 3.,  0.],\n",
       "        [ 0., -1.]])"
      ]
     },
     "execution_count": 31,
     "metadata": {},
     "output_type": "execute_result"
    }
   ],
   "source": [
    "## An exmple in Friedberg text\n",
    "\n",
    "A = np.matrix(\n",
    "    [[ 1, 1],\n",
    "     [ 4, 1]], dtype=float)\n",
    "Q = np.matrix(\n",
    "    [[ 1, 1],\n",
    "     [ 2,-2]], dtype=float)\n",
    "Qinv = np.linalg.inv(Q)\n",
    "\n",
    "# given A and matrix composed of its eigenvectors\n",
    "# this product gives the corr. eigenvalues of A\n",
    "(Qinv * A) * Q"
   ]
  },
  {
   "cell_type": "code",
   "execution_count": 66,
   "metadata": {},
   "outputs": [
    {
     "data": {
      "text/plain": [
       "array([[-14.        ,  -2.52982213,  -3.26598632,  -3.26598632],\n",
       "       [  0.        ,   0.        ,  -0.        ,   0.        ],\n",
       "       [  0.        ,   6.19677335,  -0.        ,   0.        ],\n",
       "       [  0.        ,   0.        ,   0.        ,   1.        ]])"
      ]
     },
     "execution_count": 66,
     "metadata": {},
     "output_type": "execute_result"
    }
   ],
   "source": [
    "## It doesn't work because A is not diagonizable\n",
    "\n",
    "A = np.array(\n",
    "    [[ -7, -4,  4, -4],\n",
    "     [  0,  1,  0,  0],\n",
    "     [ -8, -4,  5, -4],\n",
    "     [  0,  0,  0,  1]], dtype=float)\n",
    "\n",
    "eigA = np.linalg.eig(A)[1]\n",
    "\n",
    "eigVec1 = eigA[:,0]\n",
    "eigVec2 = eigA[:,1]\n",
    "eigVec3 = eigA[:,2]\n",
    "eigVec4 = eigA[:,3]\n",
    "\n",
    "# These are the eigenvalues for the matrix\n",
    "#eigVec1 = (1. / eigVec1[0]) * eigVec1\n",
    "#eigVec2 = (1. / eigVec2[0]) * eigVec2\n",
    "#eigVec3 = (1. / eigVec3[0]) * eigVec3\n",
    "#eigVec4 = (1. / eigVec4[0]) * eigVec4\n",
    "\n",
    "# eigVec1\n",
    "\n",
    "Q = np.array(\n",
    "    [eigVec1,\n",
    "     eigVec2,\n",
    "     eigVec3,\n",
    "     eigVec4]).T\n",
    "\n",
    "Qinv = np.linalg.inv(Q)\n",
    "\n",
    "(Qinv * A) * Q\n",
    "\n",
    "# array([[-0.70710678, -0.4472136 , -0.57735027, -0.57735027],\n",
    "#        [ 0.        ,  0.        ,  0.57735027,  0.        ],\n",
    "#        [-0.70710678, -0.89442719, -0.57735027, -0.57735027],\n",
    "#        [ 0.        ,  0.        ,  0.        ,  0.57735027]])"
   ]
  },
  {
   "cell_type": "code",
   "execution_count": 13,
   "metadata": {},
   "outputs": [
    {
     "data": {
      "text/plain": [
       "matrix([[ -1.00000000e+00,  -6.66133815e-16],\n",
       "        [  0.00000000e+00,   4.00000000e+00]])"
      ]
     },
     "execution_count": 13,
     "metadata": {},
     "output_type": "execute_result"
    }
   ],
   "source": [
    "A = np.matrix(\n",
    "    [[ 1,2],\n",
    "     [ 3,2]], dtype=float)\n",
    "Q = np.matrix(\n",
    "    [[  1,2],\n",
    "     [ -1,3]], dtype=float)\n",
    "Qinv = inv(Q)\n",
    "D = np.matrix(\n",
    "    [[ -1,0],\n",
    "     [  0,4]], dtype=float)\n",
    "\n",
    "\n",
    "(Qinv * A) * Q\n",
    "\n",
    "# (Q * D) * Qinv\n"
   ]
  },
  {
   "cell_type": "code",
   "execution_count": 65,
   "metadata": {},
   "outputs": [
    {
     "data": {
      "text/plain": [
       "-(l - 3)*(l - 2)*(l - 1)"
      ]
     },
     "execution_count": 65,
     "metadata": {},
     "output_type": "execute_result"
    }
   ],
   "source": [
    "## 3) b)\n",
    "## Finding the determinant using sympy\n",
    "\n",
    "# lambda\n",
    "l = sp.symbols('l')\n",
    "\n",
    "M = sp.Matrix(\n",
    "    [[ -l,  -2,  -3],\n",
    "     [ -1, 1-l,  -1],\n",
    "     [  2,   2,   5-l]])\n",
    "\n",
    "# characteristic polynomial\n",
    "p = M.det()\n",
    "sp.factor(p)"
   ]
  },
  {
   "cell_type": "code",
   "execution_count": 63,
   "metadata": {},
   "outputs": [
    {
     "data": {
      "text/plain": [
       "matrix([[-1.,  0.,  0.],\n",
       "        [ 0.,  2.,  0.],\n",
       "        [ 0.,  0.,  1.]])"
      ]
     },
     "execution_count": 63,
     "metadata": {},
     "output_type": "execute_result"
    }
   ],
   "source": [
    "## 4) b)\n",
    "## Using jupyter and array manipulation to get answers\n",
    "## This is the best working example I can get\n",
    "\n",
    "M = np.matrix([\n",
    "    [   7,  -4,  10],\n",
    "    [   4,  -3,   8],\n",
    "    [  -2,   1,  -2]\n",
    "], dtype=float)\n",
    "\n",
    "# Gives us the eigenvalues\n",
    "# array([-1.,  2.,  1.])\n",
    "\n",
    "# Gives us the eigenvectors\n",
    "# eig(M)[0]\n",
    "\n",
    "# My function gets scaled \n",
    "Q = getEigVals(M)\n",
    "\n",
    "# Check to see if the vectors are actually eigenvectors\n",
    "# np.dot(M, array([1,2,0]) )\n",
    "\n",
    "# Obtain inverse of Q\n",
    "Qinv = np.linalg.inv(Q)\n",
    "\n",
    "# check to see if Qinv is actually the inverse of Q\n",
    "# np.multiply(Q, Qinv)\n",
    "\n",
    "# Obtain diagonal matrix corresponding to Q\n",
    "D = getDiagMatx(M)\n",
    "\n",
    "## Q * D * Qinv = M; also we can make D the new coord matrix rel to B' by making B' the ordered basis formed by the eigenvectors \n",
    "# Q * D * Qinv\n",
    "\n",
    "Qinv * M * Q"
   ]
  },
  {
   "cell_type": "code",
   "execution_count": 81,
   "metadata": {},
   "outputs": [
    {
     "data": {
      "text/plain": [
       "Matrix([\n",
       "[-1],\n",
       "[-3],\n",
       "[ 0]])"
      ]
     },
     "execution_count": 81,
     "metadata": {},
     "output_type": "execute_result"
    }
   ],
   "source": [
    "## Friedberg Chapt 7.1\n",
    "## question 3) c)\n",
    "## Finding the determinant using sympy;\n",
    "\n",
    "# lambda\n",
    "l = sp.symbols('l')\n",
    "\n",
    "sN = sp.Matrix(\n",
    "    [[   11, -4,  -5],\n",
    "     [   21, -8, -11],\n",
    "     [    3, -1,   0]])\n",
    "\n",
    "# start by finding basis vectors in generalized eigenspace K_lambda=2\n",
    "N = np.array(N).astype(np.float)\n",
    "\n",
    "# Show that [1, 1, 1] is an eigenvector with eigenvalue 2\n",
    "# v = np.array([1, 1, 1], dtype=float)\n",
    "# N.dot(v)\n",
    "\n",
    "# To find first basis vector v=(sN-2I)(x)\n",
    "# charMatxSubLambdaThenRREF(sN, 2)\n",
    "\n",
    "# To find second basis vector\n",
    "# charMatxSubLambda(sN, 2).col_insert(3, sp.Matrix([1, 1, 1])).rref()\n",
    "\n",
    "# Show that [1, 2, 0] is a gen. eigenvector\n",
    "# v = np.array([1, 2, 0], dtype=float)\n",
    "# N.dot(v)\n",
    "\n",
    "# alternative way to find vectors \n",
    "# sN_2 = charMatxSubLambda(sN, 2)\n",
    "# (sN_2 * sN_2).rref()\n",
    "# a, b = sp.symbols('a, b')\n",
    "# sN_2 * sp.Matrix([a+b, 2*a, 2*b])\n",
    "sN_2 * sp.Matrix([1, 2, 0])\n",
    "\n",
    "# now find basis vector in generalized eigenspace K_lambda=-1\n",
    "\n",
    "# To find first basis vector v=(sN+1I)(x)\n",
    "charMatxSubLambdaThenRREF(sN, -1)\n",
    "\n",
    "sN * sp.Matrix([1,3,0])"
   ]
  },
  {
   "cell_type": "code",
   "execution_count": 26,
   "metadata": {},
   "outputs": [
    {
     "data": {
      "text/plain": [
       "array([ 6.,  3.,  3.])"
      ]
     },
     "execution_count": 26,
     "metadata": {},
     "output_type": "execute_result"
    }
   ],
   "source": [
    "## Matrix-vector multiplication example\n",
    "\n",
    "D = np.array(\n",
    "    [[1, 2, 1],\n",
    "     [0, 1, 1],\n",
    "     [2, 0, 1]], dtype=float)\n",
    "\n",
    "v = np.array([1, 2, 1], dtype=float)\n",
    "\n",
    "D.dot(v)"
   ]
  },
  {
   "cell_type": "code",
   "execution_count": 5,
   "metadata": {},
   "outputs": [
    {
     "data": {
      "text/plain": [
       "(Matrix([\n",
       " [1, 0, -1, 0],\n",
       " [0, 1, -1, 0],\n",
       " [0, 0,  0, 0],\n",
       " [0, 0,  0, 0]]), [0, 1])"
      ]
     },
     "execution_count": 5,
     "metadata": {},
     "output_type": "execute_result"
    }
   ],
   "source": [
    "## Friedberg Chapt 7.1\n",
    "## question 3) c)\n",
    "## Finding the determinant using sympy;\n",
    "\n",
    "# lambda\n",
    "l = sp.symbols('l')\n",
    "\n",
    "A = sp.Matrix(\n",
    "    [[   2,  1,  0,  0],\n",
    "     [   0,  2,  1,  0],\n",
    "     [   0,  0,  3,  0],\n",
    "     [   0,  1, -1,  3]])\n",
    "\n",
    "# get characteristic polynomial f(t)\n",
    "getCharPoly(A, l) # char poly is f(t) = (l - 3)**2*(l - 2)**2\n",
    "\n",
    "# get (A-3I)\n",
    "charMatxSubLambda(A, 3)\n",
    "\n",
    "# simplify nullspace N(A-3I) to get first basis vectors\n",
    "charMatxSubLambdaThenRREF(A, 3)\n",
    "\n",
    "# dead-end\n",
    "# sol1 = charMatxSubLambda(A, 3).col_insert(4, sp.Matrix([-1, 1, 1, 0])).rref()\n",
    "\n",
    "# get (A-2I)\n",
    "charMatxSubLambda(A, 2)\n",
    "\n",
    "# simplify nullspace N(A-2I) to get first basis vector\n",
    "charMatxSubLambdaThenRREF(A, 2)\n",
    "\n",
    "# validate that [1, 0, 0, 0] is eigenvector\n",
    "A * sp.Matrix([1, 0, 0, 0])\n",
    "\n",
    "# find generalized eigenvector\n",
    "charMatxSubLambda(A, 2).col_insert(4, sp.Matrix([1, 0, 0, 0])).rref()\n",
    "\n",
    "charMatxSubLambda(A, 2) * sp.Matrix([0, 1, 0, -1])\n",
    "\n",
    "charMatxSubLambdaThenRREF(A, 3)"
   ]
  },
  {
   "cell_type": "code",
   "execution_count": 6,
   "metadata": {
    "scrolled": false
   },
   "outputs": [
    {
     "data": {
      "text/plain": [
       "matrix([[ 2.,  1.,  0.,  0.],\n",
       "        [ 0.,  2.,  1.,  0.],\n",
       "        [ 0.,  0.,  3.,  0.],\n",
       "        [ 0.,  1., -1.,  3.]])"
      ]
     },
     "execution_count": 6,
     "metadata": {},
     "output_type": "execute_result"
    }
   ],
   "source": [
    "## Verifying Jordan Canonical Matrix questions\n",
    "## is incorrect for some reason (?)\n",
    "\n",
    "J = np.matrix(\n",
    "    [[   3,  0,  0,  0],\n",
    "     [   0,  3,  0,  0],\n",
    "     [   0,  0,  2,  1],\n",
    "     [   0,  0,  0,  2]], dtype=float)\n",
    "\n",
    "P = np.matrix(\n",
    "    [[   1,  0,  1,  0],\n",
    "     [   1,  0,  0,  1],\n",
    "     [   1,  0,  0,  0],\n",
    "     [   0,  1,  0, -1]], dtype=float)\n",
    "\n",
    "Pinv = np.linalg.inv(P)\n",
    "\n",
    "P.dot(J.dot(Pinv))"
   ]
  },
  {
   "cell_type": "code",
   "execution_count": 14,
   "metadata": {},
   "outputs": [
    {
     "data": {
      "text/plain": [
       "matrix([[ 11.,  -4.,  -5.],\n",
       "        [ 21.,  -8., -11.],\n",
       "        [  3.,  -1.,   0.]])"
      ]
     },
     "execution_count": 14,
     "metadata": {},
     "output_type": "execute_result"
    }
   ],
   "source": [
    "## Verifying Jordan Canonical Matrix questions\n",
    "\n",
    "J = np.matrix(\n",
    "    [[ 2,  1,  0],\n",
    "     [ 0,  2,  0],\n",
    "     [ 0,  0, -1]], dtype=float)\n",
    "\n",
    "P = np.matrix(\n",
    "    [[ 1,  1,  1],\n",
    "     [ 1,  2,  3],\n",
    "     [ 1,  0,  0]], dtype=float)\n",
    "\n",
    "Pinv = np.linalg.inv(P)\n",
    "\n",
    "P.dot(J.dot(Pinv))"
   ]
  },
  {
   "cell_type": "code",
   "execution_count": 15,
   "metadata": {},
   "outputs": [
    {
     "data": {
      "text/plain": [
       "matrix([[ 1.,  0.,  1.,  0.],\n",
       "        [ 0.,  1.,  0.,  1.],\n",
       "        [ 0.,  0.,  1.,  0.],\n",
       "        [ 0.,  0.,  0.,  1.]])"
      ]
     },
     "execution_count": 15,
     "metadata": {},
     "output_type": "execute_result"
    }
   ],
   "source": [
    "## Verifying Jordan Canonical Matrix questions\n",
    "## is incorrect for some reason (?)\n",
    "\n",
    "J = np.matrix(\n",
    "    [[   1,  1,  0,  0],\n",
    "     [   0,  1,  0,  0],\n",
    "     [   0,  0,  1,  1],\n",
    "     [   0,  0,  0,  1]], dtype=float)\n",
    "\n",
    "P = np.matrix(\n",
    "    [[   1,  0,  0,  0],\n",
    "     [   0,  0,  1,  0],\n",
    "     [   0,  1,  0,  0],\n",
    "     [   0,  0,  0,  1]], dtype=float)\n",
    "\n",
    "Pinv = np.linalg.inv(P)\n",
    "\n",
    "P.dot(J.dot(Pinv))"
   ]
  },
  {
   "cell_type": "code",
   "execution_count": null,
   "metadata": {
    "collapsed": true
   },
   "outputs": [],
   "source": []
  }
 ],
 "metadata": {
  "kernelspec": {
   "display_name": "Python 3",
   "language": "python",
   "name": "python3"
  },
  "language_info": {
   "codemirror_mode": {
    "name": "ipython",
    "version": 3
   },
   "file_extension": ".py",
   "mimetype": "text/x-python",
   "name": "python",
   "nbconvert_exporter": "python",
   "pygments_lexer": "ipython3",
   "version": "3.6.7"
  }
 },
 "nbformat": 4,
 "nbformat_minor": 2
}
