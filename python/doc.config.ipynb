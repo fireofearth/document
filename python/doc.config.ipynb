{
 "cells": [
  {
   "cell_type": "code",
   "execution_count": 1,
   "metadata": {},
   "outputs": [],
   "source": [
    "import yaml\n",
    "import json\n",
    "import pprint\n",
    "\n",
    "import utility as util\n",
    "import utility.npu\n",
    "\n",
    "pp = pprint.PrettyPrinter(indent=4)\n",
    "\n",
    "CONFIG = \\\n",
    "{   'data': {   'celebA_center_crop': False,\n",
    "                'classes': [],\n",
    "                'dataset_name': 'images',\n",
    "                'fid_file': None,\n",
    "                'img_size': 64,\n",
    "                'path': 'data/comprehensive_cars/images/*.jpg',\n",
    "                'random_crop': False,\n",
    "                'use_tanh_range': False},\n",
    "    'method': 'giraffe',\n",
    "    'model': {   'background_generator': 'simple',\n",
    "                 'background_generator_kwargs': {   'downscale_p_by': 12,\n",
    "                                                    'hidden_size': 64,\n",
    "                                                    'n_blocks': 4,\n",
    "                                                    'skips': []},\n",
    "                 'bounding_box_generator': 'simple',\n",
    "                 'bounding_box_generator_kwargs': {},\n",
    "                 'decoder': 'simple',\n",
    "                 'decoder_kwargs': {},\n",
    "                 'discriminator': 'dc',\n",
    "                 'discriminator_kwargs': {},\n",
    "                 'generator': 'simple',\n",
    "                 'generator_kwargs': {},\n",
    "                 'neural_renderer': 'simple',\n",
    "                 'neural_renderer_kwargs': {},\n",
    "                 'z_dim': 256,\n",
    "                 'z_dim_bg': 128}}"
   ]
  },
  {
   "cell_type": "code",
   "execution_count": 7,
   "metadata": {},
   "outputs": [
    {
     "name": "stdout",
     "output_type": "stream",
     "text": [
      "a: 1, c: 3, "
     ]
    },
    {
     "data": {
      "text/plain": [
       "{'a': 1, 'c': 3}"
      ]
     },
     "execution_count": 7,
     "metadata": {},
     "output_type": "execute_result"
    }
   ],
   "source": [
    "# util.AttrDict is an implementation of dict with member access.\n",
    "d = util.AttrDict(a=1, b =2)\n",
    "d.c = 3\n",
    "del d.b\n",
    "for k, v in d.items():\n",
    "    print(f\"{k}: {v}\", end=\", \")\n",
    "d"
   ]
  },
  {
   "cell_type": "code",
   "execution_count": 2,
   "metadata": {},
   "outputs": [
    {
     "data": {
      "text/plain": [
       "{'a': 1, 'b': 2, 'c': 3}"
      ]
     },
     "execution_count": 2,
     "metadata": {},
     "output_type": "execute_result"
    }
   ],
   "source": [
    "# load a dict\n",
    "s = \"\"\"\n",
    "---\n",
    "a: 1\n",
    "b: 2\n",
    "c: 3\n",
    "\"\"\"\n",
    "yaml.safe_load(s)"
   ]
  },
  {
   "cell_type": "code",
   "execution_count": 4,
   "metadata": {},
   "outputs": [
    {
     "data": {
      "text/plain": [
       "{1: None, 2: None, 3: None}"
      ]
     },
     "execution_count": 4,
     "metadata": {},
     "output_type": "execute_result"
    }
   ],
   "source": [
    "# load keys with no values\n",
    "s = \"\"\"\n",
    "---\n",
    "? 1\n",
    "? 2\n",
    "? 3\n",
    "\"\"\"\n",
    "yaml.safe_load(s)"
   ]
  },
  {
   "cell_type": "code",
   "execution_count": 10,
   "metadata": {},
   "outputs": [
    {
     "data": {
      "text/plain": [
       "{'a': 1, 'b': None, 'c': 3, 'd': None}"
      ]
     },
     "execution_count": 10,
     "metadata": {},
     "output_type": "execute_result"
    }
   ],
   "source": [
    "# load a dict optionally with values\n",
    "s = \"\"\"\n",
    "---\n",
    "a : 1\n",
    "b :\n",
    "c : 3\n",
    "? d \n",
    "\"\"\"\n",
    "yaml.safe_load(s)"
   ]
  },
  {
   "cell_type": "code",
   "execution_count": 14,
   "metadata": {},
   "outputs": [
    {
     "data": {
      "text/plain": [
       "list"
      ]
     },
     "execution_count": 14,
     "metadata": {},
     "output_type": "execute_result"
    }
   ],
   "source": [
    "s = \"\"\"\n",
    "---\n",
    "- 1\n",
    "- 2\n",
    "- 3\n",
    "\"\"\"\n",
    "yaml.safe_load(s)"
   ]
  },
  {
   "cell_type": "code",
   "execution_count": 3,
   "metadata": {},
   "outputs": [
    {
     "data": {
      "text/plain": [
       "{'a': None}"
      ]
     },
     "execution_count": 3,
     "metadata": {},
     "output_type": "execute_result"
    }
   ],
   "source": [
    "s = \"\"\"\n",
    "---\n",
    "a :\n",
    "a :\n",
    "\"\"\"\n",
    "yaml.safe_load(s)"
   ]
  },
  {
   "cell_type": "code",
   "execution_count": 11,
   "metadata": {},
   "outputs": [
    {
     "name": "stdout",
     "output_type": "stream",
     "text": [
      "'giraffe'\n",
      "{   'celebA_center_crop': False,\n",
      "    'classes': [],\n",
      "    'dataset_name': 'images',\n",
      "    'fid_file': None,\n",
      "    'img_size': 64,\n",
      "    'path': 'data/comprehensive_cars/images/*.jpg',\n",
      "    'random_crop': False,\n",
      "    'use_tanh_range': False}\n",
      "{   'background_generator': 'simple',\n",
      "    'background_generator_kwargs': {   'downscale_p_by': 12,\n",
      "                                       'hidden_size': 64,\n",
      "                                       'n_blocks': 4,\n",
      "                                       'skips': []},\n",
      "    'bounding_box_generator': 'simple',\n",
      "    'bounding_box_generator_kwargs': {},\n",
      "    'decoder': 'simple',\n",
      "    'decoder_kwargs': {},\n",
      "    'discriminator': 'dc',\n",
      "    'discriminator_kwargs': {},\n",
      "    'generator': 'simple',\n",
      "    'generator_kwargs': {},\n",
      "    'neural_renderer': 'simple',\n",
      "    'neural_renderer_kwargs': {},\n",
      "    'z_dim': 256,\n",
      "    'z_dim_bg': 128}\n"
     ]
    }
   ],
   "source": [
    "# read a YAML file as a dict.\n",
    "config_path = \"config.yaml\"\n",
    "with open(config_path, 'r') as f:\n",
    "    cfg = yaml.load(f, Loader=yaml.Loader)\n",
    "pp.pprint(cfg[\"method\"])\n",
    "pp.pprint(cfg[\"data\"])\n",
    "pp.pprint(cfg[\"model\"])"
   ]
  },
  {
   "cell_type": "code",
   "execution_count": 2,
   "metadata": {},
   "outputs": [
    {
     "name": "stdout",
     "output_type": "stream",
     "text": [
      "data:\n",
      "  celebA_center_crop: false\n",
      "  classes: []\n",
      "  dataset_name: images\n",
      "  fid_file: null\n",
      "  img_size: 64\n",
      "  path: data/comprehensive_cars/images/*.jpg\n",
      "  random_crop: false\n",
      "  use_tanh_range: false\n",
      "method: giraffe\n",
      "model:\n",
      "  background_generator: simple\n",
      "  background_generator_kwargs:\n",
      "    downscale_p_by: 12\n",
      "    hidden_size: 64\n",
      "    n_blocks: 4\n",
      "    skips: []\n",
      "  bounding_box_generator: simple\n",
      "  bounding_box_generator_kwargs: {}\n",
      "  decoder: simple\n",
      "  decoder_kwargs: {}\n",
      "  discriminator: dc\n",
      "  discriminator_kwargs: {}\n",
      "  generator: simple\n",
      "  generator_kwargs: {}\n",
      "  neural_renderer: simple\n",
      "  neural_renderer_kwargs: {}\n",
      "  z_dim: 256\n",
      "  z_dim_bg: 128\n",
      "\n"
     ]
    }
   ],
   "source": [
    "# save a dict as a YAML file\n",
    "\n",
    "config_path = \"test_config.yaml\"\n",
    "with open(config_path, 'w') as f:\n",
    "    yaml.dump(CONFIG, f, default_flow_style=False)\n",
    "with open(config_path, 'r') as f:\n",
    "    print(f.read())"
   ]
  },
  {
   "cell_type": "code",
   "execution_count": 11,
   "metadata": {},
   "outputs": [
    {
     "name": "stdout",
     "output_type": "stream",
     "text": [
      "{\"data\": {\"celebA_center_crop\": false, \"classes\": [], \"dataset_name\": \"images\", \"fid_file\": null, \"img_size\": 64, \"path\": \"data/comprehensive_cars/images/*.jpg\", \"random_crop\": false, \"use_tanh_range\": false}, \"method\": \"giraffe\", \"model\": {\"background_generator\": \"simple\", \"background_generator_kwargs\": {\"downscale_p_by\": 12, \"hidden_size\": 64, \"n_blocks\": 4, \"skips\": []}, \"bounding_box_generator\": \"simple\", \"bounding_box_generator_kwargs\": {}, \"decoder\": \"simple\", \"decoder_kwargs\": {}, \"discriminator\": \"dc\", \"discriminator_kwargs\": {}, \"generator\": \"simple\", \"generator_kwargs\": {}, \"neural_renderer\": \"simple\", \"neural_renderer_kwargs\": {}, \"z_dim\": 256, \"z_dim_bg\": 128}}\n"
     ]
    }
   ],
   "source": [
    "# save a dict as a JSON file\n",
    "# https://stackoverflow.com/questions/7100125/storing-python-dictionaries\n",
    "\n",
    "config_path = \"test_config.json\"\n",
    "with open(config_path, 'w') as f:\n",
    "    json.dump(CONFIG, f)\n",
    "with open(config_path, 'r') as f:\n",
    "    print(f.read())"
   ]
  },
  {
   "cell_type": "code",
   "execution_count": 27,
   "metadata": {},
   "outputs": [
    {
     "name": "stdout",
     "output_type": "stream",
     "text": [
      "{   'data': {'celebA_center_crop': False},\n",
      "    'method': 'giraffe',\n",
      "    'model': {'background_generator': 'simple'}}\n"
     ]
    }
   ],
   "source": [
    "# save a util.AttrDict as a JSON file\n",
    "\n",
    "cfg = util.AttrDict(\n",
    "    method='giraffe',\n",
    "    model={'background_generator': 'simple',},\n",
    "    data=util.AttrDict(celebA_center_crop=False)\n",
    ")\n",
    "config_path = \"test_config.json\"\n",
    "with open(config_path, 'w') as f:\n",
    "    json.dump(cfg, f)\n",
    "with open(config_path, 'r') as f:\n",
    "    d = json.load(f)\n",
    "    pp.pprint(d)"
   ]
  },
  {
   "cell_type": "code",
   "execution_count": 28,
   "metadata": {},
   "outputs": [
    {
     "name": "stdout",
     "output_type": "stream",
     "text": [
      "&id002 !!python/object/new:utility.AttrDict\n",
      "dictitems:\n",
      "  data: &id001 !!python/object/new:utility.AttrDict\n",
      "    dictitems:\n",
      "      celebA_center_crop: false\n",
      "    state: *id001\n",
      "  method: giraffe\n",
      "  model:\n",
      "    background_generator: simple\n",
      "state: *id002\n",
      "\n"
     ]
    }
   ],
   "source": [
    "# WARNING: it is NOT safe to save util.AttrDict or nested util.AttrDict as a YAML file\n",
    "# The objects are saved \n",
    "\n",
    "cfg = util.AttrDict(\n",
    "    method='giraffe',\n",
    "    model={'background_generator': 'simple',},\n",
    "    data=util.AttrDict(celebA_center_crop=False)\n",
    ")\n",
    "config_path = \"test_config.yaml\"\n",
    "with open(config_path, 'w') as f:\n",
    "    yaml.dump(cfg, f, default_flow_style=False)\n",
    "with open(config_path, 'r') as f:\n",
    "    print(f.read())"
   ]
  },
  {
   "cell_type": "code",
   "execution_count": 25,
   "metadata": {},
   "outputs": [
    {
     "data": {
      "text/plain": [
       "dict"
      ]
     },
     "execution_count": 25,
     "metadata": {},
     "output_type": "execute_result"
    }
   ],
   "source": [
    "type(dict(cfg))"
   ]
  },
  {
   "cell_type": "code",
   "execution_count": null,
   "metadata": {},
   "outputs": [],
   "source": []
  }
 ],
 "metadata": {
  "kernelspec": {
   "display_name": "Python 3",
   "language": "python",
   "name": "python3"
  },
  "language_info": {
   "codemirror_mode": {
    "name": "ipython",
    "version": 3
   },
   "file_extension": ".py",
   "mimetype": "text/x-python",
   "name": "python",
   "nbconvert_exporter": "python",
   "pygments_lexer": "ipython3",
   "version": "3.8.3"
  }
 },
 "nbformat": 4,
 "nbformat_minor": 4
}
