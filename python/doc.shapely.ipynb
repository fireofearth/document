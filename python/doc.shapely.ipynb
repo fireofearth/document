{
 "cells": [
  {
   "cell_type": "code",
   "execution_count": 1,
   "metadata": {},
   "outputs": [],
   "source": [
    "import shapely\n",
    "from shapely.geometry import MultiPolygon\n",
    "import numpy as np\n",
    "import matplotlib\n",
    "import matplotlib.patches\n",
    "import matplotlib.patches as patches\n",
    "import matplotlib.pyplot as plt\n",
    "import matplotlib.collections as mc\n",
    "from matplotlib.path import Path\n",
    "from matplotlib.patches import PathPatch\n",
    "\n",
    "import utility as util\n",
    "import utility.npu"
   ]
  },
  {
   "cell_type": "code",
   "execution_count": 2,
   "metadata": {},
   "outputs": [],
   "source": [
    "# https://sgillies.net/2010/04/06/painting-punctured-polygons-with-matplotlib.html\n",
    "# https://stackoverflow.com/questions/8919719/how-to-plot-a-complex-polygon\n",
    "\n",
    "def patchify(polys):\n",
    "    \"\"\"Returns a matplotlib patch representing the polygon with holes.\n",
    "\n",
    "    polys is an iterable (i.e list) of polygons, each polygon is a numpy array\n",
    "    of shape (2, N), where N is the number of points in each polygon. The first\n",
    "    polygon is assumed to be the exterior polygon and the rest are holes. The\n",
    "    first and last points of each polygon may or may not be the same.\n",
    "\n",
    "    This is inspired by\n",
    "    https://sgillies.net/2010/04/06/painting-punctured-polygons-with-matplotlib.html\n",
    "\n",
    "    Example usage:\n",
    "    ext = np.array([[-4, 4, 4, -4, -4], [-4, -4, 4, 4, -4]])\n",
    "    t = -np.linspace(0, 2 * np.pi)\n",
    "    hole1 = np.array([2 + 0.4 * np.cos(t), 2 + np.sin(t)])\n",
    "    hole2 = np.array([np.cos(t) * (1 + 0.2 * np.cos(4 * t + 1)),\n",
    "                      np.sin(t) * (1 + 0.2 * np.cos(4 * t))])\n",
    "    hole2 = np.array([-2 + np.cos(t) * (1 + 0.2 * np.cos(4 * t)),\n",
    "                      1 + np.sin(t) * (1 + 0.2 * np.cos(4 * t))])\n",
    "    hole3 = np.array([np.cos(t) * (1 + 0.5 * np.cos(4 * t)),\n",
    "                      -2 + np.sin(t)])\n",
    "    holes = [ext, hole1, hole2, hole3]\n",
    "    patch = patchify([ext, hole1, hole2, hole3])\n",
    "    ax = plt.gca()\n",
    "    ax.add_patch(patch)\n",
    "    ax.set_xlim([-6, 6])\n",
    "    ax.set_ylim([-6, 6])\n",
    "    \"\"\"\n",
    "\n",
    "    def reorder(poly, cw=True):\n",
    "        \"\"\"Reorders the polygon to run clockwise or counter-clockwise\n",
    "        according to the value of cw. It calculates whether a polygon is\n",
    "        cw or ccw by summing (x2-x1)*(y2+y1) for all edges of the polygon,\n",
    "        see https://stackoverflow.com/a/1165943/898213.\n",
    "        \"\"\"\n",
    "        # Close polygon if not closed\n",
    "        if not np.allclose(poly[:, 0], poly[:, -1]):\n",
    "            poly = np.c_[poly, poly[:, 0]]\n",
    "        direction = ((poly[0] - np.roll(poly[0], 1)) *\n",
    "                     (poly[1] + np.roll(poly[1], 1))).sum() < 0\n",
    "        if direction == cw:\n",
    "            return poly\n",
    "        else:\n",
    "            return poly[::-1]\n",
    "\n",
    "    def ring_coding(n):\n",
    "        \"\"\"Returns a list of len(n) of this format:\n",
    "        [MOVETO, LINETO, LINETO, ..., LINETO, LINETO CLOSEPOLY]\n",
    "        \"\"\"\n",
    "        codes = [Path.LINETO] * n\n",
    "        codes[0] = Path.MOVETO\n",
    "        codes[-1] = Path.CLOSEPOLY\n",
    "        return codes\n",
    "\n",
    "    ccw = [True] + ([False] * (len(polys) - 1))\n",
    "    polys = [reorder(poly, c) for poly, c in zip(polys, ccw)]\n",
    "    codes = np.concatenate([ring_coding(p.shape[1]) for p in polys])\n",
    "    vertices = np.concatenate(polys, axis=1)\n",
    "    return PathPatch(Path(vertices.T, codes))"
   ]
  },
  {
   "cell_type": "code",
   "execution_count": 3,
   "metadata": {},
   "outputs": [
    {
     "data": {
      "text/plain": [
       "(-6.0, 6.0)"
      ]
     },
     "execution_count": 3,
     "metadata": {},
     "output_type": "execute_result"
    },
    {
     "data": {
      "image/png": "[encoded data removed]",
      "text/plain": [
       "<Figure size 432x288 with 1 Axes>"
      ]
     },
     "metadata": {
      "needs_background": "light"
     },
     "output_type": "display_data"
    }
   ],
   "source": [
    "ext = np.array([[-4, 4, 4, -4, -4], [-4, -4, 4, 4, -4]])\n",
    "t = -np.linspace(0, 2 * np.pi)\n",
    "hole1 = np.array([2 + 0.4 * np.cos(t), 2 + np.sin(t)])\n",
    "hole2 = np.array([np.cos(t) * (1 + 0.2 * np.cos(4 * t + 1)),\n",
    "                  np.sin(t) * (1 + 0.2 * np.cos(4 * t))])\n",
    "hole2 = np.array([-2 + np.cos(t) * (1 + 0.2 * np.cos(4 * t)),\n",
    "                  1 + np.sin(t) * (1 + 0.2 * np.cos(4 * t))])\n",
    "hole3 = np.array([np.cos(t) * (1 + 0.5 * np.cos(4 * t)),\n",
    "                  -2 + np.sin(t)])\n",
    "holes = [ext, hole1, hole2, hole3]\n",
    "patch = patchify([ext, hole1, hole2, hole3])\n",
    "ax = plt.gca()\n",
    "ax.add_patch(patch)\n",
    "ax.set_xlim([-6, 6])\n",
    "ax.set_ylim([-6, 6])"
   ]
  },
  {
   "cell_type": "code",
   "execution_count": 4,
   "metadata": {},
   "outputs": [
    {
     "data": {
      "image/svg+xml": [
       "<svg xmlns=\"http://www.w3.org/2000/svg\" xmlns:xlink=\"http://www.w3.org/1999/xlink\" width=\"100.0\" height=\"100.0\" viewBox=\"-10.8 -10.8 21.6 21.6\" preserveAspectRatio=\"xMinYMin meet\"><g transform=\"matrix(1,0,0,-1,0,0.0)\"><path fill-rule=\"evenodd\" fill=\"#66cc99\" stroke=\"#555555\" stroke-width=\"0.43200000000000005\" opacity=\"0.6\" d=\"M 10.0,0.0 L 9.95184726672197,-0.980171403295605 L 9.807852804032306,-1.9509032201612808 L 9.56940335732209,-2.902846772544621 L 9.23879532511287,-3.826834323650894 L 8.819212643483553,-4.713967368259972 L 8.314696123025456,-5.555702330196017 L 7.730104533627374,-6.343932841636449 L 7.071067811865481,-7.071067811865469 L 6.343932841636462,-7.7301045336273635 L 5.555702330196031,-8.314696123025447 L 4.713967368259986,-8.819212643483546 L 3.8268343236509086,-9.238795325112862 L 2.902846772544636,-9.569403357322084 L 1.9509032201612964,-9.807852804032303 L 0.9801714032956209,-9.951847266721966 L 1.6155445744325867e-14,-10.0 L -0.9801714032955888,-9.95184726672197 L -1.9509032201612646,-9.807852804032308 L -2.902846772544605,-9.569403357322093 L -3.8268343236508784,-9.238795325112875 L -4.713967368259957,-8.81921264348356 L -5.555702330196005,-8.314696123025463 L -6.343932841636439,-7.730104533627382 L -7.071067811865462,-7.071067811865488 L -7.730104533627359,-6.343932841636468 L -8.314696123025444,-5.555702330196036 L -8.819212643483542,-4.71396736825999 L -9.238795325112862,-3.8268343236509113 L -9.569403357322084,-2.9028467725446365 L -9.807852804032303,-1.9509032201612948 L -9.951847266721968,-0.9801714032956171 L -10.0,-1.0106430996148605e-14 L -9.95184726672197,0.980171403295597 L -9.807852804032306,1.950903220161275 L -9.569403357322091,2.902846772544617 L -9.23879532511287,3.826834323650892 L -8.819212643483553,4.713967368259972 L -8.314696123025454,5.55570233019602 L -7.730104533627371,6.343932841636453 L -7.071067811865477,7.071067811865475 L -6.343932841636459,7.730104533627367 L -5.55570233019603,8.314696123025447 L -4.713967368259987,8.819212643483546 L -3.8268343236509117,9.238795325112862 L -2.902846772544641,9.569403357322084 L -1.9509032201613041,9.8078528040323 L -0.980171403295631,9.951847266721966 L -2.848232278972479e-14,10.0 L 0.9801714032955743,9.951847266721972 L 1.9509032201612482,9.807852804032311 L 2.902846772544587,9.569403357322098 L 3.826834323650859,9.238795325112884 L 4.713967368259937,8.81921264348357 L 5.555702330195982,8.31469612302548 L 6.3439328416364145,7.730104533627403 L 7.0710678118654355,7.071067811865515 L 7.730104533627332,6.343932841636501 L 8.314696123025417,5.555702330196074 L 8.81921264348352,4.713967368260034 L 9.238795325112841,3.826834323650962 L 9.569403357322066,2.9028467725446925 L 9.80785280403229,1.950903220161357 L 9.95184726672196,0.9801714032956848 L 10.0,8.238535137130597e-14 L 10.0,0.0 z\" /></g></svg>"
      ],
      "text/plain": [
       "<shapely.geometry.polygon.Polygon at 0x7f2455bcb2b0>"
      ]
     },
     "execution_count": 4,
     "metadata": {},
     "output_type": "execute_result"
    }
   ],
   "source": [
    "# Creating a circle of radius R\n",
    "r = 10\n",
    "shapely.geometry.Point(0, 0).buffer(r)"
   ]
  },
  {
   "cell_type": "code",
   "execution_count": 2,
   "metadata": {},
   "outputs": [
    {
     "name": "stdout",
     "output_type": "stream",
     "text": [
      "length of line is 12.073316755409015\n",
      "[[ 3.          0.        ]\n",
      " [ 3.8961922   1.11111111]\n",
      " [ 3.79522006  2.22222222]\n",
      " [ 2.80943204  3.33333333]\n",
      " [ 2.03568288  4.44444444]\n",
      " [ 2.33489849  5.55555556]\n",
      " [ 3.37415123  6.66666667]\n",
      " [ 3.99709789  7.77777778]\n",
      " [ 3.51060568  8.88888889]\n",
      " [ 2.45597889 10.        ]]\n"
     ]
    },
    {
     "data": {
      "image/svg+xml": [
       "<svg xmlns=\"http://www.w3.org/2000/svg\" xmlns:xlink=\"http://www.w3.org/1999/xlink\" width=\"100.0\" height=\"100.0\" viewBox=\"1.635682883071222 -0.4 2.7614150078726527 10.8\" preserveAspectRatio=\"xMinYMin meet\"><g transform=\"matrix(1,0,0,-1,0,10.0)\"><polyline fill=\"none\" stroke=\"#66cc99\" stroke-width=\"0.21600000000000003\" points=\"3.0,0.0 3.8961922010299563,1.1111111111111112 3.795220057023049,2.2222222222222223 2.8094320371245147,3.3333333333333335 2.035682883071222,4.444444444444445 2.334898485021178,5.555555555555555 3.37415123057122,6.666666666666667 3.997097890943875,7.777777777777779 3.510605678474283,8.88888888888889 2.4559788891106304,10.0\" opacity=\"0.8\" /></g></svg>"
      ],
      "text/plain": [
       "<shapely.geometry.linestring.LineString at 0x7fce04f4dac0>"
      ]
     },
     "execution_count": 2,
     "metadata": {},
     "output_type": "execute_result"
    }
   ],
   "source": [
    "N = 10\n",
    "L = 10\n",
    "Y = np.linspace(0, L, N)\n",
    "X = np.sin(Y) + 3\n",
    "# plt.plot(X, Y, '-go')\n",
    "pos = np.stack((X, Y), axis=-1)\n",
    "\n",
    "sls = shapely.geometry.LineString(pos)\n",
    "print('length of line is', sls.length)\n",
    "print(np.array(sls.coords))\n",
    "sls"
   ]
  },
  {
   "cell_type": "markdown",
   "metadata": {},
   "source": [
    "MultiPolygon takes in as arguments:\n",
    "```\n",
    "MultiPolygon([POLYGON,...])\n",
    "POLYGON := [EXTERIOR, INTERIORS] ; represents a polygon\n",
    "EXTERIOR := np.ndarray of shape (n points, 2) or list of tuple; represents the exterior boundary.\n",
    "INTERIORS := [INTERIOR,...] ; represents polygon's interiors\n",
    "INTERIOR := np.ndarray of shape (n points, 2) or list of tuple; represents an interior boundary\n",
    "```"
   ]
  },
  {
   "cell_type": "code",
   "execution_count": 46,
   "metadata": {},
   "outputs": [
    {
     "data": {
      "image/svg+xml": [
       "<svg xmlns=\"http://www.w3.org/2000/svg\" xmlns:xlink=\"http://www.w3.org/1999/xlink\" width=\"100.0\" height=\"100.0\" viewBox=\"-0.48 -0.48 12.96 12.96\" preserveAspectRatio=\"xMinYMin meet\"><g transform=\"matrix(1,0,0,-1,0,12.0)\"><g><path fill-rule=\"evenodd\" fill=\"#66cc99\" stroke=\"#555555\" stroke-width=\"0.25920000000000004\" opacity=\"0.6\" d=\"M 0.0,0.0 L 0.0,6.0 L 6.0,6.0 L 6.0,0.0 L 0.0,0.0 z M 1.0,1.0 L 2.0,1.0 L 2.0,2.0 L 1.0,2.0 L 1.0,1.0 z M 3.0,3.0 L 5.0,3.0 L 5.0,5.0 L 3.0,5.0 L 3.0,3.0 z\" /><path fill-rule=\"evenodd\" fill=\"#66cc99\" stroke=\"#555555\" stroke-width=\"0.25920000000000004\" opacity=\"0.6\" d=\"M 6.0,6.0 L 12.0,6.0 L 9.0,12.0 L 6.0,6.0 z\" /></g></g></svg>"
      ],
      "text/plain": [
       "<shapely.geometry.multipolygon.MultiPolygon at 0x7fb1e6b1de80>"
      ]
     },
     "execution_count": 46,
     "metadata": {},
     "output_type": "execute_result"
    }
   ],
   "source": [
    "exterior1 = np.array([[0,0], [0,6], [6,6], [6,0]])\n",
    "exterior2 = np.array([[6,6],[12,6],[9,12]])\n",
    "interior11 = np.array([[1,1],[2,1],[2,2],[1,2]])\n",
    "interior12 = np.array([[3,3],[5,3],[5,5],[3,5]])\n",
    "smpoly = MultiPolygon([[exterior1, [interior11, interior12]], [exterior2, []]])\n",
    "smpoly"
   ]
  },
  {
   "cell_type": "code",
   "execution_count": 47,
   "metadata": {},
   "outputs": [
    {
     "data": {
      "image/png": "[encoded data removed]",
      "text/plain": [
       "<Figure size 432x288 with 1 Axes>"
      ]
     },
     "metadata": {
      "needs_background": "light"
     },
     "output_type": "display_data"
    }
   ],
   "source": [
    "# Plotting a multi-polygon by accessing it's exterior and interior boundaries.\n",
    "for polygon in smpoly: # same as iterating over smpoly.geoms\n",
    "    # plot the exterior of the polygons\n",
    "    X = np.stack(polygon.exterior.xy)\n",
    "    plt.plot(X[0], X[1], '-bo')\n",
    "    for interior in polygon.interiors:\n",
    "        # plot the interior of the polygons\n",
    "        X = np.stack(interior.xy)\n",
    "        plt.plot(X[0], X[1], '-ro')\n",
    "ax = plt.gca()\n",
    "ax.set_aspect('equal')"
   ]
  },
  {
   "cell_type": "code",
   "execution_count": 48,
   "metadata": {},
   "outputs": [
    {
     "data": {
      "image/png": "[encoded data removed]",
      "text/plain": [
       "<Figure size 432x288 with 1 Axes>"
      ]
     },
     "metadata": {
      "needs_background": "light"
     },
     "output_type": "display_data"
    }
   ],
   "source": [
    "ax = plt.gca()\n",
    "for polygon in smpoly:\n",
    "    exterior = np.stack(polygon.exterior.xy)\n",
    "    polys = [exterior]\n",
    "    for interior in polygon.interiors:\n",
    "        # plot the interior of the polygons\n",
    "        interior = np.stack(interior.xy)\n",
    "        polys.append(interior)\n",
    "    \n",
    "    patch = patchify(polys)\n",
    "    ax.add_patch(patch)\n",
    "\n",
    "ax.set_xlim([-1, 13])\n",
    "ax.set_ylim([-1, 13])\n",
    "ax.set_aspect('equal')"
   ]
  },
  {
   "cell_type": "code",
   "execution_count": 77,
   "metadata": {},
   "outputs": [
    {
     "name": "stdout",
     "output_type": "stream",
     "text": [
      "Non-empty intersection with red polygons? False\n",
      "Non-empty intersection with orange polygons? True\n"
     ]
    },
    {
     "data": {
      "image/png": "[encoded data removed]",
      "text/plain": [
       "<Figure size 432x288 with 1 Axes>"
      ]
     },
     "metadata": {
      "needs_background": "light"
     },
     "output_type": "display_data"
    }
   ],
   "source": [
    "# Using Shapely to check for point containment for polygons.\n",
    "\n",
    "N = 20\n",
    "X = np.linspace(0, 5, N)\n",
    "Y = np.linspace(0, 10, N)\n",
    "X, Y = np.meshgrid(X, Y)\n",
    "pos = np.stack((X, Y), axis=-1).reshape(-1, 2)\n",
    "smp = shapely.geometry.MultiPoint(pos)\n",
    "\n",
    "poly1 = np.array([[2,2], [2,4], [4,4], [4,2]])\n",
    "spoly1 = shapely.geometry.Polygon(poly1)\n",
    "poly2 = np.array([[4,4], [6,6], [4,8], [2,6]])\n",
    "spoly2 = shapely.geometry.Polygon(poly2)\n",
    "\n",
    "poly3 = np.array([[6,0], [7,0], [7,1], [6,1]])\n",
    "spoly3 = shapely.geometry.Polygon(poly3)\n",
    "poly4 = np.array([[7,1], [9,1], [9,9], [7,9]])\n",
    "spoly4 = shapely.geometry.Polygon(poly4)\n",
    "\n",
    "smpoly1 = shapely.geometry.MultiPolygon((spoly1,spoly2))\n",
    "res_intersection_smpoly1 = smp.intersection(smpoly1)\n",
    "X = util.map_to_ndarray(lambda p: p.coords[0], res_intersection_smpoly1.geoms)\n",
    "X = X.T\n",
    "plt.scatter(X[0], X[1], color='b', s=2)\n",
    "\n",
    "res = smp.difference(smpoly1)\n",
    "X = util.map_to_ndarray(lambda p: p.coords[0], res.geoms)\n",
    "X = X.T\n",
    "plt.scatter(X[0], X[1], color='g', s=2)\n",
    "\n",
    "smpoly2 = shapely.geometry.MultiPolygon((spoly3,spoly4))\n",
    "res_intersection_smpoly2 = smp.intersection(smpoly2)\n",
    "\n",
    "ax = plt.gca()\n",
    "ax.set_aspect('equal')\n",
    "\n",
    "patch = patches.Polygon(poly1, closed=True, color='r', fc='none')\n",
    "ax.add_patch(patch)\n",
    "patch = patches.Polygon(poly2, closed=True, color='r', fc='none')\n",
    "ax.add_patch(patch)\n",
    "\n",
    "patch = patches.Polygon(poly3, closed=True, color='orange', fc='none')\n",
    "ax.add_patch(patch)\n",
    "patch = patches.Polygon(poly4, closed=True, color='orange', fc='none')\n",
    "ax.add_patch(patch)\n",
    "ax.set_xlim([-1, 11])\n",
    "ax.set_ylim([-1, 11])\n",
    "\n",
    "print(\"Non-empty intersection with red polygons?\", res_intersection_smpoly1.is_empty)\n",
    "print(\"Non-empty intersection with orange polygons?\", res_intersection_smpoly2.is_empty)"
   ]
  },
  {
   "cell_type": "code",
   "execution_count": 85,
   "metadata": {},
   "outputs": [
    {
     "name": "stdout",
     "output_type": "stream",
     "text": [
      "Non-empty intersection with red polygons? False\n",
      "Non-empty intersection with orange polygons? True\n"
     ]
    },
    {
     "data": {
      "image/png": "[encoded data removed]",
      "text/plain": [
       "<Figure size 432x288 with 1 Axes>"
      ]
     },
     "metadata": {
      "needs_background": "light"
     },
     "output_type": "display_data"
    }
   ],
   "source": [
    "# Using Shapely to check for line containment for polygons.\n",
    "\n",
    "N = 10\n",
    "Y = np.linspace(0, 10, N)\n",
    "X = np.sin(Y) + 3\n",
    "# plt.plot(X, Y, '-go')\n",
    "pos = np.stack((X, Y), axis=-1)\n",
    "\n",
    "sls = shapely.geometry.LineString(pos)\n",
    "\n",
    "poly1 = np.array([[2,2], [2,4], [4,4], [4,2]])\n",
    "poly2 = np.array([[4,4], [6,6], [4,8], [2,6]])\n",
    "\n",
    "poly3 = np.array([[6,0], [7,0], [7,1], [6,1]])\n",
    "poly4 = np.array([[7,1], [9,1], [9,9], [7,9]])\n",
    "\n",
    "smpoly1 = shapely.geometry.MultiPolygon([(poly1, []), (poly2, [])])\n",
    "smpoly2 = shapely.geometry.MultiPolygon([(poly3, []), (poly4, [])])\n",
    "\n",
    "res_intersection_smpoly1 = sls.intersection(smpoly1)\n",
    "for _sls in res_intersection_smpoly1.geoms:\n",
    "    X = np.array(_sls.coords).T\n",
    "    plt.plot(X[0], X[1], color='b')\n",
    "\n",
    "res = sls.difference(smpoly1)\n",
    "for _sls in res.geoms:\n",
    "    X = np.array(_sls.coords).T\n",
    "    plt.plot(X[0], X[1], color='g')\n",
    "\n",
    "smpoly2 = shapely.geometry.MultiPolygon((spoly3,spoly4))\n",
    "res_intersection_smpoly2 = sls.intersection(smpoly2)\n",
    "    \n",
    "ax = plt.gca()\n",
    "patch = patches.Polygon(poly1, closed=True, color='r', fc='none')\n",
    "ax.add_patch(patch)\n",
    "patch = patches.Polygon(poly2, closed=True, color='r', fc='none')\n",
    "ax.add_patch(patch)\n",
    "\n",
    "patch = patches.Polygon(poly3, closed=True, color='orange', fc='none')\n",
    "ax.add_patch(patch)\n",
    "patch = patches.Polygon(poly4, closed=True, color='orange', fc='none')\n",
    "ax.add_patch(patch)\n",
    "ax.set_xlim([-1, 11])\n",
    "ax.set_ylim([-1, 11])\n",
    "ax.set_aspect('equal')\n",
    "\n",
    "print(\"Non-empty intersection with red polygons?\", res_intersection_smpoly1.is_empty)\n",
    "print(\"Non-empty intersection with orange polygons?\", res_intersection_smpoly2.is_empty)"
   ]
  },
  {
   "cell_type": "code",
   "execution_count": 15,
   "metadata": {},
   "outputs": [
    {
     "data": {
      "image/png": "[encoded data removed]",
      "text/plain": [
       "<Figure size 432x288 with 1 Axes>"
      ]
     },
     "metadata": {
      "needs_background": "light"
     },
     "output_type": "display_data"
    }
   ],
   "source": [
    "# Using Shapely to check for point containment for circles.\n",
    "\n",
    "N = 20\n",
    "X = np.linspace(0, 5, N)\n",
    "Y = np.linspace(0, 10, N)\n",
    "X, Y = np.meshgrid(X, Y)\n",
    "pos = np.stack((X, Y), axis=-1).reshape(-1, 2)\n",
    "smp = shapely.geometry.MultiPoint(pos)\n",
    "\n",
    "r = 4\n",
    "circle = shapely.geometry.Point(2, 2).buffer(r)\n",
    "x, y = circle.exterior.coords.xy\n",
    "plt.plot(x, y, color='r')\n",
    "\n",
    "res = smp.intersection(circle)\n",
    "X = util.map_to_ndarray(lambda p: p.coords[0], res.geoms)\n",
    "X = X.T\n",
    "plt.scatter(X[0], X[1], color='b', s=2)\n",
    "\n",
    "ax = plt.gca()\n",
    "ax.set_aspect('equal')"
   ]
  },
  {
   "cell_type": "code",
   "execution_count": 36,
   "metadata": {},
   "outputs": [
    {
     "data": {
      "image/png": "[encoded data removed]",
      "text/plain": [
       "<Figure size 432x288 with 1 Axes>"
      ]
     },
     "metadata": {
      "needs_background": "light"
     },
     "output_type": "display_data"
    }
   ],
   "source": [
    "# Polytope intersections\n",
    "\n",
    "theta = np.pi / 4\n",
    "M = util.npu.rotation_2d(theta)\n",
    "loc = np.random.uniform(low=-5, high=5, size=2)\n",
    "l_r_u_d = np.array([\n",
    "    [-1,  0],\n",
    "    [ 1,  0],\n",
    "    [ 0,  1],\n",
    "    [ 0, -1],\n",
    "])\n",
    "scales = np.random.uniform(low=1, high=5, size=4)\n",
    "l_r_u_d = (l_r_u_d.T * scales).T @ M.T\n",
    "l, r, u, d = l_r_u_d\n",
    "vertices = np.stack((loc + l, loc + r, loc + u, loc + d,))\n",
    "# shapely shapes require ordered vertices\n",
    "vertices = util.npu.order_polytope_vertices(vertices)\n",
    "forbidden = shapely.geometry.Polygon(vertices)\n",
    "\n",
    "# fig, axes = plt.subplots(1, 2, figsize=(12, 5))\n",
    "# axes = axes.ravel()\n",
    "# ax = axes[0]\n",
    "ax = plt.gca()\n",
    "ax.plot(*forbidden.exterior.coords.xy, \"-ro\")\n",
    "\n",
    "# produce a a grid of 2D points covering the grid as shape (N^2, 2)\n",
    "X = np.linspace(-5, 5, 7)\n",
    "X = np.stack(np.meshgrid(X, X)).reshape(2, -1).T\n",
    "\n",
    "for shift in X:\n",
    "    vertices = np.array([[0, 0], [1, 0], [1, 1], [0, 1]]) + shift\n",
    "    box = shapely.geometry.Polygon(vertices)\n",
    "    intersection = forbidden.intersection(box)\n",
    "    if intersection.is_empty:\n",
    "        ax.plot(*box.exterior.coords.xy, \"-bo\")\n",
    "    else:\n",
    "        ax.plot(*box.exterior.coords.xy, \"-yo\")"
   ]
  },
  {
   "cell_type": "code",
   "execution_count": null,
   "metadata": {},
   "outputs": [],
   "source": []
  }
 ],
 "metadata": {
  "kernelspec": {
   "display_name": "Python 3",
   "language": "python",
   "name": "python3"
  },
  "language_info": {
   "codemirror_mode": {
    "name": "ipython",
    "version": 3
   },
   "file_extension": ".py",
   "mimetype": "text/x-python",
   "name": "python",
   "nbconvert_exporter": "python",
   "pygments_lexer": "ipython3",
   "version": "3.8.3"
  }
 },
 "nbformat": 4,
 "nbformat_minor": 4
}
