{
 "cells": [
  {
   "cell_type": "code",
   "execution_count": 43,
   "metadata": {},
   "outputs": [],
   "source": [
    "import shapely\n",
    "from shapely.geometry import MultiPolygon\n",
    "import numpy as np\n",
    "import matplotlib\n",
    "import matplotlib.patches\n",
    "import matplotlib.patches as patches\n",
    "import matplotlib.pyplot as plt\n",
    "import matplotlib.collections as mc\n",
    "from matplotlib.path import Path\n",
    "from matplotlib.patches import PathPatch\n",
    "\n",
    "import utility as util"
   ]
  },
  {
   "cell_type": "code",
   "execution_count": 44,
   "metadata": {},
   "outputs": [],
   "source": [
    "# https://sgillies.net/2010/04/06/painting-punctured-polygons-with-matplotlib.html\n",
    "# https://stackoverflow.com/questions/8919719/how-to-plot-a-complex-polygon\n",
    "\n",
    "def patchify(polys):\n",
    "    \"\"\"Returns a matplotlib patch representing the polygon with holes.\n",
    "\n",
    "    polys is an iterable (i.e list) of polygons, each polygon is a numpy array\n",
    "    of shape (2, N), where N is the number of points in each polygon. The first\n",
    "    polygon is assumed to be the exterior polygon and the rest are holes. The\n",
    "    first and last points of each polygon may or may not be the same.\n",
    "\n",
    "    This is inspired by\n",
    "    https://sgillies.net/2010/04/06/painting-punctured-polygons-with-matplotlib.html\n",
    "\n",
    "    Example usage:\n",
    "    ext = np.array([[-4, 4, 4, -4, -4], [-4, -4, 4, 4, -4]])\n",
    "    t = -np.linspace(0, 2 * np.pi)\n",
    "    hole1 = np.array([2 + 0.4 * np.cos(t), 2 + np.sin(t)])\n",
    "    hole2 = np.array([np.cos(t) * (1 + 0.2 * np.cos(4 * t + 1)),\n",
    "                      np.sin(t) * (1 + 0.2 * np.cos(4 * t))])\n",
    "    hole2 = np.array([-2 + np.cos(t) * (1 + 0.2 * np.cos(4 * t)),\n",
    "                      1 + np.sin(t) * (1 + 0.2 * np.cos(4 * t))])\n",
    "    hole3 = np.array([np.cos(t) * (1 + 0.5 * np.cos(4 * t)),\n",
    "                      -2 + np.sin(t)])\n",
    "    holes = [ext, hole1, hole2, hole3]\n",
    "    patch = patchify([ext, hole1, hole2, hole3])\n",
    "    ax = plt.gca()\n",
    "    ax.add_patch(patch)\n",
    "    ax.set_xlim([-6, 6])\n",
    "    ax.set_ylim([-6, 6])\n",
    "    \"\"\"\n",
    "\n",
    "    def reorder(poly, cw=True):\n",
    "        \"\"\"Reorders the polygon to run clockwise or counter-clockwise\n",
    "        according to the value of cw. It calculates whether a polygon is\n",
    "        cw or ccw by summing (x2-x1)*(y2+y1) for all edges of the polygon,\n",
    "        see https://stackoverflow.com/a/1165943/898213.\n",
    "        \"\"\"\n",
    "        # Close polygon if not closed\n",
    "        if not np.allclose(poly[:, 0], poly[:, -1]):\n",
    "            poly = np.c_[poly, poly[:, 0]]\n",
    "        direction = ((poly[0] - np.roll(poly[0], 1)) *\n",
    "                     (poly[1] + np.roll(poly[1], 1))).sum() < 0\n",
    "        if direction == cw:\n",
    "            return poly\n",
    "        else:\n",
    "            return poly[::-1]\n",
    "\n",
    "    def ring_coding(n):\n",
    "        \"\"\"Returns a list of len(n) of this format:\n",
    "        [MOVETO, LINETO, LINETO, ..., LINETO, LINETO CLOSEPOLY]\n",
    "        \"\"\"\n",
    "        codes = [Path.LINETO] * n\n",
    "        codes[0] = Path.MOVETO\n",
    "        codes[-1] = Path.CLOSEPOLY\n",
    "        return codes\n",
    "\n",
    "    ccw = [True] + ([False] * (len(polys) - 1))\n",
    "    polys = [reorder(poly, c) for poly, c in zip(polys, ccw)]\n",
    "    codes = np.concatenate([ring_coding(p.shape[1]) for p in polys])\n",
    "    vertices = np.concatenate(polys, axis=1)\n",
    "    return PathPatch(Path(vertices.T, codes))"
   ]
  },
  {
   "cell_type": "code",
   "execution_count": 45,
   "metadata": {},
   "outputs": [
    {
     "data": {
      "text/plain": [
       "(-6.0, 6.0)"
      ]
     },
     "execution_count": 45,
     "metadata": {},
     "output_type": "execute_result"
    },
    {
     "data": {
      "image/png": "[encoded data removed]",
      "text/plain": [
       "<Figure size 432x288 with 1 Axes>"
      ]
     },
     "metadata": {
      "needs_background": "light"
     },
     "output_type": "display_data"
    }
   ],
   "source": [
    "ext = np.array([[-4, 4, 4, -4, -4], [-4, -4, 4, 4, -4]])\n",
    "t = -np.linspace(0, 2 * np.pi)\n",
    "hole1 = np.array([2 + 0.4 * np.cos(t), 2 + np.sin(t)])\n",
    "hole2 = np.array([np.cos(t) * (1 + 0.2 * np.cos(4 * t + 1)),\n",
    "                  np.sin(t) * (1 + 0.2 * np.cos(4 * t))])\n",
    "hole2 = np.array([-2 + np.cos(t) * (1 + 0.2 * np.cos(4 * t)),\n",
    "                  1 + np.sin(t) * (1 + 0.2 * np.cos(4 * t))])\n",
    "hole3 = np.array([np.cos(t) * (1 + 0.5 * np.cos(4 * t)),\n",
    "                  -2 + np.sin(t)])\n",
    "holes = [ext, hole1, hole2, hole3]\n",
    "patch = patchify([ext, hole1, hole2, hole3])\n",
    "ax = plt.gca()\n",
    "ax.add_patch(patch)\n",
    "ax.set_xlim([-6, 6])\n",
    "ax.set_ylim([-6, 6])"
   ]
  },
  {
   "cell_type": "markdown",
   "metadata": {},
   "source": [
    "MultiPolygon takes in as arguments:\n",
    "```\n",
    "MultiPolygon([POLYGON,...])\n",
    "POLYGON := [EXTERIOR, INTERIORS] ; represents a polygon\n",
    "EXTERIOR := np.ndarray of shape (n points, 2) or list of tuple; represents the exterior boundary.\n",
    "INTERIORS := [INTERIOR,...] ; represents polygon's interiors\n",
    "INTERIOR := np.ndarray of shape (n points, 2) or list of tuple; represents an interior boundary\n",
    "```"
   ]
  },
  {
   "cell_type": "code",
   "execution_count": 46,
   "metadata": {},
   "outputs": [
    {
     "data": {
      "image/svg+xml": [
       "<svg xmlns=\"http://www.w3.org/2000/svg\" xmlns:xlink=\"http://www.w3.org/1999/xlink\" width=\"100.0\" height=\"100.0\" viewBox=\"-0.48 -0.48 12.96 12.96\" preserveAspectRatio=\"xMinYMin meet\"><g transform=\"matrix(1,0,0,-1,0,12.0)\"><g><path fill-rule=\"evenodd\" fill=\"#66cc99\" stroke=\"#555555\" stroke-width=\"0.25920000000000004\" opacity=\"0.6\" d=\"M 0.0,0.0 L 0.0,6.0 L 6.0,6.0 L 6.0,0.0 L 0.0,0.0 z M 1.0,1.0 L 2.0,1.0 L 2.0,2.0 L 1.0,2.0 L 1.0,1.0 z M 3.0,3.0 L 5.0,3.0 L 5.0,5.0 L 3.0,5.0 L 3.0,3.0 z\" /><path fill-rule=\"evenodd\" fill=\"#66cc99\" stroke=\"#555555\" stroke-width=\"0.25920000000000004\" opacity=\"0.6\" d=\"M 6.0,6.0 L 12.0,6.0 L 9.0,12.0 L 6.0,6.0 z\" /></g></g></svg>"
      ],
      "text/plain": [
       "<shapely.geometry.multipolygon.MultiPolygon at 0x7fb1e6b1de80>"
      ]
     },
     "execution_count": 46,
     "metadata": {},
     "output_type": "execute_result"
    }
   ],
   "source": [
    "exterior1 = np.array([[0,0], [0,6], [6,6], [6,0]])\n",
    "exterior2 = np.array([[6,6],[12,6],[9,12]])\n",
    "interior11 = np.array([[1,1],[2,1],[2,2],[1,2]])\n",
    "interior12 = np.array([[3,3],[5,3],[5,5],[3,5]])\n",
    "smpoly = MultiPolygon([[exterior1, [interior11, interior12]], [exterior2, []]])\n",
    "smpoly"
   ]
  },
  {
   "cell_type": "code",
   "execution_count": 47,
   "metadata": {},
   "outputs": [
    {
     "data": {
      "image/png": "[encoded data removed]",
      "text/plain": [
       "<Figure size 432x288 with 1 Axes>"
      ]
     },
     "metadata": {
      "needs_background": "light"
     },
     "output_type": "display_data"
    }
   ],
   "source": [
    "# Plotting a multi-polygon by accessing it's exterior and interior boundaries.\n",
    "for polygon in smpoly: # same as iterating over smpoly.geoms\n",
    "    # plot the exterior of the polygons\n",
    "    X = np.stack(polygon.exterior.xy)\n",
    "    plt.plot(X[0], X[1], '-bo')\n",
    "    for interior in polygon.interiors:\n",
    "        # plot the interior of the polygons\n",
    "        X = np.stack(interior.xy)\n",
    "        plt.plot(X[0], X[1], '-ro')\n",
    "ax = plt.gca()\n",
    "ax.set_aspect('equal')"
   ]
  },
  {
   "cell_type": "code",
   "execution_count": 48,
   "metadata": {},
   "outputs": [
    {
     "data": {
      "image/png": "[encoded data removed]",
      "text/plain": [
       "<Figure size 432x288 with 1 Axes>"
      ]
     },
     "metadata": {
      "needs_background": "light"
     },
     "output_type": "display_data"
    }
   ],
   "source": [
    "ax = plt.gca()\n",
    "for polygon in smpoly:\n",
    "    exterior = np.stack(polygon.exterior.xy)\n",
    "    polys = [exterior]\n",
    "    for interior in polygon.interiors:\n",
    "        # plot the interior of the polygons\n",
    "        interior = np.stack(interior.xy)\n",
    "        polys.append(interior)\n",
    "    \n",
    "    patch = patchify(polys)\n",
    "    ax.add_patch(patch)\n",
    "\n",
    "ax.set_xlim([-1, 13])\n",
    "ax.set_ylim([-1, 13])\n",
    "ax.set_aspect('equal')"
   ]
  },
  {
   "cell_type": "code",
   "execution_count": 77,
   "metadata": {},
   "outputs": [
    {
     "name": "stdout",
     "output_type": "stream",
     "text": [
      "Non-empty intersection with red polygons? False\n",
      "Non-empty intersection with orange polygons? True\n"
     ]
    },
    {
     "data": {
      "image/png": "[encoded data removed]",
      "text/plain": [
       "<Figure size 432x288 with 1 Axes>"
      ]
     },
     "metadata": {
      "needs_background": "light"
     },
     "output_type": "display_data"
    }
   ],
   "source": [
    "# Using Shapely to check for point containment for polygons.\n",
    "\n",
    "N = 20\n",
    "X = np.linspace(0, 5, N)\n",
    "Y = np.linspace(0, 10, N)\n",
    "X, Y = np.meshgrid(X, Y)\n",
    "pos = np.stack((X, Y), axis=-1).reshape(-1, 2)\n",
    "smp = shapely.geometry.MultiPoint(pos)\n",
    "\n",
    "poly1 = np.array([[2,2], [2,4], [4,4], [4,2]])\n",
    "spoly1 = shapely.geometry.Polygon(poly1)\n",
    "poly2 = np.array([[4,4], [6,6], [4,8], [2,6]])\n",
    "spoly2 = shapely.geometry.Polygon(poly2)\n",
    "\n",
    "poly3 = np.array([[6,0], [7,0], [7,1], [6,1]])\n",
    "spoly3 = shapely.geometry.Polygon(poly3)\n",
    "poly4 = np.array([[7,1], [9,1], [9,9], [7,9]])\n",
    "spoly4 = shapely.geometry.Polygon(poly4)\n",
    "\n",
    "smpoly1 = shapely.geometry.MultiPolygon((spoly1,spoly2))\n",
    "res_intersection_smpoly1 = smp.intersection(smpoly1)\n",
    "X = util.map_to_ndarray(lambda p: p.coords[0], res_intersection_smpoly1.geoms)\n",
    "X = X.T\n",
    "plt.scatter(X[0], X[1], color='b', s=2)\n",
    "\n",
    "res = smp.difference(smpoly1)\n",
    "X = util.map_to_ndarray(lambda p: p.coords[0], res.geoms)\n",
    "X = X.T\n",
    "plt.scatter(X[0], X[1], color='g', s=2)\n",
    "\n",
    "smpoly2 = shapely.geometry.MultiPolygon((spoly3,spoly4))\n",
    "res_intersection_smpoly2 = smp.intersection(smpoly2)\n",
    "\n",
    "ax = plt.gca()\n",
    "ax.set_aspect('equal')\n",
    "\n",
    "patch = patches.Polygon(poly1, closed=True, color='r', fc='none')\n",
    "ax.add_patch(patch)\n",
    "patch = patches.Polygon(poly2, closed=True, color='r', fc='none')\n",
    "ax.add_patch(patch)\n",
    "\n",
    "patch = patches.Polygon(poly3, closed=True, color='orange', fc='none')\n",
    "ax.add_patch(patch)\n",
    "patch = patches.Polygon(poly4, closed=True, color='orange', fc='none')\n",
    "ax.add_patch(patch)\n",
    "ax.set_xlim([-1, 11])\n",
    "ax.set_ylim([-1, 11])\n",
    "\n",
    "print(\"Non-empty intersection with red polygons?\", res_intersection_smpoly1.is_empty)\n",
    "print(\"Non-empty intersection with orange polygons?\", res_intersection_smpoly2.is_empty)"
   ]
  },
  {
   "cell_type": "code",
   "execution_count": 85,
   "metadata": {},
   "outputs": [
    {
     "name": "stdout",
     "output_type": "stream",
     "text": [
      "Non-empty intersection with red polygons? False\n",
      "Non-empty intersection with orange polygons? True\n"
     ]
    },
    {
     "data": {
      "image/png": "[encoded data removed]",
      "text/plain": [
       "<Figure size 432x288 with 1 Axes>"
      ]
     },
     "metadata": {
      "needs_background": "light"
     },
     "output_type": "display_data"
    }
   ],
   "source": [
    "# Using Shapely to check for line containment for polygons.\n",
    "\n",
    "N = 10\n",
    "Y = np.linspace(0, 10, N)\n",
    "X = np.sin(Y) + 3\n",
    "# plt.plot(X, Y, '-go')\n",
    "pos = np.stack((X, Y), axis=-1)\n",
    "\n",
    "sls = shapely.geometry.LineString(pos)\n",
    "\n",
    "poly1 = np.array([[2,2], [2,4], [4,4], [4,2]])\n",
    "poly2 = np.array([[4,4], [6,6], [4,8], [2,6]])\n",
    "\n",
    "poly3 = np.array([[6,0], [7,0], [7,1], [6,1]])\n",
    "poly4 = np.array([[7,1], [9,1], [9,9], [7,9]])\n",
    "\n",
    "smpoly1 = shapely.geometry.MultiPolygon([(poly1, []), (poly2, [])])\n",
    "smpoly2 = shapely.geometry.MultiPolygon([(poly3, []), (poly4, [])])\n",
    "\n",
    "res_intersection_smpoly1 = sls.intersection(smpoly1)\n",
    "for _sls in res_intersection_smpoly1.geoms:\n",
    "    X = np.array(_sls.coords).T\n",
    "    plt.plot(X[0], X[1], color='b')\n",
    "\n",
    "res = sls.difference(smpoly1)\n",
    "for _sls in res.geoms:\n",
    "    X = np.array(_sls.coords).T\n",
    "    plt.plot(X[0], X[1], color='g')\n",
    "\n",
    "smpoly2 = shapely.geometry.MultiPolygon((spoly3,spoly4))\n",
    "res_intersection_smpoly2 = sls.intersection(smpoly2)\n",
    "    \n",
    "ax = plt.gca()\n",
    "patch = patches.Polygon(poly1, closed=True, color='r', fc='none')\n",
    "ax.add_patch(patch)\n",
    "patch = patches.Polygon(poly2, closed=True, color='r', fc='none')\n",
    "ax.add_patch(patch)\n",
    "\n",
    "patch = patches.Polygon(poly3, closed=True, color='orange', fc='none')\n",
    "ax.add_patch(patch)\n",
    "patch = patches.Polygon(poly4, closed=True, color='orange', fc='none')\n",
    "ax.add_patch(patch)\n",
    "ax.set_xlim([-1, 11])\n",
    "ax.set_ylim([-1, 11])\n",
    "ax.set_aspect('equal')\n",
    "\n",
    "print(\"Non-empty intersection with red polygons?\", res_intersection_smpoly1.is_empty)\n",
    "print(\"Non-empty intersection with orange polygons?\", res_intersection_smpoly2.is_empty)"
   ]
  },
  {
   "cell_type": "code",
   "execution_count": null,
   "metadata": {},
   "outputs": [],
   "source": []
  }
 ],
 "metadata": {
  "kernelspec": {
   "display_name": "Python 3",
   "language": "python",
   "name": "python3"
  },
  "language_info": {
   "codemirror_mode": {
    "name": "ipython",
    "version": 3
   },
   "file_extension": ".py",
   "mimetype": "text/x-python",
   "name": "python",
   "nbconvert_exporter": "python",
   "pygments_lexer": "ipython3",
   "version": "3.8.3"
  }
 },
 "nbformat": 4,
 "nbformat_minor": 4
}
