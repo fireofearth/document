{
 "cells": [
  {
   "cell_type": "code",
   "execution_count": 1,
   "metadata": {},
   "outputs": [],
   "source": [
    "import h5py\n",
    "import numpy as np\n",
    "import pandas as pd\n",
    "filepath1 =  'hdf5.test.1.h5'\n",
    "filepath2 =  'hdf5.test.2.h5'\n",
    "filepath3 =  'hdf5.test.3.h5'"
   ]
  },
  {
   "cell_type": "code",
   "execution_count": 7,
   "metadata": {},
   "outputs": [
    {
     "name": "stdout",
     "output_type": "stream",
     "text": [
      "h5 file's keys:  test0\n",
      "[[0 1 2]\n",
      " [2 3 1]\n",
      " [1 3 4]]\n"
     ]
    }
   ],
   "source": [
    "# save ndarray to H5 file\n",
    "a = np.array([\n",
    "    [0,1,2],\n",
    "    [2,3,1],\n",
    "    [1,3,4]])\n",
    "# write a H5 file\n",
    "with h5py.File(filepath1, 'w') as f:\n",
    "    # create a dataset\n",
    "    f.create_dataset('test0', data=a)\n",
    "# read a H5 file\n",
    "with h5py.File(filepath1, 'r') as f:\n",
    "    print(\"h5 file's keys: \", *f.keys())\n",
    "    # get h5py.Dataset\n",
    "    dset = f['test0']\n",
    "    # get ndarray from h5py.Dataset\n",
    "    ap = dset[()]\n",
    "    print(ap)"
   ]
  },
  {
   "cell_type": "code",
   "execution_count": 3,
   "metadata": {},
   "outputs": [
    {
     "name": "stdout",
     "output_type": "stream",
     "text": [
      "[[0 1 2]\n",
      " [2 3 1]\n",
      " [1 3 4]]\n",
      "   patch_size  magnification dataset_name\n",
      "0        1024             10           tn\n",
      "1        1024             20     ovr_mmrd\n",
      "2         512             40         mmrd\n"
     ]
    }
   ],
   "source": [
    "# save pd.DataFrame to H5 file\n",
    "d = {'patch_size': [1024, 1024, 512],\n",
    "     'magnification': [10, 20, 40],\n",
    "     'dataset_name': ['tn', 'ovr_mmrd', 'mmrd']}\n",
    "df = pd.DataFrame(d)\n",
    "with pd.HDFStore(filepath1) as s:\n",
    "    s['test1'] = df\n",
    "\n",
    "# must use h5py.File to read ndarray data\n",
    "with h5py.File(filepath1, 'r') as f:\n",
    "    print(f['test0'][()])\n",
    "\n",
    "# must use pd.HDFStore to read DataFrame data\n",
    "with pd.HDFStore(filepath1) as s:\n",
    "    print(s['test1'])"
   ]
  },
  {
   "cell_type": "code",
   "execution_count": 10,
   "metadata": {},
   "outputs": [
    {
     "name": "stdout",
     "output_type": "stream",
     "text": [
      "'Unable to open object (component not found)'\n",
      "Not a location id (invalid object ID)\n",
      "h5 file's keys:  gr1\n",
      "gr1 in f? True\n",
      "gr1/gr2 in f? True\n",
      "gr1/gr2/test0 in f? True\n",
      "gr1/gr2/test0 is dataset? True\n",
      "gr1/gr2/test0 is group? False\n",
      "[[0 1 2]\n",
      " [2 3 1]\n",
      " [1 3 4]]\n",
      "test0 in g? True\n",
      "test0 is dataset? True\n"
     ]
    }
   ],
   "source": [
    "# save ndarray to H5 file\n",
    "a = np.array([\n",
    "    [0,1,2],\n",
    "    [2,3,1],\n",
    "    [1,3,4]])\n",
    "# write a H5 file\n",
    "with h5py.File(filepath2, 'w') as f:\n",
    "    try:\n",
    "        f['gr1/gr2/test0']\n",
    "    except Exception as e:\n",
    "        print(e)\n",
    "    try:\n",
    "        gr.create_dataset('gr1/gr2/test0', data=a)\n",
    "    except Exception as e:\n",
    "        print(e)\n",
    "    # create a group\n",
    "    gr = f.create_group(\"gr1/gr2\")\n",
    "    # create a dataset\n",
    "    gr.create_dataset('test0', data=a)\n",
    "# read a H5 file\n",
    "with h5py.File(filepath2, 'r') as f:\n",
    "    print(\"h5 file's keys: \", *f.keys())\n",
    "    print(\"gr1 in f?\", 'gr1' in f)\n",
    "    print(\"gr1/gr2 in f?\", 'gr1/gr2' in f)\n",
    "    print(\"gr1/gr2/test0 in f?\", 'gr1/gr2/test0' in f)\n",
    "    print(\"gr1/gr2/test0 is dataset?\", isinstance(f['gr1/gr2/test0'], h5py.Dataset))\n",
    "    print(\"gr1/gr2/test0 is group?\", isinstance(f['gr1/gr2/test0'], h5py.Group))\n",
    "    # get h5py.Dataset\n",
    "    dset = f['gr1/gr2/test0']\n",
    "    # get ndarray from h5py.Dataset\n",
    "    ap = dset[()]\n",
    "    print(ap)\n",
    "    group = f['gr1/gr2']\n",
    "    print(\"test0 in g?\", 'test0' in group)\n",
    "    print(\"test0 is dataset?\", isinstance(group['test0'], h5py.Dataset))\n",
    "    "
   ]
  },
  {
   "cell_type": "code",
   "execution_count": 12,
   "metadata": {},
   "outputs": [
    {
     "name": "stdout",
     "output_type": "stream",
     "text": [
      "[[ 0  2  3  1]\n",
      " [ 0 -1 -1  1]\n",
      " [ 0  0  0  0]]\n"
     ]
    }
   ],
   "source": [
    "# save ndarray to H5 file\n",
    "width = 4\n",
    "height = 3\n",
    "# write a H5 file\n",
    "with h5py.File(filepath2, 'w') as f:\n",
    "    f.create_dataset('test', (height, width,), dtype='i')\n",
    "with h5py.File(filepath2, 'a') as f:\n",
    "    dset = f['test']\n",
    "    # write array horizontally\n",
    "    dset[1,1:3] = np.array([-1,-1])\n",
    "    # write array vertically\n",
    "    dset[0:2,3] = np.array([1,1])\n",
    "    # write number\n",
    "    dset[0,1] = 2\n",
    "    # write a single cell\n",
    "    dset[0,2] = np.array([3])\n",
    "with h5py.File(filepath2, 'r') as f:\n",
    "    dset = f['test']\n",
    "    print(dset[()])"
   ]
  },
  {
   "cell_type": "code",
   "execution_count": 19,
   "metadata": {},
   "outputs": [
    {
     "name": "stdout",
     "output_type": "stream",
     "text": [
      "Unable to create group (name already exists)\n",
      "gr11/gr21/a1\n",
      "gr11/gr22/a2\n",
      "gr12/gr2/a3\n",
      "gr13/gr2/gr3/a4\n",
      "gr11\n",
      "  gr21\n",
      "     a1\n",
      "  gr22\n",
      "     a2\n",
      "gr12\n",
      "  gr2\n",
      "     a3\n",
      "gr13\n",
      "  gr2\n",
      "     gr3\n",
      "       a4\n"
     ]
    }
   ],
   "source": [
    "a1 = np.array([\n",
    "    [0,1],\n",
    "    [2,3]])\n",
    "a2 = np.array([\n",
    "    [1,0],\n",
    "    [0,1]])\n",
    "a3 = np.array([\n",
    "    [0,1],\n",
    "    [1,0]])\n",
    "a4 = np.array([\n",
    "    [1,-1],\n",
    "    [-1,1]])\n",
    "\n",
    "with h5py.File(filepath3, 'w') as f:\n",
    "    gr = f.create_group(\"gr11/gr21\")\n",
    "    dset = gr.create_dataset('a1', data=a1)\n",
    "    # cannot create group gr11 since already exist\n",
    "    # but can create group gr11/gr22 since diff. inner group\n",
    "    try:\n",
    "        gr = f.create_group('gr11')\n",
    "    except ValueError as e:\n",
    "        print(e)\n",
    "    gr = f.create_group(\"gr11/gr22\")\n",
    "    gr.create_dataset('a2', data=a2)\n",
    "    # can create dataset directly within groups\n",
    "    dset = f.create_dataset('gr12/gr2/a3', data=a3)\n",
    "    dset = f.create_dataset('gr13/gr2/gr3/a4', data=a4)\n",
    "\n",
    "def get_h5_keys(f, key=''):\n",
    "    keys = [ ]\n",
    "    if isinstance(f, h5py.Dataset):\n",
    "        return [key]\n",
    "    else:\n",
    "        for k, v in f.items():\n",
    "            if key:\n",
    "                tmp_key = f\"{key}/{k}\"\n",
    "            else:\n",
    "                tmp_key = k\n",
    "            tmp_keys = get_h5_keys(v, key=tmp_key)\n",
    "            keys.extend(tmp_keys)\n",
    "        return keys\n",
    "            \n",
    "with h5py.File(filepath3, 'r') as f:\n",
    "    for k in get_h5_keys(f):\n",
    "        print(k)\n",
    "    \n",
    "# get list of H5 IDs\n",
    "with h5py.File(filepath3, 'r') as f:\n",
    "    for k1, v1 in f.items():\n",
    "        print(k1)\n",
    "        for k2, v2 in v1.items():\n",
    "            print(' ', k2)\n",
    "            for k3, v3 in v2.items():\n",
    "                print('    ', k3)\n",
    "                if isinstance(v3, h5py.Group):\n",
    "                    for k4, v4 in v3.items():\n",
    "                        print('      ', k4)\n",
    "        \n",
    "    "
   ]
  },
  {
   "cell_type": "code",
   "execution_count": null,
   "metadata": {},
   "outputs": [],
   "source": []
  }
 ],
 "metadata": {
  "kernelspec": {
   "display_name": "Python 3",
   "language": "python",
   "name": "python3"
  },
  "language_info": {
   "codemirror_mode": {
    "name": "ipython",
    "version": 3
   },
   "file_extension": ".py",
   "mimetype": "text/x-python",
   "name": "python",
   "nbconvert_exporter": "python",
   "pygments_lexer": "ipython3",
   "version": "3.8.3"
  }
 },
 "nbformat": 4,
 "nbformat_minor": 4
}
