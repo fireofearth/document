{
 "cells": [
  {
   "cell_type": "markdown",
   "metadata": {},
   "source": [
    "Documentation on numpy, scipy, opencv and matplotlib for vector and matrix manipulation."
   ]
  },
  {
   "cell_type": "code",
   "execution_count": 1,
   "metadata": {},
   "outputs": [],
   "source": [
    "import itertools\n",
    "import numpy as np\n",
    "import cv2 as cv\n",
    "import scipy\n",
    "import scipy.special\n",
    "import scipy.spatial\n",
    "import scipy.stats\n",
    "import scipy.ndimage\n",
    "import matplotlib\n",
    "import matplotlib.patches\n",
    "import matplotlib.patches as patches\n",
    "import matplotlib.pyplot as plt\n",
    "import matplotlib.collections as mc\n",
    "from matplotlib.path import Path\n",
    "\n",
    "import utility as util\n",
    "import utility.doc\n",
    "\n",
    "def rotation_2d(theta):\n",
    "    return np.array([\n",
    "            [ np.cos(theta), np.sin(theta)],\n",
    "            [-np.sin(theta), np.cos(theta)]])"
   ]
  },
  {
   "cell_type": "markdown",
   "metadata": {},
   "source": [
    "## Gotchas"
   ]
  },
  {
   "cell_type": "code",
   "execution_count": 25,
   "metadata": {},
   "outputs": [
    {
     "name": "stdout",
     "output_type": "stream",
     "text": [
      "Adding lists together results in concatenation, \n",
      "but adding a list and an array results in addition.\n",
      "\n",
      "adding two lists together\n",
      "([1], [2, 3], [1, 2, 3])\n",
      "\n",
      "adding a list and an ndarray together\n",
      "([1], array([2, 3]), array([3, 4]))\n",
      "\n",
      "equivalent to extending a list by and ndarray\n",
      "[1, 2, 3]\n",
      "\n",
      "another way via concatenation\n",
      "[1 2 3]\n"
     ]
    }
   ],
   "source": [
    "util.doc.results(\n",
    "    \"adding two lists together\", ([1,], [2,3,], [1,] + [2,3,]),\n",
    "    \"adding a list and an ndarray together\", ([1,], np.array([2,3,]), [1,] + np.array([2,3,])),\n",
    "    \"equivalent to extending a list by and ndarray\", [1, *np.array([2,3,])],\n",
    "    \"another way via concatenation\", np.concatenate(([1,], np.array([2,3,]))),\n",
    "start=(\n",
    "    \"Adding lists together results in concatenation, \\n\"\n",
    "    \"but adding a list and an array results in addition.\"\n",
    "))"
   ]
  },
  {
   "cell_type": "markdown",
   "metadata": {},
   "source": [
    "## Array Creation and Basic Usage"
   ]
  },
  {
   "cell_type": "code",
   "execution_count": 6,
   "metadata": {},
   "outputs": [
    {
     "data": {
      "text/plain": [
       "(array([0, 1, 2, 3, 4]), array([0, 1, 2, 3, 4]))"
      ]
     },
     "execution_count": 6,
     "metadata": {},
     "output_type": "execute_result"
    }
   ],
   "source": [
    "# create an array using a range is the same as using np.arange()\n",
    "np.array(range(5)), np.arange(5)"
   ]
  },
  {
   "cell_type": "code",
   "execution_count": 13,
   "metadata": {},
   "outputs": [
    {
     "name": "stdout",
     "output_type": "stream",
     "text": [
      "setting an array element with a sequence.\n"
     ]
    },
    {
     "data": {
      "text/plain": [
       "array([1, 2, 3])"
      ]
     },
     "execution_count": 13,
     "metadata": {},
     "output_type": "execute_result"
    }
   ],
   "source": [
    "# create an array using an iterable\n",
    "i = iter([1,2,3])\n",
    "j = iter([[1,2],[3,4],[5,6]])\n",
    "\n",
    "# can't convert an iterable of lists.\n",
    "try:\n",
    "    np.fromiter(j, dtype=int)\n",
    "except ValueError as e:\n",
    "    print(e)\n",
    "\n",
    "np.fromiter(i, dtype=int)"
   ]
  },
  {
   "cell_type": "code",
   "execution_count": 8,
   "metadata": {},
   "outputs": [
    {
     "name": "stdout",
     "output_type": "stream",
     "text": [
      "[0 1 2]\n"
     ]
    }
   ],
   "source": [
    "# De-referencing arrays\n",
    "a = np.arange(3)\n",
    "a1, a2, a3 = a\n",
    "b1, b2, b3 = a.T\n",
    "# a, a1, a2, a3, a.T, b1, b2, b3\n",
    "print(a)"
   ]
  },
  {
   "cell_type": "code",
   "execution_count": 15,
   "metadata": {},
   "outputs": [
    {
     "data": {
      "text/plain": [
       "(array([[1.2, 1.2, 1.2],\n",
       "        [1.2, 1.2, 1.2]]),\n",
       " array([1.2, 1.2]))"
      ]
     },
     "execution_count": 15,
     "metadata": {},
     "output_type": "execute_result"
    }
   ],
   "source": [
    "# create a matrix and fill with a constant\n",
    "np.full((2, 3), 1.2), np.full(2, 1.2)"
   ]
  },
  {
   "cell_type": "code",
   "execution_count": 16,
   "metadata": {},
   "outputs": [
    {
     "data": {
      "text/plain": [
       "array([[1, 0, 0, 0],\n",
       "       [0, 1, 0, 0],\n",
       "       [0, 0, 1, 0],\n",
       "       [0, 0, 0, 1]])"
      ]
     },
     "execution_count": 16,
     "metadata": {},
     "output_type": "execute_result"
    }
   ],
   "source": [
    "# create an identity matrix\n",
    "np.diag(np.full(4, 1))"
   ]
  },
  {
   "cell_type": "code",
   "execution_count": 5,
   "metadata": {},
   "outputs": [
    {
     "name": "stdout",
     "output_type": "stream",
     "text": [
      "create a block diagonal matrix\n",
      "\n",
      "upper block\n",
      "[[1 2]\n",
      " [3 4]\n",
      " [5 6]]\n",
      "\n",
      "middle block\n",
      "[[ 7  8  9]\n",
      " [10 11 12]]\n",
      "\n",
      "lower block\n",
      "[[13 14]\n",
      " [15 16]]\n",
      "\n",
      "block diagonal matrix\n",
      "[[ 1  2  0  0  0  0  0]\n",
      " [ 3  4  0  0  0  0  0]\n",
      " [ 5  6  0  0  0  0  0]\n",
      " [ 0  0  7  8  9  0  0]\n",
      " [ 0  0 10 11 12  0  0]\n",
      " [ 0  0  0  0  0 13 14]\n",
      " [ 0  0  0  0  0 15 16]]\n"
     ]
    }
   ],
   "source": [
    "# create a block diagonal matrix\n",
    "C1 = np.arange(1, 7).reshape(3, 2)\n",
    "C2 = np.arange(7, 13).reshape(2, 3)\n",
    "C3 = np.arange(13, 17).reshape(2, 2)\n",
    "C = scipy.linalg.block_diag(C1, C2, C3)\n",
    "util.doc.results(\n",
    "    \"upper block\", C1,\n",
    "    \"middle block\", C2,\n",
    "    \"lower block\", C3,\n",
    "    \"block diagonal matrix\", C,\n",
    "start=\"create a block diagonal matrix\")"
   ]
  },
  {
   "cell_type": "code",
   "execution_count": 8,
   "metadata": {},
   "outputs": [
    {
     "name": "stdout",
     "output_type": "stream",
     "text": [
      "create a block matrix\n",
      "\n",
      "upper left matrix\n",
      "[[1 1]\n",
      " [1 1]]\n",
      "\n",
      "upper right matrix\n",
      "[[2 2 2]\n",
      " [2 2 2]]\n",
      "\n",
      "lower left matrix\n",
      "[[3 3]\n",
      " [3 3]\n",
      " [3 3]]\n",
      "\n",
      "lower right matrix\n",
      "[[4 4 4]\n",
      " [4 4 4]\n",
      " [4 4 4]]\n",
      "\n",
      "block matrix\n",
      "[[1 1 2 2 2]\n",
      " [1 1 2 2 2]\n",
      " [3 3 4 4 4]\n",
      " [3 3 4 4 4]\n",
      " [3 3 4 4 4]]\n"
     ]
    }
   ],
   "source": [
    "# create a block matrix\n",
    "C1 = np.full((2, 2), 1)\n",
    "C2 = np.full((2, 3), 2)\n",
    "C3 = np.full((3, 2), 3)\n",
    "C4 = np.full((3, 3), 4)\n",
    "C = np.block([\n",
    "    [C1, C2],\n",
    "    [C3, C4]\n",
    "])\n",
    "util.doc.results(\n",
    "    \"upper left matrix\", C1,\n",
    "    \"upper right matrix\", C2,\n",
    "    \"lower left matrix\", C3,\n",
    "    \"lower right matrix\", C4,\n",
    "    \"block matrix\", C,\n",
    "start=\"create a block matrix\")"
   ]
  },
  {
   "cell_type": "code",
   "execution_count": 120,
   "metadata": {},
   "outputs": [
    {
     "data": {
      "text/plain": [
       "(array([[0., 1., 2.],\n",
       "        [0., 1., 2.],\n",
       "        [0., 1., 2.]]),\n",
       " array([[-1., -1., -1.],\n",
       "        [ 0.,  0.,  0.],\n",
       "        [ 1.,  1.,  1.]]))"
      ]
     },
     "execution_count": 120,
     "metadata": {},
     "output_type": "execute_result"
    }
   ],
   "source": [
    "# create a meshgrid\n",
    "N = 3\n",
    "X = np.linspace(0, 2, N)\n",
    "Y = np.linspace(-1, 1, N)\n",
    "X, Y = np.meshgrid(X, Y)\n",
    "X, Y"
   ]
  },
  {
   "cell_type": "code",
   "execution_count": 61,
   "metadata": {},
   "outputs": [
    {
     "data": {
      "text/plain": [
       "[<matplotlib.lines.Line2D at 0x7f1a378de1f0>]"
      ]
     },
     "execution_count": 61,
     "metadata": {},
     "output_type": "execute_result"
    },
    {
     "data": {
      "image/png": "[encoded data removed]",
      "text/plain": [
       "<Figure size 1080x216 with 2 Axes>"
      ]
     },
     "metadata": {
      "needs_background": "light"
     },
     "output_type": "display_data"
    }
   ],
   "source": [
    "# Generate geometrically spaced numbers using np.geomspace()\n",
    "N = 10\n",
    "x = np.linspace(0, 1, N)\n",
    "y1 = np.geomspace(1, 101, N, endpoint=True)\n",
    "y2 = (y1 - 1) / 100\n",
    "fig, axes = plt.subplots(1, 2, figsize=(15, 3))\n",
    "axes[0].plot(x, y1, '-o')\n",
    "axes[1].plot(x, y2, '-o')"
   ]
  },
  {
   "cell_type": "code",
   "execution_count": 67,
   "metadata": {},
   "outputs": [
    {
     "data": {
      "text/plain": [
       "[<matplotlib.lines.Line2D at 0x7f1a377078e0>]"
      ]
     },
     "execution_count": 67,
     "metadata": {},
     "output_type": "execute_result"
    },
    {
     "data": {
      "image/png": "[encoded data removed]",
      "text/plain": [
       "<Figure size 432x288 with 1 Axes>"
      ]
     },
     "metadata": {
      "needs_background": "light"
     },
     "output_type": "display_data"
    }
   ],
   "source": [
    "# Generate logarithmically spaced numbers using np.geomspace()\n",
    "N = 10\n",
    "x = np.linspace(0, 1, N)\n",
    "y = np.logspace(0, 5, N, endpoint=True, base=2.0)\n",
    "plt.plot(x, y, '-o')"
   ]
  },
  {
   "cell_type": "markdown",
   "metadata": {},
   "source": [
    "## Mathematical Operations"
   ]
  },
  {
   "cell_type": "code",
   "execution_count": 2,
   "metadata": {},
   "outputs": [
    {
     "data": {
      "text/plain": [
       "array([0.73105858, 0.88079708, 0.95257413])"
      ]
     },
     "execution_count": 2,
     "metadata": {},
     "output_type": "execute_result"
    }
   ],
   "source": [
    "# Sigmoid function (applied to an array)\n",
    "def sigmoid(z):\n",
    "    return 1 / (np.exp(-z) + 1)\n",
    "\n",
    "sigmoid(np.array([1,2,3]))"
   ]
  },
  {
   "cell_type": "code",
   "execution_count": 3,
   "metadata": {},
   "outputs": [
    {
     "data": {
      "text/plain": [
       "array([1.31326169, 2.12692801, 3.04858735])"
      ]
     },
     "execution_count": 3,
     "metadata": {},
     "output_type": "execute_result"
    }
   ],
   "source": [
    "# Softplus function (applied to an array)\n",
    "def softplus(z):\n",
    "    return np.log(1 + np.exp(z))\n",
    "\n",
    "softplus(np.array([1,2,3]))"
   ]
  },
  {
   "cell_type": "code",
   "execution_count": 3,
   "metadata": {},
   "outputs": [
    {
     "data": {
      "text/plain": [
       "(array([[0, 1, 2],\n",
       "        [3, 4, 5]]),\n",
       " (2, 3),\n",
       " 2)"
      ]
     },
     "execution_count": 3,
     "metadata": {},
     "output_type": "execute_result"
    }
   ],
   "source": [
    "# Array reshaping, shape and dimension\n",
    "A = np.arange(6).reshape((2, 3))\n",
    "A, A.shape, A.ndim"
   ]
  },
  {
   "cell_type": "code",
   "execution_count": 34,
   "metadata": {},
   "outputs": [
    {
     "data": {
      "text/plain": [
       "(array([0, 1, 2, 3, 4, 5, 6, 7]),\n",
       " 3,\n",
       " array([0, 1, 2]),\n",
       " array([3, 4, 5, 6, 7]),\n",
       " array([3, 4, 5]),\n",
       " array([3, 5]),\n",
       " array([3, 5, 7]))"
      ]
     },
     "execution_count": 34,
     "metadata": {},
     "output_type": "execute_result"
    }
   ],
   "source": [
    "# Subarrays indexing\n",
    "a = np.arange(8)\n",
    "a, a[3], a[:3], a[3:], a[3:6], a[3:6:2], a[3::2]"
   ]
  },
  {
   "cell_type": "code",
   "execution_count": 3,
   "metadata": {},
   "outputs": [
    {
     "data": {
      "text/plain": [
       "(array([1, 2, 3]),\n",
       " array([2, 4, 6]),\n",
       " array([0.5, 1. , 1.5]),\n",
       " array([2.        , 1.        , 0.66666667]),\n",
       " array([3, 4, 5]),\n",
       " array([-1,  0,  1]),\n",
       " array([1, 4, 9]))"
      ]
     },
     "execution_count": 3,
     "metadata": {},
     "output_type": "execute_result"
    }
   ],
   "source": [
    "# Vector-scalar operations\n",
    "a = np.arange(3) + 1\n",
    "a, 2 * a, a / 2, 2 / a, a + 2, a - 2, a**2"
   ]
  },
  {
   "cell_type": "code",
   "execution_count": 41,
   "metadata": {},
   "outputs": [
    {
     "data": {
      "text/plain": [
       "array([-1,  1,  4,  3])"
      ]
     },
     "execution_count": 41,
     "metadata": {},
     "output_type": "execute_result"
    }
   ],
   "source": [
    "# In-place mutation of array\n",
    "a = np.arange(4) + 1\n",
    "a[0] *= -1\n",
    "a[1] /= 2\n",
    "a[2] += 1\n",
    "a[3] -= 1\n",
    "a"
   ]
  },
  {
   "cell_type": "code",
   "execution_count": 14,
   "metadata": {},
   "outputs": [
    {
     "data": {
      "text/plain": [
       "(array([[0, 1, 2],\n",
       "        [1, 2, 3],\n",
       "        [2, 3, 4],\n",
       "        [3, 4, 5]]),\n",
       " array([-1. , -0.5,  0.5,  2. ]),\n",
       " array([[-1. ,  0. ,  1. ],\n",
       "        [ 0.5,  1.5,  2.5],\n",
       "        [ 2.5,  3.5,  4.5],\n",
       "        [ 5. ,  6. ,  7. ]]),\n",
       " array([[-0. , -1. , -2. ],\n",
       "        [-0.5, -1. , -1.5],\n",
       "        [ 1. ,  1.5,  2. ],\n",
       "        [ 6. ,  8. , 10. ]]),\n",
       " array([[-0. , -1. , -2. ],\n",
       "        [-2. , -4. , -6. ],\n",
       "        [ 4. ,  6. ,  8. ],\n",
       "        [ 1.5,  2. ,  2.5]]))"
      ]
     },
     "execution_count": 14,
     "metadata": {},
     "output_type": "execute_result"
    }
   ],
   "source": [
    "# Row wise application of b on A\n",
    "A = np.array([np.arange(3), np.arange(3) + 1, np.arange(3) + 2, np.arange(3) + 3])\n",
    "b = np.array([-1, -1/2, 1/2, 2])\n",
    "A, b, A + b[:, None], A * b[:, None], A / b[:, None]"
   ]
  },
  {
   "cell_type": "code",
   "execution_count": 65,
   "metadata": {},
   "outputs": [
    {
     "data": {
      "text/plain": [
       "(array([ 4, 10, 18]), array([ 4, 10, 18]))"
      ]
     },
     "execution_count": 65,
     "metadata": {},
     "output_type": "execute_result"
    }
   ],
   "source": [
    "# The * operation is the Hadamard product on vectors\n",
    "a = np.array([1,2,3])\n",
    "b = np.array([4,5,6])\n",
    "a * b, np.einsum(\"i,i->i\", a, b)"
   ]
  },
  {
   "cell_type": "code",
   "execution_count": 62,
   "metadata": {},
   "outputs": [
    {
     "data": {
      "text/plain": [
       "(32, 32, 32)"
      ]
     },
     "execution_count": 62,
     "metadata": {},
     "output_type": "execute_result"
    }
   ],
   "source": [
    "# Dot product\n",
    "# a.dot(b) is equivalent to np.dot(a, b)\n",
    "# The @ operation is also a dot product on vectors\n",
    "a = np.array([1,2,3])\n",
    "b = np.array([4,5,6])\n",
    "a.dot(b), a @ b, np.einsum(\"i,i->\", a, b)"
   ]
  },
  {
   "cell_type": "code",
   "execution_count": 19,
   "metadata": {},
   "outputs": [
    {
     "data": {
      "text/plain": [
       "(array([5, 8]), array([5, 8]))"
      ]
     },
     "execution_count": 19,
     "metadata": {},
     "output_type": "execute_result"
    }
   ],
   "source": [
    "# Matrix-vector multiplication\n",
    "A = np.array([\n",
    "    [1, 2],\n",
    "    [4, 2]])\n",
    "b = np.array([1,2])\n",
    "A @ b, np.einsum(\"ij,j->i\", A, b)"
   ]
  },
  {
   "cell_type": "code",
   "execution_count": 6,
   "metadata": {},
   "outputs": [
    {
     "data": {
      "text/plain": [
       "(array([[3, 1],\n",
       "        [5, 0]]),\n",
       " array([[-1,  3],\n",
       "        [ 1,  2]]))"
      ]
     },
     "execution_count": 6,
     "metadata": {},
     "output_type": "execute_result"
    }
   ],
   "source": [
    "# Matrix-vector operations\n",
    "A = np.array([\n",
    "    [1, 2],\n",
    "    [3, 1]])\n",
    "b = np.array([2,-1])\n",
    "A + b, A - b"
   ]
  },
  {
   "cell_type": "code",
   "execution_count": 4,
   "metadata": {},
   "outputs": [
    {
     "data": {
      "text/plain": [
       "(array([[[ 0,  1],\n",
       "         [ 2,  1],\n",
       "         [ 1,  2]],\n",
       " \n",
       "        [[ 1,  0],\n",
       "         [ 0, -1],\n",
       "         [-1,  0]]]),\n",
       " array([[[ 1,  0],\n",
       "         [ 3,  0],\n",
       "         [ 2,  1]],\n",
       " \n",
       "        [[ 2, -1],\n",
       "         [ 1, -2],\n",
       "         [ 0, -1]]]),\n",
       " array([[[-1,  2],\n",
       "         [ 1,  2],\n",
       "         [ 0,  3]],\n",
       " \n",
       "        [[ 0,  1],\n",
       "         [-1,  0],\n",
       "         [-2,  1]]]))"
      ]
     },
     "execution_count": 4,
     "metadata": {},
     "output_type": "execute_result"
    }
   ],
   "source": [
    "# addition and subtraction is along the the last most axes.\n",
    "A = np.array([\n",
    "    [ [0,1], [2,1], [1,2] ],\n",
    "    [ [1,0], [0,-1], [-1,0] ] ])\n",
    "b = np.array([1,-1])\n",
    "A, A + b, A - b"
   ]
  },
  {
   "cell_type": "code",
   "execution_count": 4,
   "metadata": {},
   "outputs": [
    {
     "data": {
      "text/plain": [
       "(array([[ 2, -2],\n",
       "        [ 8, -2]]),\n",
       " array([[ 2, -2],\n",
       "        [ 8, -2]]),\n",
       " array([[ 2, -2],\n",
       "        [ 8, -2]]))"
      ]
     },
     "execution_count": 4,
     "metadata": {},
     "output_type": "execute_result"
    }
   ],
   "source": [
    "# Matrix-matrix multiplication\n",
    "A = np.array([\n",
    "    [1, 2],\n",
    "    [4, 2]])\n",
    "B = np.array([\n",
    "    [2, 0],\n",
    "    [0, -1]])\n",
    "\n",
    "def matmul(A, B):\n",
    "    C = np.zeros((A.shape[0], B.shape[1]), dtype=A.dtype)\n",
    "    for i in range(A.shape[0]):\n",
    "        for j in range(B.shape[1]):\n",
    "            for k in range(A.shape[1]):\n",
    "                C[i,j] += A[i,k]*B[k,j]\n",
    "    return C\n",
    "\n",
    "matmul(A, B), A @ B, np.einsum(\"ij,jk->ik\", A, B)"
   ]
  },
  {
   "cell_type": "code",
   "execution_count": 30,
   "metadata": {},
   "outputs": [
    {
     "data": {
      "text/plain": [
       "(array([ 2, -2]),\n",
       " array([5, 1]),\n",
       " array([[ 2, -2],\n",
       "        [ 5,  1]]))"
      ]
     },
     "execution_count": 30,
     "metadata": {},
     "output_type": "execute_result"
    }
   ],
   "source": [
    "# Matrix-vector multiplication broadcasted across multiple matrices\n",
    "A = np.array([\n",
    "    [\n",
    "        [2, 0],\n",
    "        [0,-1],\n",
    "    ],[\n",
    "        [1,2],\n",
    "        [1,0]\n",
    "    ]\n",
    "])\n",
    "b = np.array([1,2])\n",
    "A[0] @ b, A[1] @ b, A @ b"
   ]
  },
  {
   "cell_type": "code",
   "execution_count": 76,
   "metadata": {},
   "outputs": [
    {
     "data": {
      "text/plain": [
       "(array([ 2, -2]),\n",
       " array([ 1, -1]),\n",
       " array([[ 2, -2],\n",
       "        [ 1, -1]]))"
      ]
     },
     "execution_count": 76,
     "metadata": {},
     "output_type": "execute_result"
    }
   ],
   "source": [
    "# Batched Matrix-vector multiplication using np.einsum()\n",
    "A = np.array([\n",
    "    [\n",
    "        [2, 0],\n",
    "        [0,-1],\n",
    "    ],[\n",
    "        [1,2],\n",
    "        [1,0]\n",
    "    ]\n",
    "])\n",
    "b = np.array([\n",
    "    [1,2],\n",
    "    [-1,1]\n",
    "])\n",
    "A[0] @ b[0], A[1] @ b[1], np.einsum(\"...jk, ...k ->...j\", A, b)"
   ]
  },
  {
   "cell_type": "code",
   "execution_count": 122,
   "metadata": {},
   "outputs": [
    {
     "data": {
      "text/plain": [
       "(array([[ 2, -2],\n",
       "        [ 8, -2]]),\n",
       " array([[7, 3],\n",
       "        [3, 2]]),\n",
       " array([[[ 2, -2],\n",
       "         [ 8, -2]],\n",
       " \n",
       "        [[ 7,  3],\n",
       "         [ 3,  2]]]))"
      ]
     },
     "execution_count": 122,
     "metadata": {},
     "output_type": "execute_result"
    }
   ],
   "source": [
    "# Batched Matrix-matrix multiplication using np.einsum()\n",
    "A = np.array([\n",
    "    [\n",
    "        [1, 2],\n",
    "        [4, 2]\n",
    "    ],[\n",
    "        [3, 1],\n",
    "        [2,-1]\n",
    "    ]\n",
    "])\n",
    "B = np.array([\n",
    "    [\n",
    "        [2, 0],\n",
    "        [0, -1]\n",
    "    ],[\n",
    "        [2, 1],\n",
    "        [1, 0]\n",
    "    ]\n",
    "])\n",
    "A[0] @ B[0], A[1] @ B[1], np.einsum(\"...ij,...jk->...ik\", A, B)"
   ]
  },
  {
   "cell_type": "code",
   "execution_count": 123,
   "metadata": {},
   "outputs": [
    {
     "data": {
      "text/plain": [
       "(array([[ 2, -2],\n",
       "        [ 8, -2]]),\n",
       " array([[ 4,  1],\n",
       "        [10,  4]]),\n",
       " array([[ 2,  4],\n",
       "        [-4, -2]]),\n",
       " array([[6, 6],\n",
       "        [1, 2]]),\n",
       " array([[[ 2, -2],\n",
       "         [ 8, -2]],\n",
       " \n",
       "        [[ 4,  1],\n",
       "         [10,  4]]]),\n",
       " array([[[ 2,  4],\n",
       "         [-4, -2]],\n",
       " \n",
       "        [[ 6,  6],\n",
       "         [ 1,  2]]]))"
      ]
     },
     "execution_count": 123,
     "metadata": {},
     "output_type": "execute_result"
    }
   ],
   "source": [
    "# Matrix to Batched matrix multiplication using np.einsum()\n",
    "A = np.array([\n",
    "        [1, 2],\n",
    "        [4, 2]])\n",
    "B = np.array([\n",
    "    [\n",
    "        [2, 0],\n",
    "        [0, -1]\n",
    "    ],[\n",
    "        [2, 1],\n",
    "        [1, 0]\n",
    "    ]\n",
    "])\n",
    "A @ B[0], A @ B[1], B[0] @ A, B[1] @ A, np.einsum(\"ij,...jk->...ik\", A, B), np.einsum(\"...ij,jk->...ik\", B, A)"
   ]
  },
  {
   "cell_type": "code",
   "execution_count": 132,
   "metadata": {},
   "outputs": [
    {
     "data": {
      "text/plain": [
       "(array([5, 1]),\n",
       " array([ 1, -1]),\n",
       " array([1, 3]),\n",
       " array([[ 5,  1],\n",
       "        [ 1, -1],\n",
       "        [ 1,  3]]))"
      ]
     },
     "execution_count": 132,
     "metadata": {},
     "output_type": "execute_result"
    }
   ],
   "source": [
    "# Matrix to batched vector multiplication using np.einsum()\n",
    "A = np.array([\n",
    "    [1,2],\n",
    "    [1,0]\n",
    "])\n",
    "b = np.array([[1,2], [-1,1], [3,-1]])\n",
    "A @ b[0], A @ b[1], A @ b[2], np.einsum(\"jk, ...k ->...j\", A, b)"
   ]
  },
  {
   "cell_type": "code",
   "execution_count": 11,
   "metadata": {},
   "outputs": [
    {
     "data": {
      "text/plain": [
       "(-1, 0, 1, array([-1,  0,  1]))"
      ]
     },
     "execution_count": 11,
     "metadata": {},
     "output_type": "execute_result"
    }
   ],
   "source": [
    "# batch vector-vector dot product using np.einsum()\n",
    "a = np.array([\n",
    "    [ 0, -1],\n",
    "    [-2,  1],\n",
    "    [ 1,  1]\n",
    "])\n",
    "b = np.array([\n",
    "    [2, 1],\n",
    "    [1, 2],\n",
    "    [-1,2]\n",
    "])\n",
    "a[0] @ b[0], a[1] @ b[1], a[2] @ b[2], np.einsum(\"...i, ...i -> ...\", a, b)"
   ]
  },
  {
   "cell_type": "code",
   "execution_count": 16,
   "metadata": {},
   "outputs": [
    {
     "data": {
      "text/plain": [
       "(array([[-1],\n",
       "        [ 2]]),\n",
       " array([[1, 2, 3, 4]]),\n",
       " array([[-1, -2, -3, -4],\n",
       "        [ 2,  4,  6,  8]]))"
      ]
     },
     "execution_count": 16,
     "metadata": {},
     "output_type": "execute_result"
    }
   ],
   "source": [
    "# Kronecker multiplication of two vectors\n",
    "a = np.array([-1, 2])[:,None]\n",
    "b = np.arange(1, 5)[None,:]\n",
    "a, b, np.kron(a, b)"
   ]
  },
  {
   "cell_type": "code",
   "execution_count": 5,
   "metadata": {},
   "outputs": [
    {
     "data": {
      "text/plain": [
       "(array([[-1,  0,  1,  2],\n",
       "        [ 1,  2,  3,  4]]),\n",
       " array([[-1,  1],\n",
       "        [ 0,  2],\n",
       "        [ 1,  3],\n",
       "        [ 2,  4]]))"
      ]
     },
     "execution_count": 5,
     "metadata": {},
     "output_type": "execute_result"
    }
   ],
   "source": [
    "# Kronecker addition of two vectors\n",
    "a = np.array([-1, 1])\n",
    "b = np.arange(4)\n",
    "a[:, None] + b[None, :], a[None, :] + b[:, None]"
   ]
  },
  {
   "cell_type": "code",
   "execution_count": 8,
   "metadata": {},
   "outputs": [
    {
     "data": {
      "text/plain": [
       "(3, 2, array([3, 2]))"
      ]
     },
     "execution_count": 8,
     "metadata": {},
     "output_type": "execute_result"
    }
   ],
   "source": [
    "# Trace of matrix\n",
    "A = np.array([\n",
    "    [\n",
    "        [1, 2],\n",
    "        [4, 2]\n",
    "    ],[\n",
    "        [3, 1],\n",
    "        [2,-1]\n",
    "    ]\n",
    "])\n",
    "np.trace(A[0]), np.trace(A[1]), np.einsum(\"...ii\", A)"
   ]
  },
  {
   "cell_type": "code",
   "execution_count": 34,
   "metadata": {},
   "outputs": [
    {
     "data": {
      "text/plain": [
       "(array([[  1,  -4],\n",
       "        [  3,  -8],\n",
       "        [  5, -12]]),\n",
       " array([[  1,  -4],\n",
       "        [  3,  -8],\n",
       "        [  5, -12]]),\n",
       " array([[ 1., -1.],\n",
       "        [ 3., -2.],\n",
       "        [ 5., -3.]]))"
      ]
     },
     "execution_count": 34,
     "metadata": {},
     "output_type": "execute_result"
    }
   ],
   "source": [
    "# Operations on rows between arrays.\n",
    "# A * b means element-wise multiplication of A[i] by b for each row A[i] of A\n",
    "# A / b means element-wise division       of A[i] by b for each row A[i] of A\n",
    "A = np.array([\n",
    "    [1,2],\n",
    "    [3,4],\n",
    "    [5,6]])\n",
    "b = np.array([1, -2])\n",
    "A * b, np.einsum(\"ji,i->ji\", A, b), A / b"
   ]
  },
  {
   "cell_type": "code",
   "execution_count": 38,
   "metadata": {},
   "outputs": [
    {
     "data": {
      "text/plain": [
       "array([ 4.  ,  4.  ,  8.  , -8.  ,  0.25,  0.25])"
      ]
     },
     "execution_count": 38,
     "metadata": {},
     "output_type": "execute_result"
    }
   ],
   "source": [
    "# take the power of bases b by their exponents e element-wise.\n",
    "# np.power() requires exponent to be positive integers.\n",
    "# for more general exponents use np.float_power()\n",
    "b = np.array([2,-2,2,-2, 0.5, -0.5])\n",
    "e = np.array([2,2,3,3,2,2])\n",
    "np.power(b, e)"
   ]
  },
  {
   "cell_type": "code",
   "execution_count": 112,
   "metadata": {},
   "outputs": [
    {
     "name": "stdout",
     "output_type": "stream",
     "text": [
      "Sum/product/max of all entries of A\n",
      "21 720 6\n",
      "Sum/product/max the columns of A\n",
      "[ 9 12] [15 48] [5 6]\n",
      "Sum the rows of A\n",
      "[ 3  7 11] [ 2 12 30] [2 4 6]\n"
     ]
    }
   ],
   "source": [
    "# Summing up an axis of an array\n",
    "A = np.array([\n",
    "    [1,2],\n",
    "    [3,4],\n",
    "    [5,6]])\n",
    "print(\"Sum/product/max of all entries of A\")\n",
    "print(np.sum(A), np.prod(A), np.max(A))\n",
    "print(\"Sum/product/max the columns of A\")\n",
    "print(np.sum(A, axis=0), np.prod(A, axis=0), np.max(A, axis=0))\n",
    "print(\"Sum the rows of A\")\n",
    "print(np.sum(A, axis=1), np.prod(A, axis=1), np.max(A, axis=1))"
   ]
  },
  {
   "cell_type": "code",
   "execution_count": 49,
   "metadata": {},
   "outputs": [
    {
     "data": {
      "text/plain": [
       "(1.0, 1.7500000000000004, 3.7500000000000044, array([1.  , 1.75, 3.75]))"
      ]
     },
     "execution_count": 49,
     "metadata": {},
     "output_type": "execute_result"
    }
   ],
   "source": [
    "# Computing the determinant of an array of 2D matrices\n",
    "B = []\n",
    "A1 = rotation_2d(np.pi / 4)\n",
    "B.append(A1)\n",
    "A2 = rotation_2d(np.pi / 3)\n",
    "A2[0,0] *= 2; A2[1,1] *= 2\n",
    "B.append(A2)\n",
    "A3 = rotation_2d(4*np.pi / 3)\n",
    "A3[0,0] *= 1.2; A3[1,1] *= 10\n",
    "B.append(A3)\n",
    "B = np.stack(B)\n",
    "np.linalg.det(A1), np.linalg.det(A2), np.linalg.det(A3), np.linalg.det(B)"
   ]
  },
  {
   "cell_type": "code",
   "execution_count": 50,
   "metadata": {},
   "outputs": [
    {
     "data": {
      "text/plain": [
       "(1.0,\n",
       " 1.0000000000000002,\n",
       " 7.020221008795337,\n",
       " array([1.        , 1.        , 7.02022101]))"
      ]
     },
     "execution_count": 50,
     "metadata": {},
     "output_type": "execute_result"
    }
   ],
   "source": [
    "# Computing the condition number of an array of 2D matrices\n",
    "B = []\n",
    "A1 = rotation_2d(np.pi / 4)\n",
    "B.append(A1)\n",
    "A2 = rotation_2d(np.pi / 3)\n",
    "A2[0,0] *= 2; A2[1,1] *= 2\n",
    "B.append(A2)\n",
    "A3 = rotation_2d(4*np.pi / 3)\n",
    "A3[0,0] *= 1.2; A3[1,1] *= 10\n",
    "B.append(A3)\n",
    "B = np.stack(B)\n",
    "np.linalg.cond(A1), np.linalg.cond(A2), np.linalg.cond(A3), np.linalg.cond(B)"
   ]
  },
  {
   "cell_type": "code",
   "execution_count": 149,
   "metadata": {},
   "outputs": [
    {
     "data": {
      "text/plain": [
       "(array([3., 1.]),\n",
       " True,\n",
       " True,\n",
       " array([ 1., -1.]),\n",
       " False,\n",
       " False,\n",
       " array([3.41421356, 0.58578644]),\n",
       " False,\n",
       " False,\n",
       " array([2., 0.]),\n",
       " True,\n",
       " False)"
      ]
     },
     "execution_count": 149,
     "metadata": {},
     "output_type": "execute_result"
    }
   ],
   "source": [
    "# checking that matrix is positive semi-definite\n",
    "\n",
    "def is_positive_semidefinite(X):\n",
    "    \"\"\"Check that a matrix is positive semidefinite\n",
    "    \n",
    "    Based on:\n",
    "    https://stackoverflow.com/a/63911811\n",
    "    \"\"\"\n",
    "    if X.shape[0] != X.shape[1]:\n",
    "        return False\n",
    "    if not np.all( X - X.T == 0 ):\n",
    "        return False\n",
    "    try:\n",
    "        regularized_X = X + np.eye(X.shape[0]) * 1e-14\n",
    "        np.linalg.cholesky(regularized_X)\n",
    "    except np.linalg.linalg.LinAlgError as err:\n",
    "        if \"Matrix is not positive definite\"  == str(err):\n",
    "            return False\n",
    "        raise err\n",
    "    return True\n",
    "\n",
    "def is_positive_definite(X):\n",
    "    \"\"\"Check that a matrix is positive definite\n",
    "    \n",
    "    Based on:\n",
    "    https://stackoverflow.com/a/63911811\n",
    "    \"\"\"\n",
    "    if X.shape[0] != X.shape[1]:\n",
    "        return False\n",
    "    if not np.all( X - X.T == 0 ):\n",
    "        return False\n",
    "    try:\n",
    "        np.linalg.cholesky(X)\n",
    "    except np.linalg.linalg.LinAlgError as err:\n",
    "        if \"Matrix is not positive definite\"  == str(err):\n",
    "            return False\n",
    "        raise err\n",
    "    return True\n",
    "\n",
    "A = np.array([[2,1],[1,2]])\n",
    "B = np.array([[0,1],[1,0]])\n",
    "C = np.array([[2,1],[2,2]])\n",
    "D = np.array([[2,0],[0,0]])\n",
    "np.linalg.eigvals(A), is_positive_semidefinite(A), is_positive_definite(A), \\\n",
    "        np.linalg.eigvals(B), is_positive_semidefinite(B), is_positive_definite(B), \\\n",
    "        np.linalg.eigvals(C), is_positive_semidefinite(C), is_positive_definite(C), \\\n",
    "        np.linalg.eigvals(D), is_positive_semidefinite(D), is_positive_definite(D)"
   ]
  },
  {
   "cell_type": "code",
   "execution_count": 116,
   "metadata": {},
   "outputs": [
    {
     "data": {
      "text/plain": [
       "(array([[2. , 1. , 0.5],\n",
       "        [1. , 3. , 0.3],\n",
       "        [0.5, 0.3, 2. ]]),\n",
       " array([[1.41421356, 0.        , 0.        ],\n",
       "        [0.70710678, 1.58113883, 0.        ],\n",
       "        [0.35355339, 0.03162278, 1.3689412 ]]),\n",
       " array([[2. , 1. , 0.5],\n",
       "        [1. , 3. , 0.3],\n",
       "        [0.5, 0.3, 2. ]]),\n",
       " 9.370000000000003,\n",
       " 9.370000000000005,\n",
       " 3.061045573002794,\n",
       " 3.0610455730027937)"
      ]
     },
     "execution_count": 116,
     "metadata": {},
     "output_type": "execute_result"
    }
   ],
   "source": [
    "# Applying Cholesky decomposition to a positive semidefinite matrix \n",
    "\n",
    "A = np.array([[2,1,0.5],[1,3,0.3],[0.5,0.3,2]])\n",
    "L = np.linalg.cholesky(A)\n",
    "# Not that when A = L L^T then |A| = |L|^2 and |L| is the produce of L's diagonals.\n",
    "A, L, L @ L.T, np.linalg.det(A), np.linalg.det(L)**2, np.linalg.det(L), np.prod(np.diag(L))"
   ]
  },
  {
   "cell_type": "code",
   "execution_count": 39,
   "metadata": {},
   "outputs": [
    {
     "data": {
      "text/plain": [
       "(1, -1, 1, 0, array([ 1, -1]), [1, -1])"
      ]
     },
     "execution_count": 39,
     "metadata": {},
     "output_type": "execute_result"
    }
   ],
   "source": [
    "def binary_decision(b, values=(-1, 1)):\n",
    "    if isinstance(b, bool):\n",
    "        return values[0]*int(not b) + values[1]*int(b)\n",
    "    elif isinstance(b, list):\n",
    "        return util.map_to_list(lambda x: binary_decision(x, values=values), b)\n",
    "    elif isinstance(b, np.ndarray):\n",
    "        if np.issubdtype(b.dtype, np.dtype('bool')):\n",
    "            return values[0]*np.logical_not(b) + values[1]*b\n",
    "        else:\n",
    "            raise ValueError(f\"Cannot handle dtype {str(b.dtype)}\")\n",
    "    else:\n",
    "        raise NotImplementedError(f\"Handing type {type(b)} not implemented.\")\n",
    "\n",
    "bs = np.array([True, False])\n",
    "binary_decision(True), binary_decision(False), \\\n",
    "    binary_decision(True,  values=(0, 1)), \\\n",
    "    binary_decision(False, values=(0, 1)), \\\n",
    "    binary_decision(bs), binary_decision([True, False])"
   ]
  },
  {
   "cell_type": "code",
   "execution_count": 11,
   "metadata": {},
   "outputs": [
    {
     "data": {
      "text/plain": [
       "(array([ 1, -1,  1]), array(-1))"
      ]
     },
     "execution_count": 11,
     "metadata": {},
     "output_type": "execute_result"
    }
   ],
   "source": [
    "# Another way of implementing binary_decision() (much more simple)\n",
    "np.where(np.array([True,False,True]), 1, -1), np.where(False, 1, -1)"
   ]
  },
  {
   "cell_type": "markdown",
   "metadata": {},
   "source": [
    "## Numpy data types"
   ]
  },
  {
   "cell_type": "code",
   "execution_count": 27,
   "metadata": {},
   "outputs": [
    {
     "name": "stdout",
     "output_type": "stream",
     "text": [
      "float 64 max 1.7976931348623157e+308 min -1.7976931348623157e+308\n",
      "float 64 max 9223372036854775807 min -9223372036854775808\n"
     ]
    }
   ],
   "source": [
    "# obtain max and min values of datatypes\n",
    "info_float64 = np.finfo(np.float64)\n",
    "print(\"float 64 max\", info_float64.max, \"min\", info_float64.min)\n",
    "info_int64   = np.iinfo(np.int64)\n",
    "print(\"float 64 max\", info_int64.max,   \"min\", info_int64.min)"
   ]
  },
  {
   "cell_type": "code",
   "execution_count": 28,
   "metadata": {},
   "outputs": [
    {
     "name": "stdout",
     "output_type": "stream",
     "text": [
      "dtype of int array int64\n",
      "dtype of float array float64\n"
     ]
    }
   ],
   "source": [
    "# checking the data type of arrays\n",
    "print(\"dtype of int array\", np.array([1,2,3]).dtype )\n",
    "print(\"dtype of float array\", np.array([1.,2.,3.]).dtype )"
   ]
  },
  {
   "cell_type": "code",
   "execution_count": 29,
   "metadata": {},
   "outputs": [
    {
     "name": "stdout",
     "output_type": "stream",
     "text": [
      "inf upper bounds numbers True\n",
      "inf fails as a lower bound False\n",
      "negating and comparing inf is possible True\n",
      "sorting an array with inf [ 1.  3.  4.  5. inf]\n",
      "partitioning an array with inf [ 1.  3.  4. inf  5.]\n",
      "multiply a positive and inf: inf\n",
      "multiply a 0 and inf: nan\n"
     ]
    }
   ],
   "source": [
    "# Using np.inf\n",
    "print(\"inf upper bounds numbers\", np.inf > 1)\n",
    "print(\"inf fails as a lower bound\", np.inf < 1)\n",
    "print(\"negating and comparing inf is possible\", np.inf > -np.inf)\n",
    "print(\"sorting an array with inf\", np.sort(np.array([np.inf, 5, 1, 4, 3]))  )\n",
    "print(\"partitioning an array with inf\", np.partition(np.array([np.inf, 5, 1, 4, 3]), 2)  )\n",
    "print(\"multiply a positive and inf:\", 2 * np.inf)\n",
    "print(\"multiply a 0 and inf:\", 0 * np.inf)"
   ]
  },
  {
   "cell_type": "code",
   "execution_count": 30,
   "metadata": {},
   "outputs": [
    {
     "name": "stdout",
     "output_type": "stream",
     "text": [
      "inf upper bounds numbers True\n",
      "inf fails as a lower bound False\n",
      "negating and comparing inf is possible True\n",
      "sorting an array with inf [1.00000000e+000 3.00000000e+000 4.00000000e+000 5.00000000e+000\n",
      " 1.79769313e+308]\n",
      "partitioning an array with inf [1.00000000e+000 3.00000000e+000 4.00000000e+000 1.79769313e+308\n",
      " 5.00000000e+000]\n",
      "multiply a positive and inf: inf\n",
      "add a positive and inf: 1.7976931348623157e+308\n",
      "multiply a 0 and inf: 0.0\n"
     ]
    },
    {
     "name": "stderr",
     "output_type": "stream",
     "text": [
      "<ipython-input-30-2eb8ffa5d3db>:10: RuntimeWarning: overflow encountered in double_scalars\n",
      "  print(\"multiply a positive and inf:\", 2 * float64_max)\n"
     ]
    }
   ],
   "source": [
    "# Using max float64 number\n",
    "info_float64 = np.finfo(np.float64)\n",
    "float64_max = info_float64.max\n",
    "\n",
    "print(\"inf upper bounds numbers\", float64_max > 1)\n",
    "print(\"inf fails as a lower bound\", float64_max < 1)\n",
    "print(\"negating and comparing inf is possible\", float64_max > -float64_max)\n",
    "print(\"sorting an array with inf\", np.sort(np.array([float64_max, 5, 1, 4, 3]))  )\n",
    "print(\"partitioning an array with inf\", np.partition(np.array([float64_max, 5, 1, 4, 3]), 2)  )\n",
    "print(\"multiply a positive and inf:\", 2 * float64_max)\n",
    "print(\"add a positive and inf:\", float64_max + 1)\n",
    "print(\"multiply a 0 and inf:\", 0 * float64_max)"
   ]
  },
  {
   "cell_type": "code",
   "execution_count": 31,
   "metadata": {},
   "outputs": [
    {
     "data": {
      "text/plain": [
       "(-1.7976931348623157e+308, 1.7976931348623157e+308)"
      ]
     },
     "execution_count": 31,
     "metadata": {},
     "output_type": "execute_result"
    }
   ],
   "source": [
    "# The smallest and largest float64 numbers.\n",
    "info_float64 = np.finfo(np.float64)\n",
    "float64_max = info_float64.max\n",
    "-float64_max, float64_max"
   ]
  },
  {
   "cell_type": "code",
   "execution_count": 32,
   "metadata": {},
   "outputs": [
    {
     "data": {
      "text/plain": [
       "(-9223372036854775807, 9223372036854775807)"
      ]
     },
     "execution_count": 32,
     "metadata": {},
     "output_type": "execute_result"
    }
   ],
   "source": [
    "# The smallest and largest int64 numbers.\n",
    "info_int64   = np.iinfo(np.int64)\n",
    "int64_max = info_int64.max\n",
    "-int64_max, int64_max"
   ]
  },
  {
   "cell_type": "code",
   "execution_count": 156,
   "metadata": {},
   "outputs": [
    {
     "data": {
      "text/plain": [
       "(array([[0., 1., 2.],\n",
       "        [3., 4., 5.]]),\n",
       " False,\n",
       " array([[ 0.,  1.,  2.],\n",
       "        [ 3., nan,  5.]]),\n",
       " True)"
      ]
     },
     "execution_count": 156,
     "metadata": {},
     "output_type": "execute_result"
    }
   ],
   "source": [
    "# Check that an array has any nan values\n",
    "def has_nan(a):\n",
    "    return np.isnan(np.sum(a))\n",
    "\n",
    "A = np.arange(6, dtype=float).reshape(2,3)\n",
    "B = A.copy()\n",
    "B[1,1] = np.nan\n",
    "\n",
    "A, has_nan(A), B, has_nan(B)"
   ]
  },
  {
   "cell_type": "code",
   "execution_count": 4,
   "metadata": {},
   "outputs": [
    {
     "data": {
      "text/plain": [
       "(-0.9253441944011073, array([-0.92534419,  0.92836273]))"
      ]
     },
     "execution_count": 4,
     "metadata": {},
     "output_type": "execute_result"
    }
   ],
   "source": [
    "cov = np.array([[1, 0], [0, 2]])\n",
    "X = np.random.multivariate_normal([-1, 1], cov, 100)\n",
    "X[:10]\n",
    "scipy.stats.tmean(X.T[0]), np.mean(X, axis=0)"
   ]
  },
  {
   "cell_type": "code",
   "execution_count": 13,
   "metadata": {},
   "outputs": [
    {
     "data": {
      "text/plain": [
       "(array([[O(0), O(3)],\n",
       "        [O(1), O(4)],\n",
       "        [O(2), O(5)]], dtype=object),\n",
       " array([O(-1), O(2)], dtype=object),\n",
       " array([O(6), O(7), O(8)], dtype=object))"
      ]
     },
     "execution_count": 13,
     "metadata": {},
     "output_type": "execute_result"
    }
   ],
   "source": [
    "# Sometimes it's possible to do array operations on object classes.\n",
    "# It's not possible to do this with docplex variables...\n",
    "class O():\n",
    "    def __init__(self, a):\n",
    "        self.a = a\n",
    "    def __add__(self, other):\n",
    "        return O(self.a + other.a)\n",
    "    def __mul__(self, other):\n",
    "        return O(self.a * other.a)\n",
    "    def __repr__(self):\n",
    "        return f\"O({self.a})\"\n",
    "\n",
    "A = np.array([[O(i) for i in range(3)], [O(i) for i in range(3,6)]]).T\n",
    "b = np.array([O(-1), O(2)])\n",
    "A, b, A @ b"
   ]
  },
  {
   "cell_type": "code",
   "execution_count": 7,
   "metadata": {},
   "outputs": [
    {
     "data": {
      "text/plain": [
       "[<matplotlib.lines.Line2D at 0x7f215d05dfd0>]"
      ]
     },
     "execution_count": 7,
     "metadata": {},
     "output_type": "execute_result"
    },
    {
     "data": {
      "image/png": "[encoded data removed]",
      "text/plain": [
       "<Figure size 432x288 with 1 Axes>"
      ]
     },
     "metadata": {
      "needs_background": "light"
     },
     "output_type": "display_data"
    }
   ],
   "source": [
    "degs = np.linspace(-360, 360, 2*360 + 1)\n",
    "rads = np.deg2rad(degs)\n",
    "plt.plot(degs, rads)"
   ]
  },
  {
   "cell_type": "markdown",
   "metadata": {},
   "source": [
    "## Array Manipulation and Indexing\n",
    "\n",
    "Everything that does not involve data operations.\n",
    "How to index, reshape, combine, and search through arrays."
   ]
  },
  {
   "cell_type": "code",
   "execution_count": 17,
   "metadata": {},
   "outputs": [
    {
     "data": {
      "text/plain": [
       "(array([[[ 0,  1],\n",
       "         [ 2,  3],\n",
       "         [ 4,  5]],\n",
       " \n",
       "        [[ 6,  7],\n",
       "         [ 8,  9],\n",
       "         [10, 11]]]),\n",
       " (2, 3, 2),\n",
       " (2, 2),\n",
       " array([[ 4,  5],\n",
       "        [10, 11]]))"
      ]
     },
     "execution_count": 17,
     "metadata": {},
     "output_type": "execute_result"
    }
   ],
   "source": [
    "# indexing an array using '...', '-1' and ':'\n",
    "A = np.arange(12).reshape((2,3,2))\n",
    "B = A[...,-1,:]\n",
    "A, A.shape, B.shape, B"
   ]
  },
  {
   "cell_type": "code",
   "execution_count": 29,
   "metadata": {},
   "outputs": [
    {
     "data": {
      "text/plain": [
       "(array([10, 11, 12, 13, 14]), 11, 11, array([11]), array([11, 12]))"
      ]
     },
     "execution_count": 29,
     "metadata": {},
     "output_type": "execute_result"
    }
   ],
   "source": [
    "# indexing using integers, tuples and lists\n",
    "# indexing using a non-empty list returns an ndarray containing the values at the indices in the list\n",
    "a = np.arange(5) + 10\n",
    "A = np.arange(12).reshape((2,2,3))\n",
    "a, a[1], a[(1)], a[[1]], a[[1,2]]"
   ]
  },
  {
   "cell_type": "code",
   "execution_count": 2,
   "metadata": {},
   "outputs": [
    {
     "name": "stdout",
     "output_type": "stream",
     "text": [
      "original A\n",
      "[[10 11 12]\n",
      " [13 14 15]]\n",
      "\n",
      "selecting the 2nd column\n",
      "[11 14]\n",
      "\n",
      "selecting the 3rd item of the 2nd row\n",
      "15\n",
      "\n",
      "select 2nd row and unsqueeze axis 0\n",
      "[[13 14 15]]\n",
      "\n",
      "select 2nd column and unsqueeze axis 1\n",
      "[[11]\n",
      " [14]]\n",
      "\n",
      "get the 2nd row twice, then get the 1st row\n",
      "[[13 14 15]\n",
      " [13 14 15]\n",
      " [10 11 12]]\n",
      "\n",
      "get the 1st column twice, then get the 2nd column\n",
      "[[10 10 11]\n",
      " [13 13 14]]\n"
     ]
    }
   ],
   "source": [
    "# indexing using integers, tuples and lists; more examples\n",
    "A = np.arange(6).reshape(2,3) + 10\n",
    "# original\n",
    "# selecting the second column\n",
    "# selecting the item of the second row\n",
    "util.doc.results(\n",
    "    \"original A\", A,\n",
    "    \"selecting the 2nd column\", A[:, 1],\n",
    "    \"selecting the 3rd item of the 2nd row\", A[(1,2)],\n",
    "    \"select 2nd row and unsqueeze axis 0\", A[[1]],\n",
    "    \"select 2nd column and unsqueeze axis 1\", A[:, [1]],\n",
    "    \"get the 2nd row twice, then get the 1st row\", A[[1,1,0]],\n",
    "    \"get the 1st column twice, then get the 2nd column\", A[:, [0, 0, 1]]\n",
    ")"
   ]
  },
  {
   "cell_type": "code",
   "execution_count": 3,
   "metadata": {},
   "outputs": [
    {
     "name": "stdout",
     "output_type": "stream",
     "text": [
      "original A\n",
      "[[10 11 12]\n",
      " [13 14 15]]\n",
      "\n",
      "unsqueezing index 0 with `None`\n",
      "[[[10 11 12]\n",
      "  [13 14 15]]]\n",
      "\n",
      "unsqueezing index 1 with `:,None`\n",
      "[[[10 11 12]]\n",
      "\n",
      " [[13 14 15]]]\n",
      "\n",
      "unsqueezing the last index with `...,None`\n",
      "[[[10]\n",
      "  [11]\n",
      "  [12]]\n",
      "\n",
      " [[13]\n",
      "  [14]\n",
      "  [15]]]\n",
      "\n",
      "select 2nd row \n",
      "[[13 14 15]]\n",
      "\n",
      "select 2nd column and unsqueeze axis 0\n",
      "[[11]\n",
      " [14]]\n"
     ]
    }
   ],
   "source": [
    "# unsqueezing an array using `None`\n",
    "A = np.arange(6).reshape(2,3) + 10\n",
    "util.doc.results(\n",
    "    \"original A\", A,\n",
    "    \"unsqueezing index 0 with `None`\", A[None],\n",
    "    \"unsqueezing index 1 with `:,None`\", A[:,None],\n",
    "    \"unsqueezing the last index with `...,None`\", A[...,None],\n",
    "    \"select 2nd row \", A[1, None],\n",
    "    \"select 2nd column and unsqueeze axis 0\", A[:, 1, None]\n",
    ")"
   ]
  },
  {
   "cell_type": "code",
   "execution_count": 2,
   "metadata": {},
   "outputs": [
    {
     "name": "stdout",
     "output_type": "stream",
     "text": [
      "\n",
      "         +--------+\n",
      "        / axis 0 /|\n",
      "       /  top   / |\n",
      "      /        /  |\n",
      "     /        /   |\n",
      "    +--------+ax 2|\n",
      "    |        |side|\n",
      "    | axis 1 |    +\n",
      "    | front  |   /\n",
      "    |        |  /\n",
      "    |        | /\n",
      "    |        |/\n",
      "    +--------+\n",
      "    \n",
      "\n",
      "original A\n",
      "[[[10 11]\n",
      "  [12 13]]\n",
      "\n",
      " [[14 15]\n",
      "  [16 17]]]\n",
      "\n",
      "select top of cube, preserve dimensions resulting shape (1, 2, 2)\n",
      "[[[10 11]\n",
      "  [12 13]]]\n",
      "\n",
      "select back of cube, preserve dimensions resulting shape (2, 1, 2)\n",
      "[[[12 13]]\n",
      "\n",
      " [[16 17]]]\n",
      "\n",
      "select left side of cube, preseve dimensions resulting shape (2, 2, 1)\n",
      "[[[10]\n",
      "  [12]]\n",
      "\n",
      " [[14]\n",
      "  [16]]]\n"
     ]
    }
   ],
   "source": [
    "# Adding `None` after indexing preserves dimensions.\n",
    "A = np.arange(8).reshape(2,2,2) + 10\n",
    "util.doc.results(\n",
    "    \"original A\", A,\n",
    "    f\"select top of cube, preserve dimensions resulting shape {A[0, None].shape}\",\n",
    "    A[0, None],\n",
    "    f\"select back of cube, preserve dimensions resulting shape {A[:, 1, None].shape}\",\n",
    "    A[:, 1, None],\n",
    "    f\"select left side of cube, preseve dimensions resulting shape {A[..., 0, None].shape}\",\n",
    "    A[..., 0, None],\n",
    "    start=util.doc.cube()\n",
    ")"
   ]
  },
  {
   "cell_type": "code",
   "execution_count": 12,
   "metadata": {},
   "outputs": [
    {
     "name": "stdout",
     "output_type": "stream",
     "text": [
      "What order does flattening an array using np.array.ravel() give?\n",
      "Higher dimensions are concatenated before lower dimensions.\n",
      "\n",
      "Original array\n",
      "[[[ 0  1  2  3]\n",
      "  [ 4  5  6  7]\n",
      "  [ 8  9 10 11]]\n",
      "\n",
      " [[12 13 14 15]\n",
      "  [16 17 18 19]\n",
      "  [20 21 22 23]]]\n",
      "\n",
      "Flattened array\n",
      "[ 0  1  2  3  4  5  6  7  8  9 10 11 12 13 14 15 16 17 18 19 20 21 22 23]\n"
     ]
    }
   ],
   "source": [
    "A = np.arange(24).reshape(2,3,4)\n",
    "\n",
    "util.doc.results(\n",
    "    \"Original array\", A,\n",
    "    \"Flattened array\", A.ravel(),\n",
    "start=(\n",
    "    \"What order does flattening an array using np.array.ravel() give?\\n\"\n",
    "    \"Higher dimensions are concatenated before lower dimensions.\"\n",
    "))"
   ]
  },
  {
   "cell_type": "code",
   "execution_count": 10,
   "metadata": {},
   "outputs": [
    {
     "data": {
      "text/plain": [
       "array([[1, 2],\n",
       "       [3, 4]])"
      ]
     },
     "execution_count": 10,
     "metadata": {},
     "output_type": "execute_result"
    }
   ],
   "source": [
    "# Combine an ndarray to an ndarray\n",
    "np.array([np.array([1,2]), np.array([3,4])])"
   ]
  },
  {
   "cell_type": "code",
   "execution_count": 2,
   "metadata": {},
   "outputs": [
    {
     "data": {
      "text/plain": [
       "array([[[1, 2],\n",
       "        [3, 4]],\n",
       "\n",
       "       [[5, 6],\n",
       "        [7, 8]]])"
      ]
     },
     "execution_count": 2,
     "metadata": {},
     "output_type": "execute_result"
    }
   ],
   "source": [
    "a = np.array([1,2])\n",
    "b = np.array([3,4])\n",
    "c = np.array([5,6])\n",
    "d = np.array([7,8])\n",
    "np.array([[a, b], [c, d]])"
   ]
  },
  {
   "cell_type": "code",
   "execution_count": 9,
   "metadata": {},
   "outputs": [
    {
     "data": {
      "text/plain": [
       "(array([0, 1, 2]),\n",
       " array([[0, 1, 2],\n",
       "        [0, 1, 2]]),\n",
       " array([[0, 0],\n",
       "        [1, 1],\n",
       "        [2, 2]]))"
      ]
     },
     "execution_count": 9,
     "metadata": {},
     "output_type": "execute_result"
    }
   ],
   "source": [
    "# Stack two arrays (along axis 0 by default)\n",
    "a = np.arange(3)\n",
    "b = np.arange(3)\n",
    "a, np.stack((a, b)), np.stack((a, b), axis=1)"
   ]
  },
  {
   "cell_type": "code",
   "execution_count": 8,
   "metadata": {},
   "outputs": [
    {
     "data": {
      "text/plain": [
       "(array([[0, 1],\n",
       "        [2, 3]]),\n",
       " array([[0, 1],\n",
       "        [2, 3],\n",
       "        [0, 1],\n",
       "        [2, 3]]),\n",
       " array([[0, 1, 0, 1],\n",
       "        [2, 3, 2, 3]]))"
      ]
     },
     "execution_count": 8,
     "metadata": {},
     "output_type": "execute_result"
    }
   ],
   "source": [
    "# Concatenate two arrays (along axis 0 by default)\n",
    "A = np.arange(4).reshape((2,2,))\n",
    "B = np.arange(4).reshape((2,2,))\n",
    "A, np.concatenate((A,B)), np.concatenate((A,B), axis=1)"
   ]
  },
  {
   "cell_type": "code",
   "execution_count": 13,
   "metadata": {},
   "outputs": [
    {
     "data": {
      "text/plain": [
       "(array([[0, 1],\n",
       "        [2, 3],\n",
       "        [4, 5]]),\n",
       " array([[-1,  1],\n",
       "        [ 0,  1],\n",
       "        [ 2,  3],\n",
       "        [ 4,  5],\n",
       "        [-1,  1]]))"
      ]
     },
     "execution_count": 13,
     "metadata": {},
     "output_type": "execute_result"
    }
   ],
   "source": [
    "# Appending a row to the top and bottom of matrix A.\n",
    "A = np.arange(6).reshape((3, 2,))\n",
    "a = np.array([-1, 1])\n",
    "A, np.concatenate((a[None], A, a[None]))"
   ]
  },
  {
   "cell_type": "code",
   "execution_count": 3,
   "metadata": {},
   "outputs": [
    {
     "data": {
      "text/plain": [
       "array([5, 3, 1, 4, 6, 5])"
      ]
     },
     "execution_count": 3,
     "metadata": {},
     "output_type": "execute_result"
    }
   ],
   "source": [
    "# select subarray using another array as indices\n",
    "a = np.array([5,3,6,1,4])\n",
    "b = np.array([0,1,3,4,2,0])\n",
    "a[b]"
   ]
  },
  {
   "cell_type": "code",
   "execution_count": 2,
   "metadata": {},
   "outputs": [
    {
     "data": {
      "text/plain": [
       "(array([[1, 2],\n",
       "        [7, 8],\n",
       "        [3, 4],\n",
       "        [7, 8],\n",
       "        [1, 2],\n",
       "        [7, 8]]),\n",
       " array([[1, 2],\n",
       "        [7, 8],\n",
       "        [3, 4],\n",
       "        [7, 8],\n",
       "        [1, 2],\n",
       "        [7, 8]]))"
      ]
     },
     "execution_count": 2,
     "metadata": {},
     "output_type": "execute_result"
    }
   ],
   "source": [
    "# select row of a matrix using another array as indices, alternatively using np.take()\n",
    "a = np.array([[1,2],[3,4],[5,6],[7,8]])\n",
    "indices = np.array([0,3,1,3,0,3])\n",
    "a[indices], np.take(a, indices, axis=0)"
   ]
  },
  {
   "cell_type": "code",
   "execution_count": 10,
   "metadata": {},
   "outputs": [
    {
     "name": "stdout",
     "output_type": "stream",
     "text": [
      "vector a\n",
      "[0 1 2 0 1 2]\n",
      "\n",
      "indices i of a s.t. a[i] == 1\n",
      "[[1]\n",
      " [4]]\n",
      "\n",
      "indices i of a s.t. a[i] == 1 (flattened)\n",
      "[1 4]\n",
      "\n",
      "Extracting values from indices of argwhere()\n",
      "[1 1]\n",
      "\n",
      "indices i of a s.t. a[i] is nonzero\n",
      "(array([1, 4]),)\n"
     ]
    }
   ],
   "source": [
    "# Get the indices of entries in the array that satisfy a condition\n",
    "# np.argwhere() returns a np.array\n",
    "# np.nonzero() returns a tuple of numpy arrays \n",
    "a = np.concatenate((np.arange(3), np.arange(3)))\n",
    "ind = np.argwhere(a == 1).ravel()\n",
    "util.doc.results(\n",
    "    \"vector a\", a,\n",
    "    \"indices i of a s.t. a[i] == 1\", np.argwhere(a == 1),\n",
    "    \"indices i of a s.t. a[i] == 1 (flattened)\", np.argwhere(a == 1).ravel(),\n",
    "    \"Extracting values from indices of np.argwhere()\", a[ind],\n",
    "    \"indices i of a s.t. a[i] is nonzero\", np.nonzero(a == 1)\n",
    ")"
   ]
  },
  {
   "cell_type": "code",
   "execution_count": 7,
   "metadata": {},
   "outputs": [
    {
     "data": {
      "text/plain": [
       "(1, 2)"
      ]
     },
     "execution_count": 7,
     "metadata": {},
     "output_type": "execute_result"
    }
   ],
   "source": [
    "# Get the index of the first appearance.  \n",
    "v = np.array([0, 2 ,1, 1, 2, 0])\n",
    "i = np.argwhere(v == 2)[0, 0]\n",
    "i, v[i]"
   ]
  },
  {
   "cell_type": "code",
   "execution_count": 2,
   "metadata": {},
   "outputs": [
    {
     "data": {
      "text/plain": [
       "(array([[ 0,  1,  2,  3],\n",
       "        [ 4,  5,  6,  7],\n",
       "        [ 8,  9, 10, 11],\n",
       "        [12, 13, 14, 15]]),\n",
       " array([ 6,  0, 15,  9,  5]),\n",
       " array([ 6,  0, 15,  9,  5]))"
      ]
     },
     "execution_count": 2,
     "metadata": {},
     "output_type": "execute_result"
    }
   ],
   "source": [
    "# Indexing from A using a list of indices B\n",
    "A = np.arange(16).reshape((4,4,))\n",
    "B = np.array([\n",
    "        [1, 2],\n",
    "        [0, 0],\n",
    "        [3, 3],\n",
    "        [2, 1],\n",
    "        [1, 1]])\n",
    "A, A[tuple(B.T)], A[B.T[0], B.T[1]]"
   ]
  },
  {
   "cell_type": "code",
   "execution_count": 7,
   "metadata": {},
   "outputs": [
    {
     "data": {
      "text/plain": [
       "(array([0, 1, 0, 1, 0]), array([1, 2, 3]))"
      ]
     },
     "execution_count": 7,
     "metadata": {},
     "output_type": "execute_result"
    }
   ],
   "source": [
    "# np.where() is an indicator function for value 2, np.unique() gets the unique values\n",
    "a = np.array([1,2,3,2,1])\n",
    "np.where(a == 2, 1, 0), np.unique(a)"
   ]
  },
  {
   "cell_type": "code",
   "execution_count": 17,
   "metadata": {},
   "outputs": [
    {
     "data": {
      "text/plain": [
       "array([[ 0,  1,  2,  3],\n",
       "       [ 4,  5,  6,  7],\n",
       "       [ 8,  9, 10, 11]])"
      ]
     },
     "execution_count": 17,
     "metadata": {},
     "output_type": "execute_result"
    }
   ],
   "source": [
    "# easily generate dummy arrays with arbitrary shapes\n",
    "np.arange(12).reshape((3,4))"
   ]
  },
  {
   "cell_type": "code",
   "execution_count": 51,
   "metadata": {},
   "outputs": [
    {
     "data": {
      "text/plain": [
       "array([[[0, 1],\n",
       "        [2, 3],\n",
       "        [4, 5]],\n",
       "\n",
       "       [[0, 1],\n",
       "        [6, 7],\n",
       "        [8, 9]],\n",
       "\n",
       "       [[0, 1],\n",
       "        [2, 3],\n",
       "        [4, 5]]])"
      ]
     },
     "execution_count": 51,
     "metadata": {},
     "output_type": "execute_result"
    }
   ],
   "source": [
    "# adding a vector in front of multiple arrays\n",
    "a = np.arange(2)\n",
    "A = np.array([\n",
    "    [[2,3],[4,5]],\n",
    "    [[6,7],[8,9]],\n",
    "    [[2,3],[4,5]]\n",
    "])\n",
    "a = np.repeat(a[None], 3, axis=0)[:, None]\n",
    "# add vector [0,1] to the front of each sub-array\n",
    "np.concatenate((a, A), axis=1)"
   ]
  },
  {
   "cell_type": "code",
   "execution_count": 6,
   "metadata": {},
   "outputs": [
    {
     "data": {
      "text/plain": [
       "((3, 2, 2),\n",
       " (3, 4, 2),\n",
       " array([[[ 0,  1],\n",
       "         [ 2,  3]],\n",
       " \n",
       "        [[ 4,  5],\n",
       "         [ 6,  7]],\n",
       " \n",
       "        [[ 8,  9],\n",
       "         [10, 11]]]),\n",
       " array([[[ 0,  1],\n",
       "         [ 2,  3],\n",
       "         [ 0,  1],\n",
       "         [ 2,  3]],\n",
       " \n",
       "        [[ 4,  5],\n",
       "         [ 6,  7],\n",
       "         [ 4,  5],\n",
       "         [ 6,  7]],\n",
       " \n",
       "        [[ 8,  9],\n",
       "         [10, 11],\n",
       "         [ 8,  9],\n",
       "         [10, 11]]]))"
      ]
     },
     "execution_count": 6,
     "metadata": {},
     "output_type": "execute_result"
    }
   ],
   "source": [
    "A = np.arange(12).reshape((3,2,2))\n",
    "Ap = np.tile(A, (2,1))\n",
    "A.shape, Ap.shape, A, Ap"
   ]
  },
  {
   "cell_type": "code",
   "execution_count": 12,
   "metadata": {},
   "outputs": [
    {
     "data": {
      "text/plain": [
       "(array([1, 2]),\n",
       " array([[[1, 2]],\n",
       " \n",
       "        [[1, 2]],\n",
       " \n",
       "        [[1, 2]]]),\n",
       " (3, 1, 2))"
      ]
     },
     "execution_count": 12,
     "metadata": {},
     "output_type": "execute_result"
    }
   ],
   "source": [
    "\"\"\"\n",
    "[\n",
    "    [\n",
    "        [1, 2]\n",
    "    ],\n",
    "    [\n",
    "        [1, 2]\n",
    "    ]\n",
    "]\n",
    "\"\"\"\n",
    "a = np.array([1,2])\n",
    "ap = np.tile(a, (3,1,1))\n",
    "a, ap, ap.shape"
   ]
  },
  {
   "cell_type": "code",
   "execution_count": 2,
   "metadata": {},
   "outputs": [
    {
     "name": "stdout",
     "output_type": "stream",
     "text": [
      "[array([0, 1, 2]), array([1, 2]), array([-1,  0])]\n",
      "\n",
      "[[ 0  1 -1]\n",
      " [ 0  1  0]\n",
      " [ 0  2 -1]\n",
      " [ 0  2  0]\n",
      " [ 1  1 -1]\n",
      " [ 1  1  0]\n",
      " [ 1  2 -1]\n",
      " [ 1  2  0]\n",
      " [ 2  1 -1]\n",
      " [ 2  1  0]\n",
      " [ 2  2 -1]\n",
      " [ 2  2  0]]\n",
      "\n",
      "[[0 1]\n",
      " [1 1]\n",
      " [2 1]\n",
      " [0 2]\n",
      " [1 2]\n",
      " [2 2]]\n"
     ]
    }
   ],
   "source": [
    "# Cartesian product of multiple arrays\n",
    "\n",
    "# Based on:\n",
    "# https://stackoverflow.com/questions/11144513/cartesian-product-of-x-and-y-array-points-into-single-array-of-2d-points\n",
    "\n",
    "def cartesian_product(*arrays):\n",
    "    la = len(arrays)\n",
    "    dtype = np.result_type(*arrays)\n",
    "    arr = np.empty([len(a) for a in arrays] + [la], dtype=dtype)\n",
    "    for i, a in enumerate(np.ix_(*arrays)):\n",
    "        arr[...,i] = a\n",
    "    return arr.reshape(-1, la)\n",
    "\n",
    "x = [np.arange(3), np.arange(2) + 1, np.arange(2) - 1]\n",
    "print(x)\n",
    "print()\n",
    "print( cartesian_product(*x) )\n",
    "print()\n",
    "\n",
    "# Cartesian product of two arrays\n",
    "x, y = x[0], x[1]\n",
    "print(np.transpose([np.tile(x, len(y)), np.repeat(y, len(x))]))"
   ]
  },
  {
   "cell_type": "code",
   "execution_count": 3,
   "metadata": {
    "scrolled": false
   },
   "outputs": [
    {
     "data": {
      "text/plain": [
       "((3, 2, 2, 2),\n",
       " (3, 4, 2),\n",
       " array([[[[ 0,  1],\n",
       "          [ 2,  3]],\n",
       " \n",
       "         [[ 4,  5],\n",
       "          [ 6,  7]]],\n",
       " \n",
       " \n",
       "        [[[ 8,  9],\n",
       "          [10, 11]],\n",
       " \n",
       "         [[12, 13],\n",
       "          [14, 15]]],\n",
       " \n",
       " \n",
       "        [[[16, 17],\n",
       "          [18, 19]],\n",
       " \n",
       "         [[20, 21],\n",
       "          [22, 23]]]]),\n",
       " array([[[ 0,  1],\n",
       "         [ 2,  3],\n",
       "         [ 4,  5],\n",
       "         [ 6,  7]],\n",
       " \n",
       "        [[ 8,  9],\n",
       "         [10, 11],\n",
       "         [12, 13],\n",
       "         [14, 15]],\n",
       " \n",
       "        [[16, 17],\n",
       "         [18, 19],\n",
       "         [20, 21],\n",
       "         [22, 23]]]))"
      ]
     },
     "execution_count": 3,
     "metadata": {},
     "output_type": "execute_result"
    }
   ],
   "source": [
    "# Combine dimensions\n",
    "def combine_dims(a, start, count):\n",
    "    \"\"\" Reshapes numpy array a by combining count dimensions, \n",
    "        starting at dimension index start \"\"\"\n",
    "    s = a.shape\n",
    "    return np.reshape(a, s[:start] + (-1,) + s[start+count:])\n",
    "\n",
    "A = np.arange(24).reshape((3, 2, 2, 2))\n",
    "B = combine_dims(A, 1, 2)\n",
    "A.shape, B.shape, A, B"
   ]
  },
  {
   "cell_type": "code",
   "execution_count": 19,
   "metadata": {},
   "outputs": [
    {
     "data": {
      "text/plain": [
       "array([0, 0, 0, 1, 1, 1, 2, 2, 2, 3, 3, 3, 4, 4, 4])"
      ]
     },
     "execution_count": 19,
     "metadata": {},
     "output_type": "execute_result"
    }
   ],
   "source": [
    "# Combining Python list comprehension with array creation\n",
    "n_steps = 5\n",
    "np.array([step for step in range(n_steps) for _ in range(3)])"
   ]
  },
  {
   "cell_type": "code",
   "execution_count": 45,
   "metadata": {},
   "outputs": [
    {
     "data": {
      "text/plain": [
       "array([[-1,  2,  3],\n",
       "       [-1,  1,  0]])"
      ]
     },
     "execution_count": 45,
     "metadata": {},
     "output_type": "execute_result"
    }
   ],
   "source": [
    "# Find index of first occurance of True along an axis\n",
    "# Based on:\n",
    "# https://stackoverflow.com/questions/47269390/how-to-find-first-non-zero-value-in-every-column-of-a-numpy-array\n",
    "\n",
    "def first_nonzero(arr, axis, invalid_val=-1):\n",
    "    mask = arr!=0\n",
    "    return np.where(mask.any(axis=axis), mask.argmax(axis=axis), invalid_val)\n",
    "\n",
    "\"\"\"\n",
    "A = array([[[False, False, False, False],\n",
    "            [False, False,  True,  True],\n",
    "            [False, False, False,  True]],\n",
    "\n",
    "           [[False, False, False, False],\n",
    "            [False,  True,  True,  True],\n",
    "            [ True,  True,  True,  True]]])\n",
    "\"\"\"\n",
    "A = np.zeros((2,3,4), dtype=bool)\n",
    "A[0,1,2:] = True\n",
    "A[0,2,3:] = True\n",
    "A[1,1,1:] = True\n",
    "A[1,2,0:] = True\n",
    "first_nonzero(A, 2)"
   ]
  },
  {
   "cell_type": "code",
   "execution_count": 39,
   "metadata": {},
   "outputs": [
    {
     "data": {
      "text/plain": [
       "array([[[0.1, 0.1, 0.1, 0.1],\n",
       "        [0.1, 0.1, 1. , 1. ],\n",
       "        [0.1, 0.1, 0.1, 1. ]],\n",
       "\n",
       "       [[0.1, 0.1, 0.1, 0.1],\n",
       "        [0.1, 1. , 1. , 1. ],\n",
       "        [1. , 1. , 1. , 1. ]]])"
      ]
     },
     "execution_count": 39,
     "metadata": {},
     "output_type": "execute_result"
    }
   ],
   "source": [
    "# programmically filling in an array B using a mask of B with same dimension\n",
    "A = np.zeros((2,3,4), dtype=bool)\n",
    "A[0,1,2:] = True\n",
    "A[0,2,3:] = True\n",
    "A[1,1,1:] = True\n",
    "A[1,2,0:] = True\n",
    "B = np.zeros(A.shape)\n",
    "B[A] = 1\n",
    "B[~A] = 0.1\n",
    "B"
   ]
  },
  {
   "cell_type": "code",
   "execution_count": 52,
   "metadata": {},
   "outputs": [
    {
     "data": {
      "text/plain": [
       "(array([[-6, -5, -4, -3],\n",
       "        [-2, -1,  0,  1],\n",
       "        [ 2,  3,  4,  5]]),\n",
       " array([[-1, -1, -1, -1],\n",
       "        [-1, -1,  0,  1],\n",
       "        [ 1,  1,  1,  1]]))"
      ]
     },
     "execution_count": 52,
     "metadata": {},
     "output_type": "execute_result"
    }
   ],
   "source": [
    "# splitting the array using np.where()\n",
    "A = np.arange(12).reshape(3, 4) - 6\n",
    "A, np.where(A < 0, -1, 0) + np.where(A > 0, 1, 0)"
   ]
  },
  {
   "cell_type": "code",
   "execution_count": 5,
   "metadata": {},
   "outputs": [
    {
     "data": {
      "text/plain": [
       "(array([False, False]), array([ True,  True]))"
      ]
     },
     "execution_count": 5,
     "metadata": {},
     "output_type": "execute_result"
    }
   ],
   "source": [
    "np.array([True, False]) & np.array([False, True]), np.array([True, False]) | np.array([False, True])"
   ]
  },
  {
   "cell_type": "code",
   "execution_count": 3,
   "metadata": {},
   "outputs": [
    {
     "name": "stdout",
     "output_type": "stream",
     "text": [
      "Numbers in tha array [0,0,1] less than 0.5\n",
      "[ True  True False]\n",
      "\n",
      "Numbers in tha array [2,0,1] greater than 0.5\n",
      "[ True False  True]\n",
      "\n",
      "& the above two results\n",
      "[ True False False]\n"
     ]
    }
   ],
   "source": [
    "util.doc.results(\n",
    "    \"Numbers in tha array [0,0,1] less than 0.5\", np.array([0,0,1]) < 0.5,\n",
    "    \"Numbers in tha array [2,0,1] greater than 0.5\", np.array([2,0,1]) > 0.5,\n",
    "    \"& the above two results\", (np.array([0,0,1]) < 0.5) & (np.array([2,0,1]) > 0.5)\n",
    ")"
   ]
  },
  {
   "cell_type": "code",
   "execution_count": 37,
   "metadata": {},
   "outputs": [
    {
     "name": "stdout",
     "output_type": "stream",
     "text": [
      "Original array\n",
      "[[[0 1]\n",
      "  [2 3]]\n",
      "\n",
      " [[4 5]\n",
      "  [6 7]]]\n",
      "\n",
      "repeat items and flatten\n",
      "[0 0 1 1 2 2 3 3 4 4 5 5 6 6 7 7]\n",
      "\n",
      "repeat along axis 0\n",
      "[[[0 1]\n",
      "  [2 3]]\n",
      "\n",
      " [[0 1]\n",
      "  [2 3]]\n",
      "\n",
      " [[4 5]\n",
      "  [6 7]]\n",
      "\n",
      " [[4 5]\n",
      "  [6 7]]]\n",
      "\n",
      "repeat along axis 1\n",
      "[[[0 1]\n",
      "  [0 1]\n",
      "  [2 3]\n",
      "  [2 3]]\n",
      "\n",
      " [[4 5]\n",
      "  [4 5]\n",
      "  [6 7]\n",
      "  [6 7]]]\n",
      "\n",
      "repeat along axis 2\n",
      "[[[0 0 1 1]\n",
      "  [2 2 3 3]]\n",
      "\n",
      " [[4 4 5 5]\n",
      "  [6 6 7 7]]]\n"
     ]
    }
   ],
   "source": [
    "A = np.arange(8).reshape(2,2,2)\n",
    "\n",
    "A, np.repeat(A, 2)\n",
    "util.doc.results(\n",
    "    \"Original array\", A,\n",
    "    \"repeat items and flatten\", np.repeat(A, 2),\n",
    "    \"repeat along axis 0\", np.repeat(A, 2, axis=0),\n",
    "    \"repeat along axis 1\", np.repeat(A, 2, axis=1),\n",
    "    \"repeat along axis 2\", np.repeat(A, 2, axis=2)\n",
    ")"
   ]
  },
  {
   "cell_type": "code",
   "execution_count": 32,
   "metadata": {},
   "outputs": [
    {
     "name": "stdout",
     "output_type": "stream",
     "text": [
      "Repeating an vector using np.repeat()\n",
      "\n",
      "Original vector\n",
      "[0 1 2]\n",
      "\n",
      "Repeat axis 0\n",
      "[0 0 0 1 1 1 2 2 2]\n",
      "\n",
      "Stack repetitions along unsqueezed axis 0\n",
      "[[0 1 2]\n",
      " [0 1 2]\n",
      " [0 1 2]]\n"
     ]
    }
   ],
   "source": [
    "a = np.arange(3)\n",
    "util.doc.results(\n",
    "    \"Original vector\", a,\n",
    "    \"Repeat items\", np.repeat(a, 3),\n",
    "    \"Stack repetitions along unsqueezed axis 0\", np.repeat(a[None], 3, axis=0),\n",
    "start=\"Repeating an vector using np.repeat()\")"
   ]
  },
  {
   "cell_type": "code",
   "execution_count": 20,
   "metadata": {},
   "outputs": [
    {
     "name": "stdout",
     "output_type": "stream",
     "text": [
      "\n",
      "         +--------+\n",
      "        / axis 0 /|\n",
      "       /  top   / |\n",
      "      /        /  |\n",
      "     /        /   |\n",
      "    +--------+ax 2|\n",
      "    |        |side|\n",
      "    | axis 1 |    +\n",
      "    | front  |   /\n",
      "    |        |  /\n",
      "    |        | /\n",
      "    |        |/\n",
      "    +--------+\n",
      "    \n",
      "\n",
      "original A\n",
      "[[[ 0  1]\n",
      "  [ 2  3]\n",
      "  [ 4  5]]\n",
      "\n",
      " [[ 6  7]\n",
      "  [ 8  9]\n",
      "  [10 11]]]\n",
      "\n",
      "pad right side\n",
      "[[[ 0  1  1]\n",
      "  [ 2  3  1]\n",
      "  [ 4  5  1]]\n",
      "\n",
      " [[ 6  7  1]\n",
      "  [ 8  9  1]\n",
      "  [10 11  1]]]\n",
      "\n",
      "pad front\n",
      "[[[ 0  1]\n",
      "  [ 2  3]\n",
      "  [ 4  5]\n",
      "  [ 1  1]]\n",
      "\n",
      " [[ 6  7]\n",
      "  [ 8  9]\n",
      "  [10 11]\n",
      "  [ 1  1]]]\n",
      "\n",
      "pad bottom\n",
      "[[[ 0  1]\n",
      "  [ 2  3]\n",
      "  [ 4  5]]\n",
      "\n",
      " [[ 6  7]\n",
      "  [ 8  9]\n",
      "  [10 11]]\n",
      "\n",
      " [[ 1  1]\n",
      "  [ 1  1]\n",
      "  [ 1  1]]]\n"
     ]
    }
   ],
   "source": [
    "A = np.arange(12).reshape(2, 3, 2)\n",
    "util.doc.results(\n",
    "    \"original A\", A,\n",
    "    \"pad right side\", np.pad(A, [(0,0), (0,0), (0,1)], mode=\"constant\", constant_values=1),\n",
    "    \"pad front\", np.pad(A, [(0,0), (0,1), (0,0)], mode=\"constant\", constant_values=1),\n",
    "    \"pad bottom\", np.pad(A, [(0,1), (0,0), (0,0)], mode=\"constant\", constant_values=1),\n",
    "    start=util.doc.cube()\n",
    ")"
   ]
  },
  {
   "cell_type": "markdown",
   "metadata": {},
   "source": [
    "## Data Tabulation and Algorithms"
   ]
  },
  {
   "cell_type": "code",
   "execution_count": 11,
   "metadata": {},
   "outputs": [
    {
     "data": {
      "text/plain": [
       "array([3, 2])"
      ]
     },
     "execution_count": 11,
     "metadata": {},
     "output_type": "execute_result"
    }
   ],
   "source": [
    "# count the occurances of integers\n",
    "np.bincount([0,0,1,1,0])"
   ]
  },
  {
   "cell_type": "code",
   "execution_count": 21,
   "metadata": {},
   "outputs": [
    {
     "data": {
      "image/png": "[encoded data removed]",
      "text/plain": [
       "<Figure size 432x288 with 1 Axes>"
      ]
     },
     "metadata": {
      "needs_background": "light"
     },
     "output_type": "display_data"
    }
   ],
   "source": [
    "# Sampling from uniform 2D\n",
    "N = 100\n",
    "X = np.random.uniform(low=(0.0, -2.0), high=(1.0, 2.0), size=(N,2))\n",
    "X = X.T\n",
    "plt.scatter(X[0], X[1], s=1)\n",
    "plt.xlim([-5,5])\n",
    "plt.ylim([-5,5])\n",
    "plt.gca().set_aspect('equal')"
   ]
  },
  {
   "cell_type": "code",
   "execution_count": 14,
   "metadata": {},
   "outputs": [
    {
     "data": {
      "text/plain": [
       "Text(0.5, 1.0, 'Histogram')"
      ]
     },
     "execution_count": 14,
     "metadata": {},
     "output_type": "execute_result"
    },
    {
     "data": {
      "image/png": "[encoded data removed]",
      "text/plain": [
       "<Figure size 432x288 with 1 Axes>"
      ]
     },
     "metadata": {
      "needs_background": "light"
     },
     "output_type": "display_data"
    }
   ],
   "source": [
    "# Generate a histogram\n",
    "rng = np.random.RandomState(10)\n",
    "a = np.hstack((rng.normal(size=1000),\n",
    "               rng.normal(loc=5, scale=2, size=1000)))\n",
    "_ = plt.hist(a, bins='auto')\n",
    "plt.title(\"Histogram\")"
   ]
  },
  {
   "cell_type": "code",
   "execution_count": 20,
   "metadata": {},
   "outputs": [
    {
     "data": {
      "text/plain": [
       "array([ 0,  1,  2,  7,  5,  6, 10,  3])"
      ]
     },
     "execution_count": 20,
     "metadata": {},
     "output_type": "execute_result"
    }
   ],
   "source": [
    "# does partitioning of the array so that the 1 to k-1-th smallest elements in the array are \n",
    "# moved to the left of the array, the k-th smallest element is moved to the k-th place in the array\n",
    "# and the rest of the larger elements are move to the right of the array\n",
    "a = np.array([5,3,10,7,0,6,2,1])\n",
    "\n",
    "np.testing.assert_array_equal(np.partition(a, 2), a[np.argpartition(a, 2)])\n",
    "\n",
    "np.partition(a, 2)"
   ]
  },
  {
   "cell_type": "code",
   "execution_count": 28,
   "metadata": {},
   "outputs": [
    {
     "data": {
      "text/plain": [
       "(array([5, 6, 9, 8, 6, 0, 0, 2, 1, 8]), array([0, 0, 1, 2, 5, 6, 6, 8, 8, 9]))"
      ]
     },
     "execution_count": 28,
     "metadata": {},
     "output_type": "execute_result"
    }
   ],
   "source": [
    "# Sorting an array in place\n",
    "a = np.random.randint(10, size=10)\n",
    "b = a.copy()\n",
    "b.sort()\n",
    "a, b"
   ]
  },
  {
   "cell_type": "code",
   "execution_count": 29,
   "metadata": {},
   "outputs": [
    {
     "data": {
      "text/plain": [
       "(array([ 5,  6,  7,  8,  9, 10, 11, 12, 13, 14]),\n",
       " array([ 0,  1,  2,  3,  4, 15, 16, 17, 18, 19, 20, 21, 22, 23, 24]))"
      ]
     },
     "execution_count": 29,
     "metadata": {},
     "output_type": "execute_result"
    }
   ],
   "source": [
    "# np.in1d() tests whether each element of a 1-D array is also present in a second array.\n",
    "a = np.arange(25)\n",
    "b = np.arange(5,15)\n",
    "intersection_mask = np.in1d(a, b)\n",
    "difference_mask = np.in1d(a, b, invert=True)\n",
    "a[intersection_mask], a[difference_mask]"
   ]
  },
  {
   "cell_type": "code",
   "execution_count": 37,
   "metadata": {},
   "outputs": [
    {
     "data": {
      "text/plain": [
       "(array([1., 2., 4., 4., 4., 1.]), array([ 1.,  3.,  7., 11., 15., 16.]))"
      ]
     },
     "execution_count": 37,
     "metadata": {},
     "output_type": "execute_result"
    }
   ],
   "source": [
    "def consecutive_points_distances(X):\n",
    "    d = np.diff(X, axis=0)**2\n",
    "    return np.sqrt(d.sum(axis=1) if d.ndim > 1 else d)\n",
    "\n",
    "def cumulative_points_distances(X):\n",
    "    return np.cumsum(consecutive_points_distances(X))\n",
    "\n",
    "points1 = np.array([1,2,4,8,4,0,1])\n",
    "points2 = np.array([\n",
    "    [  1, 2],\n",
    "    [ -1, 1],\n",
    "    [  1, 0],\n",
    "    [  2, 1],\n",
    "    [  2, 4],\n",
    "    [  0, 3],\n",
    "    [ -1, 3]\n",
    "])\n",
    "points3 = np.array([\n",
    "    [0, 0, 0],\n",
    "    [0, 2, 1],\n",
    "    [1, 2, 0],\n",
    "    [1, -2, 0],\n",
    "    [0, -1, 1]\n",
    "])\n",
    "points = [points1, points2, points3]\n",
    "points = points[0]\n",
    "\n",
    "np.set_printoptions(precision=3)\n",
    "consecutive_points_distances(points), cumulative_points_distances(points)"
   ]
  },
  {
   "cell_type": "code",
   "execution_count": 13,
   "metadata": {},
   "outputs": [
    {
     "data": {
      "text/plain": [
       "[<matplotlib.lines.Line2D at 0x7fe895b7d0a0>]"
      ]
     },
     "execution_count": 13,
     "metadata": {},
     "output_type": "execute_result"
    },
    {
     "data": {
      "image/png": "[encoded data removed]",
      "text/plain": [
       "<Figure size 432x288 with 1 Axes>"
      ]
     },
     "metadata": {
      "needs_background": "light"
     },
     "output_type": "display_data"
    }
   ],
   "source": [
    "# Moving average\n",
    "# Based on\n",
    "# https://stackoverflow.com/questions/14313510/how-to-calculate-rolling-moving-average-using-python-numpy-scipy\n",
    "\n",
    "def moving_average(a, n=3) :\n",
    "    ret = np.cumsum(a, dtype=float)\n",
    "    ret[n:] = ret[n:] - ret[:-n]\n",
    "    return ret[n - 1:] / n\n",
    "\n",
    "def f(a, n):\n",
    "    \"\"\"Zero out beginning of last axis\"\"\"\n",
    "    pad_width = [(0, 0) for _ in range(a.ndim - 1)] + [(n, 0)]\n",
    "    return np.pad(a, pad_width, mode='constant', constant_values=0)\n",
    "\n",
    "a = np.concatenate((\n",
    "    np.arange(-10, 10),\n",
    "    np.flip(np.arange(1, 9)),\n",
    "    np.arange(2, 20)\n",
    "))\n",
    "fig = plt.figure()\n",
    "ax = fig.add_subplot(111)\n",
    "ax.plot(a)\n",
    "ax.plot(f(moving_average(a, n=5), 4))\n",
    "ax.plot(f(moving_average(a, n=10), 9))"
   ]
  },
  {
   "cell_type": "code",
   "execution_count": 11,
   "metadata": {},
   "outputs": [
    {
     "data": {
      "text/plain": [
       "[]"
      ]
     },
     "execution_count": 11,
     "metadata": {},
     "output_type": "execute_result"
    }
   ],
   "source": [
    "[*range(0)]"
   ]
  },
  {
   "cell_type": "markdown",
   "metadata": {},
   "source": [
    "## Matrix Math"
   ]
  },
  {
   "cell_type": "code",
   "execution_count": 9,
   "metadata": {},
   "outputs": [
    {
     "data": {
      "text/plain": [
       "(matrix([[-0.5, -2. ]]), array([-0.5, -2. ]))"
      ]
     },
     "execution_count": 9,
     "metadata": {},
     "output_type": "execute_result"
    }
   ],
   "source": [
    "# Don't use np.matrix, instead convert it to np.array before doing operations with it.\n",
    "# See:\n",
    "# https://stackoverflow.com/questions/53254738/deprecation-status-of-the-numpy-matrix-class\n",
    "A = np.matrix([\n",
    "        [-0.5, 0],\n",
    "        [ 0,   2]])\n",
    "b = np.array([1,-1])\n",
    "A @ b, np.array(A) @ b"
   ]
  },
  {
   "cell_type": "markdown",
   "metadata": {},
   "source": [
    "## Scratch work"
   ]
  },
  {
   "cell_type": "code",
   "execution_count": null,
   "metadata": {},
   "outputs": [],
   "source": [
    "A = np.full((3,2,4), 1)\n",
    "A, np.apply_over_axes(np.sum, A, (0,1))"
   ]
  },
  {
   "cell_type": "code",
   "execution_count": null,
   "metadata": {},
   "outputs": [],
   "source": [
    "# Based on:\n",
    "# https://stackoverflow.com/questions/3654289/scipy-create-2d-polygon-mask\n",
    "\n",
    "width, height=2000, 2000\n",
    "\n",
    "# can't draw line segments\n",
    "polygon=[(0.1*width, 0.1*height), (0.15*width, 0.7*height), (0.8*width, 0.75*height), (0.72*width, 0.15*height)]\n",
    "poly_path=Path(polygon)\n",
    "\n",
    "x, y = np.mgrid[:height, :width]\n",
    "coors=np.hstack((x.reshape(-1, 1), y.reshape(-1,1))) # coors.shape is (4000000,2)\n",
    "\n",
    "mask = poly_path.contains_points(coors)\n",
    "plt.imshow(mask.reshape(height, width))"
   ]
  },
  {
   "cell_type": "code",
   "execution_count": null,
   "metadata": {},
   "outputs": [],
   "source": [
    "# Based on:\n",
    "# https://stackoverflow.com/questions/18632276/how-to-draw-a-line-on-an-image-in-opencv\n",
    "# API is:\n",
    "# https://docs.opencv.org/4.5.2/d6/d6e/group__imgproc__draw.html\n",
    "\n",
    "width, height = 150, 150\n",
    "x1, y1 = 0, 0\n",
    "x2, y2 = 100, 100\n",
    "image = np.ones((height, width)) * 255\n",
    "print(image.shape)\n",
    "\n",
    "line_thickness = 1\n",
    "img = cv.line(image, (x1, y1), (x2, y2), (0, 255, 0), thickness=line_thickness)\n",
    "\n",
    "cv.fillPoly(imgage, pts, color[, lineType[, shift[, offset]]]\t)\n",
    "\n",
    "plt.imshow(image.T)"
   ]
  },
  {
   "cell_type": "code",
   "execution_count": 45,
   "metadata": {},
   "outputs": [
    {
     "data": {
      "text/plain": [
       "array([50, 54, 58, 62])"
      ]
     },
     "execution_count": 45,
     "metadata": {},
     "output_type": "execute_result"
    }
   ],
   "source": [
    "n = 4\n",
    "A = np.arange(8*n).reshape((-1,8))\n",
    "B = np.array([[2, 0],[0, 1], [0, 2]])\n",
    "\"\"\"\n",
    "array([[ 0,  1,  2,  3,  4,  5,  6,  7],\n",
    "       [ 8,  9, 10, 11, 12, 13, 14, 15],\n",
    "       [16, 17, 18, 19, 20, 21, 22, 23],\n",
    "       [24, 25, 26, 27, 28, 29, 30, 31]])\n",
    "\"\"\"\n",
    "Ap = np.stack((A[:, 0:2].T, A[:, 2:4].T, A[:, 4:6].T, A[:, 6:8].T))\n",
    "C = np.einsum(\"ij,...jk->...ik\", B, Ap)\n",
    "\"\"\"\n",
    "array([[[ 0, 16, 32, 48],\n",
    "        [ 1,  9, 17, 25],\n",
    "        [ 2, 18, 34, 50]],\n",
    "\n",
    "       [[ 4, 20, 36, 52],\n",
    "        [ 3, 11, 19, 27],\n",
    "        [ 6, 22, 38, 54]],\n",
    "\n",
    "       [[ 8, 24, 40, 56],\n",
    "        [ 5, 13, 21, 29],\n",
    "        [10, 26, 42, 58]],\n",
    "\n",
    "       [[12, 28, 44, 60],\n",
    "        [ 7, 15, 23, 31],\n",
    "        [14, 30, 46, 62]]])\n",
    "\"\"\"\n",
    "D = np.max(C, axis=(1,2))\n",
    "# D, np.max(D, axis=1)\n",
    "D"
   ]
  },
  {
   "cell_type": "code",
   "execution_count": 5,
   "metadata": {},
   "outputs": [
    {
     "name": "stdout",
     "output_type": "stream",
     "text": [
      "[[[ 2  1]\n",
      "  [-1 -2]]\n",
      "\n",
      " [[ 2  1]\n",
      "  [-1 -2]]]\n"
     ]
    },
    {
     "data": {
      "text/plain": [
       "array([[1.41421356, 4.47213595],\n",
       "       [3.16227766, 7.21110255]])"
      ]
     },
     "execution_count": 5,
     "metadata": {},
     "output_type": "execute_result"
    }
   ],
   "source": [
    "#\n",
    "A = np.array([\n",
    "    [1, 2],\n",
    "    [3, 4]\n",
    "])\n",
    "A = np.expand_dims(A, axis=1)\n",
    "A = np.tile(A, (2,1))\n",
    "\n",
    "B = np.array([\n",
    "    [2, 1],\n",
    "    [-1, -2]\n",
    "])\n",
    "B = np.expand_dims(B, axis=1)\n",
    "B = np.tile(B, (2,1))\n",
    "B = np.swapaxes(B, 0, 1)\n",
    "np.linalg.norm(A - B, axis=-1)"
   ]
  },
  {
   "cell_type": "code",
   "execution_count": 35,
   "metadata": {},
   "outputs": [
    {
     "data": {
      "text/plain": [
       "array([[4, 7, 6, 3, 0, 5, 2, 1],\n",
       "       [4, 6, 3, 2, 0, 5, 1, 7]])"
      ]
     },
     "execution_count": 35,
     "metadata": {},
     "output_type": "execute_result"
    }
   ],
   "source": [
    "# using argpartition along the last dimension to partition.\n",
    "# by default np.partition and np.argpartition use axis -1.\n",
    "\n",
    "A = np.array([\n",
    "    [5,3,10,7,0,6,2,1],\n",
    "    [8,5,10,4,0,6,2,11],\n",
    "])\n",
    "\n",
    "np.argpartition(A, 2)\n",
    "\n",
    "# should give indices that make\n",
    "# array([[ 0,  1,  2,  7,  5,  6, 10,  3],\n",
    "#        [ 0,  2,  4, 10,  8,  6,  5, 11]])"
   ]
  },
  {
   "cell_type": "code",
   "execution_count": 34,
   "metadata": {},
   "outputs": [
    {
     "data": {
      "text/plain": [
       "array([[1, 1, 0, 0],\n",
       "       [0, 1, 1, 0],\n",
       "       [1, 1, 0, 0],\n",
       "       [0, 1, 0, 1]])"
      ]
     },
     "execution_count": 34,
     "metadata": {},
     "output_type": "execute_result"
    }
   ],
   "source": [
    "# how to modify specific cells in a matrix using a matrix of indices.\n",
    "\n",
    "A = np.array([\n",
    "    [0,0,0,0],\n",
    "    [0,0,0,0],\n",
    "    [0,0,0,0],\n",
    "    [0,0,0,0]\n",
    "])\n",
    "B = np.array([\n",
    "    [0,1],\n",
    "    [1,2],\n",
    "    [1,0],\n",
    "    [3,1],\n",
    "])\n",
    "for idx in range(A.shape[0]):\n",
    "    A[idx,B[idx]] = 1\n",
    "A"
   ]
  },
  {
   "cell_type": "code",
   "execution_count": 37,
   "metadata": {},
   "outputs": [
    {
     "data": {
      "text/plain": [
       "2.231058578630005"
      ]
     },
     "execution_count": 37,
     "metadata": {},
     "output_type": "execute_result"
    }
   ],
   "source": [
    "# for a homework\n",
    "W = np.array([\n",
    "    [-2, 2, -1],\n",
    "    [1, -2, 0]\n",
    "])\n",
    "v = np.array([3, 1])\n",
    "x = np.array([-3, -2, 2])\n",
    "z = W @ x.T\n",
    "z\n",
    "# sigmoid(z)\n",
    "np.dot(v, sigmoid(z))\n"
   ]
  },
  {
   "cell_type": "code",
   "execution_count": 38,
   "metadata": {},
   "outputs": [
    {
     "data": {
      "text/plain": [
       "array([[1, 0],\n",
       "       [3, 1]])"
      ]
     },
     "execution_count": 38,
     "metadata": {},
     "output_type": "execute_result"
    }
   ],
   "source": [
    "X = np.array([\n",
    "    [0,1],\n",
    "    [1,2],\n",
    "    [1,0],\n",
    "    [3,1],\n",
    "    [2,0],\n",
    "    [0,0]\n",
    "])\n",
    "s = slice(2,4)\n",
    "X[s]"
   ]
  },
  {
   "cell_type": "code",
   "execution_count": 39,
   "metadata": {},
   "outputs": [
    {
     "data": {
      "text/plain": [
       "(array([[2, 0],\n",
       "        [3, 1],\n",
       "        [1, 0],\n",
       "        [0, 0],\n",
       "        [0, 1],\n",
       "        [1, 2]]),\n",
       " array([4, 3, 2, 5, 0, 1]))"
      ]
     },
     "execution_count": 39,
     "metadata": {},
     "output_type": "execute_result"
    }
   ],
   "source": [
    "X = np.array([\n",
    "    [0,1],\n",
    "    [1,2],\n",
    "    [1,0],\n",
    "    [3,1],\n",
    "    [2,0],\n",
    "    [0,0]\n",
    "])\n",
    "ids = np.arange(X.shape[0])\n",
    "np.random.shuffle(ids)\n",
    "X = X[ids]\n",
    "X, ids"
   ]
  },
  {
   "cell_type": "code",
   "execution_count": null,
   "metadata": {},
   "outputs": [],
   "source": []
  }
 ],
 "metadata": {
  "kernelspec": {
   "display_name": "Python 3",
   "language": "python",
   "name": "python3"
  },
  "language_info": {
   "codemirror_mode": {
    "name": "ipython",
    "version": 3
   },
   "file_extension": ".py",
   "mimetype": "text/x-python",
   "name": "python",
   "nbconvert_exporter": "python",
   "pygments_lexer": "ipython3",
   "version": "3.8.3"
  }
 },
 "nbformat": 4,
 "nbformat_minor": 4
}
