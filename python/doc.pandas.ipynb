{
 "cells": [
  {
   "cell_type": "code",
   "execution_count": 76,
   "metadata": {},
   "outputs": [
    {
     "name": "stdout",
     "output_type": "stream",
     "text": [
      "('a', 'b', 'c', 'd', 'e', 'f', 'g', 'h', 'i', 'j')\n"
     ]
    }
   ],
   "source": [
    "import numpy as np\n",
    "import pandas as pd\n",
    "import string\n",
    "\n",
    "# utility function\n",
    "newline = '\\n'\n",
    "alphabet = tuple(k for k in string.ascii_lowercase)\n",
    "print(alphabet[:10])"
   ]
  },
  {
   "cell_type": "code",
   "execution_count": 77,
   "metadata": {},
   "outputs": [
    {
     "data": {
      "text/plain": [
       "('a', 1, Index(['key', 'val'], dtype='object'), array(['a', 1], dtype=object))"
      ]
     },
     "execution_count": 77,
     "metadata": {},
     "output_type": "execute_result"
    }
   ],
   "source": [
    "# Series basics\n",
    "s = pd.Series({'key': 'a', 'val': 1})\n",
    "s['key'], s['val'], s.index, s.values"
   ]
  },
  {
   "cell_type": "code",
   "execution_count": 79,
   "metadata": {},
   "outputs": [
    {
     "name": "stdout",
     "output_type": "stream",
     "text": [
      "<class 'pandas.core.series.Series'> <class 'pandas.core.series.Series'>\n",
      "0    1\n",
      "1    2\n",
      "2    3\n",
      "3    4\n",
      "Name: val, dtype: int64 \n",
      "\n",
      "key    c\n",
      "val    3\n",
      "Name: 2, dtype: object \n",
      "\n"
     ]
    },
    {
     "data": {
      "text/html": [
       "<div>\n",
       "<style scoped>\n",
       "    .dataframe tbody tr th:only-of-type {\n",
       "        vertical-align: middle;\n",
       "    }\n",
       "\n",
       "    .dataframe tbody tr th {\n",
       "        vertical-align: top;\n",
       "    }\n",
       "\n",
       "    .dataframe thead th {\n",
       "        text-align: right;\n",
       "    }\n",
       "</style>\n",
       "<table border=\"1\" class=\"dataframe\">\n",
       "  <thead>\n",
       "    <tr style=\"text-align: right;\">\n",
       "      <th></th>\n",
       "      <th>key</th>\n",
       "      <th>val</th>\n",
       "    </tr>\n",
       "  </thead>\n",
       "  <tbody>\n",
       "    <tr>\n",
       "      <th>0</th>\n",
       "      <td>a</td>\n",
       "      <td>1</td>\n",
       "    </tr>\n",
       "    <tr>\n",
       "      <th>1</th>\n",
       "      <td>b</td>\n",
       "      <td>2</td>\n",
       "    </tr>\n",
       "    <tr>\n",
       "      <th>2</th>\n",
       "      <td>c</td>\n",
       "      <td>3</td>\n",
       "    </tr>\n",
       "    <tr>\n",
       "      <th>3</th>\n",
       "      <td>d</td>\n",
       "      <td>4</td>\n",
       "    </tr>\n",
       "  </tbody>\n",
       "</table>\n",
       "</div>"
      ],
      "text/plain": [
       "  key  val\n",
       "0   a    1\n",
       "1   b    2\n",
       "2   c    3\n",
       "3   d    4"
      ]
     },
     "execution_count": 79,
     "metadata": {},
     "output_type": "execute_result"
    }
   ],
   "source": [
    "# Create a DataFrame using dict of (str: list)\n",
    "df = pd.DataFrame({'key': alphabet[:4], 'val': np.arange(1,5),})\n",
    "# each column or row is a pd.Series\n",
    "print( type(df['val']), type(df.loc[2]))\n",
    "# index a DataFrame to retrieve a column from it\n",
    "print(df['val'], newline)\n",
    "# use DataFrame.loc indexing to retrieve a row from it\n",
    "print(df.loc[2], newline)\n",
    "# using DataFrame.head() to summarize data frame\n",
    "df.head()"
   ]
  },
  {
   "cell_type": "code",
   "execution_count": 85,
   "metadata": {},
   "outputs": [
    {
     "data": {
      "text/plain": [
       "(  key  val\n",
       " 0   a    1\n",
       " 1   b    2\n",
       " 2   c    3\n",
       " 3   d    4,\n",
       " 2,\n",
       " 2)"
      ]
     },
     "execution_count": 85,
     "metadata": {},
     "output_type": "execute_result"
    }
   ],
   "source": [
    "# Accessing cells of a data frame by row first, or by column first\n",
    "df = pd.DataFrame({'key': alphabet[:4], 'val': np.arange(1,5),})\n",
    "df, df.iloc[1]['val'], df['val'][1]"
   ]
  },
  {
   "cell_type": "code",
   "execution_count": 97,
   "metadata": {},
   "outputs": [
    {
     "data": {
      "text/plain": [
       "(0    0.000000e+00\n",
       " 1    9.510565e-01\n",
       " 2    5.877853e-01\n",
       " 3   -5.877853e-01\n",
       " 4   -9.510565e-01\n",
       " 5   -2.449294e-16\n",
       " Name: deg, dtype: float64,\n",
       " array([ 0.00000000e+00,  9.51056516e-01,  5.87785252e-01, -5.87785252e-01,\n",
       "        -9.51056516e-01, -2.44929360e-16]))"
      ]
     },
     "execution_count": 97,
     "metadata": {},
     "output_type": "execute_result"
    }
   ],
   "source": [
    "# Applying numpy operations on series gives back series\n",
    "df = pd.DataFrame({'key': alphabet[:6], 'deg': np.linspace(0, 2*np.pi, 6),})\n",
    "np.sin(df['deg']), np.sin(df['deg'].values)"
   ]
  },
  {
   "cell_type": "code",
   "execution_count": 105,
   "metadata": {},
   "outputs": [
    {
     "data": {
      "text/html": [
       "<div>\n",
       "<style scoped>\n",
       "    .dataframe tbody tr th:only-of-type {\n",
       "        vertical-align: middle;\n",
       "    }\n",
       "\n",
       "    .dataframe tbody tr th {\n",
       "        vertical-align: top;\n",
       "    }\n",
       "\n",
       "    .dataframe thead th {\n",
       "        text-align: right;\n",
       "    }\n",
       "</style>\n",
       "<table border=\"1\" class=\"dataframe\">\n",
       "  <thead>\n",
       "    <tr style=\"text-align: right;\">\n",
       "      <th></th>\n",
       "      <th>key</th>\n",
       "      <th>val1</th>\n",
       "      <th>val2</th>\n",
       "      <th>val3</th>\n",
       "      <th>val4</th>\n",
       "    </tr>\n",
       "  </thead>\n",
       "  <tbody>\n",
       "    <tr>\n",
       "      <th>0</th>\n",
       "      <td>a</td>\n",
       "      <td>2</td>\n",
       "      <td>0.5</td>\n",
       "      <td>2</td>\n",
       "      <td>2.718282</td>\n",
       "    </tr>\n",
       "    <tr>\n",
       "      <th>1</th>\n",
       "      <td>b</td>\n",
       "      <td>4</td>\n",
       "      <td>1.0</td>\n",
       "      <td>4</td>\n",
       "      <td>7.389056</td>\n",
       "    </tr>\n",
       "    <tr>\n",
       "      <th>2</th>\n",
       "      <td>c</td>\n",
       "      <td>6</td>\n",
       "      <td>1.5</td>\n",
       "      <td>6</td>\n",
       "      <td>20.085537</td>\n",
       "    </tr>\n",
       "  </tbody>\n",
       "</table>\n",
       "</div>"
      ],
      "text/plain": [
       "  key  val1  val2  val3       val4\n",
       "0   a     2   0.5     2   2.718282\n",
       "1   b     4   1.0     4   7.389056\n",
       "2   c     6   1.5     6  20.085537"
      ]
     },
     "execution_count": 105,
     "metadata": {},
     "output_type": "execute_result"
    }
   ],
   "source": [
    "# In-place mutation of columns\n",
    "df = pd.DataFrame({'key': alphabet[:3], 'val1': np.arange(1,4),\n",
    "        'val2': np.arange(1,4), 'val3': np.arange(1,4), 'val4': np.arange(1,4)})\n",
    "df['val2'] /= 2\n",
    "df[['val1', 'val3']] *= 2\n",
    "df['val4'] = np.exp(df['val4'])\n",
    "df"
   ]
  },
  {
   "cell_type": "code",
   "execution_count": 110,
   "metadata": {},
   "outputs": [
    {
     "data": {
      "text/html": [
       "<div>\n",
       "<style scoped>\n",
       "    .dataframe tbody tr th:only-of-type {\n",
       "        vertical-align: middle;\n",
       "    }\n",
       "\n",
       "    .dataframe tbody tr th {\n",
       "        vertical-align: top;\n",
       "    }\n",
       "\n",
       "    .dataframe thead th {\n",
       "        text-align: right;\n",
       "    }\n",
       "</style>\n",
       "<table border=\"1\" class=\"dataframe\">\n",
       "  <thead>\n",
       "    <tr style=\"text-align: right;\">\n",
       "      <th></th>\n",
       "      <th>key</th>\n",
       "      <th>val1</th>\n",
       "      <th>val2</th>\n",
       "      <th>val3</th>\n",
       "      <th>val4</th>\n",
       "    </tr>\n",
       "  </thead>\n",
       "  <tbody>\n",
       "    <tr>\n",
       "      <th>0</th>\n",
       "      <td>a</td>\n",
       "      <td>0</td>\n",
       "      <td>1</td>\n",
       "      <td>0</td>\n",
       "      <td>2</td>\n",
       "    </tr>\n",
       "    <tr>\n",
       "      <th>1</th>\n",
       "      <td>b</td>\n",
       "      <td>0</td>\n",
       "      <td>1</td>\n",
       "      <td>0</td>\n",
       "      <td>2</td>\n",
       "    </tr>\n",
       "    <tr>\n",
       "      <th>2</th>\n",
       "      <td>c</td>\n",
       "      <td>0</td>\n",
       "      <td>1</td>\n",
       "      <td>0</td>\n",
       "      <td>2</td>\n",
       "    </tr>\n",
       "  </tbody>\n",
       "</table>\n",
       "</div>"
      ],
      "text/plain": [
       "  key  val1  val2  val3  val4\n",
       "0   a     0     1     0     2\n",
       "1   b     0     1     0     2\n",
       "2   c     0     1     0     2"
      ]
     },
     "execution_count": 110,
     "metadata": {},
     "output_type": "execute_result"
    }
   ],
   "source": [
    "# In-place mutation of columns\n",
    "df = pd.DataFrame({'key': alphabet[:3], 'val1': np.arange(1,4),\n",
    "        'val2': np.arange(1,4), 'val3': np.arange(2,5), 'val4': np.arange(2,5)})\n",
    "df[['val1', 'val3']] = 0\n",
    "df[['val2', 'val4']] = df[['val2', 'val4']].values[0]\n",
    "df"
   ]
  },
  {
   "cell_type": "code",
   "execution_count": 26,
   "metadata": {},
   "outputs": [
    {
     "data": {
      "text/html": [
       "<div>\n",
       "<style scoped>\n",
       "    .dataframe tbody tr th:only-of-type {\n",
       "        vertical-align: middle;\n",
       "    }\n",
       "\n",
       "    .dataframe tbody tr th {\n",
       "        vertical-align: top;\n",
       "    }\n",
       "\n",
       "    .dataframe thead th {\n",
       "        text-align: right;\n",
       "    }\n",
       "</style>\n",
       "<table border=\"1\" class=\"dataframe\">\n",
       "  <thead>\n",
       "    <tr style=\"text-align: right;\">\n",
       "      <th></th>\n",
       "      <th>key</th>\n",
       "      <th>val</th>\n",
       "    </tr>\n",
       "  </thead>\n",
       "  <tbody>\n",
       "    <tr>\n",
       "      <th>0</th>\n",
       "      <td>a</td>\n",
       "      <td>1</td>\n",
       "    </tr>\n",
       "    <tr>\n",
       "      <th>1</th>\n",
       "      <td>b</td>\n",
       "      <td>2</td>\n",
       "    </tr>\n",
       "    <tr>\n",
       "      <th>2</th>\n",
       "      <td>c</td>\n",
       "      <td>3</td>\n",
       "    </tr>\n",
       "    <tr>\n",
       "      <th>3</th>\n",
       "      <td>d</td>\n",
       "      <td>4</td>\n",
       "    </tr>\n",
       "    <tr>\n",
       "      <th>4</th>\n",
       "      <td>e</td>\n",
       "      <td>5</td>\n",
       "    </tr>\n",
       "    <tr>\n",
       "      <th>5</th>\n",
       "      <td>f</td>\n",
       "      <td>6</td>\n",
       "    </tr>\n",
       "    <tr>\n",
       "      <th>6</th>\n",
       "      <td>g</td>\n",
       "      <td>7</td>\n",
       "    </tr>\n",
       "    <tr>\n",
       "      <th>7</th>\n",
       "      <td>h</td>\n",
       "      <td>8</td>\n",
       "    </tr>\n",
       "  </tbody>\n",
       "</table>\n",
       "</div>"
      ],
      "text/plain": [
       "  key  val\n",
       "0   a    1\n",
       "1   b    2\n",
       "2   c    3\n",
       "3   d    4\n",
       "4   e    5\n",
       "5   f    6\n",
       "6   g    7\n",
       "7   h    8"
      ]
     },
     "execution_count": 26,
     "metadata": {},
     "output_type": "execute_result"
    }
   ],
   "source": [
    "# Concatenate two data frames.\n",
    "df1 = pd.DataFrame({'key': alphabet[:4], 'val': np.arange(1,5)})\n",
    "df2 = pd.DataFrame({'key': alphabet[4:8], 'val': np.arange(5,9)})\n",
    "pd.concat((df1, df2), ignore_index=True)"
   ]
  },
  {
   "cell_type": "code",
   "execution_count": 74,
   "metadata": {},
   "outputs": [
    {
     "name": "stdout",
     "output_type": "stream",
     "text": [
      "0   key: a     val: 1  \n",
      "1   key: b     val: 2  \n",
      "2   key: c     val: 3  \n"
     ]
    }
   ],
   "source": [
    "# Iterate the rows of a data frame.\n",
    "df = pd.DataFrame({'key': alphabet[:3], 'val': np.arange(1,4)})\n",
    "for i, s in df.iterrows():\n",
    "    print(i, *[ f\"  {k}: {s[k]}  \" for k in s.index ])"
   ]
  },
  {
   "cell_type": "code",
   "execution_count": 28,
   "metadata": {},
   "outputs": [
    {
     "name": "stdout",
     "output_type": "stream",
     "text": [
      "Empty DataFrame\n",
      "Columns: [key, val1, val2]\n",
      "Index: [] \n",
      "\n",
      "  key val1 val2\n",
      "0   a    1    1\n",
      "1   b    2    2 \n",
      "\n",
      "  key val1 val2    str\n",
      "0   a    1    1   abba\n",
      "1   b    2    2  zetta\n"
     ]
    }
   ],
   "source": [
    "# Create an empty DataFrame\n",
    "columns = ['key', 'val1', 'val2']\n",
    "df = pd.DataFrame(columns=columns)\n",
    "print(df, newline)\n",
    "# append rows to the end of data frame\n",
    "df.loc[len(df)] = ['a', 1, 1]\n",
    "df.loc[len(df)] = ['b', 2, 2]\n",
    "print(df, newline)\n",
    "# add a new column to DataFrame and populate it\n",
    "df['str'] = ['abba', 'zetta']\n",
    "print(df)"
   ]
  },
  {
   "cell_type": "code",
   "execution_count": 50,
   "metadata": {},
   "outputs": [
    {
     "data": {
      "text/html": [
       "<div>\n",
       "<style scoped>\n",
       "    .dataframe tbody tr th:only-of-type {\n",
       "        vertical-align: middle;\n",
       "    }\n",
       "\n",
       "    .dataframe tbody tr th {\n",
       "        vertical-align: top;\n",
       "    }\n",
       "\n",
       "    .dataframe thead th {\n",
       "        text-align: right;\n",
       "    }\n",
       "</style>\n",
       "<table border=\"1\" class=\"dataframe\">\n",
       "  <thead>\n",
       "    <tr style=\"text-align: right;\">\n",
       "      <th></th>\n",
       "      <th>key</th>\n",
       "      <th>val</th>\n",
       "    </tr>\n",
       "  </thead>\n",
       "  <tbody>\n",
       "    <tr>\n",
       "      <th>0</th>\n",
       "      <td>a</td>\n",
       "      <td>1</td>\n",
       "    </tr>\n",
       "  </tbody>\n",
       "</table>\n",
       "</div>"
      ],
      "text/plain": [
       "  key  val\n",
       "0   a    1"
      ]
     },
     "execution_count": 50,
     "metadata": {},
     "output_type": "execute_result"
    }
   ],
   "source": [
    "# Convert a series into a data frame\n",
    "s = pd.Series({'key': 'a', 'val': 1})\n",
    "pd.DataFrame([s])"
   ]
  },
  {
   "cell_type": "code",
   "execution_count": 30,
   "metadata": {},
   "outputs": [
    {
     "data": {
      "text/plain": [
       "array([1, 2, 3, 4, 5, 6, 7, 8])"
      ]
     },
     "execution_count": 30,
     "metadata": {},
     "output_type": "execute_result"
    }
   ],
   "source": [
    "# Finding unique values of a column in a data frame.\n",
    "# Create a DataFrame using dict of (str: list)\n",
    "df = pd.DataFrame({'key': alphabet[:8], 'val': np.arange(1,9),})\n",
    "df['val'].unique()"
   ]
  },
  {
   "cell_type": "code",
   "execution_count": 31,
   "metadata": {},
   "outputs": [
    {
     "data": {
      "text/html": [
       "<div>\n",
       "<style scoped>\n",
       "    .dataframe tbody tr th:only-of-type {\n",
       "        vertical-align: middle;\n",
       "    }\n",
       "\n",
       "    .dataframe tbody tr th {\n",
       "        vertical-align: top;\n",
       "    }\n",
       "\n",
       "    .dataframe thead th {\n",
       "        text-align: right;\n",
       "    }\n",
       "</style>\n",
       "<table border=\"1\" class=\"dataframe\">\n",
       "  <thead>\n",
       "    <tr style=\"text-align: right;\">\n",
       "      <th></th>\n",
       "      <th>key</th>\n",
       "      <th>val</th>\n",
       "    </tr>\n",
       "  </thead>\n",
       "  <tbody>\n",
       "    <tr>\n",
       "      <th>1</th>\n",
       "      <td>b</td>\n",
       "      <td>2</td>\n",
       "    </tr>\n",
       "    <tr>\n",
       "      <th>2</th>\n",
       "      <td>c</td>\n",
       "      <td>2</td>\n",
       "    </tr>\n",
       "    <tr>\n",
       "      <th>4</th>\n",
       "      <td>e</td>\n",
       "      <td>2</td>\n",
       "    </tr>\n",
       "  </tbody>\n",
       "</table>\n",
       "</div>"
      ],
      "text/plain": [
       "  key  val\n",
       "1   b    2\n",
       "2   c    2\n",
       "4   e    2"
      ]
     },
     "execution_count": 31,
     "metadata": {},
     "output_type": "execute_result"
    }
   ],
   "source": [
    "# Select rows in data frame by column values.\n",
    "data = {'key': alphabet[:8],\n",
    "        'val': [1, 2, 2, 4, 2, 6, 7, 8]}\n",
    "df = pd.DataFrame(data)\n",
    "df[df['val'] == 2]"
   ]
  },
  {
   "cell_type": "code",
   "execution_count": 31,
   "metadata": {},
   "outputs": [
    {
     "data": {
      "text/html": [
       "<div>\n",
       "<style scoped>\n",
       "    .dataframe tbody tr th:only-of-type {\n",
       "        vertical-align: middle;\n",
       "    }\n",
       "\n",
       "    .dataframe tbody tr th {\n",
       "        vertical-align: top;\n",
       "    }\n",
       "\n",
       "    .dataframe thead th {\n",
       "        text-align: right;\n",
       "    }\n",
       "</style>\n",
       "<table border=\"1\" class=\"dataframe\">\n",
       "  <thead>\n",
       "    <tr style=\"text-align: right;\">\n",
       "      <th></th>\n",
       "      <th>frame_id</th>\n",
       "      <th>node_id</th>\n",
       "      <th>x</th>\n",
       "      <th>y</th>\n",
       "    </tr>\n",
       "  </thead>\n",
       "  <tbody>\n",
       "    <tr>\n",
       "      <th>0</th>\n",
       "      <td>1</td>\n",
       "      <td>1</td>\n",
       "      <td>1</td>\n",
       "      <td>1</td>\n",
       "    </tr>\n",
       "    <tr>\n",
       "      <th>1</th>\n",
       "      <td>2</td>\n",
       "      <td>1</td>\n",
       "      <td>0</td>\n",
       "      <td>0</td>\n",
       "    </tr>\n",
       "    <tr>\n",
       "      <th>2</th>\n",
       "      <td>2</td>\n",
       "      <td>2</td>\n",
       "      <td>1</td>\n",
       "      <td>1</td>\n",
       "    </tr>\n",
       "    <tr>\n",
       "      <th>3</th>\n",
       "      <td>2</td>\n",
       "      <td>3</td>\n",
       "      <td>0</td>\n",
       "      <td>1</td>\n",
       "    </tr>\n",
       "    <tr>\n",
       "      <th>4</th>\n",
       "      <td>3</td>\n",
       "      <td>2</td>\n",
       "      <td>0</td>\n",
       "      <td>0</td>\n",
       "    </tr>\n",
       "    <tr>\n",
       "      <th>5</th>\n",
       "      <td>3</td>\n",
       "      <td>3</td>\n",
       "      <td>1</td>\n",
       "      <td>1</td>\n",
       "    </tr>\n",
       "  </tbody>\n",
       "</table>\n",
       "</div>"
      ],
      "text/plain": [
       "   frame_id  node_id  x  y\n",
       "0         1        1  1  1\n",
       "1         2        1  0  0\n",
       "2         2        2  1  1\n",
       "3         2        3  0  1\n",
       "4         3        2  0  0\n",
       "5         3        3  1  1"
      ]
     },
     "execution_count": 31,
     "metadata": {},
     "output_type": "execute_result"
    }
   ],
   "source": [
    "# Merge two data frames (similar to SQL JOIN statement)\n",
    "# In this use case, I'm using the second data frame to filter\n",
    "# the first data frame by composite key (frame_id, node_id) \n",
    "\n",
    "# See:\n",
    "# https://pandas.pydata.org/pandas-docs/stable/user_guide/merging.html\n",
    "\n",
    "data1 = {\n",
    "    'frame_id': [1, 1, 1, 2, 2, 2, 3, 3, 3],\n",
    "    'node_id':  [1, 2, 3, 1, 2, 3, 1, 2, 3],\n",
    "    'x':        [1, 0, 1, 0, 1, 0, 1, 0, 1],\n",
    "    'y':        [1, 1, 0, 0, 1, 1, 0, 0, 1],\n",
    "}\n",
    "df1 = pd.DataFrame(data1)\n",
    "data2 = {\n",
    "    'frame_id': [1, 2, 2, 2, 3, 3],\n",
    "    'node_id':  [1, 1, 2, 3, 2, 3]\n",
    "}\n",
    "df2 = pd.DataFrame(data2)\n",
    "pd.merge(df1, df2, how='inner', on=['frame_id', 'node_id'])"
   ]
  },
  {
   "cell_type": "code",
   "execution_count": 20,
   "metadata": {},
   "outputs": [
    {
     "data": {
      "text/plain": [
       "0"
      ]
     },
     "execution_count": 20,
     "metadata": {},
     "output_type": "execute_result"
    }
   ],
   "source": [
    "# Example of data retrieval with 'composite keys'\n",
    "data = {\n",
    "    'frame_id': [1, 1, 1, 2, 2, 2, 3, 3, 3],\n",
    "    'node_id':  [1, 2, 3, 1, 2, 3, 1, 2, 3],\n",
    "    'x':        [1, 0, 1, 0, 1, 0, 1, 0, 1],\n",
    "    'y':        [1, 1, 0, 0, 1, 1, 0, 0, 1],\n",
    "}\n",
    "df = pd.DataFrame(data)\n",
    "s = df[np.logical_and(df['frame_id'] == 1, df['node_id'] == 2)].iloc[0]\n",
    "s['x']"
   ]
  },
  {
   "cell_type": "code",
   "execution_count": 13,
   "metadata": {},
   "outputs": [
    {
     "name": "stdout",
     "output_type": "stream",
     "text": [
      "[[1 1]\n",
      " [0 1]\n",
      " [1 0]]\n"
     ]
    },
    {
     "data": {
      "text/html": [
       "<div>\n",
       "<style scoped>\n",
       "    .dataframe tbody tr th:only-of-type {\n",
       "        vertical-align: middle;\n",
       "    }\n",
       "\n",
       "    .dataframe tbody tr th {\n",
       "        vertical-align: top;\n",
       "    }\n",
       "\n",
       "    .dataframe thead th {\n",
       "        text-align: right;\n",
       "    }\n",
       "</style>\n",
       "<table border=\"1\" class=\"dataframe\">\n",
       "  <thead>\n",
       "    <tr style=\"text-align: right;\">\n",
       "      <th></th>\n",
       "      <th>x</th>\n",
       "      <th>y</th>\n",
       "    </tr>\n",
       "  </thead>\n",
       "  <tbody>\n",
       "    <tr>\n",
       "      <th>0</th>\n",
       "      <td>1</td>\n",
       "      <td>1</td>\n",
       "    </tr>\n",
       "    <tr>\n",
       "      <th>1</th>\n",
       "      <td>0</td>\n",
       "      <td>1</td>\n",
       "    </tr>\n",
       "    <tr>\n",
       "      <th>2</th>\n",
       "      <td>1</td>\n",
       "      <td>0</td>\n",
       "    </tr>\n",
       "  </tbody>\n",
       "</table>\n",
       "</div>"
      ],
      "text/plain": [
       "   x  y\n",
       "0  1  1\n",
       "1  0  1\n",
       "2  1  0"
      ]
     },
     "execution_count": 13,
     "metadata": {},
     "output_type": "execute_result"
    }
   ],
   "source": [
    "data = {\n",
    "    'node_id':  [1, 2, 3],\n",
    "    'x':        [1, 0, 1],\n",
    "    'y':        [1, 1, 0],\n",
    "}\n",
    "df = pd.DataFrame(data)\n",
    "# Get the values of column x and y as ndarray.\n",
    "print(df[['x', 'y']].values)\n",
    "df[['x', 'y']]"
   ]
  },
  {
   "cell_type": "code",
   "execution_count": 59,
   "metadata": {},
   "outputs": [
    {
     "name": "stdout",
     "output_type": "stream",
     "text": [
      "                 0        1           2       3\n",
      "animal        fish      dog         cat    None\n",
      "color          red     blue       green  yellow\n",
      "nothing       None     None        None    None\n",
      "vehicle  submarine  racecar  helicopter    None\n"
     ]
    },
    {
     "data": {
      "text/html": [
       "<div>\n",
       "<style scoped>\n",
       "    .dataframe tbody tr th:only-of-type {\n",
       "        vertical-align: middle;\n",
       "    }\n",
       "\n",
       "    .dataframe tbody tr th {\n",
       "        vertical-align: top;\n",
       "    }\n",
       "\n",
       "    .dataframe thead th {\n",
       "        text-align: right;\n",
       "    }\n",
       "</style>\n",
       "<table border=\"1\" class=\"dataframe\">\n",
       "  <thead>\n",
       "    <tr style=\"text-align: right;\">\n",
       "      <th></th>\n",
       "      <th>key</th>\n",
       "      <th>variable</th>\n",
       "    </tr>\n",
       "  </thead>\n",
       "  <tbody>\n",
       "    <tr>\n",
       "      <th>0</th>\n",
       "      <td>animal</td>\n",
       "      <td>fish</td>\n",
       "    </tr>\n",
       "    <tr>\n",
       "      <th>1</th>\n",
       "      <td>animal</td>\n",
       "      <td>dog</td>\n",
       "    </tr>\n",
       "    <tr>\n",
       "      <th>2</th>\n",
       "      <td>animal</td>\n",
       "      <td>cat</td>\n",
       "    </tr>\n",
       "    <tr>\n",
       "      <th>3</th>\n",
       "      <td>color</td>\n",
       "      <td>red</td>\n",
       "    </tr>\n",
       "    <tr>\n",
       "      <th>4</th>\n",
       "      <td>color</td>\n",
       "      <td>blue</td>\n",
       "    </tr>\n",
       "    <tr>\n",
       "      <th>5</th>\n",
       "      <td>color</td>\n",
       "      <td>green</td>\n",
       "    </tr>\n",
       "    <tr>\n",
       "      <th>6</th>\n",
       "      <td>color</td>\n",
       "      <td>yellow</td>\n",
       "    </tr>\n",
       "    <tr>\n",
       "      <th>7</th>\n",
       "      <td>vehicle</td>\n",
       "      <td>submarine</td>\n",
       "    </tr>\n",
       "    <tr>\n",
       "      <th>8</th>\n",
       "      <td>vehicle</td>\n",
       "      <td>racecar</td>\n",
       "    </tr>\n",
       "    <tr>\n",
       "      <th>9</th>\n",
       "      <td>vehicle</td>\n",
       "      <td>helicopter</td>\n",
       "    </tr>\n",
       "  </tbody>\n",
       "</table>\n",
       "</div>"
      ],
      "text/plain": [
       "       key    variable\n",
       "0   animal        fish\n",
       "1   animal         dog\n",
       "2   animal         cat\n",
       "3    color         red\n",
       "4    color        blue\n",
       "5    color       green\n",
       "6    color      yellow\n",
       "7  vehicle   submarine\n",
       "8  vehicle     racecar\n",
       "9  vehicle  helicopter"
      ]
     },
     "execution_count": 59,
     "metadata": {},
     "output_type": "execute_result"
    }
   ],
   "source": [
    "# Make a DataFrame from a dict of iter where iterable items are 'variables' with associated dict key as 'key'.\n",
    "data = {'animal':  set(['dog','cat','fish']),\n",
    "        'color':   ['red','blue','green','yellow'],\n",
    "        'nothing': [],\n",
    "        'vehicle': iter(['submarine', 'racecar', 'helicopter'])}\n",
    "\n",
    "df = pd.DataFrame.from_dict(data, orient='index')\n",
    "print(df)\n",
    "df = df.stack().to_frame().reset_index().drop('level_1', axis=1)\n",
    "df.columns = ['key', 'variable']\n",
    "df"
   ]
  },
  {
   "cell_type": "code",
   "execution_count": 6,
   "metadata": {},
   "outputs": [
    {
     "name": "stdout",
     "output_type": "stream",
     "text": [
      "  key  val1  val2\n",
      "0   a     1     1\n",
      "1   b     2     2\n",
      "2   a     1     1\n",
      "\n",
      "Selecting rows where key column contains 'a'\n",
      "  key  val1  val2\n",
      "0   a     1     1\n",
      "2   a     1     1\n",
      "Number of rows: 2\n",
      "True\n",
      "'a' in df['key']? True\n",
      "\n",
      "Selecting rows where key column contains 'c'\n",
      "Gives empty data frame\n",
      "Empty DataFrame\n",
      "Columns: [key, val1, val2]\n",
      "Index: []\n",
      "Number of rows: 0\n",
      "True\n",
      "'c' in df['key']? False\n",
      "\n",
      "key     a\n",
      "val1    1\n",
      "val2    1\n",
      "Name: 0, dtype: object\n"
     ]
    }
   ],
   "source": [
    "# Create an empty DataFrame with columns, and default int row indices\n",
    "columns = ['key', 'val1', 'val2']\n",
    "data = [['a', 1, 1], ['b', 2, 2], ['a', 1, 1]]\n",
    "df = pd.DataFrame(data, columns=columns)\n",
    "print(df)\n",
    "print()\n",
    "\n",
    "# selecting rows with key column a\n",
    "print(\"Selecting rows where key column contains 'a'\")\n",
    "print(df[df['key'] == 'a'])\n",
    "print(\"Number of rows:\", len(df[df['key'] == 'a']))\n",
    "print(isinstance(df[df['key'] == 'a'], pd.DataFrame))\n",
    "print(\"'a' in df['key']?\", 'a' in df['key'].values )\n",
    "print()\n",
    "\n",
    "# selecting rows with key column c\n",
    "print(\"Selecting rows where key column contains 'c'\")\n",
    "print(\"Gives empty data frame\")\n",
    "print(df[df['key'] == 'c'])\n",
    "print(\"Number of rows:\", len(df[df['key'] == 'c']))\n",
    "print(isinstance(df[df['key'] == 'c'], pd.DataFrame))\n",
    "print(\"'c' in df['key']?\", 'c' in df['key'].values )\n",
    "print()\n",
    "\n",
    "#\n",
    "print(df[df['key'] == 'a'].iloc[0])"
   ]
  },
  {
   "cell_type": "code",
   "execution_count": 91,
   "metadata": {},
   "outputs": [
    {
     "name": "stdout",
     "output_type": "stream",
     "text": [
      "Empty DataFrame\n",
      "Columns: [val1, val2]\n",
      "Index: []\n",
      "  val1 val2    str\n",
      "a    1    1   abba\n",
      "b    2    2  zetta\n",
      "check that \n",
      "Index 'b' exists? True\n",
      "False\n",
      "KeyError 'c'\n",
      "\n",
      "Locate a row in a data frame\n",
      "val1       1\n",
      "val2       1\n",
      "str     abba\n",
      "Name: a, dtype: object\n",
      "\n",
      "Locate a column in a data frame\n",
      "a     abba\n",
      "b    zetta\n",
      "Name: str, dtype: object\n",
      "abba\n",
      "abba\n",
      "\n",
      "Locate a single cell in a data frame\n",
      "1\n",
      "1\n",
      "1\n",
      "1\n"
     ]
    }
   ],
   "source": [
    "# Create an empty DataFrame with columns, and str row indices\n",
    "columns = ['val1', 'val2']\n",
    "df = pd.DataFrame(columns=columns)\n",
    "print(df)\n",
    "# append a row to the end of DataFrame\n",
    "df.loc['a'] = [1, 1]\n",
    "df.loc['b'] = [2, 2]\n",
    "df['str'] = ['abba', 'zetta']\n",
    "print(df)\n",
    "print(\"check that \")\n",
    "print(\"Index 'b' exists?\", 'b' in df.index)\n",
    "print('c' in df.index)\n",
    "try:\n",
    "    df['c']\n",
    "except KeyError as e:\n",
    "    print('KeyError', e)\n",
    "print()\n",
    "\n",
    "print(\"Locate a row in a data frame\")\n",
    "print(df.loc['a'])\n",
    "print()\n",
    "\n",
    "print(\"Locate a column in a data frame\")\n",
    "print(df['str'])\n",
    "print(df['str'].at['a'])\n",
    "print()\n",
    "\n",
    "print(\"Locate a single cell in a data frame\")\n",
    "# DataFrame.at() works similarly to DataFrame.loc()\n",
    "# can only be used to access cells, not entire axes\n",
    "print(df.at['a', 'val2'])\n",
    "print(df.loc['a', 'val2'])\n",
    "print(df.loc['a'].at['val1'])\n",
    "print(df.loc['a'].loc['val1'])"
   ]
  },
  {
   "cell_type": "code",
   "execution_count": 26,
   "metadata": {},
   "outputs": [
    {
     "name": "stdout",
     "output_type": "stream",
     "text": [
      "val1     6\n",
      "val2    13\n",
      "dtype: int64\n",
      "\n",
      "      val1 val2\n",
      "a        1    1\n",
      "b        2    3\n",
      "c        3    9\n",
      "Total    6   13\n"
     ]
    }
   ],
   "source": [
    "# Create a total row at the bottom.\n",
    "columns = ['val1', 'val2']\n",
    "df = pd.DataFrame(columns=columns)\n",
    "df.loc['a'] = [1, 1]\n",
    "df.loc['b'] = [2, 3]\n",
    "df.loc['c'] = [3, 9]\n",
    "# DataFrame.sum() as pd.Series\n",
    "print(df.sum().astype(int))\n",
    "print()\n",
    "df.loc[\"Total\"] = df.sum().astype(int)\n",
    "print(df)"
   ]
  },
  {
   "cell_type": "code",
   "execution_count": 108,
   "metadata": {},
   "outputs": [
    {
     "name": "stdout",
     "output_type": "stream",
     "text": [
      "   val1  val2    str\n",
      "a     1     3   abba\n",
      "b     2     4  zetta\n",
      "   val1  val2     str\n",
      "a   1.0   3.0    abba\n",
      "b   2.0   4.0   zetta\n",
      "c   6.0   7.0  qwerty\n"
     ]
    }
   ],
   "source": [
    "# Create an empty DataFrame with columns, and str row indices\n",
    "columns = ['val1', 'val2', 'str']\n",
    "data = [[1, 3, 'abba'], [2, 4, 'zetta']]\n",
    "index = ['a', 'b']\n",
    "df = pd.DataFrame(data, columns=columns, index=index)\n",
    "print(df)\n",
    "df.at['c', 'val1'] = 6\n",
    "df.at['c', 'val2'] = 7\n",
    "df.at['c', 'str'] = 'qwerty'\n",
    "print(df)"
   ]
  },
  {
   "cell_type": "code",
   "execution_count": null,
   "metadata": {},
   "outputs": [],
   "source": []
  },
  {
   "cell_type": "code",
   "execution_count": null,
   "metadata": {},
   "outputs": [],
   "source": []
  }
 ],
 "metadata": {
  "kernelspec": {
   "display_name": "Python 3",
   "language": "python",
   "name": "python3"
  },
  "language_info": {
   "codemirror_mode": {
    "name": "ipython",
    "version": 3
   },
   "file_extension": ".py",
   "mimetype": "text/x-python",
   "name": "python",
   "nbconvert_exporter": "python",
   "pygments_lexer": "ipython3",
   "version": "3.8.3"
  }
 },
 "nbformat": 4,
 "nbformat_minor": 4
}
