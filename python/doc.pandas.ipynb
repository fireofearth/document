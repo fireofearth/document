{
 "cells": [
  {
   "cell_type": "code",
   "execution_count": 1,
   "metadata": {},
   "outputs": [
    {
     "name": "stdout",
     "output_type": "stream",
     "text": [
      "('a', 'b', 'c', 'd', 'e', 'f', 'g', 'h', 'i', 'j')\n"
     ]
    }
   ],
   "source": [
    "import os\n",
    "import csv\n",
    "import seaborn as sns\n",
    "import numpy as np\n",
    "import pandas as pd\n",
    "import matplotlib.pyplot as plt\n",
    "import string\n",
    "from tabulate import tabulate\n",
    "from kaggle.api.kaggle_api_extended import KaggleApi\n",
    "\n",
    "import utility as util\n",
    "import utility.doc\n",
    "\n",
    "# utility function\n",
    "newline = '\\n'\n",
    "alphabet = tuple(k for k in string.ascii_lowercase)\n",
    "print(alphabet[:10])\n",
    "\n",
    "def df_to_str(df):\n",
    "    return tabulate(df, headers='keys', showindex=False, tablefmt='grid')"
   ]
  },
  {
   "cell_type": "markdown",
   "metadata": {},
   "source": [
    "## Basics"
   ]
  },
  {
   "cell_type": "code",
   "execution_count": 2,
   "metadata": {
    "scrolled": true
   },
   "outputs": [
    {
     "data": {
      "text/html": [
       "<div>\n",
       "<style scoped>\n",
       "    .dataframe tbody tr th:only-of-type {\n",
       "        vertical-align: middle;\n",
       "    }\n",
       "\n",
       "    .dataframe tbody tr th {\n",
       "        vertical-align: top;\n",
       "    }\n",
       "\n",
       "    .dataframe thead th {\n",
       "        text-align: right;\n",
       "    }\n",
       "</style>\n",
       "<table border=\"1\" class=\"dataframe\">\n",
       "  <thead>\n",
       "    <tr style=\"text-align: right;\">\n",
       "      <th></th>\n",
       "      <th>key</th>\n",
       "      <th>val</th>\n",
       "    </tr>\n",
       "  </thead>\n",
       "  <tbody>\n",
       "    <tr>\n",
       "      <th>0</th>\n",
       "      <td>a</td>\n",
       "      <td>4</td>\n",
       "    </tr>\n",
       "    <tr>\n",
       "      <th>1</th>\n",
       "      <td>b</td>\n",
       "      <td>4</td>\n",
       "    </tr>\n",
       "    <tr>\n",
       "      <th>2</th>\n",
       "      <td>c</td>\n",
       "      <td>4</td>\n",
       "    </tr>\n",
       "    <tr>\n",
       "      <th>3</th>\n",
       "      <td>d</td>\n",
       "      <td>4</td>\n",
       "    </tr>\n",
       "  </tbody>\n",
       "</table>\n",
       "</div>"
      ],
      "text/plain": [
       "  key  val\n",
       "0   a    4\n",
       "1   b    4\n",
       "2   c    4\n",
       "3   d    4"
      ]
     },
     "execution_count": 2,
     "metadata": {},
     "output_type": "execute_result"
    }
   ],
   "source": [
    "# creating a dataframe\n",
    "pd.DataFrame({'key': alphabet[:4], 'val': 4})"
   ]
  },
  {
   "cell_type": "code",
   "execution_count": 4,
   "metadata": {},
   "outputs": [
    {
     "name": "stdout",
     "output_type": "stream",
     "text": [
      "+-------+-------+\n",
      "| key   |   val |\n",
      "+=======+=======+\n",
      "| a     |     4 |\n",
      "+-------+-------+\n",
      "| b     |     4 |\n",
      "+-------+-------+\n",
      "| c     |     4 |\n",
      "+-------+-------+\n",
      "| d     |     4 |\n",
      "+-------+-------+\n"
     ]
    }
   ],
   "source": [
    "# Print dataframe as a table\n",
    "df = pd.DataFrame({'key': alphabet[:4], 'val': 4})\n",
    "print(tabulate(df, headers='keys', showindex=False, tablefmt='grid'))"
   ]
  },
  {
   "cell_type": "code",
   "execution_count": 5,
   "metadata": {},
   "outputs": [
    {
     "name": "stdout",
     "output_type": "stream",
     "text": [
      "data frame\n",
      "+-------+-------+\n",
      "| key   |   val |\n",
      "+=======+=======+\n",
      "| a     |     4 |\n",
      "+-------+-------+\n",
      "| b     |     4 |\n",
      "+-------+-------+\n",
      "| c     |     4 |\n",
      "+-------+-------+\n",
      "| d     |     4 |\n",
      "+-------+-------+\n",
      "\n",
      "'key' column\n",
      "0    a\n",
      "1    b\n",
      "2    c\n",
      "3    d\n",
      "Name: key, dtype: object\n",
      "\n",
      "'val' column\n",
      "0    4\n",
      "1    4\n",
      "2    4\n",
      "3    4\n",
      "Name: val, dtype: int64\n",
      "\n",
      "columns\n",
      "Index(['key', 'val'], dtype='object')\n"
     ]
    }
   ],
   "source": [
    "# DataFrame basics\n",
    "df = pd.DataFrame({'key': alphabet[:4], 'val': 4})\n",
    "util.doc.results(\n",
    "    \"data frame\", df_to_str(df),\n",
    "    \"'key' column\", df['key'],\n",
    "    \"'val' column\", df['val'],\n",
    "    \"columns\", df.columns,\n",
    ")"
   ]
  },
  {
   "cell_type": "code",
   "execution_count": 11,
   "metadata": {},
   "outputs": [
    {
     "data": {
      "text/html": [
       "<div>\n",
       "<style scoped>\n",
       "    .dataframe tbody tr th:only-of-type {\n",
       "        vertical-align: middle;\n",
       "    }\n",
       "\n",
       "    .dataframe tbody tr th {\n",
       "        vertical-align: top;\n",
       "    }\n",
       "\n",
       "    .dataframe thead th {\n",
       "        text-align: right;\n",
       "    }\n",
       "</style>\n",
       "<table border=\"1\" class=\"dataframe\">\n",
       "  <thead>\n",
       "    <tr style=\"text-align: right;\">\n",
       "      <th></th>\n",
       "      <th>val1</th>\n",
       "      <th>val2</th>\n",
       "    </tr>\n",
       "  </thead>\n",
       "  <tbody>\n",
       "    <tr>\n",
       "      <th>0</th>\n",
       "      <td>1</td>\n",
       "      <td>1</td>\n",
       "    </tr>\n",
       "    <tr>\n",
       "      <th>1</th>\n",
       "      <td>2</td>\n",
       "      <td>1</td>\n",
       "    </tr>\n",
       "    <tr>\n",
       "      <th>2</th>\n",
       "      <td>1</td>\n",
       "      <td>2</td>\n",
       "    </tr>\n",
       "  </tbody>\n",
       "</table>\n",
       "</div>"
      ],
      "text/plain": [
       "   val1  val2\n",
       "0     1     1\n",
       "1     2     1\n",
       "2     1     2"
      ]
     },
     "execution_count": 11,
     "metadata": {},
     "output_type": "execute_result"
    }
   ],
   "source": [
    "# data from ndarray\n",
    "columns = ['val1', 'val2']\n",
    "data = np.array([[1, 1], [2, 1], [1, 2]])\n",
    "df = pd.DataFrame(data, columns=columns)\n",
    "df"
   ]
  },
  {
   "cell_type": "code",
   "execution_count": 8,
   "metadata": {},
   "outputs": [
    {
     "data": {
      "text/html": [
       "<div>\n",
       "<style scoped>\n",
       "    .dataframe tbody tr th:only-of-type {\n",
       "        vertical-align: middle;\n",
       "    }\n",
       "\n",
       "    .dataframe tbody tr th {\n",
       "        vertical-align: top;\n",
       "    }\n",
       "\n",
       "    .dataframe thead th {\n",
       "        text-align: right;\n",
       "    }\n",
       "</style>\n",
       "<table border=\"1\" class=\"dataframe\">\n",
       "  <thead>\n",
       "    <tr style=\"text-align: right;\">\n",
       "      <th></th>\n",
       "      <th>key</th>\n",
       "      <th>val</th>\n",
       "    </tr>\n",
       "  </thead>\n",
       "  <tbody>\n",
       "    <tr>\n",
       "      <th>0</th>\n",
       "      <td>a</td>\n",
       "      <td>1</td>\n",
       "    </tr>\n",
       "    <tr>\n",
       "      <th>1</th>\n",
       "      <td>b</td>\n",
       "      <td>2</td>\n",
       "    </tr>\n",
       "    <tr>\n",
       "      <th>2</th>\n",
       "      <td>c</td>\n",
       "      <td>3</td>\n",
       "    </tr>\n",
       "    <tr>\n",
       "      <th>3</th>\n",
       "      <td>d</td>\n",
       "      <td>4</td>\n",
       "    </tr>\n",
       "  </tbody>\n",
       "</table>\n",
       "</div>"
      ],
      "text/plain": [
       "  key  val\n",
       "0   a    1\n",
       "1   b    2\n",
       "2   c    3\n",
       "3   d    4"
      ]
     },
     "execution_count": 8,
     "metadata": {},
     "output_type": "execute_result"
    }
   ],
   "source": [
    "# data from range/iterable\n",
    "df = pd.DataFrame({'key': alphabet[:4], 'val': range(1,5)})\n",
    "df"
   ]
  },
  {
   "cell_type": "code",
   "execution_count": 20,
   "metadata": {},
   "outputs": [
    {
     "name": "stdout",
     "output_type": "stream",
     "text": [
      "series\n",
      "key     a\n",
      "val1    1\n",
      "val2    2\n",
      "dtype: object\n",
      "\n",
      "'key' index as dict field\n",
      "a\n",
      "\n",
      "'val' index as attribute\n",
      "1\n",
      "\n",
      "indices of series\n",
      "Index(['key', 'val1', 'val2'], dtype='object')\n",
      "\n",
      "values of series\n",
      "['a' 1 2]\n",
      "\n",
      "ndarray of values from indices 'val1', 'val2'\n",
      "[1 2]\n"
     ]
    }
   ],
   "source": [
    "# Series basics\n",
    "s = pd.Series({'key': 'a', 'val1': 1, 'val2': 2})\n",
    "util.doc.results(\n",
    "    \"series\", s,\n",
    "    \"'key' index as dict field\", s['key'],\n",
    "    \"'val' index as attribute\", s.val1,\n",
    "    \"indices of series\", s.index,\n",
    "    \"values of series\", s.values,\n",
    "    \"ndarray of values from indices 'val1', 'val2'\", s[['val1', 'val2']].values\n",
    ")"
   ]
  },
  {
   "cell_type": "code",
   "execution_count": 34,
   "metadata": {},
   "outputs": [
    {
     "data": {
      "text/plain": [
       "key    a\n",
       "a      1\n",
       "b      2\n",
       "dtype: object"
      ]
     },
     "execution_count": 34,
     "metadata": {},
     "output_type": "execute_result"
    }
   ],
   "source": [
    "# creating a series from a util.AttrDict\n",
    "d = util.AttrDict(key=\"a\", a=1, b=2)\n",
    "pd.Series(d)"
   ]
  },
  {
   "cell_type": "code",
   "execution_count": 9,
   "metadata": {},
   "outputs": [
    {
     "name": "stdout",
     "output_type": "stream",
     "text": [
      "data frame constructed from series\n",
      "  key   val1  val2\n",
      "0   a   True    -2\n",
      "1   b  False    10\n",
      "2   c   True     1\n",
      "\n",
      "mean of column 'val1'\n",
      "0.6666666666666666\n",
      "\n",
      "sum of column 'val2'\n",
      "9\n",
      "\n",
      "select rows where column 'val1' is True\n",
      "  key  val1  val2\n",
      "0   a  True    -2\n",
      "2   c  True     1\n"
     ]
    }
   ],
   "source": [
    "# creating a dataframe from a list of series\n",
    "s1 = pd.Series({\"key\": \"a\", \"val1\": True, \"val2\": -2})\n",
    "s2 = pd.Series({\"key\": \"b\", \"val1\": False, \"val2\": 10})\n",
    "s3 = pd.Series({\"key\": \"c\", \"val1\": True, \"val2\": 1})\n",
    "df = pd.DataFrame([s1, s2, s3])\n",
    "util.doc.results(\n",
    "    \"data frame constructed from series\", df,\n",
    "    \"mean of column 'val1'\", df[\"val1\"].mean(),\n",
    "    \"sum of column 'val2'\", df[\"val2\"].sum(),\n",
    "    \"select rows where column 'val1' is True\", df[df[\"val1\"]],\n",
    ")"
   ]
  },
  {
   "cell_type": "code",
   "execution_count": 27,
   "metadata": {},
   "outputs": [
    {
     "data": {
      "text/html": [
       "<div>\n",
       "<style scoped>\n",
       "    .dataframe tbody tr th:only-of-type {\n",
       "        vertical-align: middle;\n",
       "    }\n",
       "\n",
       "    .dataframe tbody tr th {\n",
       "        vertical-align: top;\n",
       "    }\n",
       "\n",
       "    .dataframe thead th {\n",
       "        text-align: right;\n",
       "    }\n",
       "</style>\n",
       "<table border=\"1\" class=\"dataframe\">\n",
       "  <thead>\n",
       "    <tr style=\"text-align: right;\">\n",
       "      <th></th>\n",
       "      <th>key</th>\n",
       "      <th>val1</th>\n",
       "      <th>val2</th>\n",
       "    </tr>\n",
       "  </thead>\n",
       "  <tbody>\n",
       "    <tr>\n",
       "      <th>0</th>\n",
       "      <td>a</td>\n",
       "      <td>True</td>\n",
       "      <td>-2</td>\n",
       "    </tr>\n",
       "    <tr>\n",
       "      <th>1</th>\n",
       "      <td>b</td>\n",
       "      <td>False</td>\n",
       "      <td>10</td>\n",
       "    </tr>\n",
       "    <tr>\n",
       "      <th>2</th>\n",
       "      <td>c</td>\n",
       "      <td>True</td>\n",
       "      <td>1</td>\n",
       "    </tr>\n",
       "  </tbody>\n",
       "</table>\n",
       "</div>"
      ],
      "text/plain": [
       "  key   val1  val2\n",
       "0   a   True    -2\n",
       "1   b  False    10\n",
       "2   c   True     1"
      ]
     },
     "execution_count": 27,
     "metadata": {},
     "output_type": "execute_result"
    }
   ],
   "source": [
    "# creating a dataframe from a list of dict is the same.\n",
    "# can use default constructor or DataFrame.from_records()\n",
    "d1 = {\"key\": \"a\", \"val1\": True, \"val2\": -2}\n",
    "d2 = {\"key\": \"b\", \"val1\": False, \"val2\": 10}\n",
    "d3 = {\"key\": \"c\", \"val1\": True, \"val2\": 1}\n",
    "pd.DataFrame([d1, d2, d3])"
   ]
  },
  {
   "cell_type": "code",
   "execution_count": 22,
   "metadata": {},
   "outputs": [
    {
     "data": {
      "text/html": [
       "<div>\n",
       "<style scoped>\n",
       "    .dataframe tbody tr th:only-of-type {\n",
       "        vertical-align: middle;\n",
       "    }\n",
       "\n",
       "    .dataframe tbody tr th {\n",
       "        vertical-align: top;\n",
       "    }\n",
       "\n",
       "    .dataframe thead th {\n",
       "        text-align: right;\n",
       "    }\n",
       "</style>\n",
       "<table border=\"1\" class=\"dataframe\">\n",
       "  <thead>\n",
       "    <tr style=\"text-align: right;\">\n",
       "      <th></th>\n",
       "      <th>key</th>\n",
       "      <th>val</th>\n",
       "    </tr>\n",
       "  </thead>\n",
       "  <tbody>\n",
       "    <tr>\n",
       "      <th>0</th>\n",
       "      <td>a</td>\n",
       "      <td>1</td>\n",
       "    </tr>\n",
       "    <tr>\n",
       "      <th>2</th>\n",
       "      <td>a</td>\n",
       "      <td>3</td>\n",
       "    </tr>\n",
       "  </tbody>\n",
       "</table>\n",
       "</div>"
      ],
      "text/plain": [
       "  key  val\n",
       "0   a    1\n",
       "2   a    3"
      ]
     },
     "execution_count": 22,
     "metadata": {},
     "output_type": "execute_result"
    }
   ],
   "source": [
    "# Select from the data frame entries where 'key' is 'a'.\n",
    "df = pd.DataFrame({'key': alphabet[:2] + alphabet[:2], 'val': np.arange(1,5),})\n",
    "df.loc[df['key'] == 'a']"
   ]
  },
  {
   "cell_type": "code",
   "execution_count": 23,
   "metadata": {},
   "outputs": [
    {
     "data": {
      "text/html": [
       "<div>\n",
       "<style scoped>\n",
       "    .dataframe tbody tr th:only-of-type {\n",
       "        vertical-align: middle;\n",
       "    }\n",
       "\n",
       "    .dataframe tbody tr th {\n",
       "        vertical-align: top;\n",
       "    }\n",
       "\n",
       "    .dataframe thead th {\n",
       "        text-align: right;\n",
       "    }\n",
       "</style>\n",
       "<table border=\"1\" class=\"dataframe\">\n",
       "  <thead>\n",
       "    <tr style=\"text-align: right;\">\n",
       "      <th></th>\n",
       "      <th>key</th>\n",
       "      <th>val</th>\n",
       "    </tr>\n",
       "  </thead>\n",
       "  <tbody>\n",
       "    <tr>\n",
       "      <th>1</th>\n",
       "      <td>b</td>\n",
       "      <td>2</td>\n",
       "    </tr>\n",
       "    <tr>\n",
       "      <th>3</th>\n",
       "      <td>b</td>\n",
       "      <td>4</td>\n",
       "    </tr>\n",
       "  </tbody>\n",
       "</table>\n",
       "</div>"
      ],
      "text/plain": [
       "  key  val\n",
       "1   b    2\n",
       "3   b    4"
      ]
     },
     "execution_count": 23,
     "metadata": {},
     "output_type": "execute_result"
    }
   ],
   "source": [
    "# Select from the data frame entries where 'key' is not 'a'.\n",
    "df = pd.DataFrame({'key': alphabet[:2] + alphabet[:2], 'val': np.arange(1,5),})\n",
    "df.loc[df['key'] != 'a']"
   ]
  },
  {
   "cell_type": "code",
   "execution_count": 27,
   "metadata": {},
   "outputs": [
    {
     "data": {
      "text/html": [
       "<div>\n",
       "<style scoped>\n",
       "    .dataframe tbody tr th:only-of-type {\n",
       "        vertical-align: middle;\n",
       "    }\n",
       "\n",
       "    .dataframe tbody tr th {\n",
       "        vertical-align: top;\n",
       "    }\n",
       "\n",
       "    .dataframe thead th {\n",
       "        text-align: right;\n",
       "    }\n",
       "</style>\n",
       "<table border=\"1\" class=\"dataframe\">\n",
       "  <thead>\n",
       "    <tr style=\"text-align: right;\">\n",
       "      <th></th>\n",
       "      <th>key</th>\n",
       "      <th>val</th>\n",
       "    </tr>\n",
       "  </thead>\n",
       "  <tbody>\n",
       "    <tr>\n",
       "      <th>1</th>\n",
       "      <td>b</td>\n",
       "      <td>1</td>\n",
       "    </tr>\n",
       "    <tr>\n",
       "      <th>0</th>\n",
       "      <td>a</td>\n",
       "      <td>2</td>\n",
       "    </tr>\n",
       "    <tr>\n",
       "      <th>3</th>\n",
       "      <td>d</td>\n",
       "      <td>3</td>\n",
       "    </tr>\n",
       "    <tr>\n",
       "      <th>2</th>\n",
       "      <td>c</td>\n",
       "      <td>4</td>\n",
       "    </tr>\n",
       "  </tbody>\n",
       "</table>\n",
       "</div>"
      ],
      "text/plain": [
       "  key  val\n",
       "1   b    1\n",
       "0   a    2\n",
       "3   d    3\n",
       "2   c    4"
      ]
     },
     "execution_count": 27,
     "metadata": {},
     "output_type": "execute_result"
    }
   ],
   "source": [
    "# Sort data frame by values in the 'val' column\n",
    "df = pd.DataFrame({'key': alphabet[:4], 'val': (2,1,4,3),})\n",
    "df.sort_values('val')"
   ]
  },
  {
   "cell_type": "code",
   "execution_count": 12,
   "metadata": {},
   "outputs": [
    {
     "name": "stdout",
     "output_type": "stream",
     "text": [
      "(0, key    a\n",
      "val    2\n",
      "Name: 0, dtype: object)\n",
      "(1, key    b\n",
      "val    1\n",
      "Name: 1, dtype: object)\n",
      "(2, key    c\n",
      "val    4\n",
      "Name: 2, dtype: object)\n",
      "(3, key    d\n",
      "val    3\n",
      "Name: 3, dtype: object)\n"
     ]
    }
   ],
   "source": [
    "# Iterate through the rows of the data frame\n",
    "df = pd.DataFrame({'key': alphabet[:4], 'val': (2,1,4,3),})\n",
    "for s in df.iterrows():\n",
    "    print(s)"
   ]
  },
  {
   "cell_type": "code",
   "execution_count": 9,
   "metadata": {},
   "outputs": [
    {
     "data": {
      "text/plain": [
       "4"
      ]
     },
     "execution_count": 9,
     "metadata": {},
     "output_type": "execute_result"
    }
   ],
   "source": [
    "# The length of the data frame is the number of columns.\n",
    "df = pd.DataFrame({'key': alphabet[:4], 'val': (2,1,4,3),})\n",
    "len(df)"
   ]
  },
  {
   "cell_type": "code",
   "execution_count": 17,
   "metadata": {},
   "outputs": [
    {
     "data": {
      "text/plain": [
       "key    a\n",
       "val    1\n",
       "Name: 0, dtype: object"
      ]
     },
     "execution_count": 17,
     "metadata": {},
     "output_type": "execute_result"
    }
   ],
   "source": [
    "# If the data frame has only one entry where 'key' is 'a', then select it as a series.\n",
    "df = pd.DataFrame({'key': alphabet[:4], 'val': np.arange(1,5),})\n",
    "df.loc[df['key'] == 'a'].iloc[0]"
   ]
  },
  {
   "cell_type": "code",
   "execution_count": 5,
   "metadata": {},
   "outputs": [
    {
     "name": "stdout",
     "output_type": "stream",
     "text": [
      "<class 'pandas.core.series.Series'> <class 'pandas.core.series.Series'>\n",
      "0    1\n",
      "1    2\n",
      "2    3\n",
      "3    4\n",
      "Name: val, dtype: int64 \n",
      "\n",
      "key    c\n",
      "val    3\n",
      "Name: 2, dtype: object \n",
      "\n",
      "key    d\n",
      "val    4\n",
      "Name: 3, dtype: object \n",
      "\n"
     ]
    },
    {
     "data": {
      "text/html": [
       "<div>\n",
       "<style scoped>\n",
       "    .dataframe tbody tr th:only-of-type {\n",
       "        vertical-align: middle;\n",
       "    }\n",
       "\n",
       "    .dataframe tbody tr th {\n",
       "        vertical-align: top;\n",
       "    }\n",
       "\n",
       "    .dataframe thead th {\n",
       "        text-align: right;\n",
       "    }\n",
       "</style>\n",
       "<table border=\"1\" class=\"dataframe\">\n",
       "  <thead>\n",
       "    <tr style=\"text-align: right;\">\n",
       "      <th></th>\n",
       "      <th>key</th>\n",
       "      <th>val</th>\n",
       "    </tr>\n",
       "  </thead>\n",
       "  <tbody>\n",
       "    <tr>\n",
       "      <th>0</th>\n",
       "      <td>a</td>\n",
       "      <td>1</td>\n",
       "    </tr>\n",
       "    <tr>\n",
       "      <th>1</th>\n",
       "      <td>b</td>\n",
       "      <td>2</td>\n",
       "    </tr>\n",
       "    <tr>\n",
       "      <th>2</th>\n",
       "      <td>c</td>\n",
       "      <td>3</td>\n",
       "    </tr>\n",
       "    <tr>\n",
       "      <th>3</th>\n",
       "      <td>d</td>\n",
       "      <td>4</td>\n",
       "    </tr>\n",
       "  </tbody>\n",
       "</table>\n",
       "</div>"
      ],
      "text/plain": [
       "  key  val\n",
       "0   a    1\n",
       "1   b    2\n",
       "2   c    3\n",
       "3   d    4"
      ]
     },
     "execution_count": 5,
     "metadata": {},
     "output_type": "execute_result"
    }
   ],
   "source": [
    "# DataFrame basics\n",
    "\n",
    "# Create a DataFrame using dict of (str: list)\n",
    "df = pd.DataFrame({'key': alphabet[:4], 'val': np.arange(1,5),})\n",
    "\n",
    "# each column or row is a pd.Series\n",
    "print(type(df['val']), type(df.loc[2]))\n",
    "\n",
    "# index a DataFrame to retrieve a column from it\n",
    "print(df['val'], newline)\n",
    "\n",
    "# use DataFrame.loc label based indexing to retrieve a row from it\n",
    "print(df.loc[2], newline)\n",
    "\n",
    "# use DataFrame.iloc integer based indexing to retrieve a row from it\n",
    "print(df.iloc[-1], newline)\n",
    "\n",
    "# using DataFrame.head() to summarize data frame\n",
    "df.head()"
   ]
  },
  {
   "cell_type": "code",
   "execution_count": 5,
   "metadata": {},
   "outputs": [
    {
     "data": {
      "text/plain": [
       "(  key  val\n",
       " 0   a    1\n",
       " 1   b    2\n",
       " 2   c    3\n",
       " 3   d    4,\n",
       " 2,\n",
       " 2)"
      ]
     },
     "execution_count": 5,
     "metadata": {},
     "output_type": "execute_result"
    }
   ],
   "source": [
    "# Accessing cells of a data frame by row first, or by column first\n",
    "df = pd.DataFrame({'key': alphabet[:4], 'val': np.arange(1,5),})\n",
    "df, df.iloc[1]['val'], df['val'][1]"
   ]
  },
  {
   "cell_type": "markdown",
   "metadata": {},
   "source": [
    "## Interval indices"
   ]
  },
  {
   "cell_type": "code",
   "execution_count": 49,
   "metadata": {},
   "outputs": [
    {
     "name": "stdout",
     "output_type": "stream",
     "text": [
      "column 'val1'\n",
      "(0, 2]    a\n",
      "(2, 3]    b\n",
      "(3, 6]    c\n",
      "(6, 7]    d\n",
      "Name: val1, dtype: object\n",
      "\n",
      "val1 at position 1.3\n",
      "a\n",
      "\n",
      "val1 at position 3\n",
      "b\n",
      "\n",
      "val1, val2 at position 6\n",
      "['c' 2]\n"
     ]
    },
    {
     "data": {
      "text/html": [
       "<div>\n",
       "<style scoped>\n",
       "    .dataframe tbody tr th:only-of-type {\n",
       "        vertical-align: middle;\n",
       "    }\n",
       "\n",
       "    .dataframe tbody tr th {\n",
       "        vertical-align: top;\n",
       "    }\n",
       "\n",
       "    .dataframe thead th {\n",
       "        text-align: right;\n",
       "    }\n",
       "</style>\n",
       "<table border=\"1\" class=\"dataframe\">\n",
       "  <thead>\n",
       "    <tr style=\"text-align: right;\">\n",
       "      <th></th>\n",
       "      <th>val1</th>\n",
       "      <th>val2</th>\n",
       "    </tr>\n",
       "  </thead>\n",
       "  <tbody>\n",
       "    <tr>\n",
       "      <th>(0, 2]</th>\n",
       "      <td>a</td>\n",
       "      <td>0</td>\n",
       "    </tr>\n",
       "    <tr>\n",
       "      <th>(2, 3]</th>\n",
       "      <td>b</td>\n",
       "      <td>1</td>\n",
       "    </tr>\n",
       "    <tr>\n",
       "      <th>(3, 6]</th>\n",
       "      <td>c</td>\n",
       "      <td>2</td>\n",
       "    </tr>\n",
       "    <tr>\n",
       "      <th>(6, 7]</th>\n",
       "      <td>d</td>\n",
       "      <td>3</td>\n",
       "    </tr>\n",
       "  </tbody>\n",
       "</table>\n",
       "</div>"
      ],
      "text/plain": [
       "       val1  val2\n",
       "(0, 2]    a     0\n",
       "(2, 3]    b     1\n",
       "(3, 6]    c     2\n",
       "(6, 7]    d     3"
      ]
     },
     "execution_count": 49,
     "metadata": {},
     "output_type": "execute_result"
    }
   ],
   "source": [
    "# Interval index from left and right bounds\n",
    "left  = [0, 2, 3, 6]\n",
    "right = [2, 3, 6, 7]\n",
    "index = pd.IntervalIndex.from_arrays(left, right)\n",
    "df = pd.DataFrame({\"val1\": [\"a\", \"b\", \"c\", \"d\"]}, index=index)\n",
    "df[\"val2\"] = range(4)\n",
    "\n",
    "util.doc.results(\n",
    "    \"column 'val1'\", df.val1,\n",
    "    \"val1 at position 1.3\", df.loc[1.3].val1,\n",
    "    \"val1 at position 3\", df.loc[3].val1,\n",
    "    \"val1, val2 at position 6\", df.loc[6][[\"val1\", \"val2\"]].values,\n",
    ")\n",
    "# print(tabulate(df, headers='keys', showindex=False, tablefmt='grid'))\n",
    "df"
   ]
  },
  {
   "cell_type": "code",
   "execution_count": 44,
   "metadata": {},
   "outputs": [
    {
     "name": "stdout",
     "output_type": "stream",
     "text": [
      "value at position 0.2 a\n",
      "value at position 0.7 b\n"
     ]
    },
    {
     "data": {
      "text/html": [
       "<div>\n",
       "<style scoped>\n",
       "    .dataframe tbody tr th:only-of-type {\n",
       "        vertical-align: middle;\n",
       "    }\n",
       "\n",
       "    .dataframe tbody tr th {\n",
       "        vertical-align: top;\n",
       "    }\n",
       "\n",
       "    .dataframe thead th {\n",
       "        text-align: right;\n",
       "    }\n",
       "</style>\n",
       "<table border=\"1\" class=\"dataframe\">\n",
       "  <thead>\n",
       "    <tr style=\"text-align: right;\">\n",
       "      <th></th>\n",
       "      <th>values</th>\n",
       "    </tr>\n",
       "  </thead>\n",
       "  <tbody>\n",
       "    <tr>\n",
       "      <th>(0.0, 0.5]</th>\n",
       "      <td>a</td>\n",
       "    </tr>\n",
       "    <tr>\n",
       "      <th>(0.5, 1.0]</th>\n",
       "      <td>b</td>\n",
       "    </tr>\n",
       "    <tr>\n",
       "      <th>(1.0, 2.0]</th>\n",
       "      <td>c</td>\n",
       "    </tr>\n",
       "    <tr>\n",
       "      <th>(2.0, 6.0]</th>\n",
       "      <td>d</td>\n",
       "    </tr>\n",
       "  </tbody>\n",
       "</table>\n",
       "</div>"
      ],
      "text/plain": [
       "           values\n",
       "(0.0, 0.5]      a\n",
       "(0.5, 1.0]      b\n",
       "(1.0, 2.0]      c\n",
       "(2.0, 6.0]      d"
      ]
     },
     "execution_count": 44,
     "metadata": {},
     "output_type": "execute_result"
    }
   ],
   "source": [
    "# Interval index from interval breaks\n",
    "index = pd.IntervalIndex.from_breaks([0, 0.5, 1, 2, 6])\n",
    "df = pd.DataFrame(\n",
    "    {\"values\": [\"a\", \"b\", \"c\", \"d\"]},\n",
    "    index=index\n",
    ")\n",
    "util.doc.results(\n",
    "    \"value at position 0.2\", df.loc[0.2][\"values\"],\n",
    "    \"value at position 0.7\", df.loc[0.7][\"values\"],\n",
    "compact=True)\n",
    "df"
   ]
  },
  {
   "cell_type": "code",
   "execution_count": 55,
   "metadata": {},
   "outputs": [
    {
     "name": "stdout",
     "output_type": "stream",
     "text": [
      "Select at_intersection and stopped_car\n",
      "   at_intersection  significant  stopped_car  major_turn  minor_turn\n",
      "2             True        False         True       False       False\n",
      "6             True        False         True       False       False\n",
      "\n",
      "Select at_intersection or significant\n",
      "   at_intersection  significant  stopped_car  major_turn  minor_turn\n",
      "1             True         True        False       False        True\n",
      "2             True        False         True       False       False\n",
      "4            False         True        False        True       False\n",
      "5             True         True        False        True       False\n",
      "6             True        False         True       False       False\n",
      "7            False         True        False       False        True\n",
      "\n",
      "Select at_intersection, significant and major_turn\n",
      "   at_intersection  significant  stopped_car  major_turn  minor_turn\n",
      "5             True         True        False        True       False\n"
     ]
    }
   ],
   "source": [
    "d = {\n",
    "    \"at_intersection\": [True,  True,  False, False, True,  True,  False],\n",
    "    \"significant\":      [True,  False, False, True,  True,  False, True],\n",
    "    \"stopped_car\":     [False, True,  True,  False, False, True,  False],\n",
    "    \"major_turn\":      [False, False, False, True,  True,  False, False],\n",
    "    \"minor_turn\":      [True,  False, False, False, False, False, True] }\n",
    "df = pd.DataFrame(d, index=range(1, 8))\n",
    "is_at_intersection = \"at_intersection\"\n",
    "is_stopped_car     = \"is_stopped_car\"\n",
    "is_major_turn      = \"is_major_turn\"\n",
    "is_minor_turn      = \"is_minor_turn\"\n",
    "\n",
    "util.doc.results(\n",
    "    \"Select at_intersection and stopped_car\", df[df[\"at_intersection\"] & df[\"stopped_car\"]],\n",
    "    \"Select at_intersection or significant\", df[df[\"at_intersection\"] | df[\"significant\"]],\n",
    "    \"Select at_intersection, significant and major_turn\",\n",
    "    df[df[\"at_intersection\"] & df[\"significant\"] & df[\"major_turn\"]]\n",
    ")"
   ]
  },
  {
   "cell_type": "markdown",
   "metadata": {},
   "source": [
    "## Operations on data frames"
   ]
  },
  {
   "cell_type": "code",
   "execution_count": 6,
   "metadata": {},
   "outputs": [
    {
     "data": {
      "text/html": [
       "<div>\n",
       "<style scoped>\n",
       "    .dataframe tbody tr th:only-of-type {\n",
       "        vertical-align: middle;\n",
       "    }\n",
       "\n",
       "    .dataframe tbody tr th {\n",
       "        vertical-align: top;\n",
       "    }\n",
       "\n",
       "    .dataframe thead th {\n",
       "        text-align: right;\n",
       "    }\n",
       "</style>\n",
       "<table border=\"1\" class=\"dataframe\">\n",
       "  <thead>\n",
       "    <tr style=\"text-align: right;\">\n",
       "      <th></th>\n",
       "      <th>key</th>\n",
       "      <th>val1</th>\n",
       "      <th>val2</th>\n",
       "      <th>val3</th>\n",
       "      <th>val4</th>\n",
       "    </tr>\n",
       "  </thead>\n",
       "  <tbody>\n",
       "    <tr>\n",
       "      <th>0</th>\n",
       "      <td>a</td>\n",
       "      <td>1</td>\n",
       "      <td>1</td>\n",
       "      <td>1</td>\n",
       "      <td>1</td>\n",
       "    </tr>\n",
       "    <tr>\n",
       "      <th>1</th>\n",
       "      <td>b</td>\n",
       "      <td>2</td>\n",
       "      <td>2</td>\n",
       "      <td>2</td>\n",
       "      <td>2</td>\n",
       "    </tr>\n",
       "    <tr>\n",
       "      <th>2</th>\n",
       "      <td>c</td>\n",
       "      <td>3</td>\n",
       "      <td>3</td>\n",
       "      <td>3</td>\n",
       "      <td>3</td>\n",
       "    </tr>\n",
       "  </tbody>\n",
       "</table>\n",
       "</div>"
      ],
      "text/plain": [
       "  key  val1  val2  val3  val4\n",
       "0   a     1     1     1     1\n",
       "1   b     2     2     2     2\n",
       "2   c     3     3     3     3"
      ]
     },
     "execution_count": 6,
     "metadata": {},
     "output_type": "execute_result"
    }
   ],
   "source": [
    "def get_mock():\n",
    "    return pd.DataFrame({\n",
    "            'key': alphabet[:3],\n",
    "            'val1': np.arange(1,4), 'val2': np.arange(1,4),\n",
    "            'val3': np.arange(1,4), 'val4': np.arange(1,4)})\n",
    "get_mock()"
   ]
  },
  {
   "cell_type": "code",
   "execution_count": 7,
   "metadata": {},
   "outputs": [
    {
     "data": {
      "text/html": [
       "<div>\n",
       "<style scoped>\n",
       "    .dataframe tbody tr th:only-of-type {\n",
       "        vertical-align: middle;\n",
       "    }\n",
       "\n",
       "    .dataframe tbody tr th {\n",
       "        vertical-align: top;\n",
       "    }\n",
       "\n",
       "    .dataframe thead th {\n",
       "        text-align: right;\n",
       "    }\n",
       "</style>\n",
       "<table border=\"1\" class=\"dataframe\">\n",
       "  <thead>\n",
       "    <tr style=\"text-align: right;\">\n",
       "      <th></th>\n",
       "      <th>key</th>\n",
       "      <th>val1</th>\n",
       "      <th>val2</th>\n",
       "      <th>val3</th>\n",
       "      <th>val4</th>\n",
       "      <th>val5</th>\n",
       "    </tr>\n",
       "  </thead>\n",
       "  <tbody>\n",
       "    <tr>\n",
       "      <th>0</th>\n",
       "      <td>a</td>\n",
       "      <td>1</td>\n",
       "      <td>1</td>\n",
       "      <td>1</td>\n",
       "      <td>1</td>\n",
       "      <td>1</td>\n",
       "    </tr>\n",
       "    <tr>\n",
       "      <th>1</th>\n",
       "      <td>b</td>\n",
       "      <td>2</td>\n",
       "      <td>2</td>\n",
       "      <td>2</td>\n",
       "      <td>2</td>\n",
       "      <td>1</td>\n",
       "    </tr>\n",
       "    <tr>\n",
       "      <th>2</th>\n",
       "      <td>c</td>\n",
       "      <td>3</td>\n",
       "      <td>3</td>\n",
       "      <td>3</td>\n",
       "      <td>3</td>\n",
       "      <td>1</td>\n",
       "    </tr>\n",
       "  </tbody>\n",
       "</table>\n",
       "</div>"
      ],
      "text/plain": [
       "  key  val1  val2  val3  val4  val5\n",
       "0   a     1     1     1     1     1\n",
       "1   b     2     2     2     2     1\n",
       "2   c     3     3     3     3     1"
      ]
     },
     "execution_count": 7,
     "metadata": {},
     "output_type": "execute_result"
    }
   ],
   "source": [
    "df = get_mock()\n",
    "df['val5'] = 1\n",
    "df"
   ]
  },
  {
   "cell_type": "code",
   "execution_count": 7,
   "metadata": {},
   "outputs": [
    {
     "data": {
      "text/html": [
       "<div>\n",
       "<style scoped>\n",
       "    .dataframe tbody tr th:only-of-type {\n",
       "        vertical-align: middle;\n",
       "    }\n",
       "\n",
       "    .dataframe tbody tr th {\n",
       "        vertical-align: top;\n",
       "    }\n",
       "\n",
       "    .dataframe thead th {\n",
       "        text-align: right;\n",
       "    }\n",
       "</style>\n",
       "<table border=\"1\" class=\"dataframe\">\n",
       "  <thead>\n",
       "    <tr style=\"text-align: right;\">\n",
       "      <th></th>\n",
       "      <th>key</th>\n",
       "      <th>val1</th>\n",
       "      <th>val2</th>\n",
       "      <th>val3</th>\n",
       "      <th>val4</th>\n",
       "    </tr>\n",
       "  </thead>\n",
       "  <tbody>\n",
       "    <tr>\n",
       "      <th>0</th>\n",
       "      <td>prefix/a/suffix</td>\n",
       "      <td>1</td>\n",
       "      <td>1</td>\n",
       "      <td>1</td>\n",
       "      <td>1</td>\n",
       "    </tr>\n",
       "    <tr>\n",
       "      <th>1</th>\n",
       "      <td>prefix/b/suffix</td>\n",
       "      <td>2</td>\n",
       "      <td>2</td>\n",
       "      <td>2</td>\n",
       "      <td>2</td>\n",
       "    </tr>\n",
       "    <tr>\n",
       "      <th>2</th>\n",
       "      <td>prefix/c/suffix</td>\n",
       "      <td>3</td>\n",
       "      <td>3</td>\n",
       "      <td>3</td>\n",
       "      <td>3</td>\n",
       "    </tr>\n",
       "  </tbody>\n",
       "</table>\n",
       "</div>"
      ],
      "text/plain": [
       "               key  val1  val2  val3  val4\n",
       "0  prefix/a/suffix     1     1     1     1\n",
       "1  prefix/b/suffix     2     2     2     2\n",
       "2  prefix/c/suffix     3     3     3     3"
      ]
     },
     "execution_count": 7,
     "metadata": {},
     "output_type": "execute_result"
    }
   ],
   "source": [
    "# Modify\n",
    "df = get_mock()\n",
    "df['key'] = 'prefix/' + df['key']\n",
    "df['key'] += '/suffix'\n",
    "df"
   ]
  },
  {
   "cell_type": "code",
   "execution_count": 8,
   "metadata": {},
   "outputs": [
    {
     "data": {
      "text/html": [
       "<div>\n",
       "<style scoped>\n",
       "    .dataframe tbody tr th:only-of-type {\n",
       "        vertical-align: middle;\n",
       "    }\n",
       "\n",
       "    .dataframe tbody tr th {\n",
       "        vertical-align: top;\n",
       "    }\n",
       "\n",
       "    .dataframe thead th {\n",
       "        text-align: right;\n",
       "    }\n",
       "</style>\n",
       "<table border=\"1\" class=\"dataframe\">\n",
       "  <thead>\n",
       "    <tr style=\"text-align: right;\">\n",
       "      <th></th>\n",
       "      <th>key</th>\n",
       "      <th>val1</th>\n",
       "      <th>val2</th>\n",
       "      <th>val3</th>\n",
       "      <th>val4</th>\n",
       "    </tr>\n",
       "  </thead>\n",
       "  <tbody>\n",
       "    <tr>\n",
       "      <th>0</th>\n",
       "      <td>a</td>\n",
       "      <td>2</td>\n",
       "      <td>1</td>\n",
       "      <td>1</td>\n",
       "      <td>1</td>\n",
       "    </tr>\n",
       "    <tr>\n",
       "      <th>1</th>\n",
       "      <td>b</td>\n",
       "      <td>3</td>\n",
       "      <td>1</td>\n",
       "      <td>2</td>\n",
       "      <td>2</td>\n",
       "    </tr>\n",
       "    <tr>\n",
       "      <th>2</th>\n",
       "      <td>c</td>\n",
       "      <td>4</td>\n",
       "      <td>1</td>\n",
       "      <td>3</td>\n",
       "      <td>3</td>\n",
       "    </tr>\n",
       "  </tbody>\n",
       "</table>\n",
       "</div>"
      ],
      "text/plain": [
       "  key  val1  val2  val3  val4\n",
       "0   a     2     1     1     1\n",
       "1   b     3     1     2     2\n",
       "2   c     4     1     3     3"
      ]
     },
     "execution_count": 8,
     "metadata": {},
     "output_type": "execute_result"
    }
   ],
   "source": [
    "# Operate on columns\n",
    "_df = get_mock()\n",
    "# Add values in selected columns in-place\n",
    "_df['val1'] += 1\n",
    "_df['val2'] = 1 # or np.array([1,-1])\n",
    "_df"
   ]
  },
  {
   "cell_type": "code",
   "execution_count": 9,
   "metadata": {},
   "outputs": [
    {
     "data": {
      "text/html": [
       "<div>\n",
       "<style scoped>\n",
       "    .dataframe tbody tr th:only-of-type {\n",
       "        vertical-align: middle;\n",
       "    }\n",
       "\n",
       "    .dataframe tbody tr th {\n",
       "        vertical-align: top;\n",
       "    }\n",
       "\n",
       "    .dataframe thead th {\n",
       "        text-align: right;\n",
       "    }\n",
       "</style>\n",
       "<table border=\"1\" class=\"dataframe\">\n",
       "  <thead>\n",
       "    <tr style=\"text-align: right;\">\n",
       "      <th></th>\n",
       "      <th>key</th>\n",
       "      <th>val1</th>\n",
       "      <th>val2</th>\n",
       "      <th>val3</th>\n",
       "      <th>val4</th>\n",
       "    </tr>\n",
       "  </thead>\n",
       "  <tbody>\n",
       "    <tr>\n",
       "      <th>0</th>\n",
       "      <td>a</td>\n",
       "      <td>2</td>\n",
       "      <td>0</td>\n",
       "      <td>1</td>\n",
       "      <td>-1</td>\n",
       "    </tr>\n",
       "    <tr>\n",
       "      <th>1</th>\n",
       "      <td>b</td>\n",
       "      <td>3</td>\n",
       "      <td>1</td>\n",
       "      <td>1</td>\n",
       "      <td>-1</td>\n",
       "    </tr>\n",
       "    <tr>\n",
       "      <th>2</th>\n",
       "      <td>c</td>\n",
       "      <td>4</td>\n",
       "      <td>2</td>\n",
       "      <td>1</td>\n",
       "      <td>-1</td>\n",
       "    </tr>\n",
       "  </tbody>\n",
       "</table>\n",
       "</div>"
      ],
      "text/plain": [
       "  key  val1  val2  val3  val4\n",
       "0   a     2     0     1    -1\n",
       "1   b     3     1     1    -1\n",
       "2   c     4     2     1    -1"
      ]
     },
     "execution_count": 9,
     "metadata": {},
     "output_type": "execute_result"
    }
   ],
   "source": [
    "# Operate on multiple columns at a time\n",
    "_df = get_mock()\n",
    "# Add values in selected columns in-place\n",
    "_df[['val1', 'val2']] += [1,-1] # or np.array([1,-1])\n",
    "_df[['val3', 'val4']] = [1,-1] # or np.array([1,-1])\n",
    "_df"
   ]
  },
  {
   "cell_type": "code",
   "execution_count": 10,
   "metadata": {},
   "outputs": [
    {
     "data": {
      "text/html": [
       "<div>\n",
       "<style scoped>\n",
       "    .dataframe tbody tr th:only-of-type {\n",
       "        vertical-align: middle;\n",
       "    }\n",
       "\n",
       "    .dataframe tbody tr th {\n",
       "        vertical-align: top;\n",
       "    }\n",
       "\n",
       "    .dataframe thead th {\n",
       "        text-align: right;\n",
       "    }\n",
       "</style>\n",
       "<table border=\"1\" class=\"dataframe\">\n",
       "  <thead>\n",
       "    <tr style=\"text-align: right;\">\n",
       "      <th></th>\n",
       "      <th>key</th>\n",
       "      <th>val1</th>\n",
       "      <th>val2</th>\n",
       "      <th>val3</th>\n",
       "      <th>val4</th>\n",
       "    </tr>\n",
       "  </thead>\n",
       "  <tbody>\n",
       "    <tr>\n",
       "      <th>0</th>\n",
       "      <td>a</td>\n",
       "      <td>1</td>\n",
       "      <td>-1</td>\n",
       "      <td>1</td>\n",
       "      <td>1</td>\n",
       "    </tr>\n",
       "    <tr>\n",
       "      <th>1</th>\n",
       "      <td>b</td>\n",
       "      <td>-1</td>\n",
       "      <td>1</td>\n",
       "      <td>2</td>\n",
       "      <td>2</td>\n",
       "    </tr>\n",
       "    <tr>\n",
       "      <th>2</th>\n",
       "      <td>c</td>\n",
       "      <td>1</td>\n",
       "      <td>-1</td>\n",
       "      <td>3</td>\n",
       "      <td>3</td>\n",
       "    </tr>\n",
       "  </tbody>\n",
       "</table>\n",
       "</div>"
      ],
      "text/plain": [
       "  key  val1  val2  val3  val4\n",
       "0   a     1    -1     1     1\n",
       "1   b    -1     1     2     2\n",
       "2   c     1    -1     3     3"
      ]
     },
     "execution_count": 10,
     "metadata": {},
     "output_type": "execute_result"
    }
   ],
   "source": [
    "# Operate on multiple columns at a time\n",
    "_df = get_mock()\n",
    "# Update values in selected columns in place\n",
    "_df[['val1', 'val2']] = [[1,-1],[-1,1],[1,-1]] # np.array([[1,-1],[-1,1],[1,-1]])\n",
    "_df"
   ]
  },
  {
   "cell_type": "code",
   "execution_count": 11,
   "metadata": {},
   "outputs": [
    {
     "data": {
      "text/html": [
       "<div>\n",
       "<style scoped>\n",
       "    .dataframe tbody tr th:only-of-type {\n",
       "        vertical-align: middle;\n",
       "    }\n",
       "\n",
       "    .dataframe tbody tr th {\n",
       "        vertical-align: top;\n",
       "    }\n",
       "\n",
       "    .dataframe thead th {\n",
       "        text-align: right;\n",
       "    }\n",
       "</style>\n",
       "<table border=\"1\" class=\"dataframe\">\n",
       "  <thead>\n",
       "    <tr style=\"text-align: right;\">\n",
       "      <th></th>\n",
       "      <th>key</th>\n",
       "      <th>val1</th>\n",
       "      <th>val2</th>\n",
       "      <th>val3</th>\n",
       "      <th>val4</th>\n",
       "    </tr>\n",
       "  </thead>\n",
       "  <tbody>\n",
       "    <tr>\n",
       "      <th>0</th>\n",
       "      <td>-1</td>\n",
       "      <td>-1</td>\n",
       "      <td>-1</td>\n",
       "      <td>-1</td>\n",
       "      <td>-1</td>\n",
       "    </tr>\n",
       "    <tr>\n",
       "      <th>1</th>\n",
       "      <td>10</td>\n",
       "      <td>10</td>\n",
       "      <td>10</td>\n",
       "      <td>10</td>\n",
       "      <td>10</td>\n",
       "    </tr>\n",
       "    <tr>\n",
       "      <th>2</th>\n",
       "      <td>d</td>\n",
       "      <td>1</td>\n",
       "      <td>1</td>\n",
       "      <td>1</td>\n",
       "      <td>1</td>\n",
       "    </tr>\n",
       "  </tbody>\n",
       "</table>\n",
       "</div>"
      ],
      "text/plain": [
       "  key  val1  val2  val3  val4\n",
       "0  -1    -1    -1    -1    -1\n",
       "1  10    10    10    10    10\n",
       "2   d     1     1     1     1"
      ]
     },
     "execution_count": 11,
     "metadata": {},
     "output_type": "execute_result"
    }
   ],
   "source": [
    "# Operate on rows\n",
    "df = get_mock()\n",
    "# Update values in selected row(s)\n",
    "df[df['key'] == 'a'] = -1\n",
    "df.loc[1] = 10\n",
    "df.loc[2] = pd.Series({'key': 'd', 'val1': 1, 'val2': 1, 'val3': 1, 'val4': 1})\n",
    "df"
   ]
  },
  {
   "cell_type": "code",
   "execution_count": 12,
   "metadata": {},
   "outputs": [
    {
     "data": {
      "text/html": [
       "<div>\n",
       "<style scoped>\n",
       "    .dataframe tbody tr th:only-of-type {\n",
       "        vertical-align: middle;\n",
       "    }\n",
       "\n",
       "    .dataframe tbody tr th {\n",
       "        vertical-align: top;\n",
       "    }\n",
       "\n",
       "    .dataframe thead th {\n",
       "        text-align: right;\n",
       "    }\n",
       "</style>\n",
       "<table border=\"1\" class=\"dataframe\">\n",
       "  <thead>\n",
       "    <tr style=\"text-align: right;\">\n",
       "      <th></th>\n",
       "      <th>key</th>\n",
       "      <th>val1</th>\n",
       "      <th>val2</th>\n",
       "      <th>val3</th>\n",
       "      <th>val4</th>\n",
       "    </tr>\n",
       "  </thead>\n",
       "  <tbody>\n",
       "    <tr>\n",
       "      <th>0</th>\n",
       "      <td>a</td>\n",
       "      <td>1</td>\n",
       "      <td>1</td>\n",
       "      <td>1</td>\n",
       "      <td>1</td>\n",
       "    </tr>\n",
       "    <tr>\n",
       "      <th>1</th>\n",
       "      <td>c</td>\n",
       "      <td>1</td>\n",
       "      <td>1</td>\n",
       "      <td>1</td>\n",
       "      <td>1</td>\n",
       "    </tr>\n",
       "    <tr>\n",
       "      <th>2</th>\n",
       "      <td>d</td>\n",
       "      <td>-1</td>\n",
       "      <td>-1</td>\n",
       "      <td>-1</td>\n",
       "      <td>-1</td>\n",
       "    </tr>\n",
       "  </tbody>\n",
       "</table>\n",
       "</div>"
      ],
      "text/plain": [
       "  key val1 val2 val3 val4\n",
       "0   a    1    1    1    1\n",
       "1   c    1    1    1    1\n",
       "2   d   -1   -1   -1   -1"
      ]
     },
     "execution_count": 12,
     "metadata": {},
     "output_type": "execute_result"
    }
   ],
   "source": [
    "# Operate on multiple rows at a time\n",
    "df = get_mock()\n",
    "# Update values in selected row(s)\n",
    "df.loc[[1,2]] = np.array([['c',1,1,1,1],['d',-1,-1,-1,-1]])\n",
    "df"
   ]
  },
  {
   "cell_type": "code",
   "execution_count": 13,
   "metadata": {},
   "outputs": [
    {
     "data": {
      "text/html": [
       "<div>\n",
       "<style scoped>\n",
       "    .dataframe tbody tr th:only-of-type {\n",
       "        vertical-align: middle;\n",
       "    }\n",
       "\n",
       "    .dataframe tbody tr th {\n",
       "        vertical-align: top;\n",
       "    }\n",
       "\n",
       "    .dataframe thead th {\n",
       "        text-align: right;\n",
       "    }\n",
       "</style>\n",
       "<table border=\"1\" class=\"dataframe\">\n",
       "  <thead>\n",
       "    <tr style=\"text-align: right;\">\n",
       "      <th></th>\n",
       "      <th>key</th>\n",
       "      <th>val1</th>\n",
       "      <th>val2</th>\n",
       "      <th>val3</th>\n",
       "      <th>val4</th>\n",
       "    </tr>\n",
       "  </thead>\n",
       "  <tbody>\n",
       "    <tr>\n",
       "      <th>0</th>\n",
       "      <td>a</td>\n",
       "      <td>100</td>\n",
       "      <td>1</td>\n",
       "      <td>1</td>\n",
       "      <td>1</td>\n",
       "    </tr>\n",
       "    <tr>\n",
       "      <th>1</th>\n",
       "      <td>b</td>\n",
       "      <td>2</td>\n",
       "      <td>100</td>\n",
       "      <td>2</td>\n",
       "      <td>2</td>\n",
       "    </tr>\n",
       "    <tr>\n",
       "      <th>2</th>\n",
       "      <td>c</td>\n",
       "      <td>3</td>\n",
       "      <td>3</td>\n",
       "      <td>3</td>\n",
       "      <td>3</td>\n",
       "    </tr>\n",
       "  </tbody>\n",
       "</table>\n",
       "</div>"
      ],
      "text/plain": [
       "  key  val1  val2  val3  val4\n",
       "0   a   100     1     1     1\n",
       "1   b     2   100     2     2\n",
       "2   c     3     3     3     3"
      ]
     },
     "execution_count": 13,
     "metadata": {},
     "output_type": "execute_result"
    }
   ],
   "source": [
    "# Operate on cells\n",
    "# What is the difference between DataFrames loc(), iloc(), at(), iat()\n",
    "# https://stackoverflow.com/questions/28757389/pandas-loc-vs-iloc-vs-at-vs-iat\n",
    "# https://stackoverflow.com/questions/37216485/pandas-at-versus-loc\n",
    "df = get_mock()\n",
    "df.at[0, 'val1'] = 100\n",
    "df.loc[1, 'val2'] = 100\n",
    "df"
   ]
  },
  {
   "cell_type": "code",
   "execution_count": 14,
   "metadata": {},
   "outputs": [
    {
     "data": {
      "text/html": [
       "<div>\n",
       "<style scoped>\n",
       "    .dataframe tbody tr th:only-of-type {\n",
       "        vertical-align: middle;\n",
       "    }\n",
       "\n",
       "    .dataframe tbody tr th {\n",
       "        vertical-align: top;\n",
       "    }\n",
       "\n",
       "    .dataframe thead th {\n",
       "        text-align: right;\n",
       "    }\n",
       "</style>\n",
       "<table border=\"1\" class=\"dataframe\">\n",
       "  <thead>\n",
       "    <tr style=\"text-align: right;\">\n",
       "      <th></th>\n",
       "      <th>key</th>\n",
       "      <th>val1</th>\n",
       "      <th>val2</th>\n",
       "      <th>val3</th>\n",
       "      <th>val4</th>\n",
       "    </tr>\n",
       "  </thead>\n",
       "  <tbody>\n",
       "    <tr>\n",
       "      <th>0</th>\n",
       "      <td>a</td>\n",
       "      <td>1</td>\n",
       "      <td>1</td>\n",
       "      <td>1</td>\n",
       "      <td>1</td>\n",
       "    </tr>\n",
       "    <tr>\n",
       "      <th>1</th>\n",
       "      <td>b</td>\n",
       "      <td>2</td>\n",
       "      <td>2</td>\n",
       "      <td>2</td>\n",
       "      <td>2</td>\n",
       "    </tr>\n",
       "    <tr>\n",
       "      <th>2</th>\n",
       "      <td>c</td>\n",
       "      <td>3</td>\n",
       "      <td>3</td>\n",
       "      <td>100</td>\n",
       "      <td>100</td>\n",
       "    </tr>\n",
       "  </tbody>\n",
       "</table>\n",
       "</div>"
      ],
      "text/plain": [
       "  key  val1  val2  val3  val4\n",
       "0   a     1     1     1     1\n",
       "1   b     2     2     2     2\n",
       "2   c     3     3   100   100"
      ]
     },
     "execution_count": 14,
     "metadata": {},
     "output_type": "execute_result"
    }
   ],
   "source": [
    "# Operate on multiple cells at a time\n",
    "df = get_mock()\n",
    "# don't use DataFrame.at(), it's much slower.\n",
    "df.loc[2:4, ('val3','val4')] = 100\n",
    "df"
   ]
  },
  {
   "cell_type": "markdown",
   "metadata": {},
   "source": [
    "## More Operations"
   ]
  },
  {
   "cell_type": "code",
   "execution_count": 2,
   "metadata": {},
   "outputs": [
    {
     "data": {
      "text/html": [
       "<div>\n",
       "<style scoped>\n",
       "    .dataframe tbody tr th:only-of-type {\n",
       "        vertical-align: middle;\n",
       "    }\n",
       "\n",
       "    .dataframe tbody tr th {\n",
       "        vertical-align: top;\n",
       "    }\n",
       "\n",
       "    .dataframe thead th {\n",
       "        text-align: right;\n",
       "    }\n",
       "</style>\n",
       "<table border=\"1\" class=\"dataframe\">\n",
       "  <thead>\n",
       "    <tr style=\"text-align: right;\">\n",
       "      <th></th>\n",
       "      <th>key</th>\n",
       "      <th>val1</th>\n",
       "      <th>val2</th>\n",
       "      <th>val3</th>\n",
       "      <th>val4</th>\n",
       "    </tr>\n",
       "  </thead>\n",
       "  <tbody>\n",
       "    <tr>\n",
       "      <th>0</th>\n",
       "      <td>a</td>\n",
       "      <td>1</td>\n",
       "      <td>1</td>\n",
       "      <td>1</td>\n",
       "      <td>1</td>\n",
       "    </tr>\n",
       "    <tr>\n",
       "      <th>1</th>\n",
       "      <td>b</td>\n",
       "      <td>2</td>\n",
       "      <td>2</td>\n",
       "      <td>2</td>\n",
       "      <td>2</td>\n",
       "    </tr>\n",
       "    <tr>\n",
       "      <th>2</th>\n",
       "      <td>a</td>\n",
       "      <td>3</td>\n",
       "      <td>3</td>\n",
       "      <td>3</td>\n",
       "      <td>3</td>\n",
       "    </tr>\n",
       "    <tr>\n",
       "      <th>3</th>\n",
       "      <td>b</td>\n",
       "      <td>4</td>\n",
       "      <td>4</td>\n",
       "      <td>4</td>\n",
       "      <td>4</td>\n",
       "    </tr>\n",
       "  </tbody>\n",
       "</table>\n",
       "</div>"
      ],
      "text/plain": [
       "  key  val1  val2  val3  val4\n",
       "0   a     1     1     1     1\n",
       "1   b     2     2     2     2\n",
       "2   a     3     3     3     3\n",
       "3   b     4     4     4     4"
      ]
     },
     "execution_count": 2,
     "metadata": {},
     "output_type": "execute_result"
    }
   ],
   "source": [
    "def get_mock():\n",
    "    return pd.DataFrame({\n",
    "            'key': alphabet[:2] + alphabet[:2],\n",
    "            'val1': np.arange(1,5), 'val2': np.arange(1,5),\n",
    "            'val3': np.arange(1,5), 'val4': np.arange(1,5)})\n",
    "get_mock()"
   ]
  },
  {
   "cell_type": "code",
   "execution_count": 4,
   "metadata": {
    "scrolled": true
   },
   "outputs": [
    {
     "data": {
      "text/html": [
       "<div>\n",
       "<style scoped>\n",
       "    .dataframe tbody tr th:only-of-type {\n",
       "        vertical-align: middle;\n",
       "    }\n",
       "\n",
       "    .dataframe tbody tr th {\n",
       "        vertical-align: top;\n",
       "    }\n",
       "\n",
       "    .dataframe thead th {\n",
       "        text-align: right;\n",
       "    }\n",
       "</style>\n",
       "<table border=\"1\" class=\"dataframe\">\n",
       "  <thead>\n",
       "    <tr style=\"text-align: right;\">\n",
       "      <th></th>\n",
       "      <th>key</th>\n",
       "      <th>val1</th>\n",
       "      <th>val2</th>\n",
       "      <th>val3</th>\n",
       "      <th>val4</th>\n",
       "    </tr>\n",
       "  </thead>\n",
       "  <tbody>\n",
       "    <tr>\n",
       "      <th>0</th>\n",
       "      <td>a</td>\n",
       "      <td>100</td>\n",
       "      <td>1</td>\n",
       "      <td>1</td>\n",
       "      <td>1</td>\n",
       "    </tr>\n",
       "    <tr>\n",
       "      <th>1</th>\n",
       "      <td>b</td>\n",
       "      <td>2</td>\n",
       "      <td>2</td>\n",
       "      <td>2</td>\n",
       "      <td>2</td>\n",
       "    </tr>\n",
       "    <tr>\n",
       "      <th>2</th>\n",
       "      <td>a</td>\n",
       "      <td>100</td>\n",
       "      <td>3</td>\n",
       "      <td>3</td>\n",
       "      <td>3</td>\n",
       "    </tr>\n",
       "    <tr>\n",
       "      <th>3</th>\n",
       "      <td>b</td>\n",
       "      <td>4</td>\n",
       "      <td>4</td>\n",
       "      <td>4</td>\n",
       "      <td>4</td>\n",
       "    </tr>\n",
       "  </tbody>\n",
       "</table>\n",
       "</div>"
      ],
      "text/plain": [
       "  key  val1  val2  val3  val4\n",
       "0   a   100     1     1     1\n",
       "1   b     2     2     2     2\n",
       "2   a   100     3     3     3\n",
       "3   b     4     4     4     4"
      ]
     },
     "execution_count": 4,
     "metadata": {},
     "output_type": "execute_result"
    }
   ],
   "source": [
    "# modify val1 when where key is 'a'\n",
    "df = get_mock()\n",
    "df.loc[df['key'] == 'a','val1'] = 100\n",
    "df"
   ]
  },
  {
   "cell_type": "markdown",
   "metadata": {},
   "source": [
    "## Seaborn Dataset"
   ]
  },
  {
   "cell_type": "code",
   "execution_count": 8,
   "metadata": {},
   "outputs": [
    {
     "name": "stdout",
     "output_type": "stream",
     "text": [
      "The flights seaborn dataset.\n",
      "   year month  passengers\n",
      "0  1949   Jan         112\n",
      "1  1949   Feb         118\n",
      "2  1949   Mar         132\n",
      "3  1949   Apr         129\n",
      "4  1949   May         121\n",
      "\n",
      "Sum the number of passengers within a year\n",
      "year\n",
      "1949    1520\n",
      "1950    1676\n",
      "1951    2042\n",
      "1952    2364\n",
      "Name: passengers, dtype: int64\n"
     ]
    }
   ],
   "source": [
    "flights = sns.load_dataset(\"flights\")\n",
    "sum_passengers = flights.groupby(\"year\")[\"passengers\"].sum()\n",
    "util.doc.results(\n",
    "    \"The flights seaborn dataset.\", flights.head(),\n",
    "    \"Sum the number of passengers within a year\", sum_passengers[:4],\n",
    ")"
   ]
  },
  {
   "cell_type": "markdown",
   "metadata": {},
   "source": [
    "## Kaggle Datasets"
   ]
  },
  {
   "cell_type": "code",
   "execution_count": 3,
   "metadata": {},
   "outputs": [
    {
     "data": {
      "text/html": [
       "<div>\n",
       "<style scoped>\n",
       "    .dataframe tbody tr th:only-of-type {\n",
       "        vertical-align: middle;\n",
       "    }\n",
       "\n",
       "    .dataframe tbody tr th {\n",
       "        vertical-align: top;\n",
       "    }\n",
       "\n",
       "    .dataframe thead th {\n",
       "        text-align: right;\n",
       "    }\n",
       "</style>\n",
       "<table border=\"1\" class=\"dataframe\">\n",
       "  <thead>\n",
       "    <tr style=\"text-align: right;\">\n",
       "      <th></th>\n",
       "      <th>Formatted Date</th>\n",
       "      <th>Summary</th>\n",
       "      <th>Precip Type</th>\n",
       "      <th>Temperature (C)</th>\n",
       "      <th>Apparent Temperature (C)</th>\n",
       "      <th>Humidity</th>\n",
       "      <th>Wind Speed (km/h)</th>\n",
       "      <th>Wind Bearing (degrees)</th>\n",
       "      <th>Visibility (km)</th>\n",
       "      <th>Loud Cover</th>\n",
       "      <th>Pressure (millibars)</th>\n",
       "      <th>Daily Summary</th>\n",
       "    </tr>\n",
       "  </thead>\n",
       "  <tbody>\n",
       "    <tr>\n",
       "      <th>0</th>\n",
       "      <td>2006-04-01 00:00:00.000 +0200</td>\n",
       "      <td>Partly Cloudy</td>\n",
       "      <td>rain</td>\n",
       "      <td>9.472222</td>\n",
       "      <td>7.388889</td>\n",
       "      <td>0.89</td>\n",
       "      <td>14.1197</td>\n",
       "      <td>251.0</td>\n",
       "      <td>15.8263</td>\n",
       "      <td>0.0</td>\n",
       "      <td>1015.13</td>\n",
       "      <td>Partly cloudy throughout the day.</td>\n",
       "    </tr>\n",
       "    <tr>\n",
       "      <th>1</th>\n",
       "      <td>2006-04-01 01:00:00.000 +0200</td>\n",
       "      <td>Partly Cloudy</td>\n",
       "      <td>rain</td>\n",
       "      <td>9.355556</td>\n",
       "      <td>7.227778</td>\n",
       "      <td>0.86</td>\n",
       "      <td>14.2646</td>\n",
       "      <td>259.0</td>\n",
       "      <td>15.8263</td>\n",
       "      <td>0.0</td>\n",
       "      <td>1015.63</td>\n",
       "      <td>Partly cloudy throughout the day.</td>\n",
       "    </tr>\n",
       "    <tr>\n",
       "      <th>2</th>\n",
       "      <td>2006-04-01 02:00:00.000 +0200</td>\n",
       "      <td>Mostly Cloudy</td>\n",
       "      <td>rain</td>\n",
       "      <td>9.377778</td>\n",
       "      <td>9.377778</td>\n",
       "      <td>0.89</td>\n",
       "      <td>3.9284</td>\n",
       "      <td>204.0</td>\n",
       "      <td>14.9569</td>\n",
       "      <td>0.0</td>\n",
       "      <td>1015.94</td>\n",
       "      <td>Partly cloudy throughout the day.</td>\n",
       "    </tr>\n",
       "    <tr>\n",
       "      <th>3</th>\n",
       "      <td>2006-04-01 03:00:00.000 +0200</td>\n",
       "      <td>Partly Cloudy</td>\n",
       "      <td>rain</td>\n",
       "      <td>8.288889</td>\n",
       "      <td>5.944444</td>\n",
       "      <td>0.83</td>\n",
       "      <td>14.1036</td>\n",
       "      <td>269.0</td>\n",
       "      <td>15.8263</td>\n",
       "      <td>0.0</td>\n",
       "      <td>1016.41</td>\n",
       "      <td>Partly cloudy throughout the day.</td>\n",
       "    </tr>\n",
       "    <tr>\n",
       "      <th>4</th>\n",
       "      <td>2006-04-01 04:00:00.000 +0200</td>\n",
       "      <td>Mostly Cloudy</td>\n",
       "      <td>rain</td>\n",
       "      <td>8.755556</td>\n",
       "      <td>6.977778</td>\n",
       "      <td>0.83</td>\n",
       "      <td>11.0446</td>\n",
       "      <td>259.0</td>\n",
       "      <td>15.8263</td>\n",
       "      <td>0.0</td>\n",
       "      <td>1016.51</td>\n",
       "      <td>Partly cloudy throughout the day.</td>\n",
       "    </tr>\n",
       "  </tbody>\n",
       "</table>\n",
       "</div>"
      ],
      "text/plain": [
       "                  Formatted Date        Summary Precip Type  Temperature (C)  \\\n",
       "0  2006-04-01 00:00:00.000 +0200  Partly Cloudy        rain         9.472222   \n",
       "1  2006-04-01 01:00:00.000 +0200  Partly Cloudy        rain         9.355556   \n",
       "2  2006-04-01 02:00:00.000 +0200  Mostly Cloudy        rain         9.377778   \n",
       "3  2006-04-01 03:00:00.000 +0200  Partly Cloudy        rain         8.288889   \n",
       "4  2006-04-01 04:00:00.000 +0200  Mostly Cloudy        rain         8.755556   \n",
       "\n",
       "   Apparent Temperature (C)  Humidity  Wind Speed (km/h)  \\\n",
       "0                  7.388889      0.89            14.1197   \n",
       "1                  7.227778      0.86            14.2646   \n",
       "2                  9.377778      0.89             3.9284   \n",
       "3                  5.944444      0.83            14.1036   \n",
       "4                  6.977778      0.83            11.0446   \n",
       "\n",
       "   Wind Bearing (degrees)  Visibility (km)  Loud Cover  Pressure (millibars)  \\\n",
       "0                   251.0          15.8263         0.0               1015.13   \n",
       "1                   259.0          15.8263         0.0               1015.63   \n",
       "2                   204.0          14.9569         0.0               1015.94   \n",
       "3                   269.0          15.8263         0.0               1016.41   \n",
       "4                   259.0          15.8263         0.0               1016.51   \n",
       "\n",
       "                       Daily Summary  \n",
       "0  Partly cloudy throughout the day.  \n",
       "1  Partly cloudy throughout the day.  \n",
       "2  Partly cloudy throughout the day.  \n",
       "3  Partly cloudy throughout the day.  \n",
       "4  Partly cloudy throughout the day.  "
      ]
     },
     "execution_count": 3,
     "metadata": {},
     "output_type": "execute_result"
    },
    {
     "data": {
      "image/png": "[encoded data removed]",
      "text/plain": [
       "<Figure size 432x288 with 1 Axes>"
      ]
     },
     "metadata": {
      "needs_background": "light"
     },
     "output_type": "display_data"
    }
   ],
   "source": [
    "# read CSV of weather history. See doc.kaggle.ipynb on how to download CSV\n",
    "weather_csvfile = \"../data/weatherHistory.csv\"\n",
    "weather_df = pd.read_csv(weather_csvfile)\n",
    "# weather_df[\"Formatted Date\"]\n",
    "plt.plot(weather_df[\"Temperature (C)\"])\n",
    "weather_df.head()"
   ]
  },
  {
   "cell_type": "code",
   "execution_count": 15,
   "metadata": {},
   "outputs": [
    {
     "name": "stdout",
     "output_type": "stream",
     "text": [
      "Headers of CSV\n",
      "Formatted Date, Summary, Precip Type, Temperature (C), Apparent Temperature (C), Humidity, Wind Speed (km/h), Wind Bearing (degrees), Visibility (km), Loud Cover, Pressure (millibars), Daily Summary\n"
     ]
    }
   ],
   "source": [
    "print(\"Headers of CSV\")\n",
    "print(*weather_df.columns.values.tolist(), sep=\", \")"
   ]
  },
  {
   "cell_type": "code",
   "execution_count": 49,
   "metadata": {},
   "outputs": [
    {
     "data": {
      "text/plain": [
       "0   2006-04-01 00:00:00+02:00\n",
       "1   2006-04-01 01:00:00+02:00\n",
       "2   2006-04-01 02:00:00+02:00\n",
       "3   2006-04-01 03:00:00+02:00\n",
       "4   2006-04-01 04:00:00+02:00\n",
       "Name: Formatted Date, dtype: datetime64[ns, pytz.FixedOffset(120)]"
      ]
     },
     "execution_count": 49,
     "metadata": {},
     "output_type": "execute_result"
    }
   ],
   "source": [
    "# Convert date strings to datetime\n",
    "datetimes = pd.to_datetime(weather_df[\"Formatted Date\"][:5])\n",
    "datetimes"
   ]
  },
  {
   "cell_type": "markdown",
   "metadata": {},
   "source": [
    "## Misc"
   ]
  },
  {
   "cell_type": "code",
   "execution_count": 17,
   "metadata": {},
   "outputs": [
    {
     "data": {
      "text/plain": [
       "(0    0.000000e+00\n",
       " 1    9.510565e-01\n",
       " 2    5.877853e-01\n",
       " 3   -5.877853e-01\n",
       " 4   -9.510565e-01\n",
       " 5   -2.449294e-16\n",
       " Name: deg, dtype: float64,\n",
       " array([ 0.00000000e+00,  9.51056516e-01,  5.87785252e-01, -5.87785252e-01,\n",
       "        -9.51056516e-01, -2.44929360e-16]))"
      ]
     },
     "execution_count": 17,
     "metadata": {},
     "output_type": "execute_result"
    }
   ],
   "source": [
    "# Applying numpy operations on series gives back series\n",
    "df = pd.DataFrame({'key': alphabet[:6], 'deg': np.linspace(0, 2*np.pi, 6),})\n",
    "np.sin(df['deg']), np.sin(df['deg'].values)"
   ]
  },
  {
   "cell_type": "code",
   "execution_count": 18,
   "metadata": {},
   "outputs": [
    {
     "data": {
      "text/plain": [
       "(  key  val1  val2  val3  val4\n",
       " 0   a     1     1     1     1\n",
       " 1   b     2     2     2     2\n",
       " 2   c     3     3     3     3,\n",
       "   key  val1  val2  val3       val4\n",
       " 0   a     2   0.5     2   2.718282\n",
       " 1   b     4   1.0     4   7.389056\n",
       " 2   c     6   1.5     6  20.085537,\n",
       "   key  val1  val2  val3       val4\n",
       " 0   a     3   2.5     2   2.718282\n",
       " 1   b     5   3.0     4   7.389056\n",
       " 2   c     7   3.5     6  20.085537)"
      ]
     },
     "execution_count": 18,
     "metadata": {},
     "output_type": "execute_result"
    }
   ],
   "source": [
    "# In-place mutation of columns\n",
    "df = pd.DataFrame({\n",
    "    'key': alphabet[:3],\n",
    "    'val1': np.arange(1,4), 'val2': np.arange(1,4),\n",
    "    'val3': np.arange(1,4), 'val4': np.arange(1,4)})\n",
    "df1 = df.copy()\n",
    "df['val2'] /= 2\n",
    "df[['val1', 'val3']] *= 2\n",
    "df['val4'] = np.exp(df['val4'])\n",
    "df2 = df.copy()\n",
    "df[['val1', 'val2']] += np.array([1, 2])\n",
    "df1, df2, df"
   ]
  },
  {
   "cell_type": "code",
   "execution_count": 19,
   "metadata": {},
   "outputs": [
    {
     "data": {
      "text/html": [
       "<div>\n",
       "<style scoped>\n",
       "    .dataframe tbody tr th:only-of-type {\n",
       "        vertical-align: middle;\n",
       "    }\n",
       "\n",
       "    .dataframe tbody tr th {\n",
       "        vertical-align: top;\n",
       "    }\n",
       "\n",
       "    .dataframe thead th {\n",
       "        text-align: right;\n",
       "    }\n",
       "</style>\n",
       "<table border=\"1\" class=\"dataframe\">\n",
       "  <thead>\n",
       "    <tr style=\"text-align: right;\">\n",
       "      <th></th>\n",
       "      <th>key</th>\n",
       "      <th>val1</th>\n",
       "      <th>val2</th>\n",
       "      <th>val3</th>\n",
       "      <th>val4</th>\n",
       "    </tr>\n",
       "  </thead>\n",
       "  <tbody>\n",
       "    <tr>\n",
       "      <th>0</th>\n",
       "      <td>a</td>\n",
       "      <td>0</td>\n",
       "      <td>1</td>\n",
       "      <td>0</td>\n",
       "      <td>2</td>\n",
       "    </tr>\n",
       "    <tr>\n",
       "      <th>1</th>\n",
       "      <td>b</td>\n",
       "      <td>0</td>\n",
       "      <td>1</td>\n",
       "      <td>0</td>\n",
       "      <td>2</td>\n",
       "    </tr>\n",
       "    <tr>\n",
       "      <th>2</th>\n",
       "      <td>c</td>\n",
       "      <td>0</td>\n",
       "      <td>1</td>\n",
       "      <td>0</td>\n",
       "      <td>2</td>\n",
       "    </tr>\n",
       "  </tbody>\n",
       "</table>\n",
       "</div>"
      ],
      "text/plain": [
       "  key  val1  val2  val3  val4\n",
       "0   a     0     1     0     2\n",
       "1   b     0     1     0     2\n",
       "2   c     0     1     0     2"
      ]
     },
     "execution_count": 19,
     "metadata": {},
     "output_type": "execute_result"
    }
   ],
   "source": [
    "# In-place mutation of columns\n",
    "df = pd.DataFrame({'key': alphabet[:3], 'val1': np.arange(1,4),\n",
    "        'val2': np.arange(1,4), 'val3': np.arange(2,5), 'val4': np.arange(2,5)})\n",
    "df[['val1', 'val3']] = 0\n",
    "df[['val2', 'val4']] = df[['val2', 'val4']].values[0]\n",
    "df"
   ]
  },
  {
   "cell_type": "code",
   "execution_count": 20,
   "metadata": {},
   "outputs": [
    {
     "data": {
      "text/html": [
       "<div>\n",
       "<style scoped>\n",
       "    .dataframe tbody tr th:only-of-type {\n",
       "        vertical-align: middle;\n",
       "    }\n",
       "\n",
       "    .dataframe tbody tr th {\n",
       "        vertical-align: top;\n",
       "    }\n",
       "\n",
       "    .dataframe thead th {\n",
       "        text-align: right;\n",
       "    }\n",
       "</style>\n",
       "<table border=\"1\" class=\"dataframe\">\n",
       "  <thead>\n",
       "    <tr style=\"text-align: right;\">\n",
       "      <th></th>\n",
       "      <th>key</th>\n",
       "      <th>val</th>\n",
       "    </tr>\n",
       "  </thead>\n",
       "  <tbody>\n",
       "    <tr>\n",
       "      <th>0</th>\n",
       "      <td>a</td>\n",
       "      <td>1</td>\n",
       "    </tr>\n",
       "    <tr>\n",
       "      <th>1</th>\n",
       "      <td>b</td>\n",
       "      <td>2</td>\n",
       "    </tr>\n",
       "    <tr>\n",
       "      <th>2</th>\n",
       "      <td>c</td>\n",
       "      <td>3</td>\n",
       "    </tr>\n",
       "    <tr>\n",
       "      <th>3</th>\n",
       "      <td>d</td>\n",
       "      <td>4</td>\n",
       "    </tr>\n",
       "    <tr>\n",
       "      <th>4</th>\n",
       "      <td>e</td>\n",
       "      <td>5</td>\n",
       "    </tr>\n",
       "    <tr>\n",
       "      <th>5</th>\n",
       "      <td>f</td>\n",
       "      <td>6</td>\n",
       "    </tr>\n",
       "    <tr>\n",
       "      <th>6</th>\n",
       "      <td>g</td>\n",
       "      <td>7</td>\n",
       "    </tr>\n",
       "    <tr>\n",
       "      <th>7</th>\n",
       "      <td>h</td>\n",
       "      <td>8</td>\n",
       "    </tr>\n",
       "  </tbody>\n",
       "</table>\n",
       "</div>"
      ],
      "text/plain": [
       "  key  val\n",
       "0   a    1\n",
       "1   b    2\n",
       "2   c    3\n",
       "3   d    4\n",
       "4   e    5\n",
       "5   f    6\n",
       "6   g    7\n",
       "7   h    8"
      ]
     },
     "execution_count": 20,
     "metadata": {},
     "output_type": "execute_result"
    }
   ],
   "source": [
    "# Concatenate two data frames.\n",
    "df1 = pd.DataFrame({'key': alphabet[:4], 'val': np.arange(1,5)})\n",
    "df2 = pd.DataFrame({'key': alphabet[4:8], 'val': np.arange(5,9)})\n",
    "pd.concat((df1, df2), ignore_index=True)"
   ]
  },
  {
   "cell_type": "code",
   "execution_count": 21,
   "metadata": {},
   "outputs": [
    {
     "name": "stdout",
     "output_type": "stream",
     "text": [
      "0   key: a     val: 1  \n",
      "1   key: b     val: 2  \n",
      "2   key: c     val: 3  \n"
     ]
    }
   ],
   "source": [
    "# Iterate the rows of a data frame.\n",
    "df = pd.DataFrame({'key': alphabet[:3], 'val': np.arange(1,4)})\n",
    "for i, s in df.iterrows():\n",
    "    print(i, *[ f\"  {k}: {s[k]}  \" for k in s.index ])"
   ]
  },
  {
   "cell_type": "code",
   "execution_count": 22,
   "metadata": {},
   "outputs": [
    {
     "name": "stdout",
     "output_type": "stream",
     "text": [
      "Empty DataFrame\n",
      "Columns: [key, val1, val2]\n",
      "Index: [] \n",
      "\n",
      "  key val1 val2\n",
      "0   a    1    1\n",
      "1   b    2    2 \n",
      "\n",
      "  key val1 val2    str\n",
      "0   a    1    1   abba\n",
      "1   b    2    2  zetta\n"
     ]
    }
   ],
   "source": [
    "# Create an empty DataFrame\n",
    "columns = ['key', 'val1', 'val2']\n",
    "df = pd.DataFrame(columns=columns)\n",
    "print(df, newline)\n",
    "# append rows to the end of data frame\n",
    "df.loc[len(df)] = ['a', 1, 1]\n",
    "df.loc[len(df)] = ['b', 2, 2]\n",
    "print(df, newline)\n",
    "# add a new column to DataFrame and populate it\n",
    "df['str'] = ['abba', 'zetta']\n",
    "print(df)"
   ]
  },
  {
   "cell_type": "code",
   "execution_count": 23,
   "metadata": {},
   "outputs": [
    {
     "data": {
      "text/html": [
       "<div>\n",
       "<style scoped>\n",
       "    .dataframe tbody tr th:only-of-type {\n",
       "        vertical-align: middle;\n",
       "    }\n",
       "\n",
       "    .dataframe tbody tr th {\n",
       "        vertical-align: top;\n",
       "    }\n",
       "\n",
       "    .dataframe thead th {\n",
       "        text-align: right;\n",
       "    }\n",
       "</style>\n",
       "<table border=\"1\" class=\"dataframe\">\n",
       "  <thead>\n",
       "    <tr style=\"text-align: right;\">\n",
       "      <th></th>\n",
       "      <th>key</th>\n",
       "      <th>val</th>\n",
       "    </tr>\n",
       "  </thead>\n",
       "  <tbody>\n",
       "    <tr>\n",
       "      <th>0</th>\n",
       "      <td>a</td>\n",
       "      <td>1</td>\n",
       "    </tr>\n",
       "  </tbody>\n",
       "</table>\n",
       "</div>"
      ],
      "text/plain": [
       "  key  val\n",
       "0   a    1"
      ]
     },
     "execution_count": 23,
     "metadata": {},
     "output_type": "execute_result"
    }
   ],
   "source": [
    "# Convert a series into a data frame\n",
    "s = pd.Series({'key': 'a', 'val': 1})\n",
    "pd.DataFrame([s])"
   ]
  },
  {
   "cell_type": "code",
   "execution_count": 24,
   "metadata": {},
   "outputs": [
    {
     "data": {
      "text/plain": [
       "array([1, 2, 3, 4, 5, 6, 7, 8])"
      ]
     },
     "execution_count": 24,
     "metadata": {},
     "output_type": "execute_result"
    }
   ],
   "source": [
    "# Finding unique values of a column in a data frame.\n",
    "# Create a DataFrame using dict of (str: list)\n",
    "df = pd.DataFrame({'key': alphabet[:8], 'val': np.arange(1,9),})\n",
    "df['val'].unique()"
   ]
  },
  {
   "cell_type": "code",
   "execution_count": 25,
   "metadata": {},
   "outputs": [
    {
     "data": {
      "text/html": [
       "<div>\n",
       "<style scoped>\n",
       "    .dataframe tbody tr th:only-of-type {\n",
       "        vertical-align: middle;\n",
       "    }\n",
       "\n",
       "    .dataframe tbody tr th {\n",
       "        vertical-align: top;\n",
       "    }\n",
       "\n",
       "    .dataframe thead th {\n",
       "        text-align: right;\n",
       "    }\n",
       "</style>\n",
       "<table border=\"1\" class=\"dataframe\">\n",
       "  <thead>\n",
       "    <tr style=\"text-align: right;\">\n",
       "      <th></th>\n",
       "      <th>key</th>\n",
       "      <th>val</th>\n",
       "    </tr>\n",
       "  </thead>\n",
       "  <tbody>\n",
       "    <tr>\n",
       "      <th>1</th>\n",
       "      <td>b</td>\n",
       "      <td>2</td>\n",
       "    </tr>\n",
       "    <tr>\n",
       "      <th>2</th>\n",
       "      <td>c</td>\n",
       "      <td>2</td>\n",
       "    </tr>\n",
       "    <tr>\n",
       "      <th>4</th>\n",
       "      <td>e</td>\n",
       "      <td>2</td>\n",
       "    </tr>\n",
       "  </tbody>\n",
       "</table>\n",
       "</div>"
      ],
      "text/plain": [
       "  key  val\n",
       "1   b    2\n",
       "2   c    2\n",
       "4   e    2"
      ]
     },
     "execution_count": 25,
     "metadata": {},
     "output_type": "execute_result"
    }
   ],
   "source": [
    "# Select rows in data frame by column values.\n",
    "data = {'key': alphabet[:8],\n",
    "        'val': [1, 2, 2, 4, 2, 6, 7, 8]}\n",
    "df = pd.DataFrame(data)\n",
    "df[df['val'] == 2]"
   ]
  },
  {
   "cell_type": "code",
   "execution_count": 26,
   "metadata": {},
   "outputs": [
    {
     "data": {
      "text/html": [
       "<div>\n",
       "<style scoped>\n",
       "    .dataframe tbody tr th:only-of-type {\n",
       "        vertical-align: middle;\n",
       "    }\n",
       "\n",
       "    .dataframe tbody tr th {\n",
       "        vertical-align: top;\n",
       "    }\n",
       "\n",
       "    .dataframe thead th {\n",
       "        text-align: right;\n",
       "    }\n",
       "</style>\n",
       "<table border=\"1\" class=\"dataframe\">\n",
       "  <thead>\n",
       "    <tr style=\"text-align: right;\">\n",
       "      <th></th>\n",
       "      <th>frame_id</th>\n",
       "      <th>node_id</th>\n",
       "      <th>x</th>\n",
       "      <th>y</th>\n",
       "    </tr>\n",
       "  </thead>\n",
       "  <tbody>\n",
       "    <tr>\n",
       "      <th>0</th>\n",
       "      <td>1</td>\n",
       "      <td>1</td>\n",
       "      <td>1</td>\n",
       "      <td>1</td>\n",
       "    </tr>\n",
       "    <tr>\n",
       "      <th>1</th>\n",
       "      <td>2</td>\n",
       "      <td>1</td>\n",
       "      <td>0</td>\n",
       "      <td>0</td>\n",
       "    </tr>\n",
       "    <tr>\n",
       "      <th>2</th>\n",
       "      <td>2</td>\n",
       "      <td>2</td>\n",
       "      <td>1</td>\n",
       "      <td>1</td>\n",
       "    </tr>\n",
       "    <tr>\n",
       "      <th>3</th>\n",
       "      <td>2</td>\n",
       "      <td>3</td>\n",
       "      <td>0</td>\n",
       "      <td>1</td>\n",
       "    </tr>\n",
       "    <tr>\n",
       "      <th>4</th>\n",
       "      <td>3</td>\n",
       "      <td>2</td>\n",
       "      <td>0</td>\n",
       "      <td>0</td>\n",
       "    </tr>\n",
       "    <tr>\n",
       "      <th>5</th>\n",
       "      <td>3</td>\n",
       "      <td>3</td>\n",
       "      <td>1</td>\n",
       "      <td>1</td>\n",
       "    </tr>\n",
       "  </tbody>\n",
       "</table>\n",
       "</div>"
      ],
      "text/plain": [
       "   frame_id  node_id  x  y\n",
       "0         1        1  1  1\n",
       "1         2        1  0  0\n",
       "2         2        2  1  1\n",
       "3         2        3  0  1\n",
       "4         3        2  0  0\n",
       "5         3        3  1  1"
      ]
     },
     "execution_count": 26,
     "metadata": {},
     "output_type": "execute_result"
    }
   ],
   "source": [
    "# Merge two data frames (similar to SQL JOIN statement)\n",
    "# In this use case, I'm using the second data frame to filter\n",
    "# the first data frame by composite key (frame_id, node_id) \n",
    "\n",
    "# See:\n",
    "# https://pandas.pydata.org/pandas-docs/stable/user_guide/merging.html\n",
    "\n",
    "data1 = {\n",
    "    'frame_id': [1, 1, 1, 2, 2, 2, 3, 3, 3],\n",
    "    'node_id':  [1, 2, 3, 1, 2, 3, 1, 2, 3],\n",
    "    'x':        [1, 0, 1, 0, 1, 0, 1, 0, 1],\n",
    "    'y':        [1, 1, 0, 0, 1, 1, 0, 0, 1],\n",
    "}\n",
    "df1 = pd.DataFrame(data1)\n",
    "data2 = {\n",
    "    'frame_id': [1, 2, 2, 2, 3, 3],\n",
    "    'node_id':  [1, 1, 2, 3, 2, 3]\n",
    "}\n",
    "df2 = pd.DataFrame(data2)\n",
    "pd.merge(df1, df2, how='inner', on=['frame_id', 'node_id'])"
   ]
  },
  {
   "cell_type": "code",
   "execution_count": 27,
   "metadata": {},
   "outputs": [
    {
     "data": {
      "text/plain": [
       "0"
      ]
     },
     "execution_count": 27,
     "metadata": {},
     "output_type": "execute_result"
    }
   ],
   "source": [
    "# Example of data retrieval with 'composite keys'\n",
    "data = {\n",
    "    'frame_id': [1, 1, 1, 2, 2, 2, 3, 3, 3],\n",
    "    'node_id':  [1, 2, 3, 1, 2, 3, 1, 2, 3],\n",
    "    'x':        [1, 0, 1, 0, 1, 0, 1, 0, 1],\n",
    "    'y':        [1, 1, 0, 0, 1, 1, 0, 0, 1],\n",
    "}\n",
    "df = pd.DataFrame(data)\n",
    "s = df[np.logical_and(df['frame_id'] == 1, df['node_id'] == 2)].iloc[0]\n",
    "s['x']"
   ]
  },
  {
   "cell_type": "code",
   "execution_count": 28,
   "metadata": {},
   "outputs": [
    {
     "name": "stdout",
     "output_type": "stream",
     "text": [
      "[[1 1]\n",
      " [0 1]\n",
      " [1 0]]\n"
     ]
    },
    {
     "data": {
      "text/html": [
       "<div>\n",
       "<style scoped>\n",
       "    .dataframe tbody tr th:only-of-type {\n",
       "        vertical-align: middle;\n",
       "    }\n",
       "\n",
       "    .dataframe tbody tr th {\n",
       "        vertical-align: top;\n",
       "    }\n",
       "\n",
       "    .dataframe thead th {\n",
       "        text-align: right;\n",
       "    }\n",
       "</style>\n",
       "<table border=\"1\" class=\"dataframe\">\n",
       "  <thead>\n",
       "    <tr style=\"text-align: right;\">\n",
       "      <th></th>\n",
       "      <th>x</th>\n",
       "      <th>y</th>\n",
       "    </tr>\n",
       "  </thead>\n",
       "  <tbody>\n",
       "    <tr>\n",
       "      <th>0</th>\n",
       "      <td>1</td>\n",
       "      <td>1</td>\n",
       "    </tr>\n",
       "    <tr>\n",
       "      <th>1</th>\n",
       "      <td>0</td>\n",
       "      <td>1</td>\n",
       "    </tr>\n",
       "    <tr>\n",
       "      <th>2</th>\n",
       "      <td>1</td>\n",
       "      <td>0</td>\n",
       "    </tr>\n",
       "  </tbody>\n",
       "</table>\n",
       "</div>"
      ],
      "text/plain": [
       "   x  y\n",
       "0  1  1\n",
       "1  0  1\n",
       "2  1  0"
      ]
     },
     "execution_count": 28,
     "metadata": {},
     "output_type": "execute_result"
    }
   ],
   "source": [
    "data = {\n",
    "    'node_id':  [1, 2, 3],\n",
    "    'x':        [1, 0, 1],\n",
    "    'y':        [1, 1, 0],\n",
    "}\n",
    "df = pd.DataFrame(data)\n",
    "# Get the values of column x and y as ndarray.\n",
    "print(df[['x', 'y']].values)\n",
    "df[['x', 'y']]"
   ]
  },
  {
   "cell_type": "code",
   "execution_count": 29,
   "metadata": {},
   "outputs": [
    {
     "name": "stdout",
     "output_type": "stream",
     "text": [
      "                 0        1           2       3\n",
      "animal         dog      cat        fish    None\n",
      "color          red     blue       green  yellow\n",
      "nothing       None     None        None    None\n",
      "vehicle  submarine  racecar  helicopter    None\n"
     ]
    },
    {
     "data": {
      "text/html": [
       "<div>\n",
       "<style scoped>\n",
       "    .dataframe tbody tr th:only-of-type {\n",
       "        vertical-align: middle;\n",
       "    }\n",
       "\n",
       "    .dataframe tbody tr th {\n",
       "        vertical-align: top;\n",
       "    }\n",
       "\n",
       "    .dataframe thead th {\n",
       "        text-align: right;\n",
       "    }\n",
       "</style>\n",
       "<table border=\"1\" class=\"dataframe\">\n",
       "  <thead>\n",
       "    <tr style=\"text-align: right;\">\n",
       "      <th></th>\n",
       "      <th>key</th>\n",
       "      <th>variable</th>\n",
       "    </tr>\n",
       "  </thead>\n",
       "  <tbody>\n",
       "    <tr>\n",
       "      <th>0</th>\n",
       "      <td>animal</td>\n",
       "      <td>dog</td>\n",
       "    </tr>\n",
       "    <tr>\n",
       "      <th>1</th>\n",
       "      <td>animal</td>\n",
       "      <td>cat</td>\n",
       "    </tr>\n",
       "    <tr>\n",
       "      <th>2</th>\n",
       "      <td>animal</td>\n",
       "      <td>fish</td>\n",
       "    </tr>\n",
       "    <tr>\n",
       "      <th>3</th>\n",
       "      <td>color</td>\n",
       "      <td>red</td>\n",
       "    </tr>\n",
       "    <tr>\n",
       "      <th>4</th>\n",
       "      <td>color</td>\n",
       "      <td>blue</td>\n",
       "    </tr>\n",
       "    <tr>\n",
       "      <th>5</th>\n",
       "      <td>color</td>\n",
       "      <td>green</td>\n",
       "    </tr>\n",
       "    <tr>\n",
       "      <th>6</th>\n",
       "      <td>color</td>\n",
       "      <td>yellow</td>\n",
       "    </tr>\n",
       "    <tr>\n",
       "      <th>7</th>\n",
       "      <td>vehicle</td>\n",
       "      <td>submarine</td>\n",
       "    </tr>\n",
       "    <tr>\n",
       "      <th>8</th>\n",
       "      <td>vehicle</td>\n",
       "      <td>racecar</td>\n",
       "    </tr>\n",
       "    <tr>\n",
       "      <th>9</th>\n",
       "      <td>vehicle</td>\n",
       "      <td>helicopter</td>\n",
       "    </tr>\n",
       "  </tbody>\n",
       "</table>\n",
       "</div>"
      ],
      "text/plain": [
       "       key    variable\n",
       "0   animal         dog\n",
       "1   animal         cat\n",
       "2   animal        fish\n",
       "3    color         red\n",
       "4    color        blue\n",
       "5    color       green\n",
       "6    color      yellow\n",
       "7  vehicle   submarine\n",
       "8  vehicle     racecar\n",
       "9  vehicle  helicopter"
      ]
     },
     "execution_count": 29,
     "metadata": {},
     "output_type": "execute_result"
    }
   ],
   "source": [
    "# Make a DataFrame from a dict of iter where iterable items are 'variables' with associated dict key as 'key'.\n",
    "data = {'animal':  set(['dog','cat','fish']),\n",
    "        'color':   ['red','blue','green','yellow'],\n",
    "        'nothing': [],\n",
    "        'vehicle': iter(['submarine', 'racecar', 'helicopter'])}\n",
    "\n",
    "df = pd.DataFrame.from_dict(data, orient='index')\n",
    "print(df)\n",
    "df = df.stack().to_frame().reset_index().drop('level_1', axis=1)\n",
    "df.columns = ['key', 'variable']\n",
    "df"
   ]
  },
  {
   "cell_type": "code",
   "execution_count": 30,
   "metadata": {},
   "outputs": [
    {
     "name": "stdout",
     "output_type": "stream",
     "text": [
      "  key  val1  val2\n",
      "0   a     1     1\n",
      "1   b     2     2\n",
      "2   a     1     1\n",
      "\n",
      "Selecting rows where key column contains 'a'\n",
      "  key  val1  val2\n",
      "0   a     1     1\n",
      "2   a     1     1\n",
      "Number of rows: 2\n",
      "True\n",
      "'a' in df['key']? True\n",
      "\n",
      "Selecting rows where key column contains 'c'\n",
      "Gives empty data frame\n",
      "Empty DataFrame\n",
      "Columns: [key, val1, val2]\n",
      "Index: []\n",
      "Number of rows: 0\n",
      "True\n",
      "'c' in df['key']? False\n",
      "\n",
      "key     a\n",
      "val1    1\n",
      "val2    1\n",
      "Name: 0, dtype: object\n"
     ]
    }
   ],
   "source": [
    "# Create an empty DataFrame with columns, and default int row indices\n",
    "columns = ['key', 'val1', 'val2']\n",
    "data = [['a', 1, 1], ['b', 2, 2], ['a', 1, 1]]\n",
    "df = pd.DataFrame(data, columns=columns)\n",
    "print(df)\n",
    "print()\n",
    "\n",
    "# selecting rows with key column a\n",
    "print(\"Selecting rows where key column contains 'a'\")\n",
    "print(df[df['key'] == 'a'])\n",
    "print(\"Number of rows:\", len(df[df['key'] == 'a']))\n",
    "print(isinstance(df[df['key'] == 'a'], pd.DataFrame))\n",
    "print(\"'a' in df['key']?\", 'a' in df['key'].values )\n",
    "print()\n",
    "\n",
    "# selecting rows with key column c\n",
    "print(\"Selecting rows where key column contains 'c'\")\n",
    "print(\"Gives empty data frame\")\n",
    "print(df[df['key'] == 'c'])\n",
    "print(\"Number of rows:\", len(df[df['key'] == 'c']))\n",
    "print(isinstance(df[df['key'] == 'c'], pd.DataFrame))\n",
    "print(\"'c' in df['key']?\", 'c' in df['key'].values )\n",
    "print()\n",
    "\n",
    "#\n",
    "print(df[df['key'] == 'a'].iloc[0])"
   ]
  },
  {
   "cell_type": "code",
   "execution_count": 31,
   "metadata": {},
   "outputs": [
    {
     "name": "stdout",
     "output_type": "stream",
     "text": [
      "Empty DataFrame\n",
      "Columns: [val1, val2]\n",
      "Index: []\n",
      "  val1 val2    str\n",
      "a    1    1   abba\n",
      "b    2    2  zetta\n",
      "check that \n",
      "Index 'b' exists? True\n",
      "False\n",
      "KeyError 'c'\n",
      "\n",
      "Locate a row in a data frame\n",
      "val1       1\n",
      "val2       1\n",
      "str     abba\n",
      "Name: a, dtype: object\n",
      "\n",
      "Locate a column in a data frame\n",
      "a     abba\n",
      "b    zetta\n",
      "Name: str, dtype: object\n",
      "abba\n",
      "\n",
      "Locate a single cell in a data frame\n",
      "1\n",
      "1\n",
      "1\n",
      "1\n"
     ]
    }
   ],
   "source": [
    "# Create an empty DataFrame with columns, and str row indices\n",
    "columns = ['val1', 'val2']\n",
    "df = pd.DataFrame(columns=columns)\n",
    "print(df)\n",
    "# append a row to the end of DataFrame\n",
    "df.loc['a'] = [1, 1]\n",
    "df.loc['b'] = [2, 2]\n",
    "df['str'] = ['abba', 'zetta']\n",
    "print(df)\n",
    "print(\"check that \")\n",
    "print(\"Index 'b' exists?\", 'b' in df.index)\n",
    "print('c' in df.index)\n",
    "try:\n",
    "    df['c']\n",
    "except KeyError as e:\n",
    "    print('KeyError', e)\n",
    "print()\n",
    "\n",
    "print(\"Locate a row in a data frame\")\n",
    "print(df.loc['a'])\n",
    "print()\n",
    "\n",
    "print(\"Locate a column in a data frame\")\n",
    "print(df['str'])\n",
    "print(df['str'].at['a'])\n",
    "print()\n",
    "\n",
    "print(\"Locate a single cell in a data frame\")\n",
    "# DataFrame.at() works similarly to DataFrame.loc()\n",
    "# can only be used to access cells, not entire axes\n",
    "print(df.at['a', 'val2'])\n",
    "print(df.loc['a', 'val2'])\n",
    "print(df.loc['a'].at['val1'])\n",
    "print(df.loc['a'].loc['val1'])"
   ]
  },
  {
   "cell_type": "code",
   "execution_count": 32,
   "metadata": {},
   "outputs": [
    {
     "name": "stdout",
     "output_type": "stream",
     "text": [
      "val1     6\n",
      "val2    13\n",
      "dtype: int64\n",
      "\n",
      "      val1 val2\n",
      "a        1    1\n",
      "b        2    3\n",
      "c        3    9\n",
      "Total    6   13\n"
     ]
    }
   ],
   "source": [
    "# Create a total row at the bottom.\n",
    "columns = ['val1', 'val2']\n",
    "df = pd.DataFrame(columns=columns)\n",
    "df.loc['a'] = [1, 1]\n",
    "df.loc['b'] = [2, 3]\n",
    "df.loc['c'] = [3, 9]\n",
    "# DataFrame.sum() as pd.Series\n",
    "print(df.sum().astype(int))\n",
    "print()\n",
    "df.loc[\"Total\"] = df.sum().astype(int)\n",
    "print(df)"
   ]
  },
  {
   "cell_type": "code",
   "execution_count": 33,
   "metadata": {},
   "outputs": [
    {
     "name": "stdout",
     "output_type": "stream",
     "text": [
      "   val1  val2    str\n",
      "a     1     3   abba\n",
      "b     2     4  zetta\n",
      "   val1  val2     str\n",
      "a   1.0   3.0    abba\n",
      "b   2.0   4.0   zetta\n",
      "c   6.0   7.0  qwerty\n"
     ]
    }
   ],
   "source": [
    "# Create an empty DataFrame with columns, and str row indices\n",
    "columns = ['val1', 'val2', 'str']\n",
    "data = [[1, 3, 'abba'], [2, 4, 'zetta']]\n",
    "index = ['a', 'b']\n",
    "df = pd.DataFrame(data, columns=columns, index=index)\n",
    "print(df)\n",
    "df.at['c', 'val1'] = 6\n",
    "df.at['c', 'val2'] = 7\n",
    "df.at['c', 'str'] = 'qwerty'\n",
    "print(df)"
   ]
  },
  {
   "cell_type": "code",
   "execution_count": 34,
   "metadata": {},
   "outputs": [
    {
     "name": "stdout",
     "output_type": "stream",
     "text": [
      "6\n"
     ]
    },
    {
     "data": {
      "text/html": [
       "<div>\n",
       "<style scoped>\n",
       "    .dataframe tbody tr th:only-of-type {\n",
       "        vertical-align: middle;\n",
       "    }\n",
       "\n",
       "    .dataframe tbody tr th {\n",
       "        vertical-align: top;\n",
       "    }\n",
       "\n",
       "    .dataframe thead th {\n",
       "        text-align: right;\n",
       "    }\n",
       "</style>\n",
       "<table border=\"1\" class=\"dataframe\">\n",
       "  <thead>\n",
       "    <tr style=\"text-align: right;\">\n",
       "      <th></th>\n",
       "      <th>frame_id</th>\n",
       "      <th>x</th>\n",
       "      <th>y</th>\n",
       "      <th>dx</th>\n",
       "      <th>dy</th>\n",
       "    </tr>\n",
       "  </thead>\n",
       "  <tbody>\n",
       "    <tr>\n",
       "      <th>0</th>\n",
       "      <td>1</td>\n",
       "      <td>1</td>\n",
       "      <td>1</td>\n",
       "      <td>1</td>\n",
       "      <td>1</td>\n",
       "    </tr>\n",
       "    <tr>\n",
       "      <th>1</th>\n",
       "      <td>2</td>\n",
       "      <td>0</td>\n",
       "      <td>1</td>\n",
       "      <td>1</td>\n",
       "      <td>1</td>\n",
       "    </tr>\n",
       "    <tr>\n",
       "      <th>2</th>\n",
       "      <td>3</td>\n",
       "      <td>1</td>\n",
       "      <td>0</td>\n",
       "      <td>1</td>\n",
       "      <td>1</td>\n",
       "    </tr>\n",
       "    <tr>\n",
       "      <th>3</th>\n",
       "      <td>4</td>\n",
       "      <td>0</td>\n",
       "      <td>0</td>\n",
       "      <td>0</td>\n",
       "      <td>1</td>\n",
       "    </tr>\n",
       "    <tr>\n",
       "      <th>4</th>\n",
       "      <td>5</td>\n",
       "      <td>1</td>\n",
       "      <td>1</td>\n",
       "      <td>0</td>\n",
       "      <td>0</td>\n",
       "    </tr>\n",
       "    <tr>\n",
       "      <th>5</th>\n",
       "      <td>6</td>\n",
       "      <td>0</td>\n",
       "      <td>1</td>\n",
       "      <td>0</td>\n",
       "      <td>0</td>\n",
       "    </tr>\n",
       "  </tbody>\n",
       "</table>\n",
       "</div>"
      ],
      "text/plain": [
       "   frame_id  x  y  dx  dy\n",
       "0         1  1  1   1   1\n",
       "1         2  0  1   1   1\n",
       "2         3  1  0   1   1\n",
       "3         4  0  0   0   1\n",
       "4         5  1  1   0   0\n",
       "5         6  0  1   0   0"
      ]
     },
     "execution_count": 34,
     "metadata": {},
     "output_type": "execute_result"
    }
   ],
   "source": [
    "# Select part of the dataframe that contains consecutively increasing frame_id\n",
    "def longest_sequence_using_split(l, split):\n",
    "    n = len(l)\n",
    "    longest_size  = 0\n",
    "    longest_begin = None\n",
    "    longest_end   = None\n",
    "    curr_begin = 0\n",
    "    curr_end   = 0\n",
    "    while curr_end < n:\n",
    "        if split(l, curr_end) or curr_end == n - 1:\n",
    "            if (curr_end - curr_begin + 1)  > longest_size:\n",
    "                longest_size  = curr_end - curr_begin + 1\n",
    "                longest_begin = curr_begin\n",
    "                longest_end   = curr_end\n",
    "            curr_begin = curr_end + 1\n",
    "            curr_end   = curr_end + 1\n",
    "        else:\n",
    "            curr_end  += 1\n",
    "    if longest_size == 0:\n",
    "        return None, longest_size\n",
    "    else:\n",
    "        return slice(longest_begin, longest_end+1), longest_size\n",
    "\n",
    "def longest_consecutive_increasing_subsequence(l):\n",
    "    def split(l, i):\n",
    "        try:\n",
    "            return l[i + 1] != l[i] + 1\n",
    "        except:\n",
    "            return False\n",
    "    return longest_sequence_using_split(l, split)\n",
    "\n",
    "data = {\n",
    "    'frame_id': [1, 2, 3, 4, 5, 6, 8, 9, 10],\n",
    "    'x':        [1, 0, 1, 0, 1, 0, 1, 0, 1],\n",
    "    'y':        [1, 1, 0, 0, 1, 1, 0, 0, 1],\n",
    "    'dx':       [1, 1, 1, 0, 0, 0, 1, 1, 1],\n",
    "    'dy':       [1, 1, 1, 1, 0, 0, 0, 0, 1],}\n",
    "df = pd.DataFrame(data)\n",
    "s, sz = longest_consecutive_increasing_subsequence(df['frame_id'])\n",
    "print(sz)\n",
    "df[s]"
   ]
  },
  {
   "cell_type": "code",
   "execution_count": 35,
   "metadata": {},
   "outputs": [
    {
     "name": "stdout",
     "output_type": "stream",
     "text": [
      "<class 'numpy.ndarray'>\n",
      "6\n"
     ]
    },
    {
     "data": {
      "text/html": [
       "<div>\n",
       "<style scoped>\n",
       "    .dataframe tbody tr th:only-of-type {\n",
       "        vertical-align: middle;\n",
       "    }\n",
       "\n",
       "    .dataframe tbody tr th {\n",
       "        vertical-align: top;\n",
       "    }\n",
       "\n",
       "    .dataframe thead th {\n",
       "        text-align: right;\n",
       "    }\n",
       "</style>\n",
       "<table border=\"1\" class=\"dataframe\">\n",
       "  <thead>\n",
       "    <tr style=\"text-align: right;\">\n",
       "      <th></th>\n",
       "      <th>frame_id</th>\n",
       "      <th>x</th>\n",
       "      <th>y</th>\n",
       "      <th>dx</th>\n",
       "      <th>dy</th>\n",
       "    </tr>\n",
       "  </thead>\n",
       "  <tbody>\n",
       "    <tr>\n",
       "      <th>3</th>\n",
       "      <td>5</td>\n",
       "      <td>0</td>\n",
       "      <td>0</td>\n",
       "      <td>0</td>\n",
       "      <td>1</td>\n",
       "    </tr>\n",
       "    <tr>\n",
       "      <th>4</th>\n",
       "      <td>6</td>\n",
       "      <td>1</td>\n",
       "      <td>1</td>\n",
       "      <td>0</td>\n",
       "      <td>0</td>\n",
       "    </tr>\n",
       "    <tr>\n",
       "      <th>5</th>\n",
       "      <td>7</td>\n",
       "      <td>0</td>\n",
       "      <td>1</td>\n",
       "      <td>0</td>\n",
       "      <td>0</td>\n",
       "    </tr>\n",
       "    <tr>\n",
       "      <th>6</th>\n",
       "      <td>8</td>\n",
       "      <td>1</td>\n",
       "      <td>0</td>\n",
       "      <td>1</td>\n",
       "      <td>0</td>\n",
       "    </tr>\n",
       "    <tr>\n",
       "      <th>7</th>\n",
       "      <td>9</td>\n",
       "      <td>0</td>\n",
       "      <td>0</td>\n",
       "      <td>1</td>\n",
       "      <td>0</td>\n",
       "    </tr>\n",
       "    <tr>\n",
       "      <th>8</th>\n",
       "      <td>10</td>\n",
       "      <td>1</td>\n",
       "      <td>1</td>\n",
       "      <td>1</td>\n",
       "      <td>1</td>\n",
       "    </tr>\n",
       "  </tbody>\n",
       "</table>\n",
       "</div>"
      ],
      "text/plain": [
       "   frame_id  x  y  dx  dy\n",
       "3         5  0  0   0   1\n",
       "4         6  1  1   0   0\n",
       "5         7  0  1   0   0\n",
       "6         8  1  0   1   0\n",
       "7         9  0  0   1   0\n",
       "8        10  1  1   1   1"
      ]
     },
     "execution_count": 35,
     "metadata": {},
     "output_type": "execute_result"
    }
   ],
   "source": [
    "data1 = {\n",
    "    'frame_id': [1, 2, 3, 4, 5, 6, 8, 9, 10],\n",
    "    'x':        [1, 0, 1, 0, 1, 0, 1, 0, 1],\n",
    "    'y':        [1, 1, 0, 0, 1, 1, 0, 0, 1],\n",
    "    'dx':       [1, 1, 1, 0, 0, 0, 1, 1, 1],\n",
    "    'dy':       [1, 1, 1, 1, 0, 0, 0, 0, 1],}\n",
    "data2 = {\n",
    "    'frame_id': [0, 1, 2, 5, 6, 7, 8, 9, 10],\n",
    "    'x':        [1, 0, 1, 0, 1, 0, 1, 0, 1],\n",
    "    'y':        [1, 1, 0, 0, 1, 1, 0, 0, 1],\n",
    "    'dx':       [1, 1, 1, 0, 0, 0, 1, 1, 1],\n",
    "    'dy':       [1, 1, 1, 1, 0, 0, 0, 0, 1],}\n",
    "df = pd.DataFrame(data2)\n",
    "print(type(df['frame_id'].values))\n",
    "s, sz = util.longest_consecutive_increasing_subsequence(df['frame_id'].values)\n",
    "print(sz)\n",
    "df = df[s]\n",
    "# df['frame_id'] = np.arange(sz)\n",
    "df"
   ]
  },
  {
   "cell_type": "code",
   "execution_count": 36,
   "metadata": {},
   "outputs": [
    {
     "name": "stdout",
     "output_type": "stream",
     "text": [
      "[1000000000000             2             3] [1 2 3]\n"
     ]
    },
    {
     "data": {
      "text/html": [
       "<div>\n",
       "<style scoped>\n",
       "    .dataframe tbody tr th:only-of-type {\n",
       "        vertical-align: middle;\n",
       "    }\n",
       "\n",
       "    .dataframe tbody tr th {\n",
       "        vertical-align: top;\n",
       "    }\n",
       "\n",
       "    .dataframe thead th {\n",
       "        text-align: right;\n",
       "    }\n",
       "</style>\n",
       "<table border=\"1\" class=\"dataframe\">\n",
       "  <thead>\n",
       "    <tr style=\"text-align: right;\">\n",
       "      <th></th>\n",
       "      <th>val</th>\n",
       "    </tr>\n",
       "  </thead>\n",
       "  <tbody>\n",
       "    <tr>\n",
       "      <th>0</th>\n",
       "      <td>1000000000000</td>\n",
       "    </tr>\n",
       "    <tr>\n",
       "      <th>1</th>\n",
       "      <td>2</td>\n",
       "    </tr>\n",
       "    <tr>\n",
       "      <th>2</th>\n",
       "      <td>3</td>\n",
       "    </tr>\n",
       "  </tbody>\n",
       "</table>\n",
       "</div>"
      ],
      "text/plain": [
       "             val\n",
       "0  1000000000000\n",
       "1              2\n",
       "2              3"
      ]
     },
     "execution_count": 36,
     "metadata": {},
     "output_type": "execute_result"
    }
   ],
   "source": [
    "# DataFrames sometimes keep views of array data instead of creating a copy of the data\n",
    "# so modifying the data frame may modify the original reference to the array that was used to create the dataframe.\n",
    "a  = np.arange(1,4)\n",
    "b  = a.copy()\n",
    "\n",
    "example = True\n",
    "if example:\n",
    "    df = pd.DataFrame(a, columns=['val'])\n",
    "else:\n",
    "    df = pd.DataFrame({\n",
    "            'key': alphabet[:3],\n",
    "            'val': a})\n",
    "\n",
    "df.at[0, 'val'] = 1e12\n",
    "print(a, b)\n",
    "df"
   ]
  },
  {
   "cell_type": "code",
   "execution_count": 6,
   "metadata": {},
   "outputs": [
    {
     "data": {
      "text/plain": [
       "(33.333333333333336, 57.74368652357877)"
      ]
     },
     "execution_count": 6,
     "metadata": {},
     "output_type": "execute_result"
    }
   ],
   "source": [
    "# get mean and deviation from values in data frame corresponding to specific keys\n",
    "d = {'key': tuple('ababa'), 'val': [-1,0,1,2,100]}\n",
    "df = pd.DataFrame(d)\n",
    "float(df[df['key'] == 'a'].mean()), float(np.sqrt( df[df['key'] == 'a'].var() ))"
   ]
  },
  {
   "cell_type": "code",
   "execution_count": null,
   "metadata": {},
   "outputs": [],
   "source": []
  },
  {
   "cell_type": "code",
   "execution_count": null,
   "metadata": {},
   "outputs": [],
   "source": []
  }
 ],
 "metadata": {
  "kernelspec": {
   "display_name": "Python 3",
   "language": "python",
   "name": "python3"
  },
  "language_info": {
   "codemirror_mode": {
    "name": "ipython",
    "version": 3
   },
   "file_extension": ".py",
   "mimetype": "text/x-python",
   "name": "python",
   "nbconvert_exporter": "python",
   "pygments_lexer": "ipython3",
   "version": "3.8.3"
  }
 },
 "nbformat": 4,
 "nbformat_minor": 4
}
