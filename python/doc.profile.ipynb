{
 "cells": [
  {
   "cell_type": "markdown",
   "metadata": {},
   "source": [
    "Code profiling for Python\n",
    "\n",
    "References:  \n",
    "<https://towardsdatascience.com/how-to-profile-your-code-in-python-e70c834fad89>"
   ]
  },
  {
   "cell_type": "code",
   "execution_count": 40,
   "metadata": {},
   "outputs": [],
   "source": [
    "import cProfile, pstats, io\n",
    "from pstats import SortKey\n",
    "import functools\n",
    "import random\n",
    "import collections\n",
    "import multiprocessing as mp\n",
    "import time\n",
    "import datetime\n",
    "import math\n",
    "\n",
    "import psutil\n",
    "import pandas as pd\n",
    "import numpy as np\n",
    "\n",
    "import utility as util\n",
    "import utility.doc\n",
    "\n",
    "def profile(sort_by='cumulative', lines_to_print=None, strip_dirs=False):\n",
    "    \"\"\"A time profiler decorator.\n",
    "    Inspired by and modified the profile decorator of Giampaolo Rodola:\n",
    "    http://code.activestate.com/recipes/577817-profile-decorator/\n",
    "    Args:\n",
    "        sort_by: str or SortKey enum or tuple/list of str/SortKey enum\n",
    "            Sorting criteria for the Stats object.\n",
    "            For a list of valid string and SortKey refer to:\n",
    "            https://docs.python.org/3/library/profile.html#pstats.Stats.sort_stats\n",
    "        lines_to_print: int or None\n",
    "            Number of lines to print. Default (None) is for all the lines.\n",
    "            This is useful in reducing the size of the printout, especially\n",
    "            that sorting by 'cumulative', the time consuming operations\n",
    "            are printed toward the top of the file.\n",
    "        strip_dirs: bool\n",
    "            Whether to remove the leading path info from file names.\n",
    "            This is also useful in reducing the size of the printout\n",
    "    Returns:\n",
    "        Profile of the decorated function\n",
    "    \"\"\"\n",
    "    def inner(func):\n",
    "        @functools.wraps(func)\n",
    "        def wrapper(*args, **kwargs):\n",
    "            pr = cProfile.Profile()\n",
    "            pr.enable()\n",
    "            retval = func(*args, **kwargs)\n",
    "            pr.disable()\n",
    "            s = io.StringIO()\n",
    "            ps = pstats.Stats(pr, stream=s)\n",
    "            if strip_dirs:\n",
    "                ps.strip_dirs()\n",
    "            ps.sort_stats(sort_by)\n",
    "            ps.print_stats(lines_to_print)\n",
    "            print(func.__name__)\n",
    "            print(s.getvalue())\n",
    "            \n",
    "            return retval\n",
    "\n",
    "        return wrapper\n",
    "\n",
    "    return inner"
   ]
  },
  {
   "cell_type": "markdown",
   "metadata": {},
   "source": [
    "### Timing"
   ]
  },
  {
   "cell_type": "code",
   "execution_count": 12,
   "metadata": {},
   "outputs": [
    {
     "data": {
      "text/plain": [
       "'05_Dec_2021_13_27_44'"
      ]
     },
     "execution_count": 12,
     "metadata": {},
     "output_type": "execute_result"
    }
   ],
   "source": [
    "# Get current time formatted as string \n",
    "time.strftime('%d_%b_%Y_%H_%M_%S', time.localtime())"
   ]
  },
  {
   "cell_type": "code",
   "execution_count": 34,
   "metadata": {},
   "outputs": [
    {
     "data": {
      "text/plain": [
       "'0:00:02'"
      ]
     },
     "execution_count": 34,
     "metadata": {},
     "output_type": "execute_result"
    }
   ],
   "source": [
    "# Get readable time deltas using datetime.timedelta()\n",
    "# limited since there's no conversion to minutes, hours from seconds. See:\n",
    "# https://stackoverflow.com/questions/14190045/how-do-i-convert-datetime-timedelta-to-minutes-hours-in-python\n",
    "t0 = time.time()\n",
    "time.sleep(2)\n",
    "t1 = time.time()\n",
    "delta_t = round(t1 - t0, 0)\n",
    "dtime = datetime.timedelta(seconds=delta_t)\n",
    "str(dtime)"
   ]
  },
  {
   "cell_type": "code",
   "execution_count": 55,
   "metadata": {},
   "outputs": [
    {
     "name": "stdout",
     "output_type": "stream",
     "text": [
      "From 50 s 0-00:00:50.255\n",
      "From 500 s 0-00:08:20.254999999999995\n",
      "From 5000 s 0-01:23:20.25500000000011\n",
      "From 50000 s 0-13:53:20.25499999999738\n",
      "From 500000 s 5-18:53:20.255000000004657\n"
     ]
    }
   ],
   "source": [
    "# de-facto way to get days, hours, minutes, remaining seconds from seconds. See:\n",
    "# https://stackoverflow.com/questions/775049/how-do-i-convert-seconds-to-hours-minutes-and-seconds\n",
    "class TimeDelta(object):\n",
    "    def __init__(self, delta_time):\n",
    "        \"\"\"Convert time difference in seconds to days, hours, minutes, seconds.\n",
    "        \n",
    "        Parameters\n",
    "        ==========\n",
    "        delta_time : float\n",
    "            Time difference in seconds.\n",
    "        \"\"\"\n",
    "        self.fractional, seconds = math.modf(delta_time)\n",
    "        seconds = int(seconds)\n",
    "        minutes, self.seconds = divmod(seconds, 60)\n",
    "        hours, self.minutes = divmod(minutes, 60)\n",
    "        self.days, self.hours = divmod(hours, 24)\n",
    "    \n",
    "    def __repr__(self):\n",
    "        return f\"{self.days}-{self.hours:02}:{self.minutes:02}:{self.seconds + self.fractional:02}\"\n",
    "\n",
    "util.doc.results(\n",
    "    \"From 50 s\", TimeDelta(50.255),\n",
    "    \"From 500 s\", TimeDelta(500.255),\n",
    "    \"From 5000 s\", TimeDelta(5000.255),\n",
    "    \"From 50000 s\", TimeDelta(50000.255),\n",
    "    \"From 500000 s\", TimeDelta(500000.255),\n",
    "compact=True)"
   ]
  },
  {
   "cell_type": "markdown",
   "metadata": {},
   "source": [
    "### Timing Measurements"
   ]
  },
  {
   "cell_type": "code",
   "execution_count": 11,
   "metadata": {},
   "outputs": [
    {
     "name": "stdout",
     "output_type": "stream",
     "text": [
      "concatenate_v1\n",
      "         59999 function calls in 2.103 seconds\n",
      "\n",
      "   Ordered by: cumulative time\n",
      "\n",
      "   ncalls  tottime  percall  cumtime  percall filename:lineno(function)\n",
      "        1    0.054    0.054    2.103    2.103 <ipython-input-11-68cd35bf1565>:4(concatenate_v1)\n",
      "    19999    0.015    0.000    2.049    0.000 <__array_function__ internals>:2(concatenate)\n",
      "    19999    2.032    0.000    2.032    0.000 {built-in method numpy.core._multiarray_umath.implement_array_function}\n",
      "    19999    0.002    0.000    0.002    0.000 /home/fireofearth/.local/miniconda3/envs/ml/lib/python3.8/site-packages/numpy/core/multiarray.py:143(concatenate)\n",
      "        1    0.000    0.000    0.000    0.000 {method 'disable' of '_lsprof.Profiler' objects}\n",
      "\n",
      "\n",
      "\n"
     ]
    },
    {
     "data": {
      "text/plain": [
       "(200000,)"
      ]
     },
     "execution_count": 11,
     "metadata": {},
     "output_type": "execute_result"
    }
   ],
   "source": [
    "# Concatenate more efficiently using broadcasting (5 function calls in 0.005 seconds)\n",
    "# than in a loop (59999 function calls in 2.008 seconds)\n",
    "l = [np.random.randint(0, 10, size=10) for _ in range(20000)]\n",
    "\n",
    "@profile()\n",
    "def concatenate_v1(l):\n",
    "    res = None\n",
    "    for v in l:\n",
    "        if res is None:\n",
    "            res = v\n",
    "        else:\n",
    "            res = np.concatenate((res, v))\n",
    "    return res\n",
    "\n",
    "@profile()\n",
    "def concatenate_v2(l):\n",
    "    return np.concatenate(l)\n",
    "\n",
    "concatenate_v1(l).shape"
   ]
  },
  {
   "cell_type": "markdown",
   "metadata": {},
   "source": [
    "## How to Profile"
   ]
  },
  {
   "cell_type": "code",
   "execution_count": 5,
   "metadata": {},
   "outputs": [
    {
     "name": "stdout",
     "output_type": "stream",
     "text": [
      "CPU cores count 4\n"
     ]
    }
   ],
   "source": [
    "# Using multiprocessing only\n",
    "\n",
    "print(\"CPU cores count\", mp.cpu_count())"
   ]
  },
  {
   "cell_type": "code",
   "execution_count": 3,
   "metadata": {},
   "outputs": [
    {
     "name": "stdout",
     "output_type": "stream",
     "text": [
      "CPU cores count 4\n",
      "CPU usage % 11.4\n",
      "total: 8176308224\n",
      "available: 4507734016\n",
      "percent: 44.9\n",
      "used: 2811072512\n",
      "free: 3261739008\n",
      "active: 528187392\n",
      "inactive: 3736399872\n",
      "buffers: 192393216\n",
      "cached: 1911103488\n",
      "shared: 579244032\n",
      "slab: 174780416\n"
     ]
    },
    {
     "data": {
      "text/plain": [
       "('Percentage of available memory', 55.13165468454825)"
      ]
     },
     "execution_count": 3,
     "metadata": {},
     "output_type": "execute_result"
    }
   ],
   "source": [
    "# Using psutil\n",
    "\n",
    "# gives a single float value\n",
    "print(\"CPU cores count\", psutil.cpu_count())\n",
    "print(\"CPU usage %\", psutil.cpu_percent())\n",
    "\n",
    "# gives an object with many fields\n",
    "vm = psutil.virtual_memory()\n",
    "for k, v in vm._asdict().items():\n",
    "    print(f\"{k}: { v }\")\n",
    "\n",
    "\"Percentage of available memory\", vm.available * 100 / vm.total"
   ]
  },
  {
   "cell_type": "code",
   "execution_count": 27,
   "metadata": {},
   "outputs": [],
   "source": [
    "# cProfile.run(\"pd.Series(list('ABCDEFG'))\")"
   ]
  },
  {
   "cell_type": "markdown",
   "metadata": {},
   "source": [
    "Create a `cProfile.Profile()`, and enable it to start profiling some code. Profile stats have the columns:\n",
    "\n",
    "- `ncalls`: is the number of calls made. When there are two numbers (like 11/9 above), the function recurred. The first value is the total number of calls and the second value is the number of primitive or non-recursive calls.\n",
    "\n",
    "- `tottime`: is the total time spent in the given function (excluding time made in calls to sub-functions).\n",
    "\n",
    "- `percall`: is the quotient of tottime divided by ncalls.\n",
    "\n",
    "- `cumtime`: is the cumulative time spent in this and all subfunctions. This figure is accurate even for recursive functions.\n",
    "\n",
    "- `percall`: is the quotient of cumtime divided by primitive calls.\n",
    "\n",
    "- `filename:lineno(function)`: provides the respective data of each function.\n",
    "\n",
    "Jupyter notebooks complicate the output of the profile. A python script should give:\n",
    "\n",
    "```\n",
    "python try.cProfile.py\n",
    "         9 function calls in 1.494 seconds\n",
    "\n",
    "   Ordered by: cumulative time\n",
    "\n",
    "   ncalls  tottime  percall  cumtime  percall filename:lineno(function)\n",
    "        1    0.000    0.000    1.494    1.494 <__array_function__ internals>:2(sort)\n",
    "        1    0.000    0.000    1.494    1.494 {built-in method numpy.core._multiarray_umath.implement_array_function}\n",
    "        1    0.000    0.000    1.494    1.494 /home/fireofearth/.local/miniconda3/envs/ml/lib/python3.8/site-packages/numpy/core/fromnumeric.py:839(sort)\n",
    "        1    1.457    1.457    1.457    1.457 {method 'sort' of 'numpy.ndarray' objects}\n",
    "        1    0.037    0.037    0.037    0.037 {method 'copy' of 'numpy.ndarray' objects}\n",
    "        1    0.000    0.000    0.000    0.000 /home/fireofearth/.local/miniconda3/envs/ml/lib/python3.8/site-packages/numpy/core/_asarray.py:86(asanyarray)\n",
    "        1    0.000    0.000    0.000    0.000 {built-in method numpy.array}\n",
    "        1    0.000    0.000    0.000    0.000 {method 'disable' of '_lsprof.Profiler' objects}\n",
    "        1    0.000    0.000    0.000    0.000 /home/fireofearth/.local/miniconda3/envs/ml/lib/python3.8/site-packages/numpy/core/fromnumeric.py:835(_sort_dispatcher)\n",
    "```"
   ]
  },
  {
   "cell_type": "code",
   "execution_count": 28,
   "metadata": {
    "scrolled": true
   },
   "outputs": [
    {
     "name": "stdout",
     "output_type": "stream",
     "text": [
      "         53 function calls in 1.512 seconds\n",
      "\n",
      "   Ordered by: cumulative time\n",
      "\n",
      "   ncalls  tottime  percall  cumtime  percall filename:lineno(function)\n",
      "        2    0.000    0.000    1.512    0.756 /home/fireofearth/.local/miniconda3/envs/ml/lib/python3.8/site-packages/IPython/core/interactiveshell.py:3376(run_code)\n",
      "        2    0.000    0.000    1.512    0.756 {built-in method builtins.exec}\n",
      "        1    0.000    0.000    1.512    1.512 <ipython-input-28-9425cf58154a>:8(<module>)\n",
      "        1    0.000    0.000    1.511    1.511 <__array_function__ internals>:2(sort)\n",
      "        1    0.000    0.000    1.511    1.511 {built-in method numpy.core._multiarray_umath.implement_array_function}\n",
      "        1    0.000    0.000    1.511    1.511 /home/fireofearth/.local/miniconda3/envs/ml/lib/python3.8/site-packages/numpy/core/fromnumeric.py:839(sort)\n",
      "        1    1.472    1.472    1.472    1.472 {method 'sort' of 'numpy.ndarray' objects}\n",
      "        1    0.039    0.039    0.039    0.039 {method 'copy' of 'numpy.ndarray' objects}\n",
      "        2    0.000    0.000    0.000    0.000 /home/fireofearth/.local/miniconda3/envs/ml/lib/python3.8/codeop.py:135(__call__)\n",
      "        2    0.000    0.000    0.000    0.000 {built-in method builtins.compile}\n",
      "        2    0.000    0.000    0.000    0.000 /home/fireofearth/.local/miniconda3/envs/ml/lib/python3.8/contextlib.py:238(helper)\n",
      "        2    0.000    0.000    0.000    0.000 /home/fireofearth/.local/miniconda3/envs/ml/lib/python3.8/contextlib.py:108(__enter__)\n",
      "        4    0.000    0.000    0.000    0.000 {built-in method builtins.next}\n",
      "        2    0.000    0.000    0.000    0.000 /home/fireofearth/.local/miniconda3/envs/ml/lib/python3.8/contextlib.py:82(__init__)\n",
      "        2    0.000    0.000    0.000    0.000 /home/fireofearth/.local/miniconda3/envs/ml/lib/python3.8/site-packages/traitlets/traitlets.py:545(__get__)\n",
      "        2    0.000    0.000    0.000    0.000 /home/fireofearth/.local/miniconda3/envs/ml/lib/python3.8/contextlib.py:117(__exit__)\n",
      "        4    0.000    0.000    0.000    0.000 /home/fireofearth/.local/miniconda3/envs/ml/lib/python3.8/site-packages/IPython/core/compilerop.py:138(extra_flags)\n",
      "        1    0.000    0.000    0.000    0.000 <ipython-input-28-9425cf58154a>:10(<module>)\n",
      "        2    0.000    0.000    0.000    0.000 /home/fireofearth/.local/miniconda3/envs/ml/lib/python3.8/site-packages/IPython/core/hooks.py:103(__call__)\n",
      "        2    0.000    0.000    0.000    0.000 /home/fireofearth/.local/miniconda3/envs/ml/lib/python3.8/site-packages/traitlets/traitlets.py:526(get)\n",
      "        1    0.000    0.000    0.000    0.000 /home/fireofearth/.local/miniconda3/envs/ml/lib/python3.8/site-packages/numpy/core/_asarray.py:86(asanyarray)\n",
      "        2    0.000    0.000    0.000    0.000 /home/fireofearth/.local/miniconda3/envs/ml/lib/python3.8/site-packages/IPython/core/interactiveshell.py:3314(compare)\n",
      "        2    0.000    0.000    0.000    0.000 /home/fireofearth/.local/miniconda3/envs/ml/lib/python3.8/site-packages/IPython/utils/ipstruct.py:125(__getattr__)\n",
      "        4    0.000    0.000    0.000    0.000 {built-in method builtins.getattr}\n",
      "        1    0.000    0.000    0.000    0.000 {built-in method numpy.array}\n",
      "        2    0.000    0.000    0.000    0.000 /home/fireofearth/.local/miniconda3/envs/ml/lib/python3.8/site-packages/IPython/core/interactiveshell.py:1276(user_global_ns)\n",
      "        2    0.000    0.000    0.000    0.000 /home/fireofearth/.local/miniconda3/envs/ml/lib/python3.8/site-packages/IPython/core/hooks.py:168(pre_run_code_hook)\n",
      "        1    0.000    0.000    0.000    0.000 {method 'disable' of '_lsprof.Profiler' objects}\n",
      "        1    0.000    0.000    0.000    0.000 /home/fireofearth/.local/miniconda3/envs/ml/lib/python3.8/site-packages/numpy/core/fromnumeric.py:835(_sort_dispatcher)\n",
      "\n",
      "\n",
      "\n"
     ]
    }
   ],
   "source": [
    "pr = cProfile.Profile()\n",
    "\n",
    "N = 20000000\n",
    "ns = np.random.randint(0, high=N, size=N, dtype=int)\n",
    "\n",
    "pr.enable()\n",
    "\n",
    "np.sort(ns)\n",
    "\n",
    "pr.disable()\n",
    "s = io.StringIO()\n",
    "sortby = SortKey.CUMULATIVE\n",
    "ps = pstats.Stats(pr, stream=s).sort_stats(sortby)\n",
    "ps.print_stats()\n",
    "print(s.getvalue())"
   ]
  },
  {
   "cell_type": "markdown",
   "metadata": {},
   "source": [
    "Create a wrapper to profile functions using `cProfile.Profile()`.\n",
    "\n",
    "```\n",
    "python try.cProfile_wrapper.py\n",
    "         10 function calls in 1.470 seconds\n",
    "\n",
    "   Ordered by: cumulative time\n",
    "\n",
    "   ncalls  tottime  percall  cumtime  percall filename:lineno(function)\n",
    "        1    0.000    0.000    1.470    1.470 try.cProfile_wrapper.py:25(test)\n",
    "        1    0.000    0.000    1.470    1.470 <__array_function__ internals>:2(sort)\n",
    "        1    0.000    0.000    1.470    1.470 {built-in method numpy.core._multiarray_umath.implement_array_function}\n",
    "        1    0.000    0.000    1.470    1.470 /home/fireofearth/.local/miniconda3/envs/ml/lib/python3.8/site-packages/numpy/core/fromnumeric.py:839(sort)\n",
    "        1    1.433    1.433    1.433    1.433 {method 'sort' of 'numpy.ndarray' objects}\n",
    "        1    0.037    0.037    0.037    0.037 {method 'copy' of 'numpy.ndarray' objects}\n",
    "        1    0.000    0.000    0.000    0.000 /home/fireofearth/.local/miniconda3/envs/ml/lib/python3.8/site-packages/numpy/core/_asarray.py:86(asanyarray)\n",
    "        1    0.000    0.000    0.000    0.000 {built-in method numpy.array}\n",
    "        1    0.000    0.000    0.000    0.000 {method 'disable' of '_lsprof.Profiler' objects}\n",
    "        1    0.000    0.000    0.000    0.000 /home/fireofearth/.local/miniconda3/envs/ml/lib/python3.8/site-packages/numpy/core/fromnumeric.py:835(_sort_dispatcher)\n",
    "```"
   ]
  },
  {
   "cell_type": "code",
   "execution_count": 29,
   "metadata": {},
   "outputs": [
    {
     "name": "stdout",
     "output_type": "stream",
     "text": [
      "         10 function calls in 1.504 seconds\n",
      "\n",
      "   Ordered by: cumulative time\n",
      "\n",
      "   ncalls  tottime  percall  cumtime  percall filename:lineno(function)\n",
      "        1    0.000    0.000    1.504    1.504 <ipython-input-29-1071863bc8e2>:16(test)\n",
      "        1    0.000    0.000    1.503    1.503 <__array_function__ internals>:2(sort)\n",
      "        1    0.000    0.000    1.503    1.503 {built-in method numpy.core._multiarray_umath.implement_array_function}\n",
      "        1    0.000    0.000    1.503    1.503 /home/fireofearth/.local/miniconda3/envs/ml/lib/python3.8/site-packages/numpy/core/fromnumeric.py:839(sort)\n",
      "        1    1.466    1.466    1.466    1.466 {method 'sort' of 'numpy.ndarray' objects}\n",
      "        1    0.037    0.037    0.037    0.037 {method 'copy' of 'numpy.ndarray' objects}\n",
      "        1    0.000    0.000    0.000    0.000 /home/fireofearth/.local/miniconda3/envs/ml/lib/python3.8/site-packages/numpy/core/_asarray.py:86(asanyarray)\n",
      "        1    0.000    0.000    0.000    0.000 {built-in method numpy.array}\n",
      "        1    0.000    0.000    0.000    0.000 {method 'disable' of '_lsprof.Profiler' objects}\n",
      "        1    0.000    0.000    0.000    0.000 /home/fireofearth/.local/miniconda3/envs/ml/lib/python3.8/site-packages/numpy/core/fromnumeric.py:835(_sort_dispatcher)\n",
      "\n",
      "\n",
      "\n"
     ]
    }
   ],
   "source": [
    "def profile(func):\n",
    "    def wrapper(*args, **kwargs):\n",
    "        pr = cProfile.Profile()\n",
    "        pr.enable()\n",
    "        retval = func(*args, **kwargs)\n",
    "        pr.disable()\n",
    "        s = io.StringIO()\n",
    "        sortby = SortKey.CUMULATIVE  # 'cumulative'\n",
    "        ps = pstats.Stats(pr, stream=s).sort_stats(sortby)\n",
    "        ps.print_stats()\n",
    "        print(s.getvalue())\n",
    "        return retval\n",
    "\n",
    "    return wrapper\n",
    "\n",
    "@profile\n",
    "def test(ns):\n",
    "    np.sort(ns)\n",
    "\n",
    "N = 20000000\n",
    "ns = np.random.randint(0, high=N, size=N, dtype=int)\n",
    "\n",
    "test(ns)"
   ]
  },
  {
   "cell_type": "code",
   "execution_count": 30,
   "metadata": {},
   "outputs": [],
   "source": [
    "def profile(output_file=None, sort_by='cumulative', lines_to_print=None, strip_dirs=False):\n",
    "    \"\"\"A time profiler decorator.\n",
    "    Inspired by and modified the profile decorator of Giampaolo Rodola:\n",
    "    http://code.activestate.com/recipes/577817-profile-decorator/\n",
    "    Args:\n",
    "        output_file: str or None. Default is None\n",
    "            Path of the output file. If only name of the file is given, it's\n",
    "            saved in the current directory.\n",
    "            If it's None, the name of the decorated function is used.\n",
    "        sort_by: str or SortKey enum or tuple/list of str/SortKey enum\n",
    "            Sorting criteria for the Stats object.\n",
    "            For a list of valid string and SortKey refer to:\n",
    "            https://docs.python.org/3/library/profile.html#pstats.Stats.sort_stats\n",
    "        lines_to_print: int or None\n",
    "            Number of lines to print. Default (None) is for all the lines.\n",
    "            This is useful in reducing the size of the printout, especially\n",
    "            that sorting by 'cumulative', the time consuming operations\n",
    "            are printed toward the top of the file.\n",
    "        strip_dirs: bool\n",
    "            Whether to remove the leading path info from file names.\n",
    "            This is also useful in reducing the size of the printout\n",
    "    Returns:\n",
    "        Profile of the decorated function\n",
    "    \"\"\"\n",
    "\n",
    "    def inner(func):\n",
    "        @functools.wraps(func)\n",
    "        def wrapper(*args, **kwargs):\n",
    "            _output_file = output_file or func.__name__ + '.prof'\n",
    "            pr = cProfile.Profile()\n",
    "            pr.enable()\n",
    "            retval = func(*args, **kwargs)\n",
    "            pr.disable()\n",
    "            pr.dump_stats(_output_file)\n",
    "\n",
    "            with open(_output_file, 'w') as f:\n",
    "                ps = pstats.Stats(pr, stream=f)\n",
    "                if strip_dirs:\n",
    "                    ps.strip_dirs()\n",
    "                if isinstance(sort_by, (tuple, list)):\n",
    "                    ps.sort_stats(*sort_by)\n",
    "                else:\n",
    "                    ps.sort_stats(sort_by)\n",
    "                ps.print_stats(lines_to_print)\n",
    "            return retval\n",
    "\n",
    "        return wrapper\n",
    "\n",
    "    return inner\n",
    "\n",
    "def create_products(num):\n",
    "    \"\"\"Create a list of random products with 3-letter alphanumeric name.\"\"\"\n",
    "    return [''.join(random.choices('ABCDEFG123', k=3)) for _ in range(num)]"
   ]
  },
  {
   "cell_type": "code",
   "execution_count": 31,
   "metadata": {},
   "outputs": [
    {
     "name": "stdout",
     "output_type": "stream",
     "text": [
      "         1007 function calls in 0.173 seconds\n",
      "\n",
      "   Ordered by: cumulative time\n",
      "\n",
      "   ncalls  tottime  percall  cumtime  percall filename:lineno(function)\n",
      "        1    0.000    0.000    0.173    0.173 <ipython-input-31-12f638bf1eff>:4(product_counter_v1)\n",
      "        1    0.162    0.162    0.162    0.162 <ipython-input-31-12f638bf1eff>:11(create_counter)\n",
      "        1    0.000    0.000    0.012    0.012 <ipython-input-31-12f638bf1eff>:19(sort_counter)\n",
      "        1    0.011    0.011    0.012    0.012 {built-in method builtins.sorted}\n",
      "        1    0.000    0.000    0.000    0.000 <ipython-input-31-12f638bf1eff>:20(<dictcomp>)\n",
      "     1000    0.000    0.000    0.000    0.000 <ipython-input-31-12f638bf1eff>:21(<lambda>)\n",
      "        1    0.000    0.000    0.000    0.000 {method 'disable' of '_lsprof.Profiler' objects}\n",
      "        1    0.000    0.000    0.000    0.000 {method 'items' of 'dict' objects}\n",
      "\n",
      "\n",
      "\n"
     ]
    }
   ],
   "source": [
    "filename='product_counter_v1.prof'\n",
    "\n",
    "# version1\n",
    "@profile(output_file=filename, sort_by='cumulative', lines_to_print=10, strip_dirs=True)\n",
    "def product_counter_v1(products):\n",
    "    \"\"\"Get count of products in descending order.\"\"\"\n",
    "    counter_dict = create_counter(products)\n",
    "    sorted_p = sort_counter(counter_dict)\n",
    "    return sorted_p\n",
    "\n",
    "def create_counter(products):\n",
    "    counter_dict = {}\n",
    "    for p in products:\n",
    "        if p not in counter_dict:\n",
    "            counter_dict[p] = 0\n",
    "        counter_dict[p] += 1\n",
    "    return counter_dict\n",
    "\n",
    "def sort_counter(counter_dict):\n",
    "    return {k: v for k, v in sorted(counter_dict.items(),\n",
    "                                    key=lambda x: x[1],\n",
    "                                    reverse=True)}\n",
    "\n",
    "num = 1_000_000  # assume we have sold 1,000,000 products\n",
    "products = create_products(num)\n",
    "counter_dict = product_counter_v1(products)\n",
    "\n",
    "with open(filename, 'r') as f:\n",
    "    print(f.read())"
   ]
  },
  {
   "cell_type": "code",
   "execution_count": 32,
   "metadata": {},
   "outputs": [
    {
     "name": "stdout",
     "output_type": "stream",
     "text": [
      "         1007 function calls in 0.149 seconds\n",
      "\n",
      "   Ordered by: cumulative time\n",
      "\n",
      "   ncalls  tottime  percall  cumtime  percall filename:lineno(function)\n",
      "        1    0.000    0.000    0.149    0.149 <ipython-input-32-b9f1fcae7555>:3(product_counter_v2)\n",
      "        1    0.148    0.148    0.148    0.148 <ipython-input-32-b9f1fcae7555>:10(create_counter_v2)\n",
      "        1    0.000    0.000    0.000    0.000 <ipython-input-31-12f638bf1eff>:19(sort_counter)\n",
      "        1    0.000    0.000    0.000    0.000 {built-in method builtins.sorted}\n",
      "        1    0.000    0.000    0.000    0.000 <ipython-input-31-12f638bf1eff>:20(<dictcomp>)\n",
      "     1000    0.000    0.000    0.000    0.000 <ipython-input-31-12f638bf1eff>:21(<lambda>)\n",
      "        1    0.000    0.000    0.000    0.000 {method 'items' of 'dict' objects}\n",
      "        1    0.000    0.000    0.000    0.000 {method 'disable' of '_lsprof.Profiler' objects}\n",
      "\n",
      "\n",
      "\n"
     ]
    }
   ],
   "source": [
    "filename='product_counter_v2.prof'\n",
    "\n",
    "@profile(output_file=filename, sort_by='cumulative', lines_to_print=10, strip_dirs=True)\n",
    "def product_counter_v2(products):\n",
    "    \"\"\"Get count of products in descending order.\"\"\"\n",
    "    counter_dict = create_counter_v2(products)\n",
    "    sorted_p = sort_counter(counter_dict)\n",
    "    return sorted_p\n",
    "\n",
    "def create_counter_v2(products):\n",
    "    counter_dict = {}\n",
    "    for p in products:\n",
    "        try:\n",
    "            counter_dict[p] += 1\n",
    "        except KeyError:\n",
    "            counter_dict[p] = 1\n",
    "    return counter_dict\n",
    "\n",
    "num = 1_000_000  # assume we have sold 1,000,000 products\n",
    "products = create_products(num)\n",
    "counter_dict = product_counter_v2(products)\n",
    "\n",
    "with open(filename, 'r') as f:\n",
    "    print(f.read())"
   ]
  },
  {
   "cell_type": "code",
   "execution_count": 33,
   "metadata": {},
   "outputs": [
    {
     "name": "stdout",
     "output_type": "stream",
     "text": [
      "         56 function calls (26 primitive calls) in 0.089 seconds\n",
      "\n",
      "   Ordered by: cumulative time\n",
      "   List reduced from 11 to 10 due to restriction <10>\n",
      "\n",
      "   ncalls  tottime  percall  cumtime  percall filename:lineno(function)\n",
      "        1    0.000    0.000    0.089    0.089 <ipython-input-33-0fe425e5770d>:3(product_counter_v3)\n",
      "        1    0.000    0.000    0.089    0.089 __init__.py:540(__init__)\n",
      "        1    0.000    0.000    0.089    0.089 __init__.py:608(update)\n",
      "        1    0.089    0.089    0.089    0.089 {built-in method _collections._count_elements}\n",
      "        1    0.000    0.000    0.000    0.000 {built-in method builtins.isinstance}\n",
      "        1    0.000    0.000    0.000    0.000 abc.py:96(__instancecheck__)\n",
      "        1    0.000    0.000    0.000    0.000 {built-in method _abc._abc_instancecheck}\n",
      "     16/1    0.000    0.000    0.000    0.000 abc.py:100(__subclasscheck__)\n",
      "     16/1    0.000    0.000    0.000    0.000 {built-in method _abc._abc_subclasscheck}\n",
      "       16    0.000    0.000    0.000    0.000 _collections_abc.py:392(__subclasshook__)\n",
      "\n",
      "\n",
      "\n"
     ]
    }
   ],
   "source": [
    "filename='product_counter_v3.prof'\n",
    "\n",
    "@profile(output_file=filename, sort_by='cumulative', lines_to_print=10, strip_dirs=True)\n",
    "def product_counter_v3(products):\n",
    "    \"\"\"Get count of products in descending order.\"\"\"\n",
    "    return collections.Counter(products)\n",
    "\n",
    "num = 1_000_000  # assume we have sold 1,000,000 products\n",
    "products = create_products(num)\n",
    "counter_dict = product_counter_v3(products)\n",
    "\n",
    "with open(filename, 'r') as f:\n",
    "    print(f.read())"
   ]
  },
  {
   "cell_type": "code",
   "execution_count": 34,
   "metadata": {},
   "outputs": [],
   "source": [
    "def profile(sort_by='cumulative', lines_to_print=None, strip_dirs=False):\n",
    "    \"\"\"A time profiler decorator.\n",
    "    Inspired by and modified the profile decorator of Giampaolo Rodola:\n",
    "    http://code.activestate.com/recipes/577817-profile-decorator/\n",
    "    Args:\n",
    "        sort_by: str or SortKey enum or tuple/list of str/SortKey enum\n",
    "            Sorting criteria for the Stats object.\n",
    "            For a list of valid string and SortKey refer to:\n",
    "            https://docs.python.org/3/library/profile.html#pstats.Stats.sort_stats\n",
    "        lines_to_print: int or None\n",
    "            Number of lines to print. Default (None) is for all the lines.\n",
    "            This is useful in reducing the size of the printout, especially\n",
    "            that sorting by 'cumulative', the time consuming operations\n",
    "            are printed toward the top of the file.\n",
    "        strip_dirs: bool\n",
    "            Whether to remove the leading path info from file names.\n",
    "            This is also useful in reducing the size of the printout\n",
    "    Returns:\n",
    "        Profile of the decorated function\n",
    "    \"\"\"\n",
    "    def inner(func):\n",
    "        @functools.wraps(func)\n",
    "        def wrapper(*args, **kwargs):\n",
    "            pr = cProfile.Profile()\n",
    "            pr.enable()\n",
    "            retval = func(*args, **kwargs)\n",
    "            pr.disable()\n",
    "            s = io.StringIO()\n",
    "            ps = pstats.Stats(pr, stream=s)\n",
    "            if strip_dirs:\n",
    "                ps.strip_dirs()\n",
    "            ps.sort_stats(sort_by)\n",
    "            ps.print_stats(lines_to_print)\n",
    "            print(func.__name__)\n",
    "            print(s.getvalue())\n",
    "            \n",
    "            return retval\n",
    "\n",
    "        return wrapper\n",
    "\n",
    "    return inner"
   ]
  },
  {
   "cell_type": "code",
   "execution_count": 35,
   "metadata": {},
   "outputs": [
    {
     "name": "stdout",
     "output_type": "stream",
     "text": [
      "product_counter_v3\n",
      "         8 function calls in 0.094 seconds\n",
      "\n",
      "   Ordered by: cumulative time\n",
      "\n",
      "   ncalls  tottime  percall  cumtime  percall filename:lineno(function)\n",
      "        1    0.000    0.000    0.094    0.094 <ipython-input-35-2a0c0bd1e4cf>:1(product_counter_v3)\n",
      "        1    0.000    0.000    0.094    0.094 __init__.py:540(__init__)\n",
      "        1    0.000    0.000    0.094    0.094 __init__.py:608(update)\n",
      "        1    0.094    0.094    0.094    0.094 {built-in method _collections._count_elements}\n",
      "        1    0.000    0.000    0.000    0.000 {built-in method builtins.isinstance}\n",
      "        1    0.000    0.000    0.000    0.000 abc.py:96(__instancecheck__)\n",
      "        1    0.000    0.000    0.000    0.000 {built-in method _abc._abc_instancecheck}\n",
      "        1    0.000    0.000    0.000    0.000 {method 'disable' of '_lsprof.Profiler' objects}\n",
      "\n",
      "\n",
      "\n"
     ]
    }
   ],
   "source": [
    "@profile(sort_by='cumulative', lines_to_print=10, strip_dirs=True)\n",
    "def product_counter_v3(products):\n",
    "    \"\"\"Get count of products in descending order.\"\"\"\n",
    "    return collections.Counter(products)\n",
    "\n",
    "num = 1_000_000  # assume we have sold 1,000,000 products\n",
    "products = create_products(num)\n",
    "counter_dict = product_counter_v3(products)\n"
   ]
  },
  {
   "cell_type": "code",
   "execution_count": null,
   "metadata": {},
   "outputs": [],
   "source": []
  }
 ],
 "metadata": {
  "kernelspec": {
   "display_name": "Python 3",
   "language": "python",
   "name": "python3"
  },
  "language_info": {
   "codemirror_mode": {
    "name": "ipython",
    "version": 3
   },
   "file_extension": ".py",
   "mimetype": "text/x-python",
   "name": "python",
   "nbconvert_exporter": "python",
   "pygments_lexer": "ipython3",
   "version": "3.8.3"
  }
 },
 "nbformat": 4,
 "nbformat_minor": 4
}
