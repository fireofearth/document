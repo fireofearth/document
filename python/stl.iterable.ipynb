{
 "cells": [
  {
   "cell_type": "code",
   "execution_count": 2,
   "metadata": {},
   "outputs": [],
   "source": [
    "from tqdm import tqdm\n",
    "from functools import reduce\n",
    "import itertools\n",
    "import collections\n",
    "from collections.abc import Iterable\n",
    "import time"
   ]
  },
  {
   "cell_type": "code",
   "execution_count": 27,
   "metadata": {},
   "outputs": [
    {
     "name": "stderr",
     "output_type": "stream",
     "text": [
      "100%|██████████| 100/100 [00:01<00:00, 97.06it/s]\n"
     ]
    }
   ],
   "source": [
    "# Basic tqdm usage\n",
    "for i in tqdm(range(100)):\n",
    "    time.sleep(0.01)"
   ]
  },
  {
   "cell_type": "code",
   "execution_count": 36,
   "metadata": {},
   "outputs": [
    {
     "name": "stderr",
     "output_type": "stream",
     "text": [
      "100%|██████████| 100/100 [00:01<00:00, 96.72it/s]\n"
     ]
    },
    {
     "data": {
      "text/plain": [
       "328350"
      ]
     },
     "execution_count": 36,
     "metadata": {},
     "output_type": "execute_result"
    }
   ],
   "source": [
    "# It's possible to use tqdm with generators, but must add total number of iterations.\n",
    "k = 0\n",
    "for i in tqdm(map(lambda x: x*x, range(100)), total=100):\n",
    "    k += i\n",
    "    time.sleep(0.01)\n",
    "k"
   ]
  },
  {
   "cell_type": "code",
   "execution_count": 37,
   "metadata": {},
   "outputs": [
    {
     "name": "stderr",
     "output_type": "stream",
     "text": [
      "100%|██████████| 100/100 [00:01<00:00, 96.96it/s]\n"
     ]
    },
    {
     "data": {
      "text/plain": [
       "2025"
      ]
     },
     "execution_count": 37,
     "metadata": {},
     "output_type": "execute_result"
    }
   ],
   "source": [
    "# Wrap loops in to a generator and use tqdm\n",
    "k = 0\n",
    "def gen():\n",
    "    global k\n",
    "    for i in range(10):\n",
    "        for j in range(10):\n",
    "            k += i*j\n",
    "            time.sleep(0.01)\n",
    "            yield\n",
    "\n",
    "for _ in tqdm(gen(), total=100):\n",
    "    pass\n",
    "k"
   ]
  },
  {
   "cell_type": "code",
   "execution_count": 3,
   "metadata": {},
   "outputs": [
    {
     "name": "stderr",
     "output_type": "stream",
     "text": [
      "15it [00:01,  9.82it/s]                        \n"
     ]
    },
    {
     "data": {
      "text/plain": [
       "15"
      ]
     },
     "execution_count": 3,
     "metadata": {},
     "output_type": "execute_result"
    }
   ],
   "source": [
    "# tqdm manually update\n",
    "\n",
    "k = 0\n",
    "pbar = tqdm(total=10)\n",
    "for i in range(15):\n",
    "    k += 1\n",
    "    time.sleep(0.1)\n",
    "    pbar.update(1)\n",
    "    \n",
    "pbar.close()\n",
    "k"
   ]
  },
  {
   "cell_type": "code",
   "execution_count": 15,
   "metadata": {},
   "outputs": [],
   "source": [
    "class MyIterable(object):\n",
    "    def __init__(self, l):\n",
    "        self.__l = l\n",
    "    \n",
    "    def __len__(self):\n",
    "        return self.__l\n",
    "    \n",
    "    def __getitem__(self, idx):\n",
    "        if idx >= len(self):\n",
    "            raise IndexError\n",
    "        return idx\n",
    "\n",
    "class MyOtherIterable(object):\n",
    "    \"\"\"Iterable\"\"\"\n",
    "    def __init__(self, l):\n",
    "        self.__l = l\n",
    "    \n",
    "    def __iter__(self):\n",
    "        for i in range(self.__l):\n",
    "            yield i\n"
   ]
  },
  {
   "cell_type": "code",
   "execution_count": 16,
   "metadata": {},
   "outputs": [
    {
     "data": {
      "text/plain": [
       "([0, 1, 2, 3, 4, 5, 6, 7, 8, 9], [0, 1, 2, 3, 4, 5, 6, 7, 8, 9])"
      ]
     },
     "execution_count": 16,
     "metadata": {},
     "output_type": "execute_result"
    }
   ],
   "source": [
    "[i for i in MyIterable(10)], [i for i in MyOtherIterable(10)]"
   ]
  },
  {
   "cell_type": "code",
   "execution_count": 17,
   "metadata": {},
   "outputs": [
    {
     "name": "stdout",
     "output_type": "stream",
     "text": [
      "Is a list iterable? True True\n",
      "Is a set iterable? True True\n",
      "Is a tuple iterable? True True\n",
      "Is a dict iterable? True True\n",
      "Is a map object iterable? True True\n",
      "Is MyIterable iterable? True False\n",
      "Is MyOtherIterable iterable? True True\n",
      "Is a number iterable? False False\n"
     ]
    }
   ],
   "source": [
    "# Check whether something is iterable\n",
    "# The only(?) reliable way to determine whether an object is iterable is to call iter(obj)\n",
    "def is_iterable(x):\n",
    "    try:\n",
    "        iter(x)\n",
    "        return True\n",
    "    except:\n",
    "        return False\n",
    "\n",
    "def _is_iterable(x):\n",
    "    \"\"\"\n",
    "    This does not check for classes that are iterable through __getitem__\"\"\"\n",
    "    return isinstance(x, collections.abc.Iterable)\n",
    "\n",
    "print(\"Is a list iterable?\",  is_iterable([]),      _is_iterable([]))\n",
    "print(\"Is a set iterable?\",   is_iterable(set()),   _is_iterable(set()))\n",
    "print(\"Is a tuple iterable?\", is_iterable(tuple()), _is_iterable(tuple()))\n",
    "print(\"Is a dict iterable?\",  is_iterable(dict()),  _is_iterable(dict()))\n",
    "print(\"Is a map object iterable?\", is_iterable(map(lambda x: x, [1,2,3])), _is_iterable(map(lambda x: x, [1,2,3])))\n",
    "print(\"Is MyIterable iterable?\", is_iterable(MyIterable(10)), _is_iterable(MyIterable(10)))\n",
    "print(\"Is MyOtherIterable iterable?\", is_iterable(MyOtherIterable(10)), _is_iterable(MyOtherIterable(10)))\n",
    "print(\"Is a number iterable?\", is_iterable(1), _is_iterable(1))"
   ]
  },
  {
   "cell_type": "code",
   "execution_count": 18,
   "metadata": {},
   "outputs": [
    {
     "data": {
      "text/plain": [
       "2"
      ]
     },
     "execution_count": 18,
     "metadata": {},
     "output_type": "execute_result"
    }
   ],
   "source": [
    "def select(l, indices):\n",
    "    \"\"\"Select from iterable using an index of a list of indices,\n",
    "    returning a list with entries in the same order as their\n",
    "    corresponding indices. Examples:\n",
    "\n",
    "    \"\"\"\n",
    "    if is_iterable(indices):\n",
    "        try:\n",
    "            return [l[i] for i in indices]\n",
    "        except TypeError:\n",
    "            mask = indices_to_selection_mask(indices, max(indices))\n",
    "            return compress(l, mask)\n",
    "    else:\n",
    "        i = indices\n",
    "        try:\n",
    "            return l[i]\n",
    "        except TypeError:\n",
    "            return next(itertools.islice(l, i, None))\n",
    "\n",
    "m = map(lambda x: 2*x, range(10))\n",
    "select(m, 1)"
   ]
  },
  {
   "cell_type": "code",
   "execution_count": 19,
   "metadata": {},
   "outputs": [
    {
     "name": "stderr",
     "output_type": "stream",
     "text": [
      "Test loop: 100%|██████████| 100/100 [00:01<00:00, 97.94it/s]\n"
     ]
    },
    {
     "data": {
      "text/plain": [
       "4950"
      ]
     },
     "execution_count": 19,
     "metadata": {},
     "output_type": "execute_result"
    }
   ],
   "source": [
    "# leave (default: True): keeps all traces of the progressbar upon termination of iteration.\n",
    "# dynamic_ncols (default: False): if set, constantly alters ncols and nrows to the environment\n",
    "#    (allowing for window resizes).\n",
    "k = 0\n",
    "prefix = 'Test loop: '\n",
    "for i in tqdm(range(100), desc=prefix, dynamic_ncols=True, leave=True, position=0):\n",
    "    k += i\n",
    "    time.sleep(0.01)\n",
    "k"
   ]
  },
  {
   "cell_type": "code",
   "execution_count": null,
   "metadata": {},
   "outputs": [],
   "source": []
  }
 ],
 "metadata": {
  "kernelspec": {
   "display_name": "Python 3",
   "language": "python",
   "name": "python3"
  },
  "language_info": {
   "codemirror_mode": {
    "name": "ipython",
    "version": 3
   },
   "file_extension": ".py",
   "mimetype": "text/x-python",
   "name": "python",
   "nbconvert_exporter": "python",
   "pygments_lexer": "ipython3",
   "version": "3.8.3"
  }
 },
 "nbformat": 4,
 "nbformat_minor": 4
}
