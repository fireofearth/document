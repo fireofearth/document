{
 "cells": [
  {
   "cell_type": "markdown",
   "metadata": {},
   "source": [
    "map, filter are built-in. Only reduce must be imported from functools."
   ]
  },
  {
   "cell_type": "code",
   "execution_count": 33,
   "metadata": {},
   "outputs": [],
   "source": [
    "import itertools\n",
    "from functools import reduce\n",
    "map_to_list = lambda f, l: list(map(f, l))\n",
    "filter_to_list = lambda f, l: list(filter(f, l))\n",
    "\n",
    "def find_first(f, l, default=None):\n",
    "    return next((x for x in l if f(x)), default)"
   ]
  },
  {
   "cell_type": "code",
   "execution_count": 24,
   "metadata": {},
   "outputs": [
    {
     "name": "stdout",
     "output_type": "stream",
     "text": [
      "[True, False, True, False]\n",
      "invert booleans [False, True, False, True]\n",
      "filter true [True, True]\n",
      "filter false [False, False]\n",
      "\n"
     ]
    }
   ],
   "source": [
    "# using booleans\n",
    "v = [True, False, True, False]\n",
    "print(v)\n",
    "print(\"invert booleans\", map_to_list(lambda x: not x, v))\n",
    "print(\"filter true\", filter_to_list(lambda x: x, v))\n",
    "print(\"filter false\", filter_to_list(lambda x: not x, v))\n",
    "print()"
   ]
  },
  {
   "cell_type": "markdown",
   "metadata": {},
   "source": [
    "Help on built-in function reduce in module _functools:\n",
    "\n",
    "reduce(...)\n",
    "    reduce(function, sequence[, initial]) -> value\n",
    "    \n",
    "    Apply a function of two arguments cumulatively to the items of a sequence,\n",
    "    from left to right, so as to reduce the sequence to a single value.\n",
    "    For example, reduce(lambda x, y: x+y, [1, 2, 3, 4, 5]) calculates\n",
    "    ((((1+2)+3)+4)+5).  If initial is present, it is placed before the items\n",
    "    of the sequence in the calculation, and serves as a default when the\n",
    "    sequence is empty.\n",
    "\n",
    "function(accumulator, x) -> value"
   ]
  },
  {
   "cell_type": "code",
   "execution_count": 29,
   "metadata": {},
   "outputs": [
    {
     "name": "stdout",
     "output_type": "stream",
     "text": [
      "The  quick brown fox jumps over the lazy dog\n",
      "LOG: The  quick brown fox jumps over the lazy dog\n"
     ]
    }
   ],
   "source": [
    "# using strings\n",
    "v = ['The ', 'quick', 'brown', 'fox', 'jumps', 'over', 'the', 'lazy', 'dog']\n",
    "r = reduce(lambda acc, x: acc + ' ' + x, v)\n",
    "print(r)\n",
    "r = reduce(lambda acc, x: acc + ' ' + x, v, 'LOG:')\n",
    "print(r)"
   ]
  },
  {
   "cell_type": "code",
   "execution_count": 36,
   "metadata": {},
   "outputs": [
    {
     "name": "stdout",
     "output_type": "stream",
     "text": [
      "2\n",
      "None\n"
     ]
    }
   ],
   "source": [
    "v = [1, 2, 3, 4, 5]\n",
    "f = find_first(lambda x: x % 2 == 0, v)\n",
    "print(f)\n",
    "f = find_first(lambda x: x == 0, v)\n",
    "print(f)"
   ]
  },
  {
   "cell_type": "code",
   "execution_count": null,
   "metadata": {},
   "outputs": [],
   "source": []
  }
 ],
 "metadata": {
  "kernelspec": {
   "display_name": "Python 3",
   "language": "python",
   "name": "python3"
  },
  "language_info": {
   "codemirror_mode": {
    "name": "ipython",
    "version": 3
   },
   "file_extension": ".py",
   "mimetype": "text/x-python",
   "name": "python",
   "nbconvert_exporter": "python",
   "pygments_lexer": "ipython3",
   "version": "3.8.3"
  }
 },
 "nbformat": 4,
 "nbformat_minor": 4
}
