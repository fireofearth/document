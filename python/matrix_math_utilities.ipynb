{
 "cells": [
  {
   "cell_type": "code",
   "execution_count": 1,
   "metadata": {
    "collapsed": true
   },
   "outputs": [],
   "source": [
    "import numpy as np\n",
    "import sympy as sp\n",
    "import scipy\n",
    "\n",
    "from numpy import array\n",
    "from numpy.linalg import inv\n",
    "from numpy.linalg import eig\n",
    "from scipy.linalg import lu\n",
    "\n",
    "## Function to compute and clean the matrix Q formed by eigenvectors of matrix M\n",
    "## TODO: avoid div by 0 for entries with zero\n",
    "def getEigVecs(M):\n",
    "    M = np.linalg.eig(M)[1]\n",
    "    v1 = M[:,0] * (1. / M[0,0])\n",
    "    v2 = M[:,1] * (1. / M[0,1])\n",
    "    v3 = M[:,2] * (1. / M[0,2])\n",
    "    M = np.array([v1,v2,v3])\n",
    "    M = np.around(M, decimals=4)\n",
    "    M = np.matrix(M).T\n",
    "    return M\n",
    "\n",
    "## Function to compute diagonal matrix\n",
    "def getDiagMatx(M):\n",
    "    eigVals = np.linalg.eig(M)[0]\n",
    "    n = eigVals.size\n",
    "    M = np.zeros((n,n), dtype=float)\n",
    "    for i in range(0,n):\n",
    "        M[i,i] = eigVals[i]\n",
    "    return np.matrix(M)\n",
    "\n",
    "def getLUOfDiagMinusVal(M, l):\n",
    "    n = M.shape[0]\n",
    "    for i in range(0,n):\n",
    "        M[i,i] -= l;\n",
    "    print(M)\n",
    "    M = scipy.linalg.lu(M)\n",
    "    M = M[2]\n",
    "    return M\n",
    "\n",
    "## get characteristic polynomial from sympy matrix\n",
    "def getCharPoly(M, l):\n",
    "    n = M.shape[0]\n",
    "    for i in range(0,n):\n",
    "        M[i,i] = M[i,i] - l;\n",
    "    p = M.det()\n",
    "    return sp.factor(p)\n"
   ]
  },
  {
   "cell_type": "code",
   "execution_count": 2,
   "metadata": {},
   "outputs": [
    {
     "name": "stdout",
     "output_type": "stream",
     "text": [
      "[[ 2.  3.  9.]\n",
      " [ 1.  4.  4.]\n",
      " [ 0.  0.  3.]]\n"
     ]
    },
    {
     "data": {
      "text/plain": [
       "array([[ 2. ,  3. ,  9. ],\n",
       "       [ 0. ,  2.5, -0.5],\n",
       "       [ 0. ,  0. ,  3. ]])"
      ]
     },
     "execution_count": 2,
     "metadata": {},
     "output_type": "execute_result"
    }
   ],
   "source": [
    "M2 = np.matrix([\n",
    "     [ 1, 1],\n",
    "     [ 4, 1]\n",
    "], dtype=float)\n",
    "\n",
    "M3 = np.matrix([\n",
    "    [   1,   3,   9],\n",
    "    [   1,   3,   4],\n",
    "    [    0,   0,   2]\n",
    "], dtype=float)\n",
    "\n",
    "M3_prime = np.matrix([\n",
    "    [  -3,   3,  -6],\n",
    "    [   6,  -6,  12],\n",
    "    [   6,  -6,  10]\n",
    "], dtype=float)\n",
    "\n",
    "M4 = np.matrix([\n",
    "    [   1,   0,   0,  -1],\n",
    "    [   0,   1,   1,   0],\n",
    "    [   0,  -1,   1,   0],\n",
    "    [   1,   0,   0,   1]\n",
    "], dtype=float)\n",
    "\n",
    "getLUOfDiagMinusVal(M3, -1)\n",
    "\n",
    "#lu(M3_prime)\n",
    "\n",
    "# eig(M4)\n",
    "\n",
    "# getEigVecs(M3)[:,1] * (1 / (getEigVecs(M3)[1,1] * getEigVecs(M3)[2,1]) )\n"
   ]
  },
  {
   "cell_type": "code",
   "execution_count": null,
   "metadata": {
    "collapsed": true
   },
   "outputs": [],
   "source": []
  },
  {
   "cell_type": "code",
   "execution_count": null,
   "metadata": {
    "collapsed": true
   },
   "outputs": [],
   "source": []
  }
 ],
 "metadata": {
  "kernelspec": {
   "display_name": "Python 3",
   "language": "python",
   "name": "python3"
  },
  "language_info": {
   "codemirror_mode": {
    "name": "ipython",
    "version": 3
   },
   "file_extension": ".py",
   "mimetype": "text/x-python",
   "name": "python",
   "nbconvert_exporter": "python",
   "pygments_lexer": "ipython3",
   "version": "3.8.3"
  }
 },
 "nbformat": 4,
 "nbformat_minor": 2
}
