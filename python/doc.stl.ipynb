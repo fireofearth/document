{
 "cells": [
  {
   "cell_type": "code",
   "execution_count": 3,
   "metadata": {},
   "outputs": [],
   "source": [
    "import enum\n",
    "import copy\n",
    "import numbers\n",
    "import itertools\n",
    "import functools\n",
    "import collections\n",
    "import operator\n",
    "import json\n",
    "import logging\n",
    "\n",
    "import utility as util"
   ]
  },
  {
   "cell_type": "code",
   "execution_count": 8,
   "metadata": {},
   "outputs": [
    {
     "name": "stdout",
     "output_type": "stream",
     "text": [
      "0\n",
      "1\n",
      "2\n",
      "3\n",
      "4\n",
      "5\n"
     ]
    }
   ],
   "source": [
    "for t in itertools.count():\n",
    "    print(t)\n",
    "    if t >= 5:\n",
    "        break"
   ]
  },
  {
   "cell_type": "code",
   "execution_count": 7,
   "metadata": {},
   "outputs": [
    {
     "data": {
      "text/plain": [
       "(True, True, False)"
      ]
     },
     "execution_count": 7,
     "metadata": {},
     "output_type": "execute_result"
    }
   ],
   "source": [
    "# Check whether a value is a number\n",
    "isinstance(5, numbers.Number), isinstance(5.1, numbers.Number), isinstance('5.1', numbers.Number)"
   ]
  },
  {
   "cell_type": "code",
   "execution_count": 10,
   "metadata": {},
   "outputs": [
    {
     "name": "stdout",
     "output_type": "stream",
     "text": [
      "Something went wrong.\n",
      "Exception('Something went wrong.')\n"
     ]
    }
   ],
   "source": [
    "# TODO: isn't there a way to include exception codes?\n",
    "try:\n",
    "    raise Exception(\"Something went wrong.\")\n",
    "except Exception as e:\n",
    "    print(e)\n",
    "    print(repr(e))"
   ]
  },
  {
   "cell_type": "code",
   "execution_count": 7,
   "metadata": {},
   "outputs": [
    {
     "name": "stdout",
     "output_type": "stream",
     "text": [
      "1 2 3 4\n",
      "1 2 3 0\n"
     ]
    }
   ],
   "source": [
    "# Currying functions using functools.partial()\n",
    "def myfunc(a, b, c, d=0):\n",
    "    print(a, b, c, d)\n",
    "_myfunc = functools.partial(myfunc, 1, 2, d=4)\n",
    "_myfunc(3)\n",
    "_myfunc = functools.partial(myfunc, 1)\n",
    "_myfunc(2, 3)"
   ]
  },
  {
   "cell_type": "code",
   "execution_count": 10,
   "metadata": {},
   "outputs": [
    {
     "name": "stdout",
     "output_type": "stream",
     "text": [
      "1 2\n",
      "(1, 3, 5) (2, 4, 6)\n"
     ]
    }
   ],
   "source": [
    "A = collections.namedtuple('A', ('c', 'd',))\n",
    "a = A(1, 2)\n",
    "print(a.c, a.d)\n",
    "a1 = A(1, 2)\n",
    "a2 = A(3, 4)\n",
    "a3 = A(5, 6)\n",
    "\n",
    "batch = A(*zip(*[a1, a2, a3]))\n",
    "print(batch.c, batch.d)"
   ]
  },
  {
   "cell_type": "markdown",
   "metadata": {},
   "source": [
    "Iterators and iterable.\n",
    "\n",
    "What exactly are iterator, iterable, and iteration? [StackOverflow](https://stackoverflow.com/questions/9884132/what-exactly-are-iterator-iterable-and-iteration)"
   ]
  },
  {
   "cell_type": "code",
   "execution_count": null,
   "metadata": {},
   "outputs": [],
   "source": [
    "class Itor:\n",
    "    \"\"\"Iterator\"\"\"\n",
    "    def __init__(self):\n",
    "        self.__i = -1\n",
    "        \n",
    "    def __iter__(self):\n",
    "        self.__i = -1\n",
    "        return self\n",
    "    \n",
    "    def __next__(self):\n",
    "        self.__i += 1\n",
    "        return self.__i\n",
    "    \n",
    "class Itble:\n",
    "    \"\"\"Iterable\"\"\"\n",
    "    def __init__(self, l):\n",
    "        self.__l = l\n",
    "    \n",
    "    def __iter__(self):\n",
    "        for i in self.__l:\n",
    "            yield i\n",
    "        \n",
    "it1 = Itor()\n",
    "it2 = Itble([1, 2, 3, 4, 5])\n",
    "\n",
    "[next(it1) for _ in range(6)], list(it2)"
   ]
  },
  {
   "cell_type": "markdown",
   "metadata": {},
   "source": [
    "Queues\n",
    "\n",
    "Use `collections.deque` and not `queue.Queue`."
   ]
  },
  {
   "cell_type": "code",
   "execution_count": 8,
   "metadata": {},
   "outputs": [
    {
     "data": {
      "text/plain": [
       "[6, 5, 4, 3, 2, 1]"
      ]
     },
     "execution_count": 8,
     "metadata": {},
     "output_type": "execute_result"
    }
   ],
   "source": [
    "q = collections.deque([1, 2, 3])\n",
    "q.append(4)\n",
    "q.extend([5,6])\n",
    "l = []\n",
    "while q:\n",
    "    i = q.pop()\n",
    "    l.append(i)\n",
    "l"
   ]
  },
  {
   "cell_type": "code",
   "execution_count": 11,
   "metadata": {},
   "outputs": [
    {
     "data": {
      "text/plain": [
       "('a/b/c', ['a', 'b', 'c'])"
      ]
     },
     "execution_count": 11,
     "metadata": {},
     "output_type": "execute_result"
    }
   ],
   "source": [
    "# Joining and splitting strings\n",
    "l = ['a', 'b', 'c']\n",
    "s = '/'.join(l)\n",
    "s, s.split('/')"
   ]
  },
  {
   "cell_type": "code",
   "execution_count": 9,
   "metadata": {},
   "outputs": [
    {
     "data": {
      "text/plain": [
       "([1, 2, 3], [1, 2, 3], [1, 2, 3])"
      ]
     },
     "execution_count": 9,
     "metadata": {},
     "output_type": "execute_result"
    }
   ],
   "source": [
    "# Sorting iterables\n",
    "l = [1,3,2]\n",
    "s = {1,3,2}\n",
    "r = range(3, 0, -1)\n",
    "sorted(l), sorted(s), sorted(r)"
   ]
  },
  {
   "cell_type": "code",
   "execution_count": 8,
   "metadata": {},
   "outputs": [
    {
     "data": {
      "text/plain": [
       "{1: 'b', 2: 'c', 3: 'e'}"
      ]
     },
     "execution_count": 8,
     "metadata": {},
     "output_type": "execute_result"
    }
   ],
   "source": [
    "# Filter items in a dict by inverse mapping\n",
    "d = {'a': 1, 'b': 1, 'c': 2, 'd': 3, 'e': 3}\n",
    "{v: k for k, v in d.items()}"
   ]
  },
  {
   "cell_type": "code",
   "execution_count": 3,
   "metadata": {},
   "outputs": [
    {
     "data": {
      "text/plain": [
       "([('a', 1), ('b', 2), ('c', 3)],\n",
       " {'a': 1, 'b': 2, 'c': 3},\n",
       " OrderedDict([('a', 1), ('b', 2), ('c', 3)]))"
      ]
     },
     "execution_count": 3,
     "metadata": {},
     "output_type": "execute_result"
    }
   ],
   "source": [
    "# Using zip(), and easy way to create dict() object\n",
    "zip_to_list = lambda *args: list(zip(*args))\n",
    "\n",
    "zip_to_list('abc', [1, 2, 3])"
   ]
  },
  {
   "cell_type": "code",
   "execution_count": 2,
   "metadata": {},
   "outputs": [
    {
     "data": {
      "text/plain": [
       "({'a': 0, 'b': 1, 'c': 2, 'd': 3},\n",
       " {'a': 0, 'b': 1},\n",
       " {},\n",
       " [0, 1, None],\n",
       " ([2, 3], ['f', 'e']))"
      ]
     },
     "execution_count": 2,
     "metadata": {},
     "output_type": "execute_result"
    }
   ],
   "source": [
    "# Using dict\n",
    "def subdict(d, ks):\n",
    "    return {k: d[k] for k in ks if k in d}\n",
    "\n",
    "def map_to_list(f, l):\n",
    "    return list(map(f, l))\n",
    "\n",
    "def from_dict_with_remainder(d, ks):\n",
    "    leftover = set(ks) - set(d.keys())\n",
    "    ks = set(ks) & set(d.keys())\n",
    "    return map_to_list(d.get, ks), list(leftover)\n",
    "\n",
    "d = dict(zip('abcd', range(4)))\n",
    "\n",
    "d, subdict(d, 'abe'), subdict({}, 'abe'), map_to_list(d.get, 'abe'), from_dict_with_remainder(d, 'cdef')"
   ]
  },
  {
   "cell_type": "markdown",
   "metadata": {},
   "source": [
    "Chaining lists.\n",
    "\n",
    "What is the difference between chain and chain.from_iterable in itertools? [StackOverflow](https://stackoverflow.com/questions/15004772/what-is-the-difference-between-chain-and-chain-from-iterable-in-itertools)"
   ]
  },
  {
   "cell_type": "code",
   "execution_count": 3,
   "metadata": {},
   "outputs": [
    {
     "data": {
      "text/plain": [
       "([1, 2, 3, 4, 5, 6], [1, 2, 3, 4, 5, 6])"
      ]
     },
     "execution_count": 3,
     "metadata": {},
     "output_type": "execute_result"
    }
   ],
   "source": [
    "l = [[1,2,3], [4,5], [6]]\n",
    "\n",
    "list( itertools.chain(*l) ), list( itertools.chain.from_iterable(l) )"
   ]
  },
  {
   "cell_type": "code",
   "execution_count": 24,
   "metadata": {},
   "outputs": [
    {
     "data": {
      "text/plain": [
       "([a=1, a=3, a=6, a=10, a=15], [a=10, a=11, a=13, a=16, a=20, a=25])"
      ]
     },
     "execution_count": 24,
     "metadata": {},
     "output_type": "execute_result"
    }
   ],
   "source": [
    "# Using accumulate()\n",
    "accumulate_to_list = lambda *args, **kwargs: list(itertools.accumulate(*args, **kwargs))\n",
    "class A:\n",
    "    def __init__(self, a):\n",
    "        self.a = a\n",
    "    def __repr__(self):\n",
    "        return f\"a={self.a}\"\n",
    "v = [A(2), A(3), A(4), A(5)]\n",
    "add = lambda c,d: A(c.a + d.a)\n",
    "\n",
    "accumulate_to_list(v, add), accumulate_to_list(v, add, initial=A(10))"
   ]
  },
  {
   "cell_type": "code",
   "execution_count": 41,
   "metadata": {},
   "outputs": [
    {
     "data": {
      "text/plain": [
       "([(0, 1), (1, 2), (2, 3), (3, 4)], [(0, 1)], [])"
      ]
     },
     "execution_count": 41,
     "metadata": {},
     "output_type": "execute_result"
    }
   ],
   "source": [
    "# Using tee() to make a list of consecutive lists\n",
    "# itertools.tee() returns n independent iterators from a single iterable.\n",
    "\n",
    "def pairwise_to_list(l):\n",
    "    a, b = itertools.tee(l)\n",
    "    next(b, None)\n",
    "    return list(zip(a, b))\n",
    "\n",
    "pairwise_to_list(range(5)), pairwise_to_list(range(2)), pairwise_to_list(range(1))"
   ]
  },
  {
   "cell_type": "code",
   "execution_count": 38,
   "metadata": {},
   "outputs": [
    {
     "data": {
      "text/plain": [
       "[a=3, a=5, a=7, a=9]"
      ]
     },
     "execution_count": 38,
     "metadata": {},
     "output_type": "execute_result"
    }
   ],
   "source": [
    "def pairwise_do(f, l):\n",
    "    a, b = itertools.tee(l)\n",
    "    next(b, None)\n",
    "    return [f(i, j) for i, j in zip(a, b)]\n",
    "class A:\n",
    "    def __init__(self, a):\n",
    "        self.a = a\n",
    "    def __repr__(self):\n",
    "        return f\"a={self.a}\"\n",
    "v = [A(1), A(2), A(3), A(4), A(5)]\n",
    "add = lambda c,d: A(c.a + d.a)\n",
    "\n",
    "pairwise_do(add, v)"
   ]
  },
  {
   "cell_type": "code",
   "execution_count": 23,
   "metadata": {},
   "outputs": [
    {
     "data": {
      "text/plain": [
       "('The quick brown fox jumps over the lazy dog',\n",
       " 'LOG: The quick brown fox jumps over the lazy dog')"
      ]
     },
     "execution_count": 23,
     "metadata": {},
     "output_type": "execute_result"
    }
   ],
   "source": [
    "# Using reduce()\n",
    "v = ['The', 'quick', 'brown', 'fox', 'jumps', 'over', 'the', 'lazy', 'dog']\n",
    "functools.reduce(lambda acc, x: acc + ' ' + x, v), functools.reduce(lambda acc, x: acc + ' ' + x, v, 'LOG:')"
   ]
  },
  {
   "cell_type": "code",
   "execution_count": 17,
   "metadata": {},
   "outputs": [
    {
     "data": {
      "text/plain": [
       "('A', 'int', 'str', 'A', 'int', 'str')"
      ]
     },
     "execution_count": 17,
     "metadata": {},
     "output_type": "execute_result"
    }
   ],
   "source": [
    "# Getting names of classes. Works with primitives\n",
    "class A:\n",
    "    pass\n",
    "a = A()\n",
    "i = 1\n",
    "s = 'x'\n",
    "def classname_1(x):\n",
    "    return x.__class__.__name__\n",
    "def classname_2(x):\n",
    "    return type(x).__name__\n",
    "classname_1(a), classname_1(i), classname_1(s), classname_2(a), classname_2(i), classname_2(s)"
   ]
  },
  {
   "cell_type": "code",
   "execution_count": 2,
   "metadata": {},
   "outputs": [
    {
     "name": "stdout",
     "output_type": "stream",
     "text": [
      "Hi!\n"
     ]
    }
   ],
   "source": [
    "# The Ideal way to create protected members is to use a single underscore '_'\n",
    "class A:\n",
    "    def _greet(self):\n",
    "        print(\"Hi!\")\n",
    "class B(A):\n",
    "    def greet(self):\n",
    "        self._greet()\n",
    "\n",
    "b = B()\n",
    "b.greet()"
   ]
  },
  {
   "cell_type": "code",
   "execution_count": 8,
   "metadata": {},
   "outputs": [
    {
     "data": {
      "text/plain": [
       "({'a': 'a', 'b': 'b', 'c': 2}, 'a', 'b', 2, 'a')"
      ]
     },
     "execution_count": 8,
     "metadata": {},
     "output_type": "execute_result"
    }
   ],
   "source": [
    "# Creating a dict with attribute-like access.\n",
    "class AttrDict(dict):\n",
    "    def __init__(self, *args, **kwargs):\n",
    "        super(AttrDict, self).__init__(*args, **kwargs)\n",
    "        self.__dict__ = self\n",
    "\n",
    "params = AttrDict(a='a', b='b')\n",
    "params.c = 2\n",
    "vars(params), params.a, params.b, params.c, params['a']"
   ]
  },
  {
   "cell_type": "code",
   "execution_count": 2,
   "metadata": {},
   "outputs": [
    {
     "data": {
      "text/plain": [
       "(1, 2)"
      ]
     },
     "execution_count": 2,
     "metadata": {},
     "output_type": "execute_result"
    }
   ],
   "source": [
    "# Deep copy\n",
    "# WARNING: copy.deepcopy() is known to be very slow\n",
    "class A:\n",
    "    def __init__(self, a):\n",
    "        self.a = a\n",
    "\n",
    "# example of deep structure of form\n",
    "# (list, A, dict, A, int)\n",
    "v = [A({'a': A(1)})]\n",
    "u = copy.deepcopy(v)\n",
    "u[0].a['a'].a = 2\n",
    "v[0].a['a'].a, u[0].a['a'].a"
   ]
  },
  {
   "cell_type": "code",
   "execution_count": 8,
   "metadata": {},
   "outputs": [
    {
     "name": "stdout",
     "output_type": "stream",
     "text": [
      "False\n",
      "True\n",
      "True\n",
      "False\n"
     ]
    }
   ],
   "source": [
    "# hasattr() still evaluates to true for a attribute that has been set to None,\n",
    "# and will evaluate to false when using del\n",
    "class A:\n",
    "    def __init__(self):\n",
    "        pass\n",
    "a = A()\n",
    "print( hasattr(a, 'a') )\n",
    "a.a = 1\n",
    "print( hasattr(a, 'a') )\n",
    "a.a = None\n",
    "print( hasattr(a, 'a') )\n",
    "del a.a\n",
    "print( hasattr(a, 'a') )"
   ]
  },
  {
   "cell_type": "code",
   "execution_count": 11,
   "metadata": {},
   "outputs": [
    {
     "data": {
      "text/plain": [
       "(True, False, True, True)"
      ]
     },
     "execution_count": 11,
     "metadata": {},
     "output_type": "execute_result"
    }
   ],
   "source": [
    "# isinstance() to check that an object's class is equal to or a subclass of a class\n",
    "class A:\n",
    "    def _greet(self):\n",
    "        print(\"Hi!\")\n",
    "class B(A):\n",
    "    def greet(self):\n",
    "        self._greet()\n",
    "a, b = A(), B()\n",
    "isinstance(a, A), isinstance(a, B), isinstance(b, A), isinstance(b, B)"
   ]
  },
  {
   "cell_type": "code",
   "execution_count": 12,
   "metadata": {},
   "outputs": [
    {
     "data": {
      "text/plain": [
       "(True, True)"
      ]
     },
     "execution_count": 12,
     "metadata": {},
     "output_type": "execute_result"
    }
   ],
   "source": [
    "# isinstance() to check that an object's class is equal to or a subclass of a class in a tuple.\n",
    "class A:\n",
    "    def _greet(self):\n",
    "        print(\"Hi!\")\n",
    "class B(A):\n",
    "    def greet(self):\n",
    "        self._greet()\n",
    "a, b = A(), B()\n",
    "isinstance(a, (A,B,)), isinstance(b, (A,B,))"
   ]
  },
  {
   "cell_type": "code",
   "execution_count": 24,
   "metadata": {},
   "outputs": [
    {
     "data": {
      "text/plain": [
       "([1, 2, 3], 1, 4, None, [0, 1, 2, 3, 4, 5])"
      ]
     },
     "execution_count": 24,
     "metadata": {},
     "output_type": "execute_result"
    }
   ],
   "source": [
    "# Working with slices\n",
    "l = [0, 1, 2, 3, 4, 5]\n",
    "s = slice(1, 4)\n",
    "l[s], s.start, s.stop, s.step, l[slice(None)]"
   ]
  },
  {
   "cell_type": "code",
   "execution_count": 105,
   "metadata": {},
   "outputs": [
    {
     "data": {
      "text/plain": [
       "(slice(1, 2, None), 1, [1])"
      ]
     },
     "execution_count": 105,
     "metadata": {},
     "output_type": "execute_result"
    }
   ],
   "source": [
    "# getting the indices of the longest sequence in a list\n",
    "\n",
    "def longest_subsequence(l, cond=None):\n",
    "    \"\"\"Get the longest subsequence of the list composed of entries\n",
    "    where cond is true. For example:\n",
    "    (lambda l, i: l[i], [1, 0, 1, 1, 1, 0, 1]) -> ((slice(2, 5), 3)\n",
    "    \n",
    "    Parameters\n",
    "    ==========\n",
    "    l : list or np.array\n",
    "        The list to get subsequence from. \n",
    "    cond : function (l, i) -> bool\n",
    "        To check whether list entries belong to the subsequence.\n",
    "        If not passed the check using truthiness. \n",
    "    \n",
    "    Returns\n",
    "    =======\n",
    "    slice or None\n",
    "        The slice object to get the subsequence.\n",
    "    int\n",
    "        The length of the subsequence.\n",
    "    \"\"\"\n",
    "    if not cond:\n",
    "        cond = lambda x: x\n",
    "    n = len(l)\n",
    "    longest_size  = 0\n",
    "    longest_begin = None\n",
    "    longest_end   = None\n",
    "    curr_end = 0\n",
    "    while curr_end < n:\n",
    "        if cond(l[curr_end]):\n",
    "            curr_begin = curr_end\n",
    "            while curr_end < n - 1 and cond(l[curr_end+1]):\n",
    "                curr_end  += 1\n",
    "            if (curr_end - curr_begin + 1) > longest_size:\n",
    "                longest_size = curr_end - curr_begin + 1\n",
    "                longest_begin = curr_begin\n",
    "                longest_end = curr_end\n",
    "            curr_end += 1\n",
    "        curr_end += 1\n",
    "    if longest_size == 0:\n",
    "        return None, longest_size\n",
    "    else:\n",
    "        return slice(longest_begin, longest_end+1), longest_size\n",
    "\n",
    "f = lambda x: x\n",
    "t1 = [1, 0, 1, 1, 1, 0, 1]\n",
    "t2 = [0, 1, 0, 1, 1, 1, 1, 1]\n",
    "t3 = [1, 1, 0, 1, 0]\n",
    "t4 = [0, 1, 0, 1, 0]\n",
    "t5 = [0, 0]\n",
    "t6 = [1]\n",
    "t7 = []\n",
    "\n",
    "l = t4\n",
    "r, length = longest_subsequence(l, f)\n",
    "def d():\n",
    "    try:\n",
    "        return l[r]\n",
    "    except:\n",
    "        return None\n",
    "r, length, d()"
   ]
  },
  {
   "cell_type": "code",
   "execution_count": 123,
   "metadata": {},
   "outputs": [
    {
     "data": {
      "text/plain": [
       "(slice(3, 8, None), 5, [2, 3, 4, 5, 6])"
      ]
     },
     "execution_count": 123,
     "metadata": {},
     "output_type": "execute_result"
    }
   ],
   "source": [
    "def longest_sequence_using_split(l, split):\n",
    "    \"\"\"Get the longest subsequence of the list after it has been\n",
    "    split into segments. For example if split is the function\n",
    "    lambda l, i: l[i + 1] != l[i] + 1 if i < len(l) - 1 else False\n",
    "    then\n",
    "    ([1, 2, 3, 2, 3, 4, 5, 1, 2], split) -> ((slice(3, 7), 4)\n",
    "    as split gives\n",
    "    [1, 2, 3 | 2, 3, 4, 5 | 1, 2]\n",
    "    \n",
    "    Parameters\n",
    "    ==========\n",
    "    l : list or np.array\n",
    "        The list to get subsequence.\n",
    "    split : function (l, i) -> bool\n",
    "        To check whether to split the list\n",
    "        If not passed the check using truthiness.\n",
    "    \n",
    "    Returns\n",
    "    =======\n",
    "    slice or None\n",
    "        The slice object to get the subsequence.\n",
    "    int\n",
    "        The length of the subsequence.\n",
    "    \"\"\"\n",
    "    n = len(l)\n",
    "    longest_size  = 0\n",
    "    longest_begin = None\n",
    "    longest_end   = None\n",
    "    curr_begin = 0\n",
    "    curr_end   = 0\n",
    "    while curr_end < n:\n",
    "        if split(l, curr_end) or curr_end == n - 1:\n",
    "            if (curr_end - curr_begin + 1)  > longest_size:\n",
    "                longest_size  = curr_end - curr_begin + 1\n",
    "                longest_begin = curr_begin\n",
    "                longest_end   = curr_end\n",
    "            curr_begin = curr_end + 1\n",
    "            curr_end   = curr_end + 1\n",
    "        else:\n",
    "            curr_end  += 1\n",
    "    if longest_size == 0:\n",
    "        return None, longest_size\n",
    "    else:\n",
    "        return slice(longest_begin, longest_end+1), longest_size\n",
    "\n",
    "def longest_consecutive_increasing_subsequence(l):\n",
    "    \"\"\"Get the longest consecutively increasing subsequence.\n",
    "    \n",
    "    Parameters\n",
    "    ==========\n",
    "    list of int\n",
    "        The list to get subsequence.\n",
    "    \n",
    "    Returns\n",
    "    =======\n",
    "    slice or None\n",
    "        The slice object to get the subsequence.\n",
    "    int\n",
    "        The length of the subsequence.\n",
    "    \"\"\"\n",
    "    def split(l, i):\n",
    "        try:\n",
    "            return l[i + 1] != l[i] + 1\n",
    "        except:\n",
    "            return False\n",
    "    return longest_sequence_using_split(l, split)\n",
    "\n",
    "t1 = [1, 2, 3, 2, 3, 4, 5, 6, 1, 2]\n",
    "t2 = [3, 2, 3, 4, 5, 6, 7, 1, 2, 1]\n",
    "t3 = [1, 3, 2, 3, 2, 3, 4, 5]\n",
    "t4 = [6, 7, 8, 1, 2]\n",
    "t5 = [1, 3, 5, 7]\n",
    "t6 = [1]\n",
    "t7 = [2, 1]\n",
    "t8 = []\n",
    "\n",
    "l = t1\n",
    "r, length = longest_consecutive_increasing_subsequence(l)\n",
    "def d():\n",
    "    try:\n",
    "        return l[r]\n",
    "    except:\n",
    "        return None\n",
    "r, length, d()"
   ]
  },
  {
   "cell_type": "code",
   "execution_count": 130,
   "metadata": {},
   "outputs": [
    {
     "data": {
      "text/plain": [
       "(None, 0, None)"
      ]
     },
     "execution_count": 130,
     "metadata": {},
     "output_type": "execute_result"
    }
   ],
   "source": [
    "def longest_consecutive_decreasing_subsequence(l):\n",
    "    \"\"\"Get the longest consecutively decreasing subsequence.\n",
    "    \n",
    "    Parameters\n",
    "    ==========\n",
    "    list of int\n",
    "        The list to get subsequence.\n",
    "    \n",
    "    Returns\n",
    "    =======\n",
    "    slice or None\n",
    "        The slice object to get the subsequence.\n",
    "    int\n",
    "        The length of the subsequence.\n",
    "    \"\"\"\n",
    "    def split(l, i):\n",
    "        try:\n",
    "            return l[i + 1] != l[i] - 1\n",
    "        except:\n",
    "            return False\n",
    "    return longest_sequence_using_split(l, split)\n",
    "\n",
    "t1 = [3, 2, 1, 6, 5, 4, 3, 2, 2, 1]\n",
    "t2 = [3, 7, 6, 5, 4, 3, 2, 2, 1, 1]\n",
    "t3 = [1, 3, 3, 2, 5, 4, 3, 2]\n",
    "t4 = [8, 7, 6, 2, 1]\n",
    "t5 = [1, 3, 5, 7]\n",
    "t6 = [1]\n",
    "t7 = [2, 1]\n",
    "t8 = []\n",
    "\n",
    "l = t8\n",
    "r, length = longest_consecutive_decreasing_subsequence(l)\n",
    "def d():\n",
    "    try:\n",
    "        return l[r]\n",
    "    except:\n",
    "        return None\n",
    "r, length, d()"
   ]
  },
  {
   "cell_type": "code",
   "execution_count": 15,
   "metadata": {},
   "outputs": [
    {
     "name": "stdout",
     "output_type": "stream",
     "text": [
      "{'a': 1, 'b': 2, 'd': 4, 'args': (3,), 'kwargs': {'e': 5}}\n"
     ]
    }
   ],
   "source": [
    "# locals() returns function's arguments as dict.\n",
    "def f(a,b, *args,d=None, **kwargs):\n",
    "    print( locals() )\n",
    "f(1,2,3,d=4,e=5)"
   ]
  },
  {
   "cell_type": "code",
   "execution_count": 28,
   "metadata": {},
   "outputs": [
    {
     "data": {
      "text/plain": [
       "[['a', 'b', 'c'],\n",
       " ['c1', 'a1', 'b2', 'a1', 'a2', 'a3'],\n",
       " ['a21', 'a11', 'a12', 'b21', 'b22', 'b23']]"
      ]
     },
     "execution_count": 28,
     "metadata": {},
     "output_type": "execute_result"
    }
   ],
   "source": [
    "unzip = lambda ll: list(zip(*ll))\n",
    "\n",
    "def inner_keys_from_nested_dict(d, layers=2):\n",
    "    ll = []\n",
    "    vl = [d]\n",
    "    for layer in range(layers):\n",
    "        l = []\n",
    "        f = lambda x: isinstance(x, dict)\n",
    "        q = collections.deque(util.filter_to_list(f, vl))\n",
    "        vl = []\n",
    "        if not q:\n",
    "            break\n",
    "        while q:\n",
    "            d = q.pop()\n",
    "            keys, values = unzip(d.items())\n",
    "            vl.append(values)\n",
    "            l.append(keys)\n",
    "        l = util.merge_list_of_list(l)\n",
    "        vl = util.merge_list_of_list(vl)\n",
    "        ll.append(l)\n",
    "    return ll\n",
    "\n",
    "d = {\n",
    "    'a': {\n",
    "        'a1': {\n",
    "            'a11': 11,\n",
    "            'a12': 12,\n",
    "        },\n",
    "        'a2': {\n",
    "            'a21': 21,\n",
    "        },\n",
    "        'a3': 3,\n",
    "    },\n",
    "    'b': {\n",
    "        'a1': 1,\n",
    "        'b2': {\n",
    "            'b21': 21,\n",
    "            'b22': 22,\n",
    "            'b23': 23,\n",
    "        },\n",
    "    },\n",
    "    'c': {\n",
    "        'c1': 1,\n",
    "    },\n",
    "}\n",
    "\n",
    "inner_keys_from_nested_dict(d, layers=3)"
   ]
  },
  {
   "cell_type": "code",
   "execution_count": 13,
   "metadata": {},
   "outputs": [
    {
     "data": {
      "text/plain": [
       "([('a', 1), ('b', 2), ('c', 3), ('d', 4)],\n",
       " [('a', 'b', 'c', 'd'), (1, 2, 3, 4)])"
      ]
     },
     "execution_count": 13,
     "metadata": {},
     "output_type": "execute_result"
    }
   ],
   "source": [
    "# Using zip, unzip and zip\n",
    "zip_to_list = lambda *args: list(zip(*args))\n",
    "unzip = lambda ll: list(zip(*ll))\n",
    "\n",
    "zip_to_list(* unzip([('a', 1), ('b', 2), ('c', 3), ('d', 4)]) ), \\\n",
    "        unzip( zip_to_list(('a', 'b', 'c', 'd'), (1, 2, 3, 4)) ), \\\n"
   ]
  },
  {
   "cell_type": "code",
   "execution_count": 42,
   "metadata": {},
   "outputs": [
    {
     "data": {
      "text/plain": [
       "{'a': {'b': [3, 2, 1]}, 'c': [4, 3, 2, 1], 'd': {}}"
      ]
     },
     "execution_count": 42,
     "metadata": {},
     "output_type": "execute_result"
    }
   ],
   "source": [
    "def do_on_nested_dict_of_list(f, dl, *args, **kwargs):\n",
    "    if isinstance(dl, list):\n",
    "        f(dl, *args, **kwargs)\n",
    "    elif isinstance(dl, dict):\n",
    "        for v in dl.values():\n",
    "            sort_nested_dict_of_list(v, *args, **kwargs)\n",
    "    else:\n",
    "        pass\n",
    "\n",
    "def sort_nested_dict_of_list(dl, **kwargs):\n",
    "    def f(l, **kwargs):\n",
    "        l.sort(**kwargs)\n",
    "    do_on_nested_dict_of_list(f, dl, **kwargs)\n",
    "\n",
    "dl = {'a': {'b': [3,1,2]}, 'c': [3,4,1,2], 'd': dict()}\n",
    "sort_nested_dict_of_list(dl,reverse=True)\n",
    "dl"
   ]
  },
  {
   "cell_type": "code",
   "execution_count": 3,
   "metadata": {},
   "outputs": [
    {
     "name": "stdout",
     "output_type": "stream",
     "text": [
      "(2,) (0,) (1,)\n",
      "(0,) (1,) (2,)\n"
     ]
    }
   ],
   "source": [
    "def gen_splits(n):\n",
    "    \"\"\"Generator of group indices for (train, val, test) set.\n",
    "    Only yields n-1 of the possible index combinations\"\"\"\n",
    "    v = util.range_to_list(n)\n",
    "    for idx in range(0, len(v) - 1):\n",
    "        yield tuple(v[:idx] + v[idx + 2:]), (idx,), (idx + 1,)\n",
    "\n",
    "for train, val, test in gen_splits(3):\n",
    "    print(train, val, test)"
   ]
  },
  {
   "cell_type": "code",
   "execution_count": 34,
   "metadata": {},
   "outputs": [
    {
     "data": {
      "text/plain": [
       "([(2, 'b'), (3, 'b'), (4, 'b')], [(2, 'b'), (3, 'b')])"
      ]
     },
     "execution_count": 34,
     "metadata": {},
     "output_type": "execute_result"
    }
   ],
   "source": [
    "l = zip(range(10),'aabbbccddd')\n",
    "s_ = filter(lambda x: x[1] == 'b', l)\n",
    "l = zip(range(10),'aabbbccddd')\n",
    "s = filter(lambda x: x[1] == 'b', l)\n",
    "s = itertools.islice(s, 2)\n",
    "[*s_], [*s]"
   ]
  },
  {
   "cell_type": "code",
   "execution_count": 3,
   "metadata": {},
   "outputs": [
    {
     "data": {
      "text/plain": [
       "[('A', 'a', 0),\n",
       " ('A', 'a', 1),\n",
       " ('A', 'b', 0),\n",
       " ('A', 'b', 1),\n",
       " ('B', 'a', 0),\n",
       " ('B', 'a', 1),\n",
       " ('B', 'b', 0),\n",
       " ('B', 'b', 1),\n",
       " ('C', 'a', 0),\n",
       " ('C', 'a', 1),\n",
       " ('C', 'b', 0),\n",
       " ('C', 'b', 1)]"
      ]
     },
     "execution_count": 3,
     "metadata": {},
     "output_type": "execute_result"
    }
   ],
   "source": [
    "# Cartesian product of iterables\n",
    "p = itertools.product('ABC', 'ab', range(2))\n",
    "[*p]"
   ]
  },
  {
   "cell_type": "code",
   "execution_count": null,
   "metadata": {},
   "outputs": [],
   "source": []
  }
 ],
 "metadata": {
  "kernelspec": {
   "display_name": "Python 3",
   "language": "python",
   "name": "python3"
  },
  "language_info": {
   "codemirror_mode": {
    "name": "ipython",
    "version": 3
   },
   "file_extension": ".py",
   "mimetype": "text/x-python",
   "name": "python",
   "nbconvert_exporter": "python",
   "pygments_lexer": "ipython3",
   "version": "3.8.3"
  }
 },
 "nbformat": 4,
 "nbformat_minor": 4
}
