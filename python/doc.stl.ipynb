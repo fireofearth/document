{
 "cells": [
  {
   "cell_type": "markdown",
   "metadata": {},
   "source": [
    "Documentation on the Python standard library / built-ins (STL).\n",
    "`more_itertools` is discussed here."
   ]
  },
  {
   "cell_type": "code",
   "execution_count": 8,
   "metadata": {},
   "outputs": [],
   "source": [
    "import enum\n",
    "import os\n",
    "import glob\n",
    "import copy\n",
    "import numbers\n",
    "import time\n",
    "import datetime\n",
    "import itertools\n",
    "import functools\n",
    "import collections\n",
    "import operator\n",
    "import json\n",
    "import logging\n",
    "import random\n",
    "\n",
    "import utility as util\n",
    "import utility.doc"
   ]
  },
  {
   "cell_type": "markdown",
   "metadata": {},
   "source": [
    "### Collections Abstract Base Classes\n",
    "\n",
    "The collections module offers ABCs defined [here](https://docs.python.org/3/library/collections.abc.html)"
   ]
  },
  {
   "cell_type": "markdown",
   "metadata": {
    "jp-MarkdownHeadingCollapsed": true,
    "tags": []
   },
   "source": [
    "### Operating System"
   ]
  },
  {
   "cell_type": "code",
   "execution_count": 2,
   "metadata": {},
   "outputs": [
    {
     "name": "stdout",
     "output_type": "stream",
     "text": [
      "Get list of files from directory path\n",
      "['dummyD.txt', 'dummyF.txt', 'dummyB.txt', 'dummyA.txt', 'dummyE.txt', 'dummyC.txt', 'dummyG.txt']\n",
      "\n",
      "Get list of file paths given wildcard\n",
      "['dummydirs/dummyD.txt', 'dummydirs/dummyF.txt', 'dummydirs/dummyB.txt', 'dummydirs/dummyA.txt', 'dummydirs/dummyE.txt', 'dummydirs/dummyC.txt', 'dummydirs/dummyG.txt']\n"
     ]
    }
   ],
   "source": [
    "util.doc.results(\n",
    "    \"Get list of files from directory path\", os.listdir(\"dummydirs\"),\n",
    "    \"Get list of file paths given wildcard\", glob.glob(\"dummydirs/*.txt\"),\n",
    ")"
   ]
  },
  {
   "cell_type": "markdown",
   "metadata": {
    "jp-MarkdownHeadingCollapsed": true,
    "tags": []
   },
   "source": [
    "### Iteration\n",
    "\n",
    "Iteration involves iterators and iterable.\n",
    "\n",
    "What exactly are iterator, iterable, and iteration? [StackOverflow](https://stackoverflow.com/questions/9884132/what-exactly-are-iterator-iterable-and-iteration) user says:\n",
    "\n",
    "An iterable is an object that has an `__iter__()` method which returns an iterator, or which defines a `__getitem__()` method that can take sequential indexes starting from zero (and raises an IndexError when the indexes are no longer valid).\n",
    "\n",
    "An iterator is an object with a `__next__()` (Python 3) method.\n",
    "\n",
    "Is an iterator also an iterable? [StackOverflow](https://stackoverflow.com/questions/46106143/is-an-iterator-also-an-iterable) says yes."
   ]
  },
  {
   "cell_type": "code",
   "execution_count": 8,
   "metadata": {},
   "outputs": [
    {
     "data": {
      "text/plain": [
       "(0, 1, 2)"
      ]
     },
     "execution_count": 8,
     "metadata": {},
     "output_type": "execute_result"
    }
   ],
   "source": [
    "# get next in iterator. Modifies internal state of iterator.\n",
    "it = iter(range(5))\n",
    "a1 = next(it)\n",
    "a2 = next(it)\n",
    "a3 = next(it)\n",
    "a1, a2, a3"
   ]
  },
  {
   "cell_type": "code",
   "execution_count": 24,
   "metadata": {},
   "outputs": [
    {
     "name": "stdout",
     "output_type": "stream",
     "text": [
      "0 1 2 3 4 5 "
     ]
    }
   ],
   "source": [
    "# using itertools.count() to generate numbers. This will iterate forever until explicit a break or exception.\n",
    "for t in itertools.count():\n",
    "    print(t, end=\" \")\n",
    "    if t >= 5:\n",
    "        break"
   ]
  },
  {
   "cell_type": "code",
   "execution_count": 10,
   "metadata": {},
   "outputs": [
    {
     "name": "stdout",
     "output_type": "stream",
     "text": [
      "(1, 0) (1, 1) (2, 0) (2, 1) (3, 0) (3, 1) (4, 0) (4, 1) (5, 0) (5, 1) "
     ]
    }
   ],
   "source": [
    "\"\"\"Using multiple for loops in \n",
    "for i in it1 for j in it2\n",
    "is equivalent to\n",
    "for i in it1\n",
    "    for j in it2\n",
    "\"\"\"\n",
    "for s, t in [(i, j) for i in range(1, 6) for j in range(2)]:\n",
    "    print(f\"({s}, {t})\", end=\" \")"
   ]
  },
  {
   "cell_type": "code",
   "execution_count": 25,
   "metadata": {},
   "outputs": [
    {
     "name": "stdout",
     "output_type": "stream",
     "text": [
      "Using an iterable [1, 2, 3, 4, 5]\n",
      "Using an iterator [0, 1, 2, 3, 4, 5]\n",
      "Using an iterable-iterator [0, 1, 2, 3, 4, 5]\n"
     ]
    }
   ],
   "source": [
    "def is_iterable(something):\n",
    "    try:\n",
    "        iter(something)\n",
    "    except TypeError:\n",
    "        return False\n",
    "    else:\n",
    "        return True\n",
    "\n",
    "class Itor:\n",
    "    \"\"\"Iterator\"\"\"\n",
    "    def __init__(self):\n",
    "        self.__i = -1\n",
    "    \n",
    "    def __next__(self):\n",
    "        self.__i += 1\n",
    "        return self.__i\n",
    "\n",
    "class Itble:\n",
    "    \"\"\"Iterable. __iter__() uses yield which makes the function return a generator\"\"\"\n",
    "    def __init__(self, l):\n",
    "        self.__l = l\n",
    "    \n",
    "    def __iter__(self):\n",
    "        for i in self.__l:\n",
    "            yield i\n",
    "\n",
    "class ItorItble:\n",
    "    \"\"\"Iterator and iterable, since __iter__() returns itself which can be used via __next__()\"\"\"\n",
    "    def __init__(self):\n",
    "        self.__i = -1\n",
    "        \n",
    "    def __iter__(self):\n",
    "        self.__i = -1\n",
    "        return self\n",
    "    \n",
    "    def __next__(self):\n",
    "        self.__i += 1\n",
    "        if self.__i > 5:\n",
    "            raise StopIteration\n",
    "        else:\n",
    "            return self.__i\n",
    "\n",
    "it = Itor()\n",
    "util.doc.results(\n",
    "    \"Using an iterable\", list(Itble([1, 2, 3, 4, 5])),\n",
    "    \"Using an iterator\", [next(it) for _ in range(6)],\n",
    "    \"Using an iterable-iterator\", [i for i in ItorItble()],\n",
    "compact=True)"
   ]
  },
  {
   "cell_type": "code",
   "execution_count": 2,
   "metadata": {},
   "outputs": [
    {
     "name": "stdout",
     "output_type": "stream",
     "text": [
      "Iterable implementing __getitem__() and __len__() [0, 1, 2, 3, 4, 5, 6, 7, 8, 9]\n",
      "Iterable implementing __iter__() [0, 1, 2, 3, 4, 5, 6, 7, 8, 9]\n"
     ]
    }
   ],
   "source": [
    "# An iterable can be a sequence in which it implements __getitem__() and __len__(),\n",
    "# or just be a vanilla iterable and implement __iter__()\n",
    "\n",
    "class MyIterable(object):\n",
    "    def __init__(self, l):\n",
    "        self.__l = l\n",
    "    \n",
    "    def __len__(self):\n",
    "        return self.__l\n",
    "    \n",
    "    def __getitem__(self, idx):\n",
    "        if idx >= len(self):\n",
    "            raise IndexError\n",
    "        return idx\n",
    "\n",
    "class MySequenceIterable(object):\n",
    "    def __init__(self, l):\n",
    "        self.__l = l\n",
    "    \n",
    "    def __iter__(self):\n",
    "        for i in range(self.__l):\n",
    "            yield i\n",
    "\n",
    "util.doc.results(\n",
    "    \"Iterable implementing __getitem__() and __len__()\", [i for i in MyIterable(10)],\n",
    "    \"Iterable implementing __iter__()\", [i for i in MySequenceIterable(10)],\n",
    "compact=True)"
   ]
  },
  {
   "cell_type": "code",
   "execution_count": 27,
   "metadata": {
    "scrolled": true
   },
   "outputs": [
    {
     "name": "stdout",
     "output_type": "stream",
     "text": [
      "Is a list iterable? True True\n",
      "Is a set iterable? True True\n",
      "Is a tuple iterable? True True\n",
      "Is a dict iterable? True True\n",
      "Is a map object iterable? True True\n",
      "Is MyIterable iterable? True False\n",
      "Is MySequenceIterable iterable? True True\n",
      "Is a number iterable? False False\n"
     ]
    }
   ],
   "source": [
    "# Check whether something is iterable\n",
    "# The only(?) reliable way to determine whether an object is iterable is to call iter(obj)\n",
    "\n",
    "def is_iterable(x):\n",
    "    try:\n",
    "        iter(x)\n",
    "        return True\n",
    "    except:\n",
    "        return False\n",
    "\n",
    "def _is_iterable(x):\n",
    "    \"\"\"\n",
    "    This does not check for classes that are iterable through __getitem__\"\"\"\n",
    "    return isinstance(x, collections.abc.Iterable)\n",
    "\n",
    "print(\"Is a list iterable?\",  is_iterable([]),      _is_iterable([]))\n",
    "print(\"Is a set iterable?\",   is_iterable(set()),   _is_iterable(set()))\n",
    "print(\"Is a tuple iterable?\", is_iterable(tuple()), _is_iterable(tuple()))\n",
    "print(\"Is a dict iterable?\",  is_iterable(dict()),  _is_iterable(dict()))\n",
    "print(\"Is a map object iterable?\", is_iterable(map(lambda x: x, [1,2,3])), _is_iterable(map(lambda x: x, [1,2,3])))\n",
    "print(\"Is MyIterable iterable?\", is_iterable(MyIterable(10)), _is_iterable(MyIterable(10)))\n",
    "print(\"Is MySequenceIterable iterable?\", is_iterable(MySequenceIterable(10)), _is_iterable(MySequenceIterable(10)))\n",
    "print(\"Is a number iterable?\", is_iterable(1), _is_iterable(1))"
   ]
  },
  {
   "cell_type": "code",
   "execution_count": 28,
   "metadata": {},
   "outputs": [
    {
     "data": {
      "text/plain": [
       "2"
      ]
     },
     "execution_count": 28,
     "metadata": {},
     "output_type": "execute_result"
    }
   ],
   "source": [
    "def select(l, indices):\n",
    "    \"\"\"Select from iterable using an index of a list of indices,\n",
    "    returning a list with entries in the same order as their\n",
    "    corresponding indices. Examples:\n",
    "    \"\"\"\n",
    "    if is_iterable(indices):\n",
    "        try:\n",
    "            return [l[i] for i in indices]\n",
    "        except TypeError:\n",
    "            mask = indices_to_selection_mask(indices, max(indices))\n",
    "            return itertools.compress(l, mask)\n",
    "    else:\n",
    "        i = indices\n",
    "        try:\n",
    "            return l[i]\n",
    "        except TypeError:\n",
    "            return next(itertools.islice(l, i, None))\n",
    "\n",
    "m = map(lambda x: 2*x, range(10))\n",
    "select(m, 1)"
   ]
  },
  {
   "cell_type": "code",
   "execution_count": 3,
   "metadata": {},
   "outputs": [
    {
     "name": "stdout",
     "output_type": "stream",
     "text": [
      "Spliting range(5) to 1 parts\n",
      "[[0, 1, 2, 3, 4]]\n",
      "\n",
      "Spliting range(5) to 2 parts\n",
      "[[0, 1, 2], [3, 4]]\n",
      "\n",
      "Spliting range(5) to 4 parts\n",
      "[[0, 1], [2], [3], [4]]\n",
      "\n",
      "Spliting range(5) to 5 parts\n",
      "[[0], [1], [2], [3], [4]]\n",
      "\n",
      "Spliting range(5) to 7 parts\n",
      "[[0], [1], [2], [3], [4], [], []]\n"
     ]
    }
   ],
   "source": [
    "def divide(n, iterable):\n",
    "    \"\"\"Divide the elements from *iterable* into *n* parts, maintaining order.\n",
    "    Taken from more-itertools with minor modification.\"\"\"\n",
    "    if n < 1:\n",
    "        raise ValueError('n must be at least 1')\n",
    "    try:\n",
    "        iterable[:0]\n",
    "    except TypeError:\n",
    "        seq = tuple(iterable)\n",
    "    else:\n",
    "        seq = iterable\n",
    "\n",
    "    q, r = divmod(len(seq), n)\n",
    "\n",
    "    ret = []\n",
    "    stop = 0\n",
    "    for i in range(1, n + 1):\n",
    "        start = stop\n",
    "        stop += q + 1 if i <= r else q\n",
    "        ret.append(list(seq[start:stop]))\n",
    "\n",
    "    return ret\n",
    "\n",
    "util.doc.results(\n",
    "    \"Spliting range(5) to 1 parts\", [l for l in divide(1, range(5))],\n",
    "    \"Spliting range(5) to 2 parts\", [list(l) for l in divide(2, range(5))],\n",
    "    \"Spliting range(5) to 4 parts\", [list(l) for l in divide(4, range(5))],\n",
    "    \"Spliting range(5) to 5 parts\", [list(l) for l in divide(5, range(5))],\n",
    "    \"Spliting range(5) to 7 parts\", [list(l) for l in divide(7, range(5))],\n",
    ")"
   ]
  },
  {
   "cell_type": "code",
   "execution_count": 6,
   "metadata": {},
   "outputs": [
    {
     "data": {
      "text/plain": [
       "[5, 6, 7, 8, 9]"
      ]
     },
     "execution_count": 6,
     "metadata": {},
     "output_type": "execute_result"
    }
   ],
   "source": [
    "list(itertools.islice(range(20), 5, 10))"
   ]
  },
  {
   "cell_type": "markdown",
   "metadata": {
    "jp-MarkdownHeadingCollapsed": true,
    "tags": []
   },
   "source": [
    "### Lists"
   ]
  },
  {
   "cell_type": "code",
   "execution_count": 19,
   "metadata": {},
   "outputs": [
    {
     "name": "stdout",
     "output_type": "stream",
     "text": [
      "Flatten arbitrary list\n",
      "['a', 1, 'b', 2, 3, 'c', 5, 6, 7, 8, 'd', 9]\n",
      "\n",
      "Flatten list, including numbers\n",
      "[1, 2, 3, 5, 6, 7, 8, 9]\n",
      "\n",
      "Flatten list, excluding numbers\n",
      "['a', 'b', 'c', 'd']\n"
     ]
    }
   ],
   "source": [
    "# Flatten list of list\n",
    "\n",
    "arbitrary_nested_list = [\n",
    "    [],\n",
    "    [\"a\"],\n",
    "    [\n",
    "        [1, \"b\", 2],\n",
    "        [],\n",
    "        [3],\n",
    "    ],\n",
    "    \"c\",\n",
    "    [\n",
    "        [\n",
    "            [5]\n",
    "        ]\n",
    "    ],\n",
    "    [[[[]]]],\n",
    "    [\n",
    "        6,\n",
    "        [7, 8, \"d\"]\n",
    "    ],\n",
    "    9\n",
    "]\n",
    "\n",
    "def flatten_list(arb, include=(), exclude=()):\n",
    "    out = []\n",
    "    if include:\n",
    "        def f(v):\n",
    "            if isinstance(v, include):\n",
    "                out.append(v)\n",
    "    elif exclude:\n",
    "        def f(v):\n",
    "            if not isinstance(v, exclude):\n",
    "                out.append(v)\n",
    "    else:\n",
    "        def f(v):\n",
    "            out.append(v)\n",
    "    def _flatten(arb):\n",
    "        for v in arb:\n",
    "            if isinstance(v, list):\n",
    "                _flatten(v)\n",
    "            else:\n",
    "                f(v)\n",
    "    _flatten(arb)\n",
    "    return out\n",
    "\n",
    "l = flatten_list(arbitrary_nested_list)\n",
    "util.doc.results(\n",
    "    \"Flatten arbitrary list\", flatten_list(arbitrary_nested_list),\n",
    "    \"Flatten list, including numbers\", flatten_list(arbitrary_nested_list, include=(int)),\n",
    "    \"Flatten list, excluding numbers\", flatten_list(arbitrary_nested_list, exclude=(int)),\n",
    ")"
   ]
  },
  {
   "cell_type": "code",
   "execution_count": 10,
   "metadata": {},
   "outputs": [
    {
     "data": {
      "text/plain": [
       "[5, 9]"
      ]
     },
     "execution_count": 10,
     "metadata": {},
     "output_type": "execute_result"
    }
   ],
   "source": [
    "arbitrary_nested_list = [ # 0\n",
    "    [ # 1\n",
    "        [ # 2\n",
    "            [1, 2]\n",
    "        ]\n",
    "    ],\n",
    "    [ # 1\n",
    "        [ # 2\n",
    "            [3, 4, 5, 6],\n",
    "            [7, 8, 9, 10, 11]\n",
    "        ]\n",
    "    ],\n",
    "    [],\n",
    "    [ # 1\n",
    "        []\n",
    "    ],\n",
    "]\n",
    "\n",
    "def select_nested_list_levelindex(arb, level, index):\n",
    "    if level == 0:\n",
    "        return arb\n",
    "    out = []\n",
    "    def get_to_level(arb, _level):\n",
    "        try:\n",
    "            if 0 < _level:\n",
    "                for v in arb:\n",
    "                    if isinstance(v, list):\n",
    "                        get_to_level(v, _level - 1)\n",
    "            else:\n",
    "                out.append(arb[index])\n",
    "        except (TypeError, IndexError):\n",
    "            pass\n",
    "    get_to_level(arb, level)\n",
    "    return out\n",
    "\n",
    "l = select_nested_list_levelindex(arbitrary_nested_list, 3, 2)\n",
    "l"
   ]
  },
  {
   "cell_type": "markdown",
   "metadata": {
    "jp-MarkdownHeadingCollapsed": true,
    "tags": []
   },
   "source": [
    "### Functions"
   ]
  },
  {
   "cell_type": "code",
   "execution_count": 2,
   "metadata": {},
   "outputs": [
    {
     "name": "stdout",
     "output_type": "stream",
     "text": [
      "x\n"
     ]
    }
   ],
   "source": [
    "f = lambda : print('x')\n",
    "f()"
   ]
  },
  {
   "cell_type": "code",
   "execution_count": 2,
   "metadata": {},
   "outputs": [
    {
     "name": "stdout",
     "output_type": "stream",
     "text": [
      "1 2 3 4\n",
      "1 2 3 0\n",
      "1 2 3 4\n"
     ]
    }
   ],
   "source": [
    "# Currying functions using functools.partial()\n",
    "def myfunc(a, b, c, d=0):\n",
    "    print(a, b, c, d)\n",
    "_myfunc = functools.partial(myfunc, 1, 2, d=4)\n",
    "_myfunc(3)\n",
    "_myfunc = functools.partial(myfunc, 1)\n",
    "_myfunc(2, 3)\n",
    "_myfunc = functools.partial(myfunc, d=4)\n",
    "_myfunc(1, 2, 3)"
   ]
  },
  {
   "cell_type": "markdown",
   "metadata": {
    "jp-MarkdownHeadingCollapsed": true,
    "tags": []
   },
   "source": [
    "### Numbers"
   ]
  },
  {
   "cell_type": "code",
   "execution_count": 13,
   "metadata": {},
   "outputs": [
    {
     "data": {
      "text/plain": [
       "2"
      ]
     },
     "execution_count": 13,
     "metadata": {},
     "output_type": "execute_result"
    }
   ],
   "source": [
    "# max(1,2,3), min(1,2,3)\n",
    "\n",
    "class Clip(object):\n",
    "    def __init__(self, low=-1, high=1):\n",
    "        self.__low = low\n",
    "        self.__high = high\n",
    "        \n",
    "    def __call__(self, x):\n",
    "        return min(max(self.__low, x), self.__high)\n",
    "\n",
    "Clip(1, 3)(2)"
   ]
  },
  {
   "cell_type": "code",
   "execution_count": 5,
   "metadata": {},
   "outputs": [
    {
     "name": "stdout",
     "output_type": "stream",
     "text": [
      "Is 5 a number? True\n",
      "Is 5.1 a number? True\n",
      "Is '5.1' a number? False\n"
     ]
    }
   ],
   "source": [
    "# Check whether a value is a number using numbers.Number\n",
    "util.doc.results(\n",
    "    \"Is 5 a number?\", isinstance(5, numbers.Number),\n",
    "    \"Is 5.1 a number?\", isinstance(5.1, numbers.Number),\n",
    "    \"Is '5.1' a number?\", isinstance('5.1', numbers.Number),\n",
    "compact=True)"
   ]
  },
  {
   "cell_type": "code",
   "execution_count": 32,
   "metadata": {},
   "outputs": [
    {
     "data": {
      "text/plain": [
       "(29, '11101', [1.0, 1.0, 1.0, 0.0, 1.0])"
      ]
     },
     "execution_count": 32,
     "metadata": {},
     "output_type": "execute_result"
    }
   ],
   "source": [
    "# producing bits from integer\n",
    "i = random.randrange(32)\n",
    "bs = [float(x) for x in list(f\"{i:0b}\")]\n",
    "i, f\"{i:0b}\", bs"
   ]
  },
  {
   "cell_type": "code",
   "execution_count": 44,
   "metadata": {},
   "outputs": [
    {
     "data": {
      "text/plain": [
       "[1.0, 0.0, 1.0, 1.0, 1.0, 0.0]"
      ]
     },
     "execution_count": 44,
     "metadata": {},
     "output_type": "execute_result"
    }
   ],
   "source": [
    "bitstr = list(reversed(f\"{i:0b}\"))\n",
    "\n",
    "def bitstr_to_floatint(i):\n",
    "    try:\n",
    "        return float(bitstr[i])\n",
    "    except IndexError as e:\n",
    "        return 0.\n",
    "\n",
    "list(map(bitstr_to_floatint, range(6)))"
   ]
  },
  {
   "cell_type": "markdown",
   "metadata": {
    "jp-MarkdownHeadingCollapsed": true,
    "tags": []
   },
   "source": [
    "### Dictionary"
   ]
  },
  {
   "cell_type": "code",
   "execution_count": 36,
   "metadata": {},
   "outputs": [
    {
     "name": "stdout",
     "output_type": "stream",
     "text": [
      "Deleting a key that doesn't exist using del gives KeyError('d')\n",
      "Instead use dict.pop()\n",
      "\n",
      "Dict before deleting {'a': 1, 'b': 2, 'c': 3}\n",
      "Dict after deleting {'c': 3}\n"
     ]
    }
   ],
   "source": [
    "# deleting keys from a dictionary\n",
    "d = {\"a\": 1, \"b\": 2, \"c\": 3}\n",
    "dd = d.copy()\n",
    "\n",
    "del d[\"a\"]\n",
    "try:\n",
    "    del d[\"d\"]\n",
    "except KeyError as e:\n",
    "    print(\"Deleting a key that doesn't exist using del gives\", repr(e))\n",
    "\n",
    "print(\"Instead use dict.pop()\")\n",
    "d.pop(\"d\", None)\n",
    "d.pop(\"b\", None)\n",
    "\n",
    "util.doc.results(\n",
    "    \"Dict before deleting\", dd,\n",
    "    \"Dict after deleting\", d,\n",
    "compact=True, start=\"\")"
   ]
  },
  {
   "cell_type": "code",
   "execution_count": 40,
   "metadata": {},
   "outputs": [
    {
     "name": "stdout",
     "output_type": "stream",
     "text": [
      "1 3 {'b': 2, 'd': 4}\n"
     ]
    }
   ],
   "source": [
    "# Passing multiple dict as function arguments\n",
    "d1 = {\"a\": 1, \"b\": 2}\n",
    "d2 = {\"c\": 3, \"d\": 4}\n",
    "\n",
    "def f(a, c, **kwargs):\n",
    "    print(a, c, kwargs)\n",
    "\n",
    "f(**d1, **d2)"
   ]
  },
  {
   "cell_type": "code",
   "execution_count": 37,
   "metadata": {},
   "outputs": [
    {
     "name": "stdout",
     "output_type": "stream",
     "text": [
      "variables of AttrDict are {'a': 'a', 'b': 'b', 'c': 2}\n",
      "attribute 'a' is a\n",
      "attribute 'c' is 2\n",
      "attribute 'a' via __getitem__() is a\n",
      "the keys of AttrDict dict_keys(['a', 'b', 'c'])\n",
      "the items of AttrDict dict_items([('a', 'a'), ('b', 'b'), ('c', 2)])\n"
     ]
    }
   ],
   "source": [
    "# Creating a dict with attribute-like access.\n",
    "class AttrDict(dict):\n",
    "    def __init__(self, *args, **kwargs):\n",
    "        super().__init__(*args, **kwargs)\n",
    "        self.__dict__ = self\n",
    "\n",
    "params = AttrDict(a='a', b='b')\n",
    "params.c = 2\n",
    "\n",
    "util.doc.results(\n",
    "    \"variables of AttrDict are\", vars(params),\n",
    "    \"attribute 'a' is\", params.a,\n",
    "    \"attribute 'c' is\", params.c,\n",
    "    \"attribute 'a' via __getitem__() is\", params['a'],\n",
    "    \"the keys of AttrDict\", params.keys(),\n",
    "    \"the items of AttrDict\", params.items(),\n",
    "compact=True)"
   ]
  },
  {
   "cell_type": "code",
   "execution_count": 38,
   "metadata": {},
   "outputs": [
    {
     "name": "stdout",
     "output_type": "stream",
     "text": [
      "variables of MySettings are {'a': 1, 'b': 2, 'c': 1}\n",
      "attribute 'a' is 1\n",
      "attribute 'c' is 1\n",
      "attribute 'a' via __getitem__() is 1\n",
      "the keys of AttrDict dict_keys(['a', 'b', 'c'])\n",
      "pass settings to mult2() 4\n"
     ]
    }
   ],
   "source": [
    "# inheriting AttrDict to gain fixed attributes with attribute-like acces.\n",
    "class MySettings(AttrDict):\n",
    "    def __init__(self, a, b, c=1):\n",
    "        super().__init__(a=a, b=b, c=c)\n",
    "\n",
    "def mult2(b, **kwargs):\n",
    "    return 2*b\n",
    "        \n",
    "settings = MySettings(1, 2)\n",
    "util.doc.results(\n",
    "    \"variables of MySettings are\", vars(settings),\n",
    "    \"attribute 'a' is\", settings.a,\n",
    "    \"attribute 'c' is\", settings.c,\n",
    "    \"attribute 'a' via __getitem__() is\", settings['a'],\n",
    "    \"the keys of AttrDict\", settings.keys(),\n",
    "    \"pass settings to mult2()\", mult2(**settings),\n",
    "compact=True)"
   ]
  },
  {
   "cell_type": "markdown",
   "metadata": {
    "jp-MarkdownHeadingCollapsed": true,
    "tags": []
   },
   "source": [
    "### Testing and Python"
   ]
  },
  {
   "cell_type": "code",
   "execution_count": 3,
   "metadata": {},
   "outputs": [
    {
     "data": {
      "text/plain": [
       "(True, False, False, False)"
      ]
     },
     "execution_count": 3,
     "metadata": {},
     "output_type": "execute_result"
    }
   ],
   "source": [
    "# Test for dictionary equality is done recursively. It is not a reference check.\n",
    "# See also:\n",
    "# https://stackoverflow.com/questions/17217225/what-does-the-operator-actually-do-on-a-python-dictionary\n",
    "c1 = {'a': [1, 2], 'b': 1 } == {'a': [1, 2], 'b': 1 }\n",
    "c2 = {'a': [1, 2], 'b': 1 } == {'a': [1], 'b': 1 }\n",
    "c3 = {'a': [1, 2], 'b': 1 } == {'a': [1, 2] }\n",
    "c4 = {'a': [1, 2], 'b': 1 } == {'a': [1, 2], 'c': 1 }\n",
    "\n",
    "c1, c2, c3, c4"
   ]
  },
  {
   "cell_type": "code",
   "execution_count": 27,
   "metadata": {},
   "outputs": [
    {
     "name": "stdout",
     "output_type": "stream",
     "text": [
      "An int is (int or str) True\n",
      "An int is a number True\n",
      "A float is a number True\n",
      "A dict is not (int or str) False\n"
     ]
    }
   ],
   "source": [
    "# Type checking\n",
    "a = 1\n",
    "b = \"b\"\n",
    "d = {\"b\": 1}\n",
    "f = 1.\n",
    "util.doc.results(\n",
    "    \"An int is (int or str)\", isinstance(a, (int, str)),\n",
    "    \"An int is a number\", isinstance(a, numbers.Number),\n",
    "    \"A float is a number\", isinstance(f, numbers.Number),\n",
    "    \"A dict is not (int or str)\", isinstance(d, (int, str)),\n",
    "compact=True)"
   ]
  },
  {
   "cell_type": "markdown",
   "metadata": {
    "tags": []
   },
   "source": [
    "### Classes and Objects\n",
    "\n",
    "Class members\n",
    "- public members have no underscore `myobj.a`.\n",
    "- there are no \"protected members\", but simulate using one underscore like `myobj._a` or `myobj.a_`.\n",
    "- private members have two underscores `myobj.__a`."
   ]
  },
  {
   "cell_type": "code",
   "execution_count": 8,
   "metadata": {},
   "outputs": [
    {
     "data": {
      "text/plain": [
       "(1, 1, 2)"
      ]
     },
     "execution_count": 8,
     "metadata": {},
     "output_type": "execute_result"
    }
   ],
   "source": [
    "# assignment of primitives is by value\n",
    "a = b = c = 1\n",
    "c = 2\n",
    "a, b, c"
   ]
  },
  {
   "cell_type": "code",
   "execution_count": 10,
   "metadata": {},
   "outputs": [
    {
     "name": "stdout",
     "output_type": "stream",
     "text": [
      "A(a=1) A(a=1)\n",
      "A(a=2) A(a=2)\n"
     ]
    }
   ],
   "source": [
    "# assignment of objects is by reference\n",
    "class A:\n",
    "    def __init__(self, a):\n",
    "        self.a = a\n",
    "    def __repr__(self):\n",
    "        return f\"A(a={self.a})\"\n",
    "a = b = A(1)\n",
    "print(a, b)\n",
    "b.a = 2\n",
    "print(a, b)"
   ]
  },
  {
   "cell_type": "code",
   "execution_count": 4,
   "metadata": {},
   "outputs": [
    {
     "name": "stdout",
     "output_type": "stream",
     "text": [
      "instance of A\n",
      "A(a=1, b=2, c=3)\n",
      "\n",
      "Using vars() to access the attributes of an object\n",
      "{'a': 1, 'b': 2, 'c': 3}\n",
      "\n",
      "Using vars() to instantiate another instance of A\n",
      "A(a=1, b=2, c=3)\n",
      "\n",
      "Same as above, but without knowledge of class\n",
      "A(a=1, b=2, c=3)\n"
     ]
    }
   ],
   "source": [
    "# Using vars() to access the attributes of an object.\n",
    "# If a class attribute names are identical to initialization argument names.\n",
    "# Then it's easy to do a shallow copy an object instance\n",
    "# This works regardless of if the are positional or keywords, and regardless of argument order.\n",
    "class A:\n",
    "    def __init__(self, b, a=None, c=None):\n",
    "        self.a = a\n",
    "        self.b = b\n",
    "        self.c = c\n",
    "    def __repr__(self):\n",
    "        return f\"A(a={self.a}, b={self.b}, c={self.c})\"\n",
    "        \n",
    "a = A(2, a=1, c=3)\n",
    "util.doc.results(\n",
    "    \"instance of A\", a,\n",
    "    \"Using vars() to access the attributes of an object\", vars(a),\n",
    "    \"Using vars() to instantiate another instance of A\", A(**vars(a)),\n",
    "    \"Same as above, but without knowledge of class\", type(a)(**vars(a)),\n",
    ")"
   ]
  },
  {
   "cell_type": "code",
   "execution_count": 6,
   "metadata": {},
   "outputs": [
    {
     "data": {
      "text/plain": [
       "('A', 'int', 'str', 'A', 'int', 'str')"
      ]
     },
     "execution_count": 6,
     "metadata": {},
     "output_type": "execute_result"
    }
   ],
   "source": [
    "# Getting names of classes. Works with primitives\n",
    "class A:\n",
    "    pass\n",
    "a = A()\n",
    "i = 1\n",
    "s = 'x'\n",
    "def classname_1(x):\n",
    "    return x.__class__.__name__\n",
    "def classname_2(x):\n",
    "    return type(x).__name__\n",
    "classname_1(a), classname_1(i), classname_1(s), classname_2(a), classname_2(i), classname_2(s)"
   ]
  },
  {
   "cell_type": "code",
   "execution_count": 7,
   "metadata": {},
   "outputs": [
    {
     "name": "stdout",
     "output_type": "stream",
     "text": [
      "False\n",
      "True\n",
      "True\n",
      "False\n"
     ]
    }
   ],
   "source": [
    "# hasattr() still evaluates to true for a attribute that has been set to None,\n",
    "# and will evaluate to false when using del\n",
    "class A:\n",
    "    def __init__(self):\n",
    "        pass\n",
    "a = A()\n",
    "print( hasattr(a, 'a') )\n",
    "a.a = 1\n",
    "print( hasattr(a, 'a') )\n",
    "a.a = None\n",
    "print( hasattr(a, 'a') )\n",
    "del a.a\n",
    "print( hasattr(a, 'a') )"
   ]
  },
  {
   "cell_type": "code",
   "execution_count": 17,
   "metadata": {},
   "outputs": [
    {
     "name": "stdout",
     "output_type": "stream",
     "text": [
      "a is an instance of A True\n",
      "a is an instance of B False\n",
      "b is an instance of A True\n",
      "b is an instance of B True\n",
      "a is an instance of one of (A,B,C) True\n",
      "b is an instance of one of (A,B,C) True\n",
      "Hi!\n"
     ]
    }
   ],
   "source": [
    "# isinstance() to check that an object's class is equal to or a subclass of a class\n",
    "class A:\n",
    "    def _greet(self):\n",
    "        print(\"Hi!\")\n",
    "class B(A):\n",
    "    def greet(self):\n",
    "        self._greet()\n",
    "class C: pass\n",
    "a, b = A(), B()\n",
    "util.doc.results(\n",
    "    \"a is an instance of A\", isinstance(a, A),\n",
    "    \"a is an instance of B\", isinstance(a, B),\n",
    "    \"b is an instance of A\", isinstance(b, A),\n",
    "    \"b is an instance of B\", isinstance(b, B),\n",
    "    \"a is an instance of one of (A,B,C)\", isinstance(a, (A,B,C)),\n",
    "    \"b is an instance of one of (A,B,C)\", isinstance(b, (A,B,C)),\n",
    "compact=True)\n",
    "b.greet()"
   ]
  },
  {
   "cell_type": "code",
   "execution_count": 38,
   "metadata": {},
   "outputs": [
    {
     "name": "stdout",
     "output_type": "stream",
     "text": [
      "A function\n",
      "Hola!\n",
      "\n",
      "A function\n",
      "adiós\n",
      "\n",
      "B override with super\n",
      "Hola! Hello!\n",
      "\n",
      "B override\n",
      "bye\n"
     ]
    }
   ],
   "source": [
    "# overriding functions and using super()\n",
    "class A:\n",
    "    def hello(self):\n",
    "        return \"Hola!\"\n",
    "    def goodbye(self):\n",
    "        return \"adiós\"\n",
    "    \n",
    "        \n",
    "class B(A):\n",
    "    def hello(self):\n",
    "        return super().hello() + \" Hello!\"\n",
    "    def goodbye(self):\n",
    "        return \"bye\"\n",
    "a, b = A(), B()\n",
    "util.doc.results(\n",
    "    \"A function\", a.hello(),\n",
    "    \"A function\", a.goodbye(),\n",
    "    \"B override with super\", b.hello(),\n",
    "    \"B override\", b.goodbye(),\n",
    ")"
   ]
  },
  {
   "cell_type": "markdown",
   "metadata": {
    "jp-MarkdownHeadingCollapsed": true,
    "tags": []
   },
   "source": [
    "### Named tuples\n",
    "\n",
    "Using `collections.nametuples`"
   ]
  },
  {
   "cell_type": "code",
   "execution_count": 9,
   "metadata": {},
   "outputs": [
    {
     "name": "stdout",
     "output_type": "stream",
     "text": [
      "can't set attribute\n",
      "'A' object does not support item assignment\n",
      "\n",
      "Instance a of amedtuple A is A(a=1, b=2, c=3)\n",
      "The item in the first index 1\n",
      "The item with field name 'a' using getattr() 1\n",
      "The item with field name 'a' using access 1\n"
     ]
    }
   ],
   "source": [
    "# accessing named tuples\n",
    "A = collections.namedtuple('A', ('a', 'b', 'c',))\n",
    "a = A(1,2,3)\n",
    "\n",
    "try: a.b = 4 # can't set attributes\n",
    "except AttributeError as e: print(e)\n",
    "\n",
    "try: a[1] =4 # can't do item assignment\n",
    "except TypeError as e: print(e)\n",
    "\n",
    "util.doc.results(\n",
    "    \"Instance a of amedtuple A is\", a,\n",
    "    \"The item in the first index\", a[0],\n",
    "    \"The item with field name 'a' using getattr()\", getattr(a, 'a'),\n",
    "    \"The item with field name 'a' using access\", a.a,\n",
    "compact=True, start=\"\")"
   ]
  },
  {
   "cell_type": "code",
   "execution_count": 10,
   "metadata": {},
   "outputs": [
    {
     "name": "stdout",
     "output_type": "stream",
     "text": [
      "Instance a of amedtuple A is A(a=1, b=2, c=3)\n",
      "Has fields ('a', 'b', 'c')\n",
      "As a dict {'a': 1, 'b': 2, 'c': 3}\n"
     ]
    }
   ],
   "source": [
    "# attributes of named tuples\n",
    "A = collections.namedtuple('A', ('a', 'b', 'c',))\n",
    "a = A._make([1,2,3])\n",
    "\n",
    "util.doc.results(\n",
    "    \"Instance a of amedtuple A is\", a,\n",
    "    \"Has fields\", a._fields,\n",
    "    \"As a dict\", a._asdict(),\n",
    "compact=True)"
   ]
  },
  {
   "cell_type": "code",
   "execution_count": 11,
   "metadata": {},
   "outputs": [
    {
     "data": {
      "text/plain": [
       "(A(c=1, d=2), A(c=(1, 3, 5), d=(2, 4, 6)))"
      ]
     },
     "execution_count": 11,
     "metadata": {},
     "output_type": "execute_result"
    }
   ],
   "source": [
    "# aggregating named tuples\n",
    "A = collections.namedtuple('A', ('c', 'd',))\n",
    "a1 = A(1, 2)\n",
    "a2 = A(3, 4)\n",
    "a3 = A(5, 6)\n",
    "# aggregating a tuple\n",
    "batch = A(*zip(*[a1, a2, a3]))\n",
    "a1, batch"
   ]
  },
  {
   "cell_type": "markdown",
   "metadata": {
    "jp-MarkdownHeadingCollapsed": true,
    "tags": []
   },
   "source": [
    "### Queues\n",
    "\n",
    "Remember to use `collections.deque` and not `queue.Queue`."
   ]
  },
  {
   "cell_type": "code",
   "execution_count": 17,
   "metadata": {},
   "outputs": [
    {
     "name": "stdout",
     "output_type": "stream",
     "text": [
      "Results from q.pop() [6, 5, 4, 3, 2, 1]\n",
      "Queue q after popping all items deque([])\n"
     ]
    }
   ],
   "source": [
    "# append(), extend() and pop()\n",
    "q = collections.deque([1, 2, 3])\n",
    "q.append(4)\n",
    "q.extend([5,6])\n",
    "l = []\n",
    "while q:\n",
    "    i = q.pop()\n",
    "    l.append(i)\n",
    "\n",
    "util.doc.results(\n",
    "    \"Results from q.pop()\", l,\n",
    "    \"Queue q after popping all items\", q,\n",
    "compact=True)"
   ]
  },
  {
   "cell_type": "code",
   "execution_count": 18,
   "metadata": {},
   "outputs": [
    {
     "name": "stdout",
     "output_type": "stream",
     "text": [
      "Queue q after appending the numbers deque([1, 2, 3])\n",
      "The sum of the numbers in the queue 6\n"
     ]
    }
   ],
   "source": [
    "# A queue is an iterable\n",
    "q = collections.deque()\n",
    "q.append(1)\n",
    "q.append(2)\n",
    "q.append(3)\n",
    "\n",
    "util.doc.results(\n",
    "    \"Queue q after appending the numbers\", q,\n",
    "    \"The sum of the numbers in the queue\", sum(q),\n",
    "compact=True)"
   ]
  },
  {
   "cell_type": "markdown",
   "metadata": {
    "jp-MarkdownHeadingCollapsed": true,
    "tags": []
   },
   "source": [
    "### Enum"
   ]
  },
  {
   "cell_type": "code",
   "execution_count": 6,
   "metadata": {},
   "outputs": [
    {
     "name": "stdout",
     "output_type": "stream",
     "text": [
      "BasicEnum.TALL\n",
      "BasicEnum.SHORT\n"
     ]
    }
   ],
   "source": [
    "class BasicEnum(enum.Enum):\n",
    "    TALL = 0\n",
    "    SHORT = 1\n",
    "    \n",
    "    @classmethod\n",
    "    def generate(cls, l):\n",
    "        for i in l:\n",
    "            yield cls(i)\n",
    "\n",
    "for e in BasicEnum.generate([0,1]):\n",
    "    print(e)"
   ]
  },
  {
   "cell_type": "markdown",
   "metadata": {},
   "source": [
    "### Time and Date"
   ]
  },
  {
   "cell_type": "code",
   "execution_count": 27,
   "metadata": {},
   "outputs": [
    {
     "name": "stdout",
     "output_type": "stream",
     "text": [
      "Current time string format: 29 Jul 2022 11:48:04\n",
      "                            20220729-11_48_04\n",
      "Datetime object 2022-07-29 11:48:04.263758\n",
      "Converte a datetime object to string format: 20220729-11_48_04\n"
     ]
    }
   ],
   "source": [
    "util.doc.results(\n",
    "    \"Current time string format:\", time.strftime('%d %b %Y %H:%M:%S', time.localtime()),\n",
    "    \"                           \", time.strftime(\"%Y%m%d-%H_%M_%S\", time.localtime()),\n",
    "    \"Datetime object:\", datetime.datetime.now(),\n",
    "    \"Converte a datetime object to string format:\", datetime.datetime.now().strftime(\"%Y%m%d-%H_%M_%S\"),\n",
    "compact=True)"
   ]
  },
  {
   "cell_type": "markdown",
   "metadata": {
    "jp-MarkdownHeadingCollapsed": true,
    "tags": []
   },
   "source": [
    "### Unsorted"
   ]
  },
  {
   "cell_type": "code",
   "execution_count": 4,
   "metadata": {},
   "outputs": [
    {
     "name": "stdout",
     "output_type": "stream",
     "text": [
      "Something went wrong.\n",
      "Exception('Something went wrong.')\n"
     ]
    }
   ],
   "source": [
    "# TODO: isn't there a way to include exception codes?\n",
    "try:\n",
    "    raise Exception(\"Something went wrong.\")\n",
    "except Exception as e:\n",
    "    print(e)\n",
    "    print(repr(e))"
   ]
  },
  {
   "cell_type": "code",
   "execution_count": 9,
   "metadata": {},
   "outputs": [
    {
     "data": {
      "text/plain": [
       "('a/b/c', ['a', 'b', 'c'])"
      ]
     },
     "execution_count": 9,
     "metadata": {},
     "output_type": "execute_result"
    }
   ],
   "source": [
    "# Joining and splitting strings\n",
    "l = ['a', 'b', 'c']\n",
    "s = '/'.join(l)\n",
    "s, s.split('/')"
   ]
  },
  {
   "cell_type": "code",
   "execution_count": 10,
   "metadata": {},
   "outputs": [
    {
     "data": {
      "text/plain": [
       "([1, 2, 3], [1, 2, 3], [1, 2, 3])"
      ]
     },
     "execution_count": 10,
     "metadata": {},
     "output_type": "execute_result"
    }
   ],
   "source": [
    "# Sorting iterables\n",
    "l = [1,3,2]\n",
    "s = {1,3,2}\n",
    "r = range(3, 0, -1)\n",
    "sorted(l), sorted(s), sorted(r)"
   ]
  },
  {
   "cell_type": "code",
   "execution_count": 11,
   "metadata": {},
   "outputs": [
    {
     "data": {
      "text/plain": [
       "{1: 'b', 2: 'c', 3: 'e'}"
      ]
     },
     "execution_count": 11,
     "metadata": {},
     "output_type": "execute_result"
    }
   ],
   "source": [
    "# Filter items in a dict by inverse mapping\n",
    "d = {'a': 1, 'b': 1, 'c': 2, 'd': 3, 'e': 3}\n",
    "{v: k for k, v in d.items()}"
   ]
  },
  {
   "cell_type": "code",
   "execution_count": 1,
   "metadata": {},
   "outputs": [
    {
     "data": {
      "text/plain": [
       "[('a', 'b', 'c', 'd', 'e'), (1, 1, 2, 3, 3)]"
      ]
     },
     "execution_count": 1,
     "metadata": {},
     "output_type": "execute_result"
    }
   ],
   "source": [
    "optimizer/doc.control.2.ipynb# Unzip dict key-value pairs\n",
    "unzip = lambda ll: list(zip(*ll))\n",
    "d = {'a': 1, 'b': 1, 'c': 2, 'd': 3, 'e': 3}\n",
    "unzip(d.items())"
   ]
  },
  {
   "cell_type": "code",
   "execution_count": 12,
   "metadata": {},
   "outputs": [
    {
     "data": {
      "text/plain": [
       "[('a', 1), ('b', 2), ('c', 3)]"
      ]
     },
     "execution_count": 12,
     "metadata": {},
     "output_type": "execute_result"
    }
   ],
   "source": [
    "# Using zip(), and easy way to create dict() object\n",
    "zip_to_list = lambda *args: list(zip(*args))\n",
    "\n",
    "zip_to_list('abc', [1, 2, 3])"
   ]
  },
  {
   "cell_type": "code",
   "execution_count": 13,
   "metadata": {},
   "outputs": [
    {
     "data": {
      "text/plain": [
       "({'a': 0, 'b': 1, 'c': 2, 'd': 3},\n",
       " {'a': 0, 'b': 1},\n",
       " {},\n",
       " [0, 1, None],\n",
       " ([2, 3], ['e', 'f']))"
      ]
     },
     "execution_count": 13,
     "metadata": {},
     "output_type": "execute_result"
    }
   ],
   "source": [
    "# Using dict\n",
    "def subdict(d, ks):\n",
    "    return {k: d[k] for k in ks if k in d}\n",
    "\n",
    "def map_to_list(f, l):\n",
    "    return list(map(f, l))\n",
    "\n",
    "def from_dict_with_remainder(d, ks):\n",
    "    leftover = set(ks) - set(d.keys())\n",
    "    ks = set(ks) & set(d.keys())\n",
    "    return map_to_list(d.get, ks), list(leftover)\n",
    "\n",
    "d = dict(zip('abcd', range(4)))\n",
    "\n",
    "d, subdict(d, 'abe'), subdict({}, 'abe'), map_to_list(d.get, 'abe'), from_dict_with_remainder(d, 'cdef')"
   ]
  },
  {
   "cell_type": "markdown",
   "metadata": {},
   "source": [
    "Chaining lists.\n",
    "\n",
    "What is the difference between chain and chain.from_iterable in itertools? [StackOverflow](https://stackoverflow.com/questions/15004772/what-is-the-difference-between-chain-and-chain-from-iterable-in-itertools)"
   ]
  },
  {
   "cell_type": "code",
   "execution_count": 14,
   "metadata": {},
   "outputs": [
    {
     "data": {
      "text/plain": [
       "([1, 2, 3, 4, 5, 6], [1, 2, 3, 4, 5, 6])"
      ]
     },
     "execution_count": 14,
     "metadata": {},
     "output_type": "execute_result"
    }
   ],
   "source": [
    "l = [[1,2,3], [4,5], [6]]\n",
    "\n",
    "list( itertools.chain(*l) ), list( itertools.chain.from_iterable(l) )"
   ]
  },
  {
   "cell_type": "code",
   "execution_count": 15,
   "metadata": {},
   "outputs": [
    {
     "data": {
      "text/plain": [
       "([a=2, a=5, a=9, a=14], [a=10, a=12, a=15, a=19, a=24])"
      ]
     },
     "execution_count": 15,
     "metadata": {},
     "output_type": "execute_result"
    }
   ],
   "source": [
    "# Using accumulate()\n",
    "accumulate_to_list = lambda *args, **kwargs: list(itertools.accumulate(*args, **kwargs))\n",
    "class A:\n",
    "    def __init__(self, a):\n",
    "        self.a = a\n",
    "    def __repr__(self):\n",
    "        return f\"a={self.a}\"\n",
    "v = [A(2), A(3), A(4), A(5)]\n",
    "add = lambda c,d: A(c.a + d.a)\n",
    "\n",
    "accumulate_to_list(v, add), accumulate_to_list(v, add, initial=A(10))"
   ]
  },
  {
   "cell_type": "code",
   "execution_count": 16,
   "metadata": {},
   "outputs": [
    {
     "data": {
      "text/plain": [
       "([(0, 1), (1, 2), (2, 3), (3, 4)], [(0, 1)], [])"
      ]
     },
     "execution_count": 16,
     "metadata": {},
     "output_type": "execute_result"
    }
   ],
   "source": [
    "# Using tee() to make a list of consecutive lists\n",
    "# itertools.tee() returns n independent iterators from a single iterable.\n",
    "\n",
    "def pairwise_to_list(l):\n",
    "    a, b = itertools.tee(l)\n",
    "    next(b, None)\n",
    "    return list(zip(a, b))\n",
    "\n",
    "pairwise_to_list(range(5)), pairwise_to_list(range(2)), pairwise_to_list(range(1))"
   ]
  },
  {
   "cell_type": "code",
   "execution_count": 17,
   "metadata": {},
   "outputs": [
    {
     "data": {
      "text/plain": [
       "[a=3, a=5, a=7, a=9]"
      ]
     },
     "execution_count": 17,
     "metadata": {},
     "output_type": "execute_result"
    }
   ],
   "source": [
    "def pairwise_do(f, l):\n",
    "    a, b = itertools.tee(l)\n",
    "    next(b, None)\n",
    "    return [f(i, j) for i, j in zip(a, b)]\n",
    "class A:\n",
    "    def __init__(self, a):\n",
    "        self.a = a\n",
    "    def __repr__(self):\n",
    "        return f\"a={self.a}\"\n",
    "v = [A(1), A(2), A(3), A(4), A(5)]\n",
    "add = lambda c,d: A(c.a + d.a)\n",
    "\n",
    "pairwise_do(add, v)"
   ]
  },
  {
   "cell_type": "code",
   "execution_count": 18,
   "metadata": {},
   "outputs": [
    {
     "data": {
      "text/plain": [
       "('The quick brown fox jumps over the lazy dog',\n",
       " 'LOG: The quick brown fox jumps over the lazy dog')"
      ]
     },
     "execution_count": 18,
     "metadata": {},
     "output_type": "execute_result"
    }
   ],
   "source": [
    "# Using reduce()\n",
    "v = ['The', 'quick', 'brown', 'fox', 'jumps', 'over', 'the', 'lazy', 'dog']\n",
    "functools.reduce(lambda acc, x: acc + ' ' + x, v), functools.reduce(lambda acc, x: acc + ' ' + x, v, 'LOG:')"
   ]
  },
  {
   "cell_type": "code",
   "execution_count": 22,
   "metadata": {},
   "outputs": [
    {
     "data": {
      "text/plain": [
       "(1, 2)"
      ]
     },
     "execution_count": 22,
     "metadata": {},
     "output_type": "execute_result"
    }
   ],
   "source": [
    "# Deep copy\n",
    "# WARNING: copy.deepcopy() is known to be very slow\n",
    "class A:\n",
    "    def __init__(self, a):\n",
    "        self.a = a\n",
    "\n",
    "# example of deep structure of form\n",
    "# (list, A, dict, A, int)\n",
    "v = [A({'a': A(1)})]\n",
    "u = copy.deepcopy(v)\n",
    "u[0].a['a'].a = 2\n",
    "v[0].a['a'].a, u[0].a['a'].a"
   ]
  },
  {
   "cell_type": "code",
   "execution_count": 26,
   "metadata": {},
   "outputs": [
    {
     "data": {
      "text/plain": [
       "([1, 2, 3], 1, 4, None, [0, 1, 2, 3, 4, 5])"
      ]
     },
     "execution_count": 26,
     "metadata": {},
     "output_type": "execute_result"
    }
   ],
   "source": [
    "# Working with slices\n",
    "l = [0, 1, 2, 3, 4, 5]\n",
    "s = slice(1, 4)\n",
    "l[s], s.start, s.stop, s.step, l[slice(None)]"
   ]
  },
  {
   "cell_type": "code",
   "execution_count": 27,
   "metadata": {},
   "outputs": [
    {
     "data": {
      "text/plain": [
       "(slice(1, 2, None), 1, [1])"
      ]
     },
     "execution_count": 27,
     "metadata": {},
     "output_type": "execute_result"
    }
   ],
   "source": [
    "# getting the indices of the longest sequence in a list\n",
    "\n",
    "def longest_subsequence(l, cond=None):\n",
    "    \"\"\"Get the longest subsequence of the list composed of entries\n",
    "    where cond is true. For example:\n",
    "    (lambda l, i: l[i], [1, 0, 1, 1, 1, 0, 1]) -> ((slice(2, 5), 3)\n",
    "    \n",
    "    Parameters\n",
    "    ==========\n",
    "    l : list or np.array\n",
    "        The list to get subsequence from. \n",
    "    cond : function (l, i) -> bool\n",
    "        To check whether list entries belong to the subsequence.\n",
    "        If not passed the check using truthiness. \n",
    "    \n",
    "    Returns\n",
    "    =======\n",
    "    slice or None\n",
    "        The slice object to get the subsequence.\n",
    "    int\n",
    "        The length of the subsequence.\n",
    "    \"\"\"\n",
    "    if not cond:\n",
    "        cond = lambda x: x\n",
    "    n = len(l)\n",
    "    longest_size  = 0\n",
    "    longest_begin = None\n",
    "    longest_end   = None\n",
    "    curr_end = 0\n",
    "    while curr_end < n:\n",
    "        if cond(l[curr_end]):\n",
    "            curr_begin = curr_end\n",
    "            while curr_end < n - 1 and cond(l[curr_end+1]):\n",
    "                curr_end  += 1\n",
    "            if (curr_end - curr_begin + 1) > longest_size:\n",
    "                longest_size = curr_end - curr_begin + 1\n",
    "                longest_begin = curr_begin\n",
    "                longest_end = curr_end\n",
    "            curr_end += 1\n",
    "        curr_end += 1\n",
    "    if longest_size == 0:\n",
    "        return None, longest_size\n",
    "    else:\n",
    "        return slice(longest_begin, longest_end+1), longest_size\n",
    "\n",
    "f = lambda x: x\n",
    "t1 = [1, 0, 1, 1, 1, 0, 1]\n",
    "t2 = [0, 1, 0, 1, 1, 1, 1, 1]\n",
    "t3 = [1, 1, 0, 1, 0]\n",
    "t4 = [0, 1, 0, 1, 0]\n",
    "t5 = [0, 0]\n",
    "t6 = [1]\n",
    "t7 = []\n",
    "\n",
    "l = t4\n",
    "r, length = longest_subsequence(l, f)\n",
    "def d():\n",
    "    try:\n",
    "        return l[r]\n",
    "    except:\n",
    "        return None\n",
    "r, length, d()"
   ]
  },
  {
   "cell_type": "code",
   "execution_count": 28,
   "metadata": {},
   "outputs": [
    {
     "data": {
      "text/plain": [
       "(slice(3, 8, None), 5, [2, 3, 4, 5, 6])"
      ]
     },
     "execution_count": 28,
     "metadata": {},
     "output_type": "execute_result"
    }
   ],
   "source": [
    "def longest_sequence_using_split(l, split):\n",
    "    \"\"\"Get the longest subsequence of the list after it has been\n",
    "    split into segments. For example if split is the function\n",
    "    lambda l, i: l[i + 1] != l[i] + 1 if i < len(l) - 1 else False\n",
    "    then\n",
    "    ([1, 2, 3, 2, 3, 4, 5, 1, 2], split) -> ((slice(3, 7), 4)\n",
    "    as split gives\n",
    "    [1, 2, 3 | 2, 3, 4, 5 | 1, 2]\n",
    "    \n",
    "    Parameters\n",
    "    ==========\n",
    "    l : list or np.array\n",
    "        The list to get subsequence.\n",
    "    split : function (l, i) -> bool\n",
    "        To check whether to split the list\n",
    "        If not passed the check using truthiness.\n",
    "    \n",
    "    Returns\n",
    "    =======\n",
    "    slice or None\n",
    "        The slice object to get the subsequence.\n",
    "    int\n",
    "        The length of the subsequence.\n",
    "    \"\"\"\n",
    "    n = len(l)\n",
    "    longest_size  = 0\n",
    "    longest_begin = None\n",
    "    longest_end   = None\n",
    "    curr_begin = 0\n",
    "    curr_end   = 0\n",
    "    while curr_end < n:\n",
    "        if split(l, curr_end) or curr_end == n - 1:\n",
    "            if (curr_end - curr_begin + 1)  > longest_size:\n",
    "                longest_size  = curr_end - curr_begin + 1\n",
    "                longest_begin = curr_begin\n",
    "                longest_end   = curr_end\n",
    "            curr_begin = curr_end + 1\n",
    "            curr_end   = curr_end + 1\n",
    "        else:\n",
    "            curr_end  += 1\n",
    "    if longest_size == 0:\n",
    "        return None, longest_size\n",
    "    else:\n",
    "        return slice(longest_begin, longest_end+1), longest_size\n",
    "\n",
    "def longest_consecutive_increasing_subsequence(l):\n",
    "    \"\"\"Get the longest consecutively increasing subsequence.\n",
    "    \n",
    "    Parameters\n",
    "    ==========\n",
    "    list of int\n",
    "        The list to get subsequence.\n",
    "    \n",
    "    Returns\n",
    "    =======\n",
    "    slice or None\n",
    "        The slice object to get the subsequence.\n",
    "    int\n",
    "        The length of the subsequence.\n",
    "    \"\"\"\n",
    "    def split(l, i):\n",
    "        try:\n",
    "            return l[i + 1] != l[i] + 1\n",
    "        except:\n",
    "            return False\n",
    "    return longest_sequence_using_split(l, split)\n",
    "\n",
    "t1 = [1, 2, 3, 2, 3, 4, 5, 6, 1, 2]\n",
    "t2 = [3, 2, 3, 4, 5, 6, 7, 1, 2, 1]\n",
    "t3 = [1, 3, 2, 3, 2, 3, 4, 5]\n",
    "t4 = [6, 7, 8, 1, 2]\n",
    "t5 = [1, 3, 5, 7]\n",
    "t6 = [1]\n",
    "t7 = [2, 1]\n",
    "t8 = []\n",
    "\n",
    "l = t1\n",
    "r, length = longest_consecutive_increasing_subsequence(l)\n",
    "def d():\n",
    "    try:\n",
    "        return l[r]\n",
    "    except:\n",
    "        return None\n",
    "r, length, d()"
   ]
  },
  {
   "cell_type": "code",
   "execution_count": 29,
   "metadata": {},
   "outputs": [
    {
     "data": {
      "text/plain": [
       "(None, 0, None)"
      ]
     },
     "execution_count": 29,
     "metadata": {},
     "output_type": "execute_result"
    }
   ],
   "source": [
    "def longest_consecutive_decreasing_subsequence(l):\n",
    "    \"\"\"Get the longest consecutively decreasing subsequence.\n",
    "    \n",
    "    Parameters\n",
    "    ==========\n",
    "    list of int\n",
    "        The list to get subsequence.\n",
    "    \n",
    "    Returns\n",
    "    =======\n",
    "    slice or None\n",
    "        The slice object to get the subsequence.\n",
    "    int\n",
    "        The length of the subsequence.\n",
    "    \"\"\"\n",
    "    def split(l, i):\n",
    "        try:\n",
    "            return l[i + 1] != l[i] - 1\n",
    "        except:\n",
    "            return False\n",
    "    return longest_sequence_using_split(l, split)\n",
    "\n",
    "t1 = [3, 2, 1, 6, 5, 4, 3, 2, 2, 1]\n",
    "t2 = [3, 7, 6, 5, 4, 3, 2, 2, 1, 1]\n",
    "t3 = [1, 3, 3, 2, 5, 4, 3, 2]\n",
    "t4 = [8, 7, 6, 2, 1]\n",
    "t5 = [1, 3, 5, 7]\n",
    "t6 = [1]\n",
    "t7 = [2, 1]\n",
    "t8 = []\n",
    "\n",
    "l = t8\n",
    "r, length = longest_consecutive_decreasing_subsequence(l)\n",
    "def d():\n",
    "    try:\n",
    "        return l[r]\n",
    "    except:\n",
    "        return None\n",
    "r, length, d()"
   ]
  },
  {
   "cell_type": "code",
   "execution_count": 30,
   "metadata": {},
   "outputs": [
    {
     "name": "stdout",
     "output_type": "stream",
     "text": [
      "{'a': 1, 'b': 2, 'd': 4, 'args': (3,), 'kwargs': {'e': 5}}\n"
     ]
    }
   ],
   "source": [
    "# locals() returns function's arguments as dict.\n",
    "def f(a,b, *args,d=None, **kwargs):\n",
    "    print( locals() )\n",
    "f(1,2,3,d=4,e=5)"
   ]
  },
  {
   "cell_type": "code",
   "execution_count": 31,
   "metadata": {},
   "outputs": [
    {
     "data": {
      "text/plain": [
       "[['a', 'b', 'c'],\n",
       " ['c1', 'a1', 'b2', 'a1', 'a2', 'a3'],\n",
       " ['a21', 'a11', 'a12', 'b21', 'b22', 'b23']]"
      ]
     },
     "execution_count": 31,
     "metadata": {},
     "output_type": "execute_result"
    }
   ],
   "source": [
    "unzip = lambda ll: list(zip(*ll))\n",
    "\n",
    "def inner_keys_from_nested_dict(d, layers=2):\n",
    "    ll = []\n",
    "    vl = [d]\n",
    "    for layer in range(layers):\n",
    "        l = []\n",
    "        f = lambda x: isinstance(x, dict)\n",
    "        q = collections.deque(util.filter_to_list(f, vl))\n",
    "        vl = []\n",
    "        if not q:\n",
    "            break\n",
    "        while q:\n",
    "            d = q.pop()\n",
    "            keys, values = unzip(d.items())\n",
    "            vl.append(values)\n",
    "            l.append(keys)\n",
    "        l = util.merge_list_of_list(l)\n",
    "        vl = util.merge_list_of_list(vl)\n",
    "        ll.append(l)\n",
    "    return ll\n",
    "\n",
    "d = {\n",
    "    'a': {\n",
    "        'a1': {\n",
    "            'a11': 11,\n",
    "            'a12': 12,\n",
    "        },\n",
    "        'a2': {\n",
    "            'a21': 21,\n",
    "        },\n",
    "        'a3': 3,\n",
    "    },\n",
    "    'b': {\n",
    "        'a1': 1,\n",
    "        'b2': {\n",
    "            'b21': 21,\n",
    "            'b22': 22,\n",
    "            'b23': 23,\n",
    "        },\n",
    "    },\n",
    "    'c': {\n",
    "        'c1': 1,\n",
    "    },\n",
    "}\n",
    "\n",
    "inner_keys_from_nested_dict(d, layers=3)"
   ]
  },
  {
   "cell_type": "code",
   "execution_count": 36,
   "metadata": {},
   "outputs": [
    {
     "data": {
      "text/plain": [
       "([('a', 1), ('b', 2), ('c', 3), ('d', 4)],\n",
       " [('a', 'b', 'c', 'd'), (1, 2, 3, 4)])"
      ]
     },
     "execution_count": 36,
     "metadata": {},
     "output_type": "execute_result"
    }
   ],
   "source": [
    "# Using zip, unzip and zip\n",
    "zip_to_list = lambda *args: list(zip(*args))\n",
    "unzip = lambda ll: list(zip(*ll))\n",
    "\n",
    "zip_to_list(* unzip([('a', 1), ('b', 2), ('c', 3), ('d', 4)]) ), \\\n",
    "        unzip( zip_to_list(('a', 'b', 'c', 'd'), (1, 2, 3, 4)) )"
   ]
  },
  {
   "cell_type": "code",
   "execution_count": 37,
   "metadata": {},
   "outputs": [
    {
     "data": {
      "text/plain": [
       "{'a': {'b': [3, 2, 1]}, 'c': [4, 3, 2, 1], 'd': {}}"
      ]
     },
     "execution_count": 37,
     "metadata": {},
     "output_type": "execute_result"
    }
   ],
   "source": [
    "def do_on_nested_dict_of_list(f, dl, *args, **kwargs):\n",
    "    if isinstance(dl, list):\n",
    "        f(dl, *args, **kwargs)\n",
    "    elif isinstance(dl, dict):\n",
    "        for v in dl.values():\n",
    "            sort_nested_dict_of_list(v, *args, **kwargs)\n",
    "    else:\n",
    "        pass\n",
    "\n",
    "def sort_nested_dict_of_list(dl, **kwargs):\n",
    "    def f(l, **kwargs):\n",
    "        l.sort(**kwargs)\n",
    "    do_on_nested_dict_of_list(f, dl, **kwargs)\n",
    "\n",
    "dl = {'a': {'b': [3,1,2]}, 'c': [3,4,1,2], 'd': dict()}\n",
    "sort_nested_dict_of_list(dl,reverse=True)\n",
    "dl"
   ]
  },
  {
   "cell_type": "code",
   "execution_count": 38,
   "metadata": {},
   "outputs": [
    {
     "name": "stdout",
     "output_type": "stream",
     "text": [
      "(2,) (0,) (1,)\n",
      "(0,) (1,) (2,)\n"
     ]
    }
   ],
   "source": [
    "def gen_splits(n):\n",
    "    \"\"\"Generator of group indices for (train, val, test) set.\n",
    "    Only yields n-1 of the possible index combinations\"\"\"\n",
    "    v = util.range_to_list(n)\n",
    "    for idx in range(0, len(v) - 1):\n",
    "        yield tuple(v[:idx] + v[idx + 2:]), (idx,), (idx + 1,)\n",
    "\n",
    "for train, val, test in gen_splits(3):\n",
    "    print(train, val, test)"
   ]
  },
  {
   "cell_type": "code",
   "execution_count": 39,
   "metadata": {},
   "outputs": [
    {
     "data": {
      "text/plain": [
       "([(2, 'b'), (3, 'b'), (4, 'b')], [(2, 'b'), (3, 'b')])"
      ]
     },
     "execution_count": 39,
     "metadata": {},
     "output_type": "execute_result"
    }
   ],
   "source": [
    "l = zip(range(10),'aabbbccddd')\n",
    "s_ = filter(lambda x: x[1] == 'b', l)\n",
    "l = zip(range(10),'aabbbccddd')\n",
    "s = filter(lambda x: x[1] == 'b', l)\n",
    "s = itertools.islice(s, 2)\n",
    "[*s_], [*s]"
   ]
  },
  {
   "cell_type": "code",
   "execution_count": 40,
   "metadata": {},
   "outputs": [
    {
     "data": {
      "text/plain": [
       "[('A', 'a', 0),\n",
       " ('A', 'a', 1),\n",
       " ('A', 'b', 0),\n",
       " ('A', 'b', 1),\n",
       " ('B', 'a', 0),\n",
       " ('B', 'a', 1),\n",
       " ('B', 'b', 0),\n",
       " ('B', 'b', 1),\n",
       " ('C', 'a', 0),\n",
       " ('C', 'a', 1),\n",
       " ('C', 'b', 0),\n",
       " ('C', 'b', 1)]"
      ]
     },
     "execution_count": 40,
     "metadata": {},
     "output_type": "execute_result"
    }
   ],
   "source": [
    "# Cartesian product of iterables\n",
    "p = itertools.product('ABC', 'ab', range(2))\n",
    "[*p]"
   ]
  },
  {
   "cell_type": "code",
   "execution_count": 2,
   "metadata": {},
   "outputs": [
    {
     "data": {
      "text/plain": [
       "[0, 0, 3, 2, 2]"
      ]
     },
     "execution_count": 2,
     "metadata": {},
     "output_type": "execute_result"
    }
   ],
   "source": [
    "d = collections.OrderedDict( zip('abcd', range(4)) )\n",
    "random.choices(list(d.values()), k=5)"
   ]
  },
  {
   "cell_type": "code",
   "execution_count": 9,
   "metadata": {},
   "outputs": [
    {
     "name": "stdout",
     "output_type": "stream",
     "text": [
      "3 a\n",
      "1 b\n",
      "2 c\n",
      "odict_keys([3, 1, 2])\n"
     ]
    }
   ],
   "source": [
    "# collections.OrderedDict are dict that remember insertion order.\n",
    "d = collections.OrderedDict()\n",
    "d[3] = 'a'\n",
    "d[1] = 'b'\n",
    "d[2] = 'c'\n",
    "for k, v in d.items():\n",
    "    print(k, v)\n",
    "    \n",
    "import numpy as np\n",
    "print(np.array(d.keys()))"
   ]
  }
 ],
 "metadata": {
  "kernelspec": {
   "display_name": "Python 3 (ipykernel)",
   "language": "python",
   "name": "python3"
  },
  "language_info": {
   "codemirror_mode": {
    "name": "ipython",
    "version": 3
   },
   "file_extension": ".py",
   "mimetype": "text/x-python",
   "name": "python",
   "nbconvert_exporter": "python",
   "pygments_lexer": "ipython3",
   "version": "3.8.10"
  }
 },
 "nbformat": 4,
 "nbformat_minor": 4
}
