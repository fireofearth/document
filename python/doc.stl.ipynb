{
 "cells": [
  {
   "cell_type": "code",
   "execution_count": 21,
   "metadata": {},
   "outputs": [],
   "source": [
    "import copy\n",
    "import itertools\n",
    "import functools"
   ]
  },
  {
   "cell_type": "code",
   "execution_count": 8,
   "metadata": {},
   "outputs": [
    {
     "data": {
      "text/plain": [
       "{1: 'b', 2: 'c', 3: 'e'}"
      ]
     },
     "execution_count": 8,
     "metadata": {},
     "output_type": "execute_result"
    }
   ],
   "source": [
    "# Filter items in a dict by inverse mapping\n",
    "d = {'a': 1, 'b': 1, 'c': 2, 'd': 3, 'e': 3}\n",
    "{v: k for k, v in d.items()}"
   ]
  },
  {
   "cell_type": "code",
   "execution_count": 11,
   "metadata": {},
   "outputs": [
    {
     "data": {
      "text/plain": [
       "[('a', 1), ('b', 2), ('c', 3)]"
      ]
     },
     "execution_count": 11,
     "metadata": {},
     "output_type": "execute_result"
    }
   ],
   "source": [
    "# Using zip()\n",
    "zip_to_list = lambda *args: list(zip(*args))\n",
    "\n",
    "zip_to_list(['a', 'b', 'c'], [1, 2, 3])"
   ]
  },
  {
   "cell_type": "code",
   "execution_count": 24,
   "metadata": {},
   "outputs": [
    {
     "data": {
      "text/plain": [
       "([a=1, a=3, a=6, a=10, a=15], [a=10, a=11, a=13, a=16, a=20, a=25])"
      ]
     },
     "execution_count": 24,
     "metadata": {},
     "output_type": "execute_result"
    }
   ],
   "source": [
    "# Using accumulate()\n",
    "accumulate_to_list = lambda *args, **kwargs: list(itertools.accumulate(*args, **kwargs))\n",
    "class A:\n",
    "    def __init__(self, a):\n",
    "        self.a = a\n",
    "    def __repr__(self):\n",
    "        return f\"a={self.a}\"\n",
    "v = [A(2), A(3), A(4), A(5)]\n",
    "add = lambda c,d: A(c.a + d.a)\n",
    "\n",
    "accumulate_to_list(v, add), accumulate_to_list(v, add, initial=A(10))"
   ]
  },
  {
   "cell_type": "code",
   "execution_count": 41,
   "metadata": {},
   "outputs": [
    {
     "data": {
      "text/plain": [
       "([(0, 1), (1, 2), (2, 3), (3, 4)], [(0, 1)], [])"
      ]
     },
     "execution_count": 41,
     "metadata": {},
     "output_type": "execute_result"
    }
   ],
   "source": [
    "# Using tee() to make a list of consecutive lists\n",
    "# itertools.tee() returns n independent iterators from a single iterable.\n",
    "\n",
    "def pairwise_to_list(l):\n",
    "    a, b = itertools.tee(l)\n",
    "    next(b, None)\n",
    "    return list(zip(a, b))\n",
    "\n",
    "pairwise_to_list(range(5)), pairwise_to_list(range(2)), pairwise_to_list(range(1))"
   ]
  },
  {
   "cell_type": "code",
   "execution_count": 38,
   "metadata": {},
   "outputs": [
    {
     "data": {
      "text/plain": [
       "[a=3, a=5, a=7, a=9]"
      ]
     },
     "execution_count": 38,
     "metadata": {},
     "output_type": "execute_result"
    }
   ],
   "source": [
    "def pairwise_do(f, l):\n",
    "    a, b = itertools.tee(l)\n",
    "    next(b, None)\n",
    "    return [f(i, j) for i, j in zip(a, b)]\n",
    "class A:\n",
    "    def __init__(self, a):\n",
    "        self.a = a\n",
    "    def __repr__(self):\n",
    "        return f\"a={self.a}\"\n",
    "v = [A(1), A(2), A(3), A(4), A(5)]\n",
    "add = lambda c,d: A(c.a + d.a)\n",
    "\n",
    "pairwise_do(add, v)"
   ]
  },
  {
   "cell_type": "code",
   "execution_count": 23,
   "metadata": {},
   "outputs": [
    {
     "data": {
      "text/plain": [
       "('The quick brown fox jumps over the lazy dog',\n",
       " 'LOG: The quick brown fox jumps over the lazy dog')"
      ]
     },
     "execution_count": 23,
     "metadata": {},
     "output_type": "execute_result"
    }
   ],
   "source": [
    "# Using reduce()\n",
    "v = ['The', 'quick', 'brown', 'fox', 'jumps', 'over', 'the', 'lazy', 'dog']\n",
    "functools.reduce(lambda acc, x: acc + ' ' + x, v), functools.reduce(lambda acc, x: acc + ' ' + x, v, 'LOG:')"
   ]
  },
  {
   "cell_type": "code",
   "execution_count": 17,
   "metadata": {},
   "outputs": [
    {
     "data": {
      "text/plain": [
       "('A', 'int', 'str', 'A', 'int', 'str')"
      ]
     },
     "execution_count": 17,
     "metadata": {},
     "output_type": "execute_result"
    }
   ],
   "source": [
    "# Getting names of classes. Works with primitives\n",
    "class A:\n",
    "    pass\n",
    "a = A()\n",
    "i = 1\n",
    "s = 'x'\n",
    "def classname_1(x):\n",
    "    return x.__class__.__name__\n",
    "def classname_2(x):\n",
    "    return type(x).__name__\n",
    "classname_1(a), classname_1(i), classname_1(s), classname_2(a), classname_2(i), classname_2(s)"
   ]
  },
  {
   "cell_type": "code",
   "execution_count": 2,
   "metadata": {},
   "outputs": [
    {
     "name": "stdout",
     "output_type": "stream",
     "text": [
      "Hi!\n"
     ]
    }
   ],
   "source": [
    "# The Ideal way to create protected members is to use a single underscore '_'\n",
    "class A:\n",
    "    def _greet(self):\n",
    "        print(\"Hi!\")\n",
    "class B(A):\n",
    "    def greet(self):\n",
    "        self._greet()\n",
    "\n",
    "b = B()\n",
    "b.greet()"
   ]
  },
  {
   "cell_type": "code",
   "execution_count": 3,
   "metadata": {},
   "outputs": [
    {
     "data": {
      "text/plain": [
       "({'a': 'a', 'b': 'b', 'c': 2}, 'a', 'b', 2)"
      ]
     },
     "execution_count": 3,
     "metadata": {},
     "output_type": "execute_result"
    }
   ],
   "source": [
    "# Creating a dict with attribute-like access.\n",
    "class AttrDict(dict):\n",
    "    def __init__(self, *args, **kwargs):\n",
    "        super(AttrDict, self).__init__(*args, **kwargs)\n",
    "        self.__dict__ = self\n",
    "\n",
    "params = AttrDict(a='a', b='b')\n",
    "params.c = 2\n",
    "vars(params), params.a, params.b, params.c"
   ]
  },
  {
   "cell_type": "code",
   "execution_count": 4,
   "metadata": {},
   "outputs": [
    {
     "ename": "NameError",
     "evalue": "name 'copy' is not defined",
     "output_type": "error",
     "traceback": [
      "\u001b[0;31m---------------------------------------------------------------------------\u001b[0m",
      "\u001b[0;31mNameError\u001b[0m                                 Traceback (most recent call last)",
      "\u001b[0;32m<ipython-input-4-1101db842abe>\u001b[0m in \u001b[0;36m<module>\u001b[0;34m\u001b[0m\n\u001b[1;32m      7\u001b[0m \u001b[0;31m# (list, A, dict, A, int)\u001b[0m\u001b[0;34m\u001b[0m\u001b[0;34m\u001b[0m\u001b[0;34m\u001b[0m\u001b[0m\n\u001b[1;32m      8\u001b[0m \u001b[0mv\u001b[0m \u001b[0;34m=\u001b[0m \u001b[0;34m[\u001b[0m\u001b[0mA\u001b[0m\u001b[0;34m(\u001b[0m\u001b[0;34m{\u001b[0m\u001b[0;34m'a'\u001b[0m\u001b[0;34m:\u001b[0m \u001b[0mA\u001b[0m\u001b[0;34m(\u001b[0m\u001b[0;36m1\u001b[0m\u001b[0;34m)\u001b[0m\u001b[0;34m}\u001b[0m\u001b[0;34m)\u001b[0m\u001b[0;34m]\u001b[0m\u001b[0;34m\u001b[0m\u001b[0;34m\u001b[0m\u001b[0m\n\u001b[0;32m----> 9\u001b[0;31m \u001b[0mu\u001b[0m \u001b[0;34m=\u001b[0m \u001b[0mcopy\u001b[0m\u001b[0;34m.\u001b[0m\u001b[0mdeepcopy\u001b[0m\u001b[0;34m(\u001b[0m\u001b[0mv\u001b[0m\u001b[0;34m)\u001b[0m\u001b[0;34m\u001b[0m\u001b[0;34m\u001b[0m\u001b[0m\n\u001b[0m\u001b[1;32m     10\u001b[0m \u001b[0mu\u001b[0m\u001b[0;34m[\u001b[0m\u001b[0;36m0\u001b[0m\u001b[0;34m]\u001b[0m\u001b[0;34m.\u001b[0m\u001b[0ma\u001b[0m\u001b[0;34m[\u001b[0m\u001b[0;34m'a'\u001b[0m\u001b[0;34m]\u001b[0m\u001b[0;34m.\u001b[0m\u001b[0ma\u001b[0m \u001b[0;34m=\u001b[0m \u001b[0;36m2\u001b[0m\u001b[0;34m\u001b[0m\u001b[0;34m\u001b[0m\u001b[0m\n\u001b[1;32m     11\u001b[0m \u001b[0mv\u001b[0m\u001b[0;34m[\u001b[0m\u001b[0;36m0\u001b[0m\u001b[0;34m]\u001b[0m\u001b[0;34m.\u001b[0m\u001b[0ma\u001b[0m\u001b[0;34m[\u001b[0m\u001b[0;34m'a'\u001b[0m\u001b[0;34m]\u001b[0m\u001b[0;34m.\u001b[0m\u001b[0ma\u001b[0m\u001b[0;34m,\u001b[0m \u001b[0mu\u001b[0m\u001b[0;34m[\u001b[0m\u001b[0;36m0\u001b[0m\u001b[0;34m]\u001b[0m\u001b[0;34m.\u001b[0m\u001b[0ma\u001b[0m\u001b[0;34m[\u001b[0m\u001b[0;34m'a'\u001b[0m\u001b[0;34m]\u001b[0m\u001b[0;34m.\u001b[0m\u001b[0ma\u001b[0m\u001b[0;34m\u001b[0m\u001b[0;34m\u001b[0m\u001b[0m\n",
      "\u001b[0;31mNameError\u001b[0m: name 'copy' is not defined"
     ]
    }
   ],
   "source": [
    "# Deep copy\n",
    "class A:\n",
    "    def __init__(self, a):\n",
    "        self.a = a\n",
    "\n",
    "# example of deep structure of form\n",
    "# (list, A, dict, A, int)\n",
    "v = [A({'a': A(1)})]\n",
    "u = copy.deepcopy(v)\n",
    "u[0].a['a'].a = 2\n",
    "v[0].a['a'].a, u[0].a['a'].a"
   ]
  },
  {
   "cell_type": "code",
   "execution_count": 11,
   "metadata": {},
   "outputs": [
    {
     "data": {
      "text/plain": [
       "(True, False, True, True)"
      ]
     },
     "execution_count": 11,
     "metadata": {},
     "output_type": "execute_result"
    }
   ],
   "source": [
    "# isinstance() to check that an object's class is equal to or a subclass of a class\n",
    "class A:\n",
    "    def _greet(self):\n",
    "        print(\"Hi!\")\n",
    "class B(A):\n",
    "    def greet(self):\n",
    "        self._greet()\n",
    "a, b = A(), B()\n",
    "isinstance(a, A), isinstance(a, B), isinstance(b, A), isinstance(b, B)"
   ]
  },
  {
   "cell_type": "code",
   "execution_count": 12,
   "metadata": {},
   "outputs": [
    {
     "data": {
      "text/plain": [
       "(True, True)"
      ]
     },
     "execution_count": 12,
     "metadata": {},
     "output_type": "execute_result"
    }
   ],
   "source": [
    "# isinstance() to check that an object's class is equal to or a subclass of a class in a tuple.\n",
    "class A:\n",
    "    def _greet(self):\n",
    "        print(\"Hi!\")\n",
    "class B(A):\n",
    "    def greet(self):\n",
    "        self._greet()\n",
    "a, b = A(), B()\n",
    "isinstance(a, (A,B,)), isinstance(b, (A,B,))"
   ]
  },
  {
   "cell_type": "code",
   "execution_count": null,
   "metadata": {},
   "outputs": [],
   "source": []
  }
 ],
 "metadata": {
  "kernelspec": {
   "display_name": "Python 3",
   "language": "python",
   "name": "python3"
  },
  "language_info": {
   "codemirror_mode": {
    "name": "ipython",
    "version": 3
   },
   "file_extension": ".py",
   "mimetype": "text/x-python",
   "name": "python",
   "nbconvert_exporter": "python",
   "pygments_lexer": "ipython3",
   "version": "3.8.3"
  }
 },
 "nbformat": 4,
 "nbformat_minor": 4
}
