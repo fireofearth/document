{
 "cells": [
  {
   "cell_type": "code",
   "execution_count": 1,
   "metadata": {},
   "outputs": [],
   "source": [
    "import numpy as np\n",
    "import sklearn\n",
    "from sklearn.metrics import roc_auc_score\n",
    "\n",
    "# labels\n",
    "\n",
    "# score = roc_auc_score()\n",
    "\n",
    "\n",
    "#     if len(index_to_subtype) == 2:\n",
    "#         return sklearn.metrics.roc_auc_score(\n",
    "#                 batch_labels, \n",
    "#                 numpy.argmax(pred_labels_probs, axis=1),\n",
    "#                 average='macro')\n",
    "#     else:\n",
    "#         return sklearn.metrics.roc_auc_score(\n",
    "#                 batch_labels, pred_labels_probs, average='macro', multi_class='ovo')"
   ]
  },
  {
   "cell_type": "code",
   "execution_count": 27,
   "metadata": {},
   "outputs": [
    {
     "name": "stdout",
     "output_type": "stream",
     "text": [
      "Help on function unique in module numpy:\n",
      "\n",
      "unique(ar, return_index=False, return_inverse=False, return_counts=False, axis=None)\n",
      "    Find the unique elements of an array.\n",
      "    \n",
      "    Returns the sorted unique elements of an array. There are three optional\n",
      "    outputs in addition to the unique elements:\n",
      "    \n",
      "    * the indices of the input array that give the unique values\n",
      "    * the indices of the unique array that reconstruct the input array\n",
      "    * the number of times each unique value comes up in the input array\n",
      "    \n",
      "    Parameters\n",
      "    ----------\n",
      "    ar : array_like\n",
      "        Input array. Unless `axis` is specified, this will be flattened if it\n",
      "        is not already 1-D.\n",
      "    return_index : bool, optional\n",
      "        If True, also return the indices of `ar` (along the specified axis,\n",
      "        if provided, or in the flattened array) that result in the unique array.\n",
      "    return_inverse : bool, optional\n",
      "        If True, also return the indices of the unique array (for the specified\n",
      "        axis, if provided) that can be used to reconstruct `ar`.\n",
      "    return_counts : bool, optional\n",
      "        If True, also return the number of times each unique item appears\n",
      "        in `ar`.\n",
      "    \n",
      "        .. versionadded:: 1.9.0\n",
      "    \n",
      "    axis : int or None, optional\n",
      "        The axis to operate on. If None, `ar` will be flattened. If an integer,\n",
      "        the subarrays indexed by the given axis will be flattened and treated\n",
      "        as the elements of a 1-D array with the dimension of the given axis,\n",
      "        see the notes for more details.  Object arrays or structured arrays\n",
      "        that contain objects are not supported if the `axis` kwarg is used. The\n",
      "        default is None.\n",
      "    \n",
      "        .. versionadded:: 1.13.0\n",
      "    \n",
      "    Returns\n",
      "    -------\n",
      "    unique : ndarray\n",
      "        The sorted unique values.\n",
      "    unique_indices : ndarray, optional\n",
      "        The indices of the first occurrences of the unique values in the\n",
      "        original array. Only provided if `return_index` is True.\n",
      "    unique_inverse : ndarray, optional\n",
      "        The indices to reconstruct the original array from the\n",
      "        unique array. Only provided if `return_inverse` is True.\n",
      "    unique_counts : ndarray, optional\n",
      "        The number of times each of the unique values comes up in the\n",
      "        original array. Only provided if `return_counts` is True.\n",
      "    \n",
      "        .. versionadded:: 1.9.0\n",
      "    \n",
      "    See Also\n",
      "    --------\n",
      "    numpy.lib.arraysetops : Module with a number of other functions for\n",
      "                            performing set operations on arrays.\n",
      "    \n",
      "    Notes\n",
      "    -----\n",
      "    When an axis is specified the subarrays indexed by the axis are sorted.\n",
      "    This is done by making the specified axis the first dimension of the array\n",
      "    and then flattening the subarrays in C order. The flattened subarrays are\n",
      "    then viewed as a structured type with each element given a label, with the\n",
      "    effect that we end up with a 1-D array of structured types that can be\n",
      "    treated in the same way as any other 1-D array. The result is that the\n",
      "    flattened subarrays are sorted in lexicographic order starting with the\n",
      "    first element.\n",
      "    \n",
      "    Examples\n",
      "    --------\n",
      "    >>> np.unique([1, 1, 2, 2, 3, 3])\n",
      "    array([1, 2, 3])\n",
      "    >>> a = np.array([[1, 1], [2, 3]])\n",
      "    >>> np.unique(a)\n",
      "    array([1, 2, 3])\n",
      "    \n",
      "    Return the unique rows of a 2D array\n",
      "    \n",
      "    >>> a = np.array([[1, 0, 0], [1, 0, 0], [2, 3, 4]])\n",
      "    >>> np.unique(a, axis=0)\n",
      "    array([[1, 0, 0], [2, 3, 4]])\n",
      "    \n",
      "    Return the indices of the original array that give the unique values:\n",
      "    \n",
      "    >>> a = np.array(['a', 'b', 'b', 'c', 'a'])\n",
      "    >>> u, indices = np.unique(a, return_index=True)\n",
      "    >>> u\n",
      "    array(['a', 'b', 'c'], dtype='<U1')\n",
      "    >>> indices\n",
      "    array([0, 1, 3])\n",
      "    >>> a[indices]\n",
      "    array(['a', 'b', 'c'], dtype='<U1')\n",
      "    \n",
      "    Reconstruct the input array from the unique values:\n",
      "    \n",
      "    >>> a = np.array([1, 2, 6, 4, 2, 3, 2])\n",
      "    >>> u, indices = np.unique(a, return_inverse=True)\n",
      "    >>> u\n",
      "    array([1, 2, 3, 4, 6])\n",
      "    >>> indices\n",
      "    array([0, 1, 4, ..., 1, 2, 1])\n",
      "    >>> u[indices]\n",
      "    array([1, 2, 6, ..., 2, 3, 2])\n",
      "\n"
     ]
    }
   ],
   "source": [
    "help(np.unique)"
   ]
  },
  {
   "cell_type": "code",
   "execution_count": 46,
   "metadata": {},
   "outputs": [
    {
     "name": "stdout",
     "output_type": "stream",
     "text": [
      "1.0\n"
     ]
    }
   ],
   "source": [
    "# multiclass with 3 classes (n=3)\n",
    "# perfect classifier with binary labels\n",
    "probs = np.array([\n",
    "    [0.1, 0.2, 0.7],\n",
    "    [0.8, 0.1, 0.1],\n",
    "    [0.3, 0.4, 0.3],\n",
    "    [0.3, 0.3, 0.4]\n",
    "])\n",
    "labels = np.array([\n",
    "    [0, 0, 1],\n",
    "    [1, 0, 0],\n",
    "    [0, 1, 0],\n",
    "    [0, 0, 1]\n",
    "])\n",
    "score = sklearn.metrics.roc_auc_score(\n",
    "    labels, probs, average='macro', multi_class='ovo')\n",
    "print(score)"
   ]
  },
  {
   "cell_type": "code",
   "execution_count": 48,
   "metadata": {},
   "outputs": [
    {
     "name": "stdout",
     "output_type": "stream",
     "text": [
      "1.0\n"
     ]
    }
   ],
   "source": [
    "# multiclass with 3 classes (n=3)\n",
    "# perfect classifier with class labels\n",
    "probs = np.array([\n",
    "    [0.1, 0.2, 0.7],\n",
    "    [0.8, 0.1, 0.1],\n",
    "    [0.3, 0.4, 0.3],\n",
    "    [0.3, 0.3, 0.4]\n",
    "])\n",
    "labels = np.array([2, 0, 1, 2])\n",
    "score = sklearn.metrics.roc_auc_score(\n",
    "    labels, probs, average='macro', multi_class='ovo')\n",
    "print(score)"
   ]
  },
  {
   "cell_type": "code",
   "execution_count": 12,
   "metadata": {},
   "outputs": [
    {
     "name": "stdout",
     "output_type": "stream",
     "text": [
      "0.6111111111111112\n"
     ]
    }
   ],
   "source": [
    "# multiclass with 3 classes (n=3)\n",
    "# classifier with 0.75 accuracy in getting correct class\n",
    "probs = np.array([\n",
    "    [0.1, 0.2, 0.7],\n",
    "    [0.1, 0.8, 0.1],\n",
    "    [0.3, 0.4, 0.3],\n",
    "    [0.3, 0.3, 0.4]\n",
    "])\n",
    "labels = np.array([\n",
    "    [0, 0, 1],\n",
    "    [1, 0, 0],\n",
    "    [0, 1, 0],\n",
    "    [0, 0, 1]\n",
    "])\n",
    "score = sklearn.metrics.roc_auc_score(\n",
    "    labels, probs, average='macro', multi_class='ovo')\n",
    "print(score)"
   ]
  },
  {
   "cell_type": "code",
   "execution_count": 18,
   "metadata": {},
   "outputs": [
    {
     "name": "stdout",
     "output_type": "stream",
     "text": [
      "n_samples= 4\n",
      "n_classes= 3\n",
      "Only one class present in y_true. ROC AUC score is not defined in that case.\n"
     ]
    }
   ],
   "source": [
    "# multiclass with 3 classes (n=3)\n",
    "# prefect classifier except no samples with labels [1, 0, 0]\n",
    "# this leads to classifier being a binary classifier, and gives\n",
    "# ValueError: Only one class present in y_true. ROC AUC score is not defined in that case.\n",
    "probs = np.array([\n",
    "    [0.1, 0.2, 0.7],\n",
    "    [0.1, 0.8, 0.1],\n",
    "    [0.3, 0.4, 0.3],\n",
    "    [0.3, 0.3, 0.4]\n",
    "])\n",
    "labels = np.array([\n",
    "    [0, 0, 1],\n",
    "    [0, 1, 0],\n",
    "    [0, 1, 0],\n",
    "    [0, 0, 1]\n",
    "])\n",
    "print('n_samples=', probs.shape[0])\n",
    "print('n_classes=', probs.shape[1])\n",
    "try:\n",
    "    score = sklearn.metrics.roc_auc_score(\n",
    "        labels, probs, average='macro', multi_class='ovo')\n",
    "except ValueError as e:\n",
    "    print(e)"
   ]
  },
  {
   "cell_type": "code",
   "execution_count": 39,
   "metadata": {},
   "outputs": [
    {
     "name": "stdout",
     "output_type": "stream",
     "text": [
      "(6, 4)\n",
      "n_samples= 6\n",
      "n_classes= 4\n",
      "Only one class present in y_true. ROC AUC score is not defined in that case.\n"
     ]
    }
   ],
   "source": [
    "# multiclass with 4 classes (n=4)\n",
    "# prefect classifier except no samples with labels [1, 0, 0, 0]\n",
    "# ValueError: Only one class present in y_true. ROC AUC score is not defined in that case.\n",
    "probs = np.array([\n",
    "    [0.1, 0.1, 0.7, 0.1],\n",
    "    [0.1, 0.2, 0.4, 0.3],\n",
    "    [0.1, 0.7, 0.1, 0.1],\n",
    "    [0.3, 0.4, 0.2, 0.1],\n",
    "    [0.3, 0.2, 0.1, 0.4],\n",
    "    [0.3, 0.1, 0.2, 0.4]#,\n",
    "#     [0.9, 0.1, 0.0, 0.0]\n",
    "])\n",
    "print(probs.shape)\n",
    "labels = np.array([\n",
    "    [0, 0, 1, 0],\n",
    "    [0, 0, 1, 0],\n",
    "    [0, 1, 0, 0],\n",
    "    [0, 1, 0, 0],\n",
    "    [0, 0, 0, 1],\n",
    "    [0, 0, 0, 1]#,\n",
    "#     [1, 0, 0, 0]\n",
    "])\n",
    "print('n_samples=', probs.shape[0])\n",
    "print('n_classes=', probs.shape[1])\n",
    "try:\n",
    "    score = sklearn.metrics.roc_auc_score(\n",
    "        labels, probs, average='macro', multi_class='ovo')\n",
    "except ValueError as e:\n",
    "    print(e)"
   ]
  },
  {
   "cell_type": "code",
   "execution_count": 38,
   "metadata": {},
   "outputs": [
    {
     "name": "stdout",
     "output_type": "stream",
     "text": [
      "(6, 4)\n",
      "n_samples= 6\n",
      "n_classes= 4\n",
      "Only one class present in y_true. ROC AUC score is not defined in that case.\n"
     ]
    }
   ],
   "source": [
    "# multiclass with 4 classes (n=4)\n",
    "# Classifier predicts some samples are [1, 0, 0, 0] except no samples with labels [1, 0, 0, 0]\n",
    "# ValueError: Only one class present in y_true. ROC AUC score is not defined in that case.\n",
    "probs = np.array([\n",
    "    [0.1, 0.1, 0.7, 0.1],\n",
    "    [0.1, 0.2, 0.4, 0.3],\n",
    "    [0.1, 0.7, 0.1, 0.1],\n",
    "    [0.4, 0.3, 0.2, 0.1],\n",
    "    [0.3, 0.2, 0.1, 0.4],\n",
    "    [0.9, 0.1, 0.0, 0.0]\n",
    "])\n",
    "print(probs.shape)\n",
    "labels = np.array([\n",
    "    [0, 0, 1, 0],\n",
    "    [0, 0, 1, 0],\n",
    "    [0, 1, 0, 0],\n",
    "    [0, 1, 0, 0],\n",
    "    [0, 0, 0, 1],\n",
    "    [0, 1, 0, 0]\n",
    "])\n",
    "print('n_samples=', probs.shape[0])\n",
    "print('n_classes=', probs.shape[1])\n",
    "try:\n",
    "    score = sklearn.metrics.roc_auc_score(\n",
    "        labels, probs, average='macro', multi_class='ovo')\n",
    "except ValueError as e:\n",
    "    print(e)"
   ]
  },
  {
   "cell_type": "code",
   "execution_count": 45,
   "metadata": {},
   "outputs": [
    {
     "name": "stdout",
     "output_type": "stream",
     "text": [
      "(4, 3)\n",
      "n_samples= 4\n",
      "n_classes= 3\n",
      "0.888888888888889\n"
     ]
    }
   ],
   "source": [
    "# classes of probs and labels are different\n",
    "# Result: ???\n",
    "probs = np.array([\n",
    "    [0.1, 0.1, 0.7],\n",
    "    [0.3, 0.3, 0.4],\n",
    "    [0.1, 0.7, 0.2],\n",
    "    [0.4, 0.3, 0.3],\n",
    "])\n",
    "print(probs.shape)\n",
    "labels = np.array([\n",
    "    [0, 0, 0, 1],\n",
    "    [0, 0, 1, 0],\n",
    "    [0, 1, 0, 0],\n",
    "    [1, 0, 0, 0],\n",
    "])\n",
    "print('n_samples=', probs.shape[0])\n",
    "print('n_classes=', probs.shape[1])\n",
    "try:\n",
    "    score = sklearn.metrics.roc_auc_score(\n",
    "        labels, probs, average='macro', multi_class='ovo')\n",
    "    print(score)\n",
    "except ValueError as e:\n",
    "    print(e)"
   ]
  },
  {
   "cell_type": "code",
   "execution_count": null,
   "metadata": {},
   "outputs": [],
   "source": [
    "# classes of probs and labels are different\n",
    "# Result: ???\n",
    "probs = np.array([\n",
    "    [0.1, 0.1, 0.7],\n",
    "    [0.3, 0.3, 0.4],\n",
    "    [0.1, 0.7, 0.2],\n",
    "    [0.4, 0.3, 0.3],\n",
    "])\n",
    "print(probs.shape)\n",
    "labels = np.array([\n",
    "    [0, 0, 0, 1],\n",
    "    [0, 0, 1, 0],\n",
    "    [0, 1, 0, 0],\n",
    "    [1, 0, 0, 0],\n",
    "])\n",
    "print('n_samples=', probs.shape[0])\n",
    "print('n_classes=', probs.shape[1])\n",
    "try:\n",
    "    score = sklearn.metrics.roc_auc_score(\n",
    "        labels, probs, average='macro', multi_class='ovo')\n",
    "    print(score)\n",
    "except ValueError as e:\n",
    "    print(e)"
   ]
  }
 ],
 "metadata": {
  "kernelspec": {
   "display_name": "Python 3",
   "language": "python",
   "name": "python3"
  },
  "language_info": {
   "codemirror_mode": {
    "name": "ipython",
    "version": 3
   },
   "file_extension": ".py",
   "mimetype": "text/x-python",
   "name": "python",
   "nbconvert_exporter": "python",
   "pygments_lexer": "ipython3",
   "version": "3.6.7"
  }
 },
 "nbformat": 4,
 "nbformat_minor": 2
}
