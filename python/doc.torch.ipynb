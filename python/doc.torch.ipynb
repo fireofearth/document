{
 "cells": [
  {
   "cell_type": "code",
   "execution_count": 1,
   "metadata": {},
   "outputs": [],
   "source": [
    "import numpy as np\n",
    "import torch\n",
    "import torch.utils.data as torchdata\n",
    "import torch.nn as nn\n",
    "import torch.nn.functional as F\n",
    "import torchvision"
   ]
  },
  {
   "cell_type": "markdown",
   "metadata": {},
   "source": [
    "## Numerical Operations"
   ]
  },
  {
   "cell_type": "code",
   "execution_count": 90,
   "metadata": {},
   "outputs": [
    {
     "name": "stdout",
     "output_type": "stream",
     "text": [
      "tensor([1, 2])\n",
      "tensor([3, 4])\n"
     ]
    },
    {
     "data": {
      "text/plain": [
       "(torch.Size([2, 2]),\n",
       " torch.Size([2, 2]),\n",
       " tensor([[1, 2],\n",
       "         [3, 4]]),\n",
       " tensor([[0, 1],\n",
       "         [2, 3]]))"
      ]
     },
     "execution_count": 90,
     "metadata": {},
     "output_type": "execute_result"
    }
   ],
   "source": [
    "# create a tensor of size (2, 2)\n",
    "# Usually, use torch.tensor() instead of torch.Tensor() as the former is the (default) factory method.\n",
    "A = torch.tensor([[1,2],[3,4]])\n",
    "B = torch.arange(4).reshape((2,2))\n",
    "# Loop through the first axis of a tensor\n",
    "for a in A:\n",
    "    print(a)\n",
    "A.shape, B.shape, A, B"
   ]
  },
  {
   "cell_type": "code",
   "execution_count": 91,
   "metadata": {},
   "outputs": [
    {
     "data": {
      "text/plain": [
       "tensor([False,  True, False])"
      ]
     },
     "execution_count": 91,
     "metadata": {},
     "output_type": "execute_result"
    }
   ],
   "source": [
    "# Inverting a tensor of booleans\n",
    "a = torch.tensor([True,False,True])\n",
    "~a"
   ]
  },
  {
   "cell_type": "code",
   "execution_count": 92,
   "metadata": {},
   "outputs": [
    {
     "data": {
      "text/plain": [
       "(tensor([1., 0., 1.], dtype=torch.float64), 'torch.DoubleTensor')"
      ]
     },
     "execution_count": 92,
     "metadata": {},
     "output_type": "execute_result"
    }
   ],
   "source": [
    "# casting one type to the torch.DoubleTensor (aka. float64)\n",
    "a = torch.tensor([True,False,True])\n",
    "a.double(), a.double().type()"
   ]
  },
  {
   "cell_type": "code",
   "execution_count": 4,
   "metadata": {},
   "outputs": [
    {
     "data": {
      "text/plain": [
       "(tensor([ True,  True,  True, False]), tensor([False, False,  True, False]))"
      ]
     },
     "execution_count": 4,
     "metadata": {},
     "output_type": "execute_result"
    }
   ],
   "source": [
    "a = torch.tensor([True,False,True,False])\n",
    "b = torch.tensor([False,True,True,False])\n",
    "a | b, a & b"
   ]
  },
  {
   "cell_type": "code",
   "execution_count": 5,
   "metadata": {},
   "outputs": [
    {
     "data": {
      "text/plain": [
       "tensor([[1., 2.],\n",
       "        [3., 4.],\n",
       "        [5., 6.]])"
      ]
     },
     "execution_count": 5,
     "metadata": {},
     "output_type": "execute_result"
    }
   ],
   "source": [
    "# stacking along a new axis 0\n",
    "a = torch.Tensor([1,2])\n",
    "b = torch.Tensor([3,4])\n",
    "c = torch.Tensor([5,6])\n",
    "torch.stack([a,b,c])"
   ]
  },
  {
   "cell_type": "code",
   "execution_count": 6,
   "metadata": {},
   "outputs": [
    {
     "data": {
      "text/plain": [
       "tensor([[1., 3., 5.],\n",
       "        [2., 4., 6.]])"
      ]
     },
     "execution_count": 6,
     "metadata": {},
     "output_type": "execute_result"
    }
   ],
   "source": [
    "# stacking along new axis 1\n",
    "torch.stack([a,b,c], dim=1)"
   ]
  },
  {
   "cell_type": "code",
   "execution_count": 7,
   "metadata": {},
   "outputs": [
    {
     "data": {
      "text/plain": [
       "tensor([1., 2., 3., 4., 5., 6.])"
      ]
     },
     "execution_count": 7,
     "metadata": {},
     "output_type": "execute_result"
    }
   ],
   "source": [
    "# concatenating tensors together\n",
    "# no new dimension is introduced\n",
    "torch.cat([a, b, c])"
   ]
  },
  {
   "cell_type": "code",
   "execution_count": 9,
   "metadata": {},
   "outputs": [
    {
     "data": {
      "text/plain": [
       "(tensor([[1, 2],\n",
       "         [3, 4],\n",
       "         [5, 6],\n",
       "         [7, 8]]),\n",
       " tensor([[1, 2],\n",
       "         [3, 4],\n",
       "         [7, 8]]))"
      ]
     },
     "execution_count": 9,
     "metadata": {},
     "output_type": "execute_result"
    }
   ],
   "source": [
    "# convenience function to remove a row from a tensor\n",
    "A = (torch.arange(8) + 1).reshape((4, 2))\n",
    "a = 2\n",
    "A, torch.cat([A[:a], A[a + 1:]])"
   ]
  },
  {
   "cell_type": "code",
   "execution_count": 27,
   "metadata": {},
   "outputs": [
    {
     "data": {
      "text/plain": [
       "(tensor([[0, 1, 2],\n",
       "         [3, 4, 5]]),\n",
       " tensor([[0, 1, 2],\n",
       "         [3, 4, 5]]))"
      ]
     },
     "execution_count": 27,
     "metadata": {},
     "output_type": "execute_result"
    }
   ],
   "source": [
    "A = torch.arange(6).reshape((2,3))\n",
    "A, A.squeeze(0)"
   ]
  },
  {
   "cell_type": "code",
   "execution_count": 22,
   "metadata": {},
   "outputs": [
    {
     "data": {
      "text/plain": [
       "(tensor([[0, 1, 2],\n",
       "         [3, 4, 5]]),\n",
       " torch.Size([2, 3]),\n",
       " torch.Size([1, 2, 3]),\n",
       " torch.Size([2, 1, 3]),\n",
       " torch.Size([2, 3, 1]))"
      ]
     },
     "execution_count": 22,
     "metadata": {},
     "output_type": "execute_result"
    }
   ],
   "source": [
    "A = torch.arange(6).reshape((2,3))\n",
    "A, A.shape, A.unsqueeze(0).shape, A.unsqueeze(1).shape, A.unsqueeze(2).shape"
   ]
  },
  {
   "cell_type": "code",
   "execution_count": 25,
   "metadata": {},
   "outputs": [
    {
     "data": {
      "text/plain": [
       "(tensor([[0, 1, 2],\n",
       "         [3, 4, 5]]),\n",
       " torch.Size([2, 3]),\n",
       " tensor([[[0],\n",
       "          [1],\n",
       "          [2]],\n",
       " \n",
       "         [[3],\n",
       "          [4],\n",
       "          [5]]]),\n",
       " torch.Size([2, 3, 1]),\n",
       " torch.Size([2, 1, 3]))"
      ]
     },
     "execution_count": 25,
     "metadata": {},
     "output_type": "execute_result"
    }
   ],
   "source": [
    "A = torch.arange(6).reshape((2,3))\n",
    "A, A.shape, A.unsqueeze(-1), A.unsqueeze(-1).shape, A.unsqueeze(-2).shape"
   ]
  },
  {
   "cell_type": "code",
   "execution_count": 35,
   "metadata": {},
   "outputs": [
    {
     "data": {
      "text/plain": [
       "(tensor([[0, 1, 2],\n",
       "         [3, 4, 5]]),\n",
       " tensor([[0, 1, 2],\n",
       "         [3, 4, 5],\n",
       "         [0, 1, 2],\n",
       "         [3, 4, 5]]),\n",
       " tensor([[0, 1, 2, 0, 1, 2],\n",
       "         [3, 4, 5, 3, 4, 5]]))"
      ]
     },
     "execution_count": 35,
     "metadata": {},
     "output_type": "execute_result"
    }
   ],
   "source": [
    "A = torch.arange(6).reshape((2,3))\n",
    "A, A.repeat((2,1)), A.repeat((1,2))"
   ]
  },
  {
   "cell_type": "code",
   "execution_count": 40,
   "metadata": {},
   "outputs": [
    {
     "data": {
      "text/plain": [
       "(tensor([[0, 1, 2],\n",
       "         [3, 4, 5]]),\n",
       " tensor([[0, 1, 2],\n",
       "         [3, 4, 5],\n",
       "         [0, 1, 2],\n",
       "         [3, 4, 5]]),\n",
       " tensor([[0, 1, 2, 0, 1, 2],\n",
       "         [3, 4, 5, 3, 4, 5]]))"
      ]
     },
     "execution_count": 40,
     "metadata": {},
     "output_type": "execute_result"
    }
   ],
   "source": [
    "# torch.tile() is the same as Tensor.repeat()\n",
    "A = torch.arange(6).reshape((2,3))\n",
    "A, torch.tile(A, (2,1)), torch.tile(A, (1,2))"
   ]
  },
  {
   "cell_type": "code",
   "execution_count": 16,
   "metadata": {},
   "outputs": [
    {
     "data": {
      "text/plain": [
       "(torch.Size([3, 2, 2]),\n",
       " torch.Size([3, 2, 2, 2]),\n",
       " tensor([[[ 0,  1],\n",
       "          [ 2,  3]],\n",
       " \n",
       "         [[ 4,  5],\n",
       "          [ 6,  7]],\n",
       " \n",
       "         [[ 8,  9],\n",
       "          [10, 11]]]),\n",
       " tensor([[[[ 0,  1],\n",
       "           [ 0,  1]],\n",
       " \n",
       "          [[ 2,  3],\n",
       "           [ 2,  3]]],\n",
       " \n",
       " \n",
       "         [[[ 4,  5],\n",
       "           [ 4,  5]],\n",
       " \n",
       "          [[ 6,  7],\n",
       "           [ 6,  7]]],\n",
       " \n",
       " \n",
       "         [[[ 8,  9],\n",
       "           [ 8,  9]],\n",
       " \n",
       "          [[10, 11],\n",
       "           [10, 11]]]]))"
      ]
     },
     "execution_count": 16,
     "metadata": {},
     "output_type": "execute_result"
    }
   ],
   "source": [
    "# Duplicating a matrix along a new axis using torch.tile()\n",
    "A = torch.arange(12).reshape((3,2,2))\n",
    "B = torch.tile(A.unsqueeze(2), (2, 1))\n",
    "A.shape, B.shape, A, B"
   ]
  },
  {
   "cell_type": "code",
   "execution_count": 12,
   "metadata": {},
   "outputs": [
    {
     "data": {
      "text/plain": [
       "(tensor(36), tensor([16, 20]), tensor([ 3,  7, 11, 15]))"
      ]
     },
     "execution_count": 12,
     "metadata": {},
     "output_type": "execute_result"
    }
   ],
   "source": [
    "# using sums\n",
    "A = (torch.arange(8) + 1).reshape((4, 2))\n",
    "torch.sum(A), torch.sum(A, dim=0), torch.sum(A, dim=1)"
   ]
  },
  {
   "cell_type": "code",
   "execution_count": 2,
   "metadata": {},
   "outputs": [
    {
     "data": {
      "text/plain": [
       "tensor([[2.7183, 5.4366],\n",
       "        [0.0000, 2.7183]])"
      ]
     },
     "execution_count": 2,
     "metadata": {},
     "output_type": "execute_result"
    }
   ],
   "source": [
    "A = torch.Tensor([[1, 2], [0, 1]])\n",
    "torch.matrix_exp(A)"
   ]
  },
  {
   "cell_type": "code",
   "execution_count": 3,
   "metadata": {},
   "outputs": [
    {
     "data": {
      "text/plain": [
       "tensor([[[2.7183, 5.4366],\n",
       "         [0.0000, 2.7183]],\n",
       "\n",
       "        [[2.7183, 5.4366],\n",
       "         [0.0000, 2.7183]],\n",
       "\n",
       "        [[2.7183, 5.4366],\n",
       "         [0.0000, 2.7183]]])"
      ]
     },
     "execution_count": 3,
     "metadata": {},
     "output_type": "execute_result"
    }
   ],
   "source": [
    "A = torch.Tensor([[[1, 2], [0, 1]], [[1, 2], [0, 1]], [[1, 2], [0, 1]]])\n",
    "torch.matrix_exp(A)"
   ]
  },
  {
   "cell_type": "code",
   "execution_count": 42,
   "metadata": {},
   "outputs": [
    {
     "data": {
      "text/plain": [
       "(tensor([[ 2., -2.],\n",
       "         [ 8., -2.]]),\n",
       " tensor([[7., 3.],\n",
       "         [3., 2.]]),\n",
       " tensor([[[ 2., -2.],\n",
       "          [ 8., -2.]],\n",
       " \n",
       "         [[ 7.,  3.],\n",
       "          [ 3.,  2.]]]))"
      ]
     },
     "execution_count": 42,
     "metadata": {},
     "output_type": "execute_result"
    }
   ],
   "source": [
    "# Batched Matrix-matrix multiplication using np.einsum()\n",
    "# Matrix-matrix multiplication\n",
    "A = torch.Tensor([\n",
    "    [\n",
    "        [1, 2],\n",
    "        [4, 2]\n",
    "    ],[\n",
    "        [3, 1],\n",
    "        [2,-1]\n",
    "    ]\n",
    "])\n",
    "B = torch.Tensor([\n",
    "    [\n",
    "        [2, 0],\n",
    "        [0, -1]\n",
    "    ],[\n",
    "        [2, 1],\n",
    "        [1, 0]\n",
    "    ]\n",
    "])\n",
    "A[0] @ B[0], A[1] @ B[1], torch.einsum(\"...ij,...jk->...ik\", A, B)"
   ]
  },
  {
   "cell_type": "code",
   "execution_count": 14,
   "metadata": {},
   "outputs": [
    {
     "data": {
      "text/plain": [
       "(tensor(5.),\n",
       " tensor(1.),\n",
       " tensor(3.),\n",
       " tensor(2.),\n",
       " tensor([[5., 1.],\n",
       "         [3., 2.]]))"
      ]
     },
     "execution_count": 14,
     "metadata": {},
     "output_type": "execute_result"
    }
   ],
   "source": [
    "# Trace\n",
    "A1 = torch.Tensor([[ 1, 2], [3, 4]])\n",
    "A2 = torch.Tensor([[-1, 2], [3, 2]])\n",
    "A3 = torch.Tensor([[ 2,-1], [3, 1]])\n",
    "A4 = torch.Tensor([[ 2, 1], [1, 0]])\n",
    "A = torch.stack([\n",
    "    torch.stack([A1, A2]),\n",
    "    torch.stack([A3, A4])])\n",
    "torch.trace(A1), torch.trace(A2), torch.trace(A3), \\\n",
    "        torch.trace(A4), torch.einsum(\"...ii\", A)"
   ]
  },
  {
   "cell_type": "code",
   "execution_count": 98,
   "metadata": {},
   "outputs": [
    {
     "data": {
      "text/plain": [
       "tensor([[-1.3450,  0.3728],\n",
       "        [ 0.4188, -0.8023]])"
      ]
     },
     "execution_count": 98,
     "metadata": {},
     "output_type": "execute_result"
    }
   ],
   "source": [
    "A = torch.randn(2,2,2)\n",
    "values, indices = A.max(0)\n",
    "values"
   ]
  },
  {
   "cell_type": "code",
   "execution_count": 104,
   "metadata": {},
   "outputs": [
    {
     "data": {
      "text/plain": [
       "tensor([[[ 1.8009,  0.5166],\n",
       "         [ 0.4627, -0.4415]],\n",
       "\n",
       "        [[ 0.0510,  2.5605],\n",
       "         [-0.6070,  0.3585]]])"
      ]
     },
     "execution_count": 104,
     "metadata": {},
     "output_type": "execute_result"
    }
   ],
   "source": [
    "A = torch.randn(2,2,2).unsqueeze(0)\n",
    "values, indices = A.max(0)\n",
    "values"
   ]
  },
  {
   "cell_type": "markdown",
   "metadata": {},
   "source": [
    "## Indexing, selection and manipulating tensor shapes"
   ]
  },
  {
   "cell_type": "code",
   "execution_count": 83,
   "metadata": {},
   "outputs": [
    {
     "data": {
      "text/plain": [
       "(tensor([[7],\n",
       "         [3]]),\n",
       " tensor([[1],\n",
       "         [4],\n",
       "         [5],\n",
       "         [8]]),\n",
       " tensor([1, 4, 5, 8]))"
      ]
     },
     "execution_count": 83,
     "metadata": {},
     "output_type": "execute_result"
    }
   ],
   "source": [
    "# Indicing tensors.\n",
    "# Cannot use ndarray or lists as indices. They must be integer/long tensors.\n",
    "A = torch.tensor([\n",
    "        [1,2],\n",
    "        [3,4],\n",
    "        [5,6],\n",
    "        [7,8]])\n",
    "ind1 = torch.tensor([[0],[1],[0],[1]])\n",
    "ind2 = torch.tensor([[3],[1]])\n",
    "torch.gather(A, 0, ind2), torch.gather(A, 1, ind1), torch.gather(A, 1, ind1).squeeze(1)"
   ]
  },
  {
   "cell_type": "code",
   "execution_count": 36,
   "metadata": {},
   "outputs": [
    {
     "data": {
      "text/plain": [
       "torch.Size([2, 3])"
      ]
     },
     "execution_count": 36,
     "metadata": {},
     "output_type": "execute_result"
    }
   ],
   "source": [
    "# Q_values has shape (batch=2, history=3, 2)\n",
    "Q_values = torch.tensor([\n",
    "    # batch\n",
    "    [\n",
    "        # history\n",
    "        [1, 2],\n",
    "        [3, 4],\n",
    "        [5, 6],\n",
    "    ],[\n",
    "        [ 7,  8],\n",
    "        [ 9, 10],\n",
    "        [11, 12]\n",
    "    ]\n",
    "])\n",
    "# actions has shape (batch=2,history=3,1)\n",
    "actions = torch.tensor([\n",
    "    # batch\n",
    "    [\n",
    "        # history\n",
    "        [0],\n",
    "        [1],\n",
    "        [0]\n",
    "    ],[\n",
    "        [0],\n",
    "        [0],\n",
    "        [1]\n",
    "    ]\n",
    "])\n",
    "_Q_values = Q_values.gather(2, actions).squeeze(2)\n",
    "_Q_values.shape"
   ]
  },
  {
   "cell_type": "code",
   "execution_count": 69,
   "metadata": {},
   "outputs": [
    {
     "data": {
      "text/plain": [
       "(tensor([[1, 4],\n",
       "         [7, 6]]),\n",
       " tensor([[1, 2],\n",
       "         [4, 3],\n",
       "         [5, 6]]))"
      ]
     },
     "execution_count": 69,
     "metadata": {},
     "output_type": "execute_result"
    }
   ],
   "source": [
    "# Advanced usage of torch.gather()\n",
    "# Documentation for torch.gather()\n",
    "# https://stackoverflow.com/questions/50999977/what-does-the-gather-function-do-in-pytorch-in-layman-terms\n",
    "A = torch.tensor([\n",
    "        [1,2],\n",
    "        [3,4],\n",
    "        [5,6],\n",
    "        [7,8]])\n",
    "ind1 = torch.tensor([[0,1],[3,2]])\n",
    "ind2 = torch.tensor([[0,1],[1,0],[0,1]])\n",
    "torch.gather(A, 0, ind1), torch.gather(A, 1, ind2)"
   ]
  },
  {
   "cell_type": "code",
   "execution_count": 75,
   "metadata": {},
   "outputs": [
    {
     "data": {
      "text/plain": [
       "(tensor([[0, 1],\n",
       "         [2, 3],\n",
       "         [4, 5]]),\n",
       " tensor([[0, 1],\n",
       "         [4, 5]]))"
      ]
     },
     "execution_count": 75,
     "metadata": {},
     "output_type": "execute_result"
    }
   ],
   "source": [
    "# Using masks to select subtensors\n",
    "A = torch.arange(6).reshape(-1, 2)\n",
    "mask = torch.tensor([True,False,True])\n",
    "A, A[mask]"
   ]
  },
  {
   "cell_type": "code",
   "execution_count": 77,
   "metadata": {},
   "outputs": [
    {
     "data": {
      "text/plain": [
       "(tensor([[[1., 2.],\n",
       "          [3., 4.]],\n",
       " \n",
       "         [[5., 6.],\n",
       "          [7., 8.]]]),\n",
       " tensor([[1., 2., 3., 4.],\n",
       "         [5., 6., 7., 8.]]))"
      ]
     },
     "execution_count": 77,
     "metadata": {},
     "output_type": "execute_result"
    }
   ],
   "source": [
    "# reshaping tensors\n",
    "A = torch.Tensor([[[1,2],[3,4]],[[5,6],[7,8]]])\n",
    "A, A.reshape((2,-1))"
   ]
  },
  {
   "cell_type": "code",
   "execution_count": 9,
   "metadata": {},
   "outputs": [
    {
     "data": {
      "text/plain": [
       "(tensor([[False,  True,  True],\n",
       "         [False,  True, False],\n",
       "         [ True, False, False]]),\n",
       " tensor([1, 2, 4, 6]))"
      ]
     },
     "execution_count": 9,
     "metadata": {},
     "output_type": "execute_result"
    }
   ],
   "source": [
    "# Selecting entries from a tensor as a vector\n",
    "\"\"\"\n",
    "tensor([[0, 1, 2],\n",
    "        [3, 4, 5],\n",
    "        [6, 7, 8]])\n",
    "\"\"\"\n",
    "A = torch.arange(9).reshape(3,3)\n",
    "B = torch.zeros(A.shape, dtype=torch.bool)\n",
    "B[0,1] = True\n",
    "B[0,2] = True\n",
    "B[1,1] = True\n",
    "B[2,0] = True\n",
    "B, A[B]"
   ]
  },
  {
   "cell_type": "markdown",
   "metadata": {},
   "source": [
    "## Tensor Manipulations"
   ]
  },
  {
   "cell_type": "code",
   "execution_count": 15,
   "metadata": {},
   "outputs": [
    {
     "data": {
      "text/plain": [
       "tensor([[[ 0,  1,  0,  0,  0],\n",
       "         [ 2,  3,  0,  0,  0],\n",
       "         [ 4,  5,  0,  0,  0],\n",
       "         [ 0,  0,  0,  0,  0],\n",
       "         [ 0,  0,  0,  0,  0]],\n",
       "\n",
       "        [[ 6,  7,  0,  0,  0],\n",
       "         [ 8,  9,  0,  0,  0],\n",
       "         [10, 11,  0,  0,  0],\n",
       "         [ 0,  0,  0,  0,  0],\n",
       "         [ 0,  0,  0,  0,  0]],\n",
       "\n",
       "        [[ 0,  0,  0,  0,  0],\n",
       "         [ 0,  0,  0,  0,  0],\n",
       "         [ 0,  0,  0,  0,  0],\n",
       "         [ 0,  0,  0,  0,  0],\n",
       "         [ 0,  0,  0,  0,  0]]])"
      ]
     },
     "execution_count": 15,
     "metadata": {},
     "output_type": "execute_result"
    }
   ],
   "source": [
    "\"\"\"Padding tensor at the end of an array\n",
    "tensor([[[ 0,  1],\n",
    "         [ 2,  3],\n",
    "         [ 4,  5]],\n",
    "\n",
    "        [[ 6,  7],\n",
    "         [ 8,  9],\n",
    "         [10, 11]]])\n",
    "\"\"\"\n",
    "A = torch.arange(12).reshape(2,3,2)\n",
    "# second argument specifies padding at\n",
    "# (front of n-th axis, back of n-th axis, front of axis n-1, back of axis n-1, ...)\n",
    "F.pad(A, (0,3,0,2,0,1), mode='constant', value=0)"
   ]
  },
  {
   "cell_type": "code",
   "execution_count": 18,
   "metadata": {},
   "outputs": [
    {
     "data": {
      "text/plain": [
       "tensor([[[ 0,  0,  0,  0,  0],\n",
       "         [ 0,  1,  0,  0,  0],\n",
       "         [ 2,  3,  0,  0,  0],\n",
       "         [ 4,  5,  0,  0,  0]],\n",
       "\n",
       "        [[ 0,  0,  0,  0,  0],\n",
       "         [ 6,  7,  0,  0,  0],\n",
       "         [ 8,  9,  0,  0,  0],\n",
       "         [10, 11,  0,  0,  0]]])"
      ]
     },
     "execution_count": 18,
     "metadata": {},
     "output_type": "execute_result"
    }
   ],
   "source": [
    "\"\"\"Padding tensor at some parts of an array\"\"\"\n",
    "A = torch.arange(12).reshape(2,3,2)\n",
    "# second argument specifies padding at\n",
    "# (front of n-th axis, back of n-th axis, front of axis n-1, back of axis n-1, ...)\n",
    "F.pad(A, (0,3,1,0), mode='constant', value=0)"
   ]
  },
  {
   "cell_type": "code",
   "execution_count": 19,
   "metadata": {},
   "outputs": [
    {
     "data": {
      "text/plain": [
       "tensor([[[ 0,  0,  0,  0,  0],\n",
       "         [ 0,  0,  0,  0,  0],\n",
       "         [ 0,  0,  0,  0,  0],\n",
       "         [ 0,  0,  0,  0,  0],\n",
       "         [ 0,  0,  0,  0,  0]],\n",
       "\n",
       "        [[ 0,  0,  0,  0,  0],\n",
       "         [ 0,  0,  0,  0,  0],\n",
       "         [ 0,  0,  0,  0,  1],\n",
       "         [ 0,  0,  0,  2,  3],\n",
       "         [ 0,  0,  0,  4,  5]],\n",
       "\n",
       "        [[ 0,  0,  0,  0,  0],\n",
       "         [ 0,  0,  0,  0,  0],\n",
       "         [ 0,  0,  0,  6,  7],\n",
       "         [ 0,  0,  0,  8,  9],\n",
       "         [ 0,  0,  0, 10, 11]]])"
      ]
     },
     "execution_count": 19,
     "metadata": {},
     "output_type": "execute_result"
    }
   ],
   "source": [
    "\"\"\"Padding tensor at the front of an array\"\"\"\n",
    "A = torch.arange(12).reshape(2,3,2)\n",
    "# second argument specifies padding at\n",
    "# (front of n-th axis, back of n-th axis, front of axis n-1, back of axis n-1, ...)\n",
    "F.pad(A, (3,0,2,0,1,0), mode='constant', value=0)"
   ]
  },
  {
   "cell_type": "code",
   "execution_count": 20,
   "metadata": {},
   "outputs": [
    {
     "data": {
      "text/plain": [
       "tensor([[[ 0,  0,  0,  0,  1],\n",
       "         [ 0,  0,  0,  2,  3],\n",
       "         [ 0,  0,  0,  4,  5]],\n",
       "\n",
       "        [[ 0,  0,  0,  6,  7],\n",
       "         [ 0,  0,  0,  8,  9],\n",
       "         [ 0,  0,  0, 10, 11]]])"
      ]
     },
     "execution_count": 20,
     "metadata": {},
     "output_type": "execute_result"
    }
   ],
   "source": [
    "A = torch.arange(12).reshape(2,3,2)\n",
    "F.pad(A, (3,0), mode='constant', value=0)"
   ]
  },
  {
   "cell_type": "code",
   "execution_count": 33,
   "metadata": {},
   "outputs": [
    {
     "data": {
      "text/plain": [
       "(tensor([[-6, -5, -4, -3],\n",
       "         [-2, -1,  0,  1],\n",
       "         [ 2,  3,  4,  5]]),\n",
       " tensor([[-1, -1, -1, -1],\n",
       "         [-1, -1,  0,  1],\n",
       "         [ 1,  1,  1,  1]]),\n",
       " (tensor([0, 0, 0, 0, 1, 1, 1, 1]), tensor([0, 1, 2, 3, 0, 1, 2, 3])))"
      ]
     },
     "execution_count": 33,
     "metadata": {},
     "output_type": "execute_result"
    }
   ],
   "source": [
    "# splitting the array using np.where()\n",
    "A = torch.arange(12).reshape(3, 4) - 6\n",
    "A, torch.where(A < 0, -1, 0) + torch.where(A > 0, 1, 0)"
   ]
  },
  {
   "cell_type": "code",
   "execution_count": 40,
   "metadata": {},
   "outputs": [
    {
     "data": {
      "text/plain": [
       "(tensor([[-6, -5, -4, -3],\n",
       "         [-2, -1,  0,  1],\n",
       "         [ 2,  3,  4,  5]], dtype=torch.int32),\n",
       " tensor([[ 0,  1,  2,  3],\n",
       "         [ 4,  5,  6,  7],\n",
       "         [ 8,  9, 10, 11]], dtype=torch.int32),\n",
       " tensor([[0, 1, 2, 3],\n",
       "         [4, 5, 0, 0],\n",
       "         [0, 0, 0, 0]], dtype=torch.int32))"
      ]
     },
     "execution_count": 40,
     "metadata": {},
     "output_type": "execute_result"
    }
   ],
   "source": [
    "# assigning arrays using masks\n",
    "A = torch.arange(12, dtype=torch.int).reshape(3, 4) - 6\n",
    "B = torch.arange(12, dtype=torch.int).reshape(3, 4)\n",
    "C = torch.zeros(A.shape, dtype=torch.int)\n",
    "C[A < 0] = B[A < 0]\n",
    "A, B, C"
   ]
  },
  {
   "cell_type": "markdown",
   "metadata": {},
   "source": [
    "## Torch Modules"
   ]
  },
  {
   "cell_type": "code",
   "execution_count": 54,
   "metadata": {},
   "outputs": [
    {
     "data": {
      "text/plain": [
       "tensor(0.5000)"
      ]
     },
     "execution_count": 54,
     "metadata": {},
     "output_type": "execute_result"
    }
   ],
   "source": [
    "criterion = nn.SmoothL1Loss()\n",
    "a = torch.tensor([0,1,1,2], dtype=torch.float).reshape(2,2)\n",
    "b = torch.tensor([0,1,2,0], dtype=torch.float).reshape(2,2)\n",
    "loss = criterion(a, b)\n",
    "loss"
   ]
  },
  {
   "cell_type": "code",
   "execution_count": null,
   "metadata": {},
   "outputs": [],
   "source": []
  }
 ],
 "metadata": {
  "kernelspec": {
   "display_name": "Python 3",
   "language": "python",
   "name": "python3"
  },
  "language_info": {
   "codemirror_mode": {
    "name": "ipython",
    "version": 3
   },
   "file_extension": ".py",
   "mimetype": "text/x-python",
   "name": "python",
   "nbconvert_exporter": "python",
   "pygments_lexer": "ipython3",
   "version": "3.8.3"
  }
 },
 "nbformat": 4,
 "nbformat_minor": 4
}
