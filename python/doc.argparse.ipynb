{
 "cells": [
  {
   "cell_type": "code",
   "execution_count": 4,
   "metadata": {},
   "outputs": [],
   "source": [
    "import argparse"
   ]
  },
  {
   "cell_type": "code",
   "execution_count": 27,
   "metadata": {},
   "outputs": [
    {
     "data": {
      "text/plain": [
       "(Namespace(n_groups=1), {'n_groups': 1}, Namespace(n_groups=None))"
      ]
     },
     "execution_count": 27,
     "metadata": {},
     "output_type": "execute_result"
    }
   ],
   "source": [
    "# arg parser that has type=int and default=None\n",
    "parser = argparse.ArgumentParser()\n",
    "parser.add_argument(\n",
    "        '--n-groups',\n",
    "        default=None,\n",
    "        type=int)\n",
    "args1 = parser.parse_args(['--n-groups', '1'])\n",
    "args2 = parser.parse_args([])\n",
    "args1, vars(args1), args2"
   ]
  },
  {
   "cell_type": "code",
   "execution_count": 35,
   "metadata": {
    "scrolled": false
   },
   "outputs": [
    {
     "data": {
      "text/plain": [
       "({'subparsers1': 'a', 'x': None, 'subparsers2': 'd', 'z': 1},\n",
       " {'subparsers1': 'a', 'x': None, 'subparsers2': 'c', 'w': None},\n",
       " {'subparsers1': 'b', 'y': 1},\n",
       " 'a')"
      ]
     },
     "execution_count": 35,
     "metadata": {},
     "output_type": "execute_result"
    }
   ],
   "source": [
    "# parser with layers of subparsers.\n",
    "parser = argparse.ArgumentParser()\n",
    "subparsers1 = parser.add_subparsers(dest=\"subparsers1\", required=True)\n",
    "a_parser = subparsers1.add_parser('a')\n",
    "a_parser.add_argument('--x', type=int)\n",
    "\n",
    "b_parser = subparsers1.add_parser('b')\n",
    "b_parser.add_argument('--y', type=int)\n",
    "\n",
    "subparsers2 = a_parser.add_subparsers(dest=\"subparsers2\", required=False)\n",
    "c_parser = subparsers2.add_parser('c')\n",
    "c_parser.add_argument('--w', type=int)\n",
    "\n",
    "d_parser = subparsers2.add_parser('d')\n",
    "d_parser.add_argument('--z', type=int)\n",
    "\n",
    "args1 = parser.parse_args(['a', 'd', '--z', '1'])\n",
    "args2 = parser.parse_args(['a', 'c'])\n",
    "args3 = parser.parse_args(['b', '--y', '1'])\n",
    "vars(args1), vars(args2), vars(args3), args1.subparsers1"
   ]
  },
  {
   "cell_type": "code",
   "execution_count": null,
   "metadata": {},
   "outputs": [],
   "source": []
  }
 ],
 "metadata": {
  "kernelspec": {
   "display_name": "Python 3",
   "language": "python",
   "name": "python3"
  },
  "language_info": {
   "codemirror_mode": {
    "name": "ipython",
    "version": 3
   },
   "file_extension": ".py",
   "mimetype": "text/x-python",
   "name": "python",
   "nbconvert_exporter": "python",
   "pygments_lexer": "ipython3",
   "version": "3.8.3"
  }
 },
 "nbformat": 4,
 "nbformat_minor": 4
}
