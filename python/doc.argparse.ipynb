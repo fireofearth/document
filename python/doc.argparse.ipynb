{
 "cells": [
  {
   "cell_type": "code",
   "execution_count": 1,
   "metadata": {},
   "outputs": [],
   "source": [
    "import argparse\n",
    "import pprint\n",
    "\n",
    "import utility as util\n",
    "import utility.doc\n",
    "\n",
    "pp = pprint.PrettyPrinter(indent=4)"
   ]
  },
  {
   "cell_type": "code",
   "execution_count": 2,
   "metadata": {},
   "outputs": [
    {
     "name": "stdout",
     "output_type": "stream",
     "text": [
      "Parsing argument --n-groups 1\n",
      "Namespace(n_groups=1)\n",
      "\n",
      "Above, but as a dict\n",
      "{'n_groups': 1}\n",
      "\n",
      "Parsing argument ''\n",
      "Namespace(n_groups=None)\n"
     ]
    }
   ],
   "source": [
    "# arg parser that has type=int and default=None\n",
    "parser = argparse.ArgumentParser()\n",
    "parser.add_argument(\n",
    "        '--n-groups',\n",
    "        default=None,\n",
    "        type=int)\n",
    "a1 = ['--n-groups', '1']\n",
    "args1 = parser.parse_args(a1)\n",
    "args2 = parser.parse_args([])\n",
    "\n",
    "util.doc.results(\n",
    "    \"Parsing argument \" + \" \".join(a1), args1,\n",
    "    \"Above, but as a dict\", vars(args1),\n",
    "    \"Parsing argument ''\", args2,\n",
    ")"
   ]
  },
  {
   "cell_type": "code",
   "execution_count": 22,
   "metadata": {
    "scrolled": false
   },
   "outputs": [
    {
     "name": "stdout",
     "output_type": "stream",
     "text": [
      "Parsing argument a d --z 1\n",
      "{'subparsers1': 'a', 'x': None, 'subparsers2': 'd', 'z': 1}\n",
      "\n",
      "The subparser 'subparsers1' with above\n",
      "a\n",
      "\n",
      "Parsing argument a c\n",
      "{'subparsers1': 'a', 'x': None, 'subparsers2': 'c', 'w': None}\n",
      "\n",
      "Parsing argument b --y 1\n",
      "{'subparsers1': 'b', 'y': 1}\n"
     ]
    }
   ],
   "source": [
    "# parser with layers of subparsers.\n",
    "# TODO: explain in-depth what these do.\n",
    "parser = argparse.ArgumentParser()\n",
    "subparsers1 = parser.add_subparsers(dest=\"subparsers1\", required=True)\n",
    "a_parser = subparsers1.add_parser('a')\n",
    "a_parser.add_argument('--x', type=int)\n",
    "\n",
    "b_parser = subparsers1.add_parser('b')\n",
    "b_parser.add_argument('--y', type=int)\n",
    "\n",
    "subparsers2 = a_parser.add_subparsers(dest=\"subparsers2\", required=False)\n",
    "c_parser = subparsers2.add_parser('c')\n",
    "c_parser.add_argument('--w', type=int)\n",
    "\n",
    "d_parser = subparsers2.add_parser('d')\n",
    "d_parser.add_argument('--z', type=int)\n",
    "\n",
    "a1 = ['a', 'd', '--z', '1']\n",
    "a2 = ['a', 'c']\n",
    "a3 = ['b', '--y', '1']\n",
    "args1 = parser.parse_args(a1)\n",
    "args2 = parser.parse_args(a2)\n",
    "args3 = parser.parse_args(['b', '--y', '1'])\n",
    "\n",
    "util.doc.results(\n",
    "    \"Parsing argument \" + \" \".join(a1), vars(args1),\n",
    "    \"The subparser 'subparsers1' with above\", args1.subparsers1,\n",
    "    \"Parsing argument \" + \" \".join(a2), vars(args2),\n",
    "    \"Parsing argument \" + \" \".join(a3), vars(args3),\n",
    ")"
   ]
  },
  {
   "cell_type": "code",
   "execution_count": 25,
   "metadata": {},
   "outputs": [
    {
     "name": "stdout",
     "output_type": "stream",
     "text": [
      "Parsing argument --l1 1 2 3 --l2 0\n",
      "{'l1': [1, 2, 3], 'l2': [0]}\n",
      "\n",
      "Parsing argument --l1 1 2\n",
      "{'l1': [1, 2], 'l2': [-2, -1]}\n"
     ]
    }
   ],
   "source": [
    "# parser of lists of numbers\n",
    "# https://stackoverflow.com/questions/15753701/how-can-i-pass-a-list-as-a-command-line-argument-with-argparse\n",
    "\n",
    "parser = argparse.ArgumentParser()\n",
    "parser.add_argument(\"--l1\", nargs='+', type=int)\n",
    "parser.add_argument(\"--l2\", nargs='+', type=int, default=[-2, -1])\n",
    "\n",
    "a1 = ['--l1', '1', '2', '3', '--l2', '0']\n",
    "a2 = ['--l1', '1', '2']\n",
    "args1 = parser.parse_args(a1)\n",
    "args2 = parser.parse_args(a2)\n",
    "\n",
    "util.doc.results(\n",
    "    \"Parsing argument \" + \" \".join(a1), vars(args1),\n",
    "    \"Parsing argument \" + \" \".join(a2), vars(args2)\n",
    ")"
   ]
  },
  {
   "cell_type": "code",
   "execution_count": 7,
   "metadata": {},
   "outputs": [
    {
     "data": {
      "text/plain": [
       "{'a': 1, 'b': 'b', 'c': 0.9, 'd': False}"
      ]
     },
     "execution_count": 7,
     "metadata": {},
     "output_type": "execute_result"
    }
   ],
   "source": [
    "parser = argparse.ArgumentParser()\n",
    "parser.add_argument(\"-a\", type=int, default=1)\n",
    "parser.add_argument(\"-b\", type=str, default=\"b\")\n",
    "parser.add_argument(\"-c\", type=float, default=0.9)\n",
    "parser.add_argument(\"-d\", action=\"store_true\")\n",
    "args = parser.parse_args([])\n",
    "util.AttrDict(**vars(args))\n"
   ]
  },
  {
   "cell_type": "code",
   "execution_count": null,
   "metadata": {},
   "outputs": [],
   "source": []
  }
 ],
 "metadata": {
  "kernelspec": {
   "display_name": "Python 3",
   "language": "python",
   "name": "python3"
  },
  "language_info": {
   "codemirror_mode": {
    "name": "ipython",
    "version": 3
   },
   "file_extension": ".py",
   "mimetype": "text/x-python",
   "name": "python",
   "nbconvert_exporter": "python",
   "pygments_lexer": "ipython3",
   "version": "3.8.3"
  }
 },
 "nbformat": 4,
 "nbformat_minor": 4
}
