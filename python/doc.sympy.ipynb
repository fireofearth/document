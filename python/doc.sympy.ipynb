{
 "cells": [
  {
   "cell_type": "code",
   "execution_count": 7,
   "metadata": {},
   "outputs": [],
   "source": [
    "import sympy as sp\n",
    "\n",
    "import numpy as np\n",
    "import matplotlib.pyplot as plt\n",
    "from sympy.solvers import solve\n",
    "from sympy import Symbol"
   ]
  },
  {
   "cell_type": "code",
   "execution_count": 85,
   "metadata": {},
   "outputs": [
    {
     "data": {
      "text/latex": [
       "$\\displaystyle \\left[\\begin{matrix}x_{0}\\\\x_{1}\\\\x_{2}\\end{matrix}\\right]$"
      ],
      "text/plain": [
       "Matrix([\n",
       "[x0],\n",
       "[x1],\n",
       "[x2]])"
      ]
     },
     "execution_count": 85,
     "metadata": {},
     "output_type": "execute_result"
    }
   ],
   "source": [
    "x = sp.symbols('x:3')\n",
    "sp.Matrix(x)"
   ]
  },
  {
   "cell_type": "code",
   "execution_count": 105,
   "metadata": {},
   "outputs": [
    {
     "data": {
      "text/plain": [
       "((x0, x1, x2), {x0: -1/2, x2: -3/2, x1: 0})"
      ]
     },
     "execution_count": 105,
     "metadata": {},
     "output_type": "execute_result"
    }
   ],
   "source": [
    "A = np.diag([4.0, 0.5, -0.3])\n",
    "A = np.array([\n",
    "    [2, 0, 0],\n",
    "    [0,-1, 0],\n",
    "    [1, 0, 1]])\n",
    "b = np.array([1, 0, 2])\n",
    "x = sp.symbols('x:3')\n",
    "x = sp.Matrix(x)\n",
    "system = A @ x + b[None].T\n",
    "x = solve(system, x)\n",
    "sp.symbols('x:3'), x"
   ]
  },
  {
   "cell_type": "code",
   "execution_count": 10,
   "metadata": {},
   "outputs": [
    {
     "data": {
      "text/plain": [
       "(2.0, 8.0)"
      ]
     },
     "execution_count": 10,
     "metadata": {},
     "output_type": "execute_result"
    },
    {
     "data": {
      "image/png": "[encoded data removed]",
      "text/plain": [
       "<Figure size 432x288 with 1 Axes>"
      ]
     },
     "metadata": {
      "needs_background": "light"
     },
     "output_type": "display_data"
    }
   ],
   "source": [
    "# Based on:\n",
    "# https://stackoverflow.com/questions/17576508/python-matplotlib-drawing-linear-inequality-functions\n",
    "def f1(x):\n",
    "    return 4.0*x-2.0\n",
    "def f2(x):\n",
    "    return 0.5*x+2.0\n",
    "def f3(x):\n",
    "    return -0.3*x+7.0\n",
    "\n",
    "x = Symbol('x')\n",
    "x1, =  solve(f1(x)-f2(x))\n",
    "x2, =  solve(f1(x)-f3(x))\n",
    "x3, =  solve(f2(x)-f3(x))\n",
    "\n",
    "y1 = f1(x1)\n",
    "y2 = f1(x2)\n",
    "y3 = f2(x3)\n",
    "\n",
    "plt.plot(x1,f1(x1),'go',markersize=10)\n",
    "plt.plot(x2,f1(x2),'go',markersize=10)\n",
    "plt.plot(x3,f2(x3),'go',markersize=10)\n",
    "\n",
    "plt.fill([x1,x2,x3,x1],[y1,y2,y3,y1],'red',alpha=0.5)\n",
    "\n",
    "xr = np.linspace(0.5,7.5,100)\n",
    "y1r = f1(xr)\n",
    "y2r = f2(xr)\n",
    "y3r = f3(xr)\n",
    "\n",
    "plt.plot(xr,y1r,'k--')\n",
    "plt.plot(xr,y2r,'k--')\n",
    "plt.plot(xr,y3r,'k--')\n",
    "\n",
    "plt.xlim(0.5,7)\n",
    "plt.ylim(2,8)"
   ]
  },
  {
   "cell_type": "code",
   "execution_count": null,
   "metadata": {},
   "outputs": [],
   "source": []
  }
 ],
 "metadata": {
  "kernelspec": {
   "display_name": "Python 3",
   "language": "python",
   "name": "python3"
  },
  "language_info": {
   "codemirror_mode": {
    "name": "ipython",
    "version": 3
   },
   "file_extension": ".py",
   "mimetype": "text/x-python",
   "name": "python",
   "nbconvert_exporter": "python",
   "pygments_lexer": "ipython3",
   "version": "3.8.3"
  }
 },
 "nbformat": 4,
 "nbformat_minor": 4
}
